{
 "cells": [
  {
   "cell_type": "markdown",
   "id": "a15fcd97",
   "metadata": {},
   "source": [
    "## 실습 1. 단순 선형 회귀 분석하기 - 데이터 전처리"
   ]
  },
  {
   "cell_type": "markdown",
   "id": "4ef389d7",
   "metadata": {},
   "source": [
    "- 기계학습 라이브러리 scikit-learn 을 사용하면 Loss 함수를 최솟값으로 만드는 $\\beta_0$, $\\beta_1$ 을 쉽게 구할 수 있습니다.  \n",
    "  \n",
    "- 주어진 데이터를 sklearn에서 불러 올 선형 모델에 적용하기 위해서는 전 처리가 필요합니다.\n",
    "\n",
    "- 이번 실습에서는 sklearn에서 제공하는 LinearRegression을 사용하기 위한 데이터 전 처리를 수행해보겠습니다.\n"
   ]
  },
  {
   "cell_type": "markdown",
   "id": "6bea40f6",
   "metadata": {},
   "source": [
    "#### sklearn의 LinearRegression 입력 값 형태\n",
    "- LinearRegression 모델의 입력값으로는 Pandas의 DataFrame의 feature (X) 데이터와 Series 형태의 label (Y) 데이터를 입력 받을 수 있습니다.\n",
    "\n",
    "- X, Y의 샘플의 개수는 같아야 합니다."
   ]
  },
  {
   "cell_type": "markdown",
   "id": "736bbef6",
   "metadata": {},
   "source": [
    "#### 지시사항\n",
    "1. X 데이터를 column 명이 X인 DataFrame으로 변환하고 train_X에 저장합니다.\n",
    "\n",
    "2. 리스트 Y를 Series 형식으로 변환하여 train_Y에 저장합니다."
   ]
  },
  {
   "cell_type": "code",
   "execution_count": 1,
   "id": "3a4c0e4b",
   "metadata": {},
   "outputs": [],
   "source": [
    "import matplotlib.pyplot as plt\n",
    "import numpy as np\n",
    "import pandas as pd\n",
    "from sklearn.linear_model import LinearRegression\n",
    "    \n",
    "X = [8.70153760, 3.90825773, 1.89362433, 3.28730045, 7.39333004, 2.98984649, 2.25757240, 9.84450732, 9.94589513, 5.48321616]\n",
    "Y = [5.64413093, 3.75876583, 3.87233310, 4.40990425, 6.43845020, 4.02827829, 2.26105955, 7.15768995, 6.29097441, 5.19692852]"
   ]
  },
  {
   "cell_type": "code",
   "execution_count": 2,
   "id": "37393e89",
   "metadata": {},
   "outputs": [],
   "source": [
    "\"\"\"\n",
    "1. X의 형태를 변환하여 train_X에 저장합니다.\n",
    "\"\"\"\n",
    "train_X = pd.DataFrame(X, columns=['X'])"
   ]
  },
  {
   "cell_type": "code",
   "execution_count": 3,
   "id": "bbdd9849",
   "metadata": {},
   "outputs": [
    {
     "name": "stdout",
     "output_type": "stream",
     "text": [
      "전 처리한 X 데이터: \n",
      "           X\n",
      "0  8.701538\n",
      "1  3.908258\n",
      "2  1.893624\n",
      "3  3.287300\n",
      "4  7.393330\n",
      "5  2.989846\n",
      "6  2.257572\n",
      "7  9.844507\n",
      "8  9.945895\n",
      "9  5.483216\n",
      "전 처리한 X 데이터 shape: (10, 1)\n",
      "\n",
      "전 처리한 Y 데이터: \n",
      " 0    5.644131\n",
      "1    3.758766\n",
      "2    3.872333\n",
      "3    4.409904\n",
      "4    6.438450\n",
      "5    4.028278\n",
      "6    2.261060\n",
      "7    7.157690\n",
      "8    6.290974\n",
      "9    5.196929\n",
      "dtype: float64\n",
      "전 처리한 Y 데이터 shape: (10,)\n"
     ]
    }
   ],
   "source": [
    "\"\"\"\n",
    "2. Y의 형태를 변환하여 train_Y에 저장합니다.\n",
    "\"\"\"\n",
    "train_Y = pd.Series(Y)\n",
    "\n",
    "# 변환된 데이터를 출력합니다.\n",
    "print('전 처리한 X 데이터: \\n {}'.format(train_X))\n",
    "print('전 처리한 X 데이터 shape: {}\\n'.format(train_X.shape))\n",
    "\n",
    "print('전 처리한 Y 데이터: \\n {}'.format(train_Y))\n",
    "print('전 처리한 Y 데이터 shape: {}'.format(train_Y.shape))"
   ]
  },
  {
   "cell_type": "markdown",
   "id": "a3deeb93",
   "metadata": {},
   "source": [
    "## 실습 2. 단순 선형 회귀 분석하기 - 학습하기"
   ]
  },
  {
   "cell_type": "markdown",
   "id": "7665f5a6",
   "metadata": {},
   "source": [
    "- 기계학습 라이브러리 scikit-learn 을 사용하면 Loss 함수를 최소값으로 만드는 $\\beta_0$, $\\beta_1$\n",
    "  을 쉽게 구할 수 있습니다.\n",
    "\n",
    "- [실습1]에서 전 처리한 데이터를 LinearRegression 모델에 입력하여 학습을 수행해봅시다.\n",
    "\n"
   ]
  },
  {
   "cell_type": "markdown",
   "id": "0f2dc20a",
   "metadata": {},
   "source": [
    "#### LinearRegression (sklearn)\n",
    "- LinearRegression을 사용하기 위해서는 우선 해당 모델 객체를 불러와 초기화해야 합니다. \n",
    "- 아래 코드는 lrmodel에 모델 객체를 초기화 하는 것을 보여줍니다."
   ]
  },
  {
   "cell_type": "code",
   "execution_count": 4,
   "id": "a32f0d2e",
   "metadata": {},
   "outputs": [],
   "source": [
    "lrmodel = LinearRegression()"
   ]
  },
  {
   "cell_type": "markdown",
   "id": "61ff2529",
   "metadata": {},
   "source": [
    "- 모델 초기화를 수행했다면 전 처리된 데이터를 사용하여 학습을 수행할 수 있습니다. 아래코드와 같이 fit 함수에 학습에 필요한 데이터를 입력하여 학습을 수행합니다."
   ]
  },
  {
   "cell_type": "code",
   "execution_count": 5,
   "id": "b1cd7c71",
   "metadata": {},
   "outputs": [
    {
     "data": {
      "text/plain": [
       "LinearRegression()"
      ]
     },
     "execution_count": 5,
     "metadata": {},
     "output_type": "execute_result"
    }
   ],
   "source": [
    "lrmodel.fit(train_X, train_Y)"
   ]
  },
  {
   "cell_type": "markdown",
   "id": "68f7fa24",
   "metadata": {},
   "source": [
    "- LinearRegression의 $\\beta_0$, $\\beta_1$ 값을 구하기 위해서는 아래 코드를 사용하여 구할 수 있습니다."
   ]
  },
  {
   "cell_type": "code",
   "execution_count": 6,
   "id": "86ddf899",
   "metadata": {},
   "outputs": [],
   "source": [
    "beta_0 = lrmodel.intercept_\n",
    "beta_1 = lrmodel.coef_[0]"
   ]
  },
  {
   "cell_type": "markdown",
   "id": "da057e8c",
   "metadata": {},
   "source": [
    "#### 지시사항\n",
    "1. sklearn의 LinearRegression() 모델을 lrmodel에 초기화 합니다.\n",
    "\n",
    "2. fit을 사용하여 train_X, train_Y 데이터를 학습합니다."
   ]
  },
  {
   "cell_type": "code",
   "execution_count": 7,
   "id": "0b1463ee",
   "metadata": {},
   "outputs": [],
   "source": [
    "import matplotlib.pyplot as plt\n",
    "import numpy as np\n",
    "import pandas as pd\n",
    "from sklearn.linear_model import LinearRegression\n",
    "\n",
    "X = [8.70153760, 3.90825773, 1.89362433, 3.28730045, 7.39333004, 2.98984649, 2.25757240, 9.84450732, 9.94589513, 5.48321616]\n",
    "Y = [5.64413093, 3.75876583, 3.87233310, 4.40990425, 6.43845020, 4.02827829, 2.26105955, 7.15768995, 6.29097441, 5.19692852]\n",
    "\n",
    "train_X = pd.DataFrame(X, columns=['X'])\n",
    "train_Y = pd.Series(Y)"
   ]
  },
  {
   "cell_type": "code",
   "execution_count": 8,
   "id": "371b52e1",
   "metadata": {},
   "outputs": [],
   "source": [
    "\"\"\"\n",
    "1. 모델을 초기화 합니다.\n",
    "\"\"\"\n",
    "lrmodel = LinearRegression()"
   ]
  },
  {
   "cell_type": "code",
   "execution_count": 9,
   "id": "3034666d",
   "metadata": {},
   "outputs": [
    {
     "data": {
      "image/png": "[encoded data removed]",
      "text/plain": [
       "<Figure size 432x288 with 1 Axes>"
      ]
     },
     "metadata": {
      "needs_background": "light"
     },
     "output_type": "display_data"
    }
   ],
   "source": [
    "\"\"\"\n",
    "2. train_X, train_Y 데이터를 학습합니다.\n",
    "\"\"\"\n",
    "lrmodel.fit(train_X, train_Y)\n",
    "\n",
    "\n",
    "# 학습한 결과를 시각화하는 코드입니다.\n",
    "plt.figure()\n",
    "plt.scatter(X, Y) \n",
    "plt.plot([0, 10], [lrmodel.intercept_, 10 * lrmodel.coef_[0] + lrmodel.intercept_], c='r') \n",
    "plt.xlim(0, 10) \n",
    "plt.ylim(0, 10) \n",
    "plt.title('Training Result')\n",
    "plt.show()"
   ]
  },
  {
   "cell_type": "markdown",
   "id": "a48f03b4",
   "metadata": {},
   "source": [
    "## 실습 3. 단순 선형 회귀 분석하기 - 예측하기"
   ]
  },
  {
   "cell_type": "markdown",
   "id": "395110c1",
   "metadata": {},
   "source": [
    "- 기계학습 라이브러리 scikit-learn 을 사용하면 Loss 함수를 최소값으로 만드는 $\\beta_0$, $\\beta_1$ 을 쉽게 구할 수 있습니다.\n",
    "\n",
    "- [실습2]의 학습한 모델을 바탕으로 예측 값을 구해봅시다."
   ]
  },
  {
   "cell_type": "markdown",
   "id": "02ddd6bc",
   "metadata": {},
   "source": [
    "#### LinearRegression (sklearn)\n",
    "- LinearRegression을 사용하여 예측을 해야한다면 아래와 같이 predict 함수를 사용합니다."
   ]
  },
  {
   "cell_type": "code",
   "execution_count": 12,
   "id": "d95ef90a",
   "metadata": {},
   "outputs": [],
   "source": [
    "import matplotlib.pyplot as plt\n",
    "import pandas as pd\n",
    "import numpy as np\n",
    "from sklearn.linear_model import LinearRegression\n",
    "\n",
    "X = [8.70153760, 3.90825773, 1.89362433, 3.28730045, 7.39333004, 2.98984649, 2.25757240, 9.84450732, 9.94589513, 5.48321616]\n",
    "Y = [5.64413093, 3.75876583, 3.87233310, 4.40990425, 6.43845020, 4.02827829, 2.26105955, 7.15768995, 6.29097441, 5.19692852]\n",
    "\n",
    "train_X = pd.DataFrame(X, columns=['X'])\n",
    "train_Y = pd.Series(Y)"
   ]
  },
  {
   "cell_type": "code",
   "execution_count": 13,
   "id": "dd421ed2",
   "metadata": {},
   "outputs": [
    {
     "data": {
      "text/plain": [
       "LinearRegression()"
      ]
     },
     "execution_count": 13,
     "metadata": {},
     "output_type": "execute_result"
    }
   ],
   "source": [
    "# 모델을 트레이닝합니다.\n",
    "lrmodel = LinearRegression()\n",
    "lrmodel.fit(train_X, train_Y)"
   ]
  },
  {
   "cell_type": "markdown",
   "id": "e07bc898",
   "metadata": {},
   "source": [
    "#### 지시사항\n",
    "- lrmodel을 학습하고 train_X의 예측값을 구하여 pred_X에 저장합니다."
   ]
  },
  {
   "cell_type": "code",
   "execution_count": 14,
   "id": "2468deee",
   "metadata": {},
   "outputs": [
    {
     "name": "stdout",
     "output_type": "stream",
     "text": [
      "train_X에 대한 예측값 : \n",
      "[6.2546398  4.18978504 3.32191889 3.92228833 5.6910886  3.79415077\n",
      " 3.47870087 6.74700964 6.7906856  4.86824749]\n",
      "\n",
      "실제값 : \n",
      "0    5.644131\n",
      "1    3.758766\n",
      "2    3.872333\n",
      "3    4.409904\n",
      "4    6.438450\n",
      "5    4.028278\n",
      "6    2.261060\n",
      "7    7.157690\n",
      "8    6.290974\n",
      "9    5.196929\n",
      "dtype: float64\n"
     ]
    }
   ],
   "source": [
    "\"\"\"\n",
    "1. train_X에 대해서 예측합니다.\n",
    "\"\"\"\n",
    "pred_X = lrmodel.predict(train_X)\n",
    "print('train_X에 대한 예측값 : \\n{}\\n'.format(pred_X))\n",
    "print('실제값 : \\n{}'.format(train_Y))"
   ]
  },
  {
   "cell_type": "markdown",
   "id": "5b2c84db",
   "metadata": {},
   "source": [
    "## 실습 4. 다중 회귀 분석하기 - 데이터 전 처리"
   ]
  },
  {
   "cell_type": "markdown",
   "id": "5a801967",
   "metadata": {},
   "source": [
    "- 다중 회귀 분석(Multiple Linear Regression)은 데이터의 여러 변수(features) XXX를 이용해 결과 YYY를 예측하는 모델입니다.\n",
    "\n",
    "- 마케터들에게는 광고 비용에 따른 수익률을 머신러닝을 통해서 예측할 수 있다면 어떤 광고 플랫폼이 중요한 요소인지 판별할 수 있을 것입니다.\n",
    "\n",
    "- 아래와 같이 FB, TV, Newspaper 광고에 대한 비용 대비 Sales 데이터가 주어졌을 때, 이를 다중 회귀 분석으로 분석해봅시다.\n",
    "\n",
    "![](https://cdn-api.elice.io/api-attachment/attachment/034149cf3bc04e49ad982032f6a21e30/image.png)"
   ]
  },
  {
   "cell_type": "markdown",
   "id": "0cb71b12",
   "metadata": {},
   "source": [
    "- 우선 데이터를 전 처리 하기 위해서 3개의 변수를 갖는 feature 데이터와 Sales 변수를 label 데이터로 분리하고 학습용, 평가용 데이터로 나눠봅시다."
   ]
  },
  {
   "cell_type": "markdown",
   "id": "3ef1e2d8",
   "metadata": {},
   "source": [
    "#### 지시사항\n",
    "1. DataFrame으로 읽어 온 df에서 Sales 변수는 label 데이터로 Y에 저장하고 나머진 X에 저장합니다.\n",
    "\n",
    "2. train_test_split를 사용하여 X, Y를 학습용:평가용=8:2학습용 : 평가용 = 8:2학습용:평가용=8:2 비율로 분리합니다. (random_state=42는 고정합니다.)"
   ]
  },
  {
   "cell_type": "code",
   "execution_count": 15,
   "id": "7ac56daf",
   "metadata": {},
   "outputs": [
    {
     "name": "stdout",
     "output_type": "stream",
     "text": [
      "원본 데이터 샘플 :\n",
      "   Unnamed: 0     FB    TV  Newspaper  Sales\n",
      "0           1  230.1  37.8       69.2   22.1\n",
      "1           2   44.5  39.3       45.1   10.4\n",
      "2           3   17.2  45.9       69.3    9.3\n",
      "3           4  151.5  41.3       58.5   18.5\n",
      "4           5  180.8  10.8       58.4   12.9 \n",
      "\n"
     ]
    }
   ],
   "source": [
    "import numpy as np\n",
    "import pandas as pd\n",
    "from sklearn.linear_model import LinearRegression\n",
    "from sklearn.metrics import r2_score\n",
    "from sklearn.model_selection import train_test_split\n",
    "\n",
    "\n",
    "df = pd.read_csv(\"data/Advertising.csv\")\n",
    "\n",
    "print('원본 데이터 샘플 :')\n",
    "print(df.head(),'\\n')"
   ]
  },
  {
   "cell_type": "code",
   "execution_count": 16,
   "id": "1d1e0511",
   "metadata": {},
   "outputs": [],
   "source": [
    "# 입력 변수로 사용하지 않는 Unnamed: 0 변수 데이터를 삭제합니다\n",
    "df = df.drop(columns=['Unnamed: 0'])\n",
    "\n",
    "\"\"\"\n",
    "1. Sales 변수는 label 데이터로 Y에 저장하고 나머진 X에 저장합니다.\n",
    "\"\"\"\n",
    "X = df.drop(columns=['Sales'])\n",
    "Y = df['Sales']"
   ]
  },
  {
   "cell_type": "code",
   "execution_count": 17,
   "id": "11177421",
   "metadata": {},
   "outputs": [],
   "source": [
    "\"\"\"\n",
    "2. 학습용 평가용 데이터로 분리합니다.\n",
    "\"\"\"\n",
    "train_X, test_X, train_Y, test_Y = train_test_split(X, Y, test_size=0.2, random_state=42)"
   ]
  },
  {
   "cell_type": "code",
   "execution_count": 18,
   "id": "1a98eccd",
   "metadata": {},
   "outputs": [
    {
     "name": "stdout",
     "output_type": "stream",
     "text": [
      "train_X : \n",
      "        FB    TV  Newspaper\n",
      "79   116.0   7.7       23.1\n",
      "197  177.0   9.3        6.4\n",
      "38    43.1  26.7       35.1\n",
      "24    62.3  12.6       18.3\n",
      "122  224.0   2.4       15.6 \n",
      "\n",
      "train_Y : \n",
      "79     11.0\n",
      "197    12.8\n",
      "38     10.1\n",
      "24      9.7\n",
      "122    11.6\n",
      "Name: Sales, dtype: float64 \n",
      "\n"
     ]
    }
   ],
   "source": [
    "# 전 처리한 데이터를 출력합니다\n",
    "print('train_X : ')\n",
    "print(train_X.head(),'\\n')\n",
    "print('train_Y : ')\n",
    "print(train_Y.head(),'\\n')"
   ]
  },
  {
   "cell_type": "code",
   "execution_count": 20,
   "id": "e452e3ed",
   "metadata": {},
   "outputs": [
    {
     "name": "stdout",
     "output_type": "stream",
     "text": [
      "test_X : \n",
      "        FB    TV  Newspaper\n",
      "95   163.3  31.6       52.9\n",
      "15   195.4  47.7       52.9\n",
      "30   292.9  28.3       43.2\n",
      "158   11.7  36.9       45.2\n",
      "128  220.3  49.0        3.2 \n",
      "\n",
      "test_Y : \n",
      "95     16.9\n",
      "15     22.4\n",
      "30     21.4\n",
      "158     7.3\n",
      "128    24.7\n",
      "Name: Sales, dtype: float64\n"
     ]
    }
   ],
   "source": [
    "print('test_X : ')\n",
    "print(test_X.head(),'\\n')\n",
    "print('test_Y : ')\n",
    "print(test_Y.head())"
   ]
  },
  {
   "cell_type": "markdown",
   "id": "186a2a39",
   "metadata": {},
   "source": [
    "## 실습 5. 다중 회귀 분석하기 - 학습하기"
   ]
  },
  {
   "cell_type": "markdown",
   "id": "18cb51cf",
   "metadata": {},
   "source": [
    "- [실습4]에서 전 처리한 데이터를 바탕으로 다중 선형 회귀 모델을 적용해보겠습니다.\n",
    "\n",
    "- 다중 선형 회귀 모델의 형태는 아래 수식과 같습니다.\n",
    "\n",
    "    $Sales= \\beta_0 + \\beta_1 X_1 +\\beta_2 X_2 +\\beta_3 X_3 $\n",
    "\n",
    "- 여기서 $X_1$ 은 페이스북, $X_2$는 TV, $X_3$은 신문 광고를 의미합니다.\n",
    "\n",
    "- 다중 선형 회귀 또한 선형 회귀 모델과 같은 방식으로 LinearRegression을 사용할 수 있습니다.\n",
    "\n",
    "- 이번 실습에서는 학습용 데이터를 다중 선형 회귀 모델을 사용하여 학습하고, 학습된 파라미터를 출력해봅시다."
   ]
  },
  {
   "cell_type": "markdown",
   "id": "c7d74dfa",
   "metadata": {},
   "source": [
    "- LinearRegression의 beta와 같은 파라미터들은 아래 코드와 같이 구할 수 있습니다.\n",
    "```\n",
    "lrmodel = LinearRegression()\n",
    "lrmodel.intercept_\n",
    "lrmodel.coef_[i]\n",
    "```"
   ]
  },
  {
   "cell_type": "markdown",
   "id": "a2da2b39",
   "metadata": {},
   "source": [
    "- `intercept_`는 $\\beta_0$ 에 해당하는 값이고, `coef_[i]`는 i+1 번째 변수에 곱해지는 파라미터 값을 의미합니다."
   ]
  },
  {
   "cell_type": "markdown",
   "id": "89443ec3",
   "metadata": {},
   "source": [
    "#### 지시사항\n",
    "1. 다중 선형 회귀 모델 LinearRegression을 불러와 lrmodel에 초기화하고 fit을 사용하여 train_X, train_Y데이터를 학습합니다.\n",
    "\n",
    "2. 학습된 모델 lrmodel에서 beta_0, beta_1, beta_2, beta_3에 해당하는 파라미터를 불러와 저장합니다."
   ]
  },
  {
   "cell_type": "code",
   "execution_count": 21,
   "id": "81f72040",
   "metadata": {},
   "outputs": [],
   "source": [
    "import numpy as np\n",
    "import pandas as pd\n",
    "from sklearn.linear_model import LinearRegression\n",
    "from sklearn.metrics import r2_score\n",
    "from sklearn.model_selection import train_test_split\n",
    "\n",
    "# 데이터를 읽고 전 처리합니다\n",
    "df = pd.read_csv(\"data/Advertising.csv\")\n",
    "df = df.drop(columns=['Unnamed: 0'])\n",
    "\n",
    "X = df.drop(columns=['Sales'])\n",
    "Y = df['Sales']\n",
    "\n",
    "train_X, test_X, train_Y, test_Y = train_test_split(X, Y, test_size=0.2, random_state=42)"
   ]
  },
  {
   "cell_type": "code",
   "execution_count": 22,
   "id": "5997b8e0",
   "metadata": {},
   "outputs": [
    {
     "data": {
      "text/plain": [
       "LinearRegression()"
      ]
     },
     "execution_count": 22,
     "metadata": {},
     "output_type": "execute_result"
    }
   ],
   "source": [
    "\"\"\"\n",
    "1.  다중 선형 회귀 모델을 초기화 하고 학습합니다\n",
    "\"\"\"\n",
    "lrmodel = LinearRegression()\n",
    "lrmodel.fit(train_X, train_Y)"
   ]
  },
  {
   "cell_type": "code",
   "execution_count": 24,
   "id": "a4aa967c",
   "metadata": {},
   "outputs": [
    {
     "name": "stdout",
     "output_type": "stream",
     "text": [
      "beta_0: 2.979067\n",
      "beta_1: 0.044730\n",
      "beta_2: 0.189195\n",
      "beta_3: 0.002761\n"
     ]
    }
   ],
   "source": [
    "\"\"\"\n",
    "2. 학습된 파라미터 값을 불러옵니다\n",
    "\"\"\"\n",
    "beta_0 = lrmodel.intercept_ # y절편 (기본 판매량)\n",
    "beta_1 = lrmodel.coef_[0] # 1번째 변수에 대한 계수 (페이스북)\n",
    "beta_2 = lrmodel.coef_[1] # 2번째 변수에 대한 계수 (TV)\n",
    "beta_3 = lrmodel.coef_[2] # 3번째 변수에 대한 계수 (신문)\n",
    "\n",
    "print(\"beta_0: %f\" % beta_0)\n",
    "print(\"beta_1: %f\" % beta_1)\n",
    "print(\"beta_2: %f\" % beta_2)\n",
    "print(\"beta_3: %f\" % beta_3)"
   ]
  },
  {
   "cell_type": "markdown",
   "id": "ed22d28f",
   "metadata": {},
   "source": [
    "## 실습 6. 다중 회귀 분석하기 - 예측하기"
   ]
  },
  {
   "cell_type": "markdown",
   "id": "a730587c",
   "metadata": {},
   "source": [
    "- [실습5]에서 학습한 다중 선형 회귀 모델을 바탕으로 이번엔 새로운 광고 비용에 따른 `Sales` 값을 예측해봅시다."
   ]
  },
  {
   "cell_type": "markdown",
   "id": "b0b3de75",
   "metadata": {},
   "source": [
    "- LinearRegression (sklearn)\n",
    "LinearRegression을 사용하여 예측을 해야한다면 아래와 같이 predict 함수를 사용합니다.\n",
    "```\n",
    "pred_X = lrmodel.predict(X)\n",
    "```"
   ]
  },
  {
   "cell_type": "markdown",
   "id": "162b2a3a",
   "metadata": {},
   "source": [
    "### 지시사항\n",
    "1. `lrmodel`을 학습하고 `test_X`의 예측값을 구하여 `pred_X`에 저장합니다.\n",
    "\n",
    "2. `lrmodel`을 학습하고 주어진 데이터 `df1`의 예측값을 구하여 `pred_df1`에 저장합니다."
   ]
  },
  {
   "cell_type": "code",
   "execution_count": 25,
   "id": "fc48f85e",
   "metadata": {},
   "outputs": [],
   "source": [
    "import numpy as np\n",
    "import pandas as pd\n",
    "from sklearn.linear_model import LinearRegression\n",
    "from sklearn.metrics import r2_score\n",
    "from sklearn.model_selection import train_test_split\n",
    "\n",
    "# 데이터를 읽고 전 처리합니다\n",
    "df = pd.read_csv(\"data/Advertising.csv\")\n",
    "df = df.drop(columns=['Unnamed: 0'])\n",
    "\n",
    "X = df.drop(columns=['Sales'])\n",
    "Y = df['Sales']\n",
    "\n",
    "train_X, test_X, train_Y, test_Y = train_test_split(X, Y, test_size=0.2, random_state=42)"
   ]
  },
  {
   "cell_type": "code",
   "execution_count": 26,
   "id": "06ea6829",
   "metadata": {},
   "outputs": [
    {
     "name": "stdout",
     "output_type": "stream",
     "text": [
      "test_X : \n",
      "        FB    TV  Newspaper\n",
      "95   163.3  31.6       52.9\n",
      "15   195.4  47.7       52.9\n",
      "30   292.9  28.3       43.2\n",
      "158   11.7  36.9       45.2\n",
      "128  220.3  49.0        3.2\n",
      "115   75.1  35.0       52.7\n",
      "69   216.8  43.9       27.2\n",
      "170   50.0  11.6       18.4\n",
      "174  222.4   3.4       13.1\n",
      "45   175.1  22.5       31.5\n",
      "66    31.5  24.6        2.2\n",
      "182   56.2   5.7       29.7\n",
      "165  234.5   3.4       84.8\n",
      "78     5.4  29.9        9.4\n",
      "186  139.5   2.1       26.6\n",
      "177  170.2   7.8       35.2\n",
      "56     7.3  28.1       41.4\n",
      "152  197.6  23.3       14.2\n",
      "82    75.3  20.3       32.5\n",
      "68   237.4  27.5       11.0\n",
      "124  229.5  32.3       74.2\n",
      "16    67.8  36.6      114.0\n",
      "148   38.0  40.3       11.9\n",
      "93   250.9  36.5       72.3\n",
      "65    69.0   9.3        0.9\n",
      "60    53.5   2.0       21.4\n",
      "84   213.5  43.0       33.8\n",
      "67   139.3  14.5       10.2\n",
      "125   87.2  11.8       25.9\n",
      "132    8.4  27.2        2.1\n",
      "9    199.8   2.6       21.2\n",
      "18    69.2  20.5       18.3\n",
      "55   198.9  49.4       60.0\n",
      "75    16.9  43.7       89.4\n",
      "150  280.7  13.9       37.0\n",
      "104  238.2  34.3        5.3\n",
      "135   48.3  47.0        8.5\n",
      "137  273.7  28.9       59.7\n",
      "164  117.2  14.7        5.4\n",
      "76    27.5   1.6       20.7\n"
     ]
    }
   ],
   "source": [
    "# 다중 선형 회귀 모델을 초기화 하고 학습합니다\n",
    "lrmodel = LinearRegression()\n",
    "lrmodel.fit(train_X, train_Y)\n",
    "\n",
    "\n",
    "print('test_X : ')\n",
    "print(test_X)"
   ]
  },
  {
   "cell_type": "code",
   "execution_count": 27,
   "id": "7ece6ebb",
   "metadata": {},
   "outputs": [
    {
     "name": "stdout",
     "output_type": "stream",
     "text": [
      "test_X에 대한 예측값 : \n",
      "[16.4080242  20.88988209 21.55384318 10.60850256 22.11237326 13.10559172\n",
      " 21.05719192  7.46101034 13.60634581 15.15506967  9.04831992  6.65328312\n",
      " 14.34554487  8.90349333  9.68959028 12.16494386  8.73628397 16.26507258\n",
      " 10.27759582 18.83109103 19.56036653 13.25103464 12.33620695 21.30695132\n",
      "  7.82740305  5.80957448 20.75753231 11.98138077  9.18349576  8.5066991\n",
      " 12.46646769 10.00337695 21.3876709  12.24966368 18.26661538 20.13766267\n",
      " 14.05514005 20.85411186 11.0174441   4.56899622]\n",
      "\n",
      "df1 : \n",
      "   FB  TV  Newspaper\n",
      "0   0   0          0\n",
      "1   1   0          0\n",
      "2   0   1          0\n",
      "3   0   0          1\n",
      "4   1   1          1\n"
     ]
    }
   ],
   "source": [
    "\"\"\"\n",
    "1. test_X에 대해서 예측합니다.\n",
    "\"\"\"\n",
    "pred_X = lrmodel.predict(test_X)\n",
    "print('test_X에 대한 예측값 : \\n{}\\n'.format(pred_X))\n",
    "\n",
    "# 새로운 데이터 df1을 정의합니다\n",
    "df1 = pd.DataFrame(np.array([[0, 0, 0], [1, 0, 0], [0, 1, 0], [0, 0, 1], [1, 1, 1]]), columns=['FB', 'TV', 'Newspaper'])\n",
    "print('df1 : ')\n",
    "print(df1)"
   ]
  },
  {
   "cell_type": "code",
   "execution_count": 28,
   "id": "3ffbbd32",
   "metadata": {},
   "outputs": [
    {
     "name": "stdout",
     "output_type": "stream",
     "text": [
      "df1에 대한 예측값 : \n",
      "[2.97906734 3.02379686 3.16826239 2.98182845 3.21575302]\n"
     ]
    }
   ],
   "source": [
    "\"\"\"\n",
    "2. df1에 대해서 예측합니다.\n",
    "\"\"\"\n",
    "pred_df1 = lrmodel.predict(df1)\n",
    "print('df1에 대한 예측값 : \\n{}'.format(pred_df1))"
   ]
  },
  {
   "cell_type": "markdown",
   "id": "6a8e349e",
   "metadata": {},
   "source": [
    "## 실습 7. 회귀 알고리즘 평가 지표 - MSE, MAE"
   ]
  },
  {
   "cell_type": "markdown",
   "id": "957c9fb2",
   "metadata": {},
   "source": [
    "- [실습6] 에 이어서 `Sales` 예측 모델의 성능을 평가하기 위해서 다양한 회귀 알고리즘 평가 지표를 사용하여 비교해보겠습니다.\n",
    "\n",
    "- 이번 실습에서는 학습용 및 평가용 데이터에 대해서 MSE와 MAE을 계산해보겠습니다.\n",
    "\n",
    "MSE와 MAE는 아래와 같이 정의할 수 있고 sklearn 라이브러리 함수를 통하여 쉽게 구할 수 있습니다.\n",
    "\n",
    "MSE=1NΣiN(실제값i−예측값i)2MSE = \\frac{1}{N}\\Sigma_{i}^{N} (실제값_{i} - 예측값_{i})^{2}MSE= \n",
    "N\n",
    "1\n",
    "​\n",
    " Σ \n",
    "i\n",
    "N\n",
    "​\n",
    " (실제값 \n",
    "i\n",
    "​\n",
    " −예측값 \n",
    "i\n",
    "​\n",
    " ) \n",
    "2\n",
    " \n",
    "\n",
    "MAE=1NΣiN∣실제값i−예측값i∣MAE = \\frac{1}{N}\\Sigma_{i}^{N} |실제값_{i} - 예측값_{i}|MAE= \n",
    "N\n",
    "1\n",
    "​\n",
    " Σ \n",
    "i\n",
    "N\n",
    "​\n",
    " ∣실제값 \n",
    "i\n",
    "​\n",
    " −예측값 \n",
    "i\n",
    "​\n",
    " ∣\n",
    "\n",
    "NNN은 전체 샘플의 개수를 의미합니다."
   ]
  }
 ],
 "metadata": {
  "kernelspec": {
   "display_name": "Python 3",
   "language": "python",
   "name": "python3"
  },
  "language_info": {
   "codemirror_mode": {
    "name": "ipython",
    "version": 3
   },
   "file_extension": ".py",
   "mimetype": "text/x-python",
   "name": "python",
   "nbconvert_exporter": "python",
   "pygments_lexer": "ipython3",
   "version": "3.8.8"
  }
 },
 "nbformat": 4,
 "nbformat_minor": 5
}
