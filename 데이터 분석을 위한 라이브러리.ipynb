{
 "cells": [
  {
   "cell_type": "markdown",
   "id": "094e587b",
   "metadata": {},
   "source": [
    "* from a import b : a 모듈(혹은 패키지)에서 b 함수를 가져오겠다. b를 사용하기 위해선 b() 꼴 로 사용 가능\n",
    "* import a : a 모듈을 불러오겠다. a 모듈 안에있는 b 함수를 사용하기 위해선 a.b() 꼴로 사용해야함"
   ]
  },
  {
   "cell_type": "code",
   "execution_count": 2,
   "id": "5cfb5223",
   "metadata": {},
   "outputs": [
    {
     "name": "stdout",
     "output_type": "stream",
     "text": [
      "6 2.0\n"
     ]
    }
   ],
   "source": [
    "from random import randrange\n",
    "import math\n",
    "\n",
    "var1 = randrange(1,11)\n",
    "\n",
    "var2 = math.log(5184, 72)\n",
    "\n",
    "print(var1, var2)"
   ]
  },
  {
   "cell_type": "markdown",
   "id": "3bdf45bd",
   "metadata": {},
   "source": [
    "* Python에서는 쉽게 웹페이지의 정보를 가져올 수 있는 urllib패키지를 제공합니다. 이 중에서 urllib.request.urlopen 함수는 해당 url의 html 파일을 가져옵니다.\n",
    "\n",
    "* 위 함수를 이용해서 https://en.wikipedia.org/wiki/Lorem_ipsum 홈페이지의 정보를 가져와봅시다."
   ]
  },
  {
   "cell_type": "code",
   "execution_count": 3,
   "id": "d1fcd01a",
   "metadata": {},
   "outputs": [
    {
     "name": "stdout",
     "output_type": "stream",
     "text": [
      "<!DOCTYPE html>\n",
      "<html class=\"client-nojs\" lang=\"en\" dir=\"ltr\">\n",
      "<head>\n",
      "<meta charset=\"UTF-8\"/>\n",
      "<title>Lorem ipsum - Wikipedia</title>\n",
      "<script>document.documentElement.className=\"client-js\";RLCONF={\"wgBreakFrames\":!1,\"wgSeparatorTransformTable\":[\"\",\"\"],\"wgDigitTransformTable\":[\"\",\"\"],\"wgDefaultDateFormat\":\"dmy\",\"wgMonthNames\":[\"\",\"January\",\"February\",\"March\",\"April\",\"May\",\"June\",\"July\",\"August\",\"September\",\"October\",\"November\",\"December\"],\"wgRequestId\":\"f6a16b2b-3baa-4085-9f76-10a49dd91fd7\",\"wgCSPNonce\":!1,\"wgCanonicalNamespace\":\"\",\"wgCanonicalSpecialPageName\":!1,\"wgNamespaceNumber\":0,\"wgPageName\":\"Lorem_ipsum\",\"wgTitle\":\"Lorem ipsum\",\"wgCurRevisionId\":1035139868,\"wgRevisionId\":1035139868,\"wgArticleId\":190246,\"wgIsArticle\":!0,\"wgIsRedirect\":!1,\"wgAction\":\"view\",\"wgUserName\":null,\"wgUserGroups\":[\"*\"],\"wgCategories\":[\"CS1 maint: unfit URL\",\"CS1 Latin-language sources (la)\",\"Articles with short description\",\"Short description is different from Wikidata\",\"Articles containing Latin-language text\",\"Wikipedia articles containing placeholders\",\"Articles containing Interlingue-language text\",\n",
      "\"Pages using Sister project links with wikidata namespace mismatch\",\"Pages using Sister project links with default search\",\"Filler text\",\"Latin words and phrases\",\"Nonsense\",\"Cicero\"],\"wgPageContentLanguage\":\"en\",\"wgPageContentModel\":\"wikitext\",\"wgRelevantPageName\":\"Lorem_ipsum\",\"wgRelevantArticleId\":190246,\"wgIsProbablyEditable\":!0,\"wgRelevantPageIsProbablyEditable\":!0,\"wgRestrictionEdit\":[],\"wgRestrictionMove\":[],\"wgFlaggedRevsParams\":{\"tags\":{\"status\":{\"levels\":-1}}},\"wgMediaViewerOnClick\":!0,\"wgMediaViewerEnabledByDefault\":!0,\"wgPopupsFlags\":10,\"wgVisualEditor\":{\"pageLanguageCode\":\"en\",\"pageLanguageDir\":\"ltr\",\"pageVariantFallbacks\":\"en\"},\"wgMFDisplayWikibaseDescriptions\":{\"search\":!0,\"nearby\":!0,\"watchlist\":!0,\"tagline\":!1},\"wgWMESchemaEditAttemptStepOversample\":!1,\"wgULSCurrentAutonym\":\"English\",\"wgNoticeProject\":\"wikipedia\",\"wgCentralAuthMobileDomain\":!1,\"wgEditSubmitButtonLabelPublish\":!0,\"wgULSPosition\":\"interlanguage\",\"wgULSisCompactLinksEnabled\":!0,\n",
      "\"wgGENewcomerTasksGuidanceEnabled\":!0,\"wgGEAskQuestionEnabled\":!1,\"wgGELinkRecommendationsFrontendEnabled\":!1,\"wgWikibaseItemId\":\"Q152036\"};RLSTATE={\"ext.globalCssJs.user.styles\":\"ready\",\"site.styles\":\"ready\",\"noscript\":\"ready\",\"user.styles\":\"ready\",\"ext.globalCssJs.user\":\"ready\",\"user\":\"ready\",\"user.options\":\"loading\",\"ext.cite.styles\":\"ready\",\"skins.vector.styles.legacy\":\"ready\",\"jquery.makeCollapsible.styles\":\"ready\",\"ext.visualEditor.desktopArticleTarget.noscript\":\"ready\",\"ext.uls.interlanguage\":\"ready\",\"ext.wikimediaBadges\":\"ready\",\"wikibase.client.init\":\"ready\"};RLPAGEMODULES=[\"ext.cite.ux-enhancements\",\"site\",\"mediawiki.page.ready\",\"jquery.makeCollapsible\",\"mediawiki.toc\",\"skins.vector.legacy.js\",\"ext.gadget.ReferenceTooltips\",\"ext.gadget.charinsert\",\"ext.gadget.extra-toolbar-buttons\",\"ext.gadget.refToolbar\",\"ext.gadget.switcher\",\"ext.centralauth.centralautologin\",\"mmv.head\",\"mmv.bootstrap.autostart\",\"ext.popups\",\"ext.visualEditor.desktopArticleTarget.init\",\n",
      "\"ext.visualEditor.targetLoader\",\"ext.eventLogging\",\"ext.wikimediaEvents\",\"ext.navigationTiming\",\"ext.uls.compactlinks\",\"ext.uls.interface\",\"ext.cx.eventlogging.campaigns\",\"ext.centralNotice.geoIP\",\"ext.centralNotice.startUp\",\"ext.growthExperiments.SuggestedEditSession\"];</script>\n",
      "<script>(RLQ=window.RLQ||[]).push(function(){mw.loader.implement(\"user.options@1hzgi\",function($,jQuery,require,module){/*@nomin*/mw.user.tokens.set({\"patrolToken\":\"+\\\\\",\"watchToken\":\"+\\\\\",\"csrfToken\":\"+\\\\\"});\n",
      "});});</script>\n",
      "<link rel=\"stylesheet\" href=\"/w/load.php?lang=en&amp;modules=ext.cite.styles%7Cext.uls.interlanguage%7Cext.visualEditor.desktopArticleTarget.noscript%7Cext.wikimediaBadges%7Cjquery.makeCollapsible.styles%7Cskins.vector.styles.legacy%7Cwikibase.client.init&amp;only=styles&amp;skin=vector\"/>\n",
      "<script async=\"\" src=\"/w/load.php?lang=en&amp;modules=startup&amp;only=scripts&amp;raw=1&amp;skin=vector\"></script>\n",
      "<meta name=\"ResourceLoaderDynamicStyles\" content=\"\"/>\n",
      "<link rel=\"stylesheet\" href=\"/w/load.php?lang=en&amp;modules=site.styles&amp;only=styles&amp;skin=vector\"/>\n",
      "<meta name=\"generator\" content=\"MediaWiki 1.37.0-wmf.19\"/>\n",
      "<meta name=\"referrer\" content=\"origin\"/>\n",
      "<meta name=\"referrer\" content=\"origin-when-crossorigin\"/>\n",
      "<meta name=\"referrer\" content=\"origin-when-cross-origin\"/>\n",
      "<meta name=\"format-detection\" content=\"telephone=no\"/>\n",
      "<meta property=\"og:image\" content=\"https://upload.wikimedia.org/wikipedia/commons/thumb/8/86/Lorem_ipsum_design.svg/1200px-Lorem_ipsum_design.svg.png\"/>\n",
      "<meta property=\"og:title\" content=\"Lorem ipsum - Wikipedia\"/>\n",
      "<meta property=\"og:type\" content=\"website\"/>\n",
      "<link rel=\"preconnect\" href=\"//upload.wikimedia.org\"/>\n",
      "<link rel=\"alternate\" media=\"only screen and (max-width: 720px)\" href=\"//en.m.wikipedia.org/wiki/Lorem_ipsum\"/>\n",
      "<link rel=\"alternate\" type=\"application/x-wiki\" title=\"Edit this page\" href=\"/w/index.php?title=Lorem_ipsum&amp;action=edit\"/>\n",
      "<link rel=\"edit\" title=\"Edit this page\" href=\"/w/index.php?title=Lorem_ipsum&amp;action=edit\"/>\n",
      "<link rel=\"apple-touch-icon\" href=\"/static/apple-touch/wikipedia.png\"/>\n",
      "<link rel=\"shortcut icon\" href=\"/static/favicon/wikipedia.ico\"/>\n",
      "<link rel=\"search\" type=\"application/opensearchdescription+xml\" href=\"/w/opensearch_desc.php\" title=\"Wikipedia (en)\"/>\n",
      "<link rel=\"EditURI\" type=\"application/rsd+xml\" href=\"//en.wikipedia.org/w/api.php?action=rsd\"/>\n",
      "<link rel=\"license\" href=\"//creativecommons.org/licenses/by-sa/3.0/\"/>\n",
      "<link rel=\"canonical\" href=\"https://en.wikipedia.org/wiki/Lorem_ipsum\"/>\n",
      "<link rel=\"dns-prefetch\" href=\"//login.wikimedia.org\"/>\n",
      "<link rel=\"dns-prefetch\" href=\"//meta.wikimedia.org\" />\n",
      "</head>\n",
      "<body class=\"mediawiki ltr sitedir-ltr mw-hide-empty-elt ns-0 ns-subject mw-editable page-Lorem_ipsum rootpage-Lorem_ipsum skin-vector action-view skin-vector-legacy\"><div id=\"mw-page-base\" class=\"noprint\"></div>\n",
      "<div id=\"mw-head-base\" class=\"noprint\"></div>\n",
      "<div id=\"content\" class=\"mw-body\" role=\"main\">\n",
      "\t<a id=\"top\"></a>\n",
      "\t<div id=\"siteNotice\"><!-- CentralNotice --></div>\n",
      "\t<div class=\"mw-indicators\">\n",
      "\t</div>\n",
      "\t<h1 id=\"firstHeading\" class=\"firstHeading\" ><i>Lorem ipsum</i></h1>\n",
      "\t<div id=\"bodyContent\" class=\"vector-body\">\n",
      "\t\t<div id=\"siteSub\" class=\"noprint\">From Wikipedia, the free encyclopedia</div>\n",
      "\t\t<div id=\"contentSub\"></div>\n",
      "\t\t<div id=\"contentSub2\"></div>\n",
      "\t\t\n",
      "\t\t<div id=\"jump-to-nav\"></div>\n",
      "\t\t<a class=\"mw-jump-link\" href=\"#mw-head\">Jump to navigation</a>\n",
      "\t\t<a class=\"mw-jump-link\" href=\"#searchInput\">Jump to search</a>\n",
      "\t\t<div id=\"mw-content-text\" class=\"mw-body-content mw-content-ltr\" lang=\"en\" dir=\"ltr\"><div class=\"mw-parser-output\"><div class=\"shortdescription nomobile noexcerpt noprint searchaux\" style=\"display:none\">Placeholder text used in publishing and graphic design</div>\n",
      "<style data-mw-deduplicate=\"TemplateStyles:r1033289096\">.mw-parser-output .hatnote{font-style:italic}.mw-parser-output div.hatnote{padding-left:1.6em;margin-bottom:0.5em}.mw-parser-output .hatnote i{font-style:normal}.mw-parser-output .hatnote+link+.hatnote{margin-top:-0.5em}</style><div role=\"note\" class=\"hatnote navigation-not-searchable\">\"Ipsum\" redirects here. For the car, see <a href=\"/wiki/Toyota_Ipsum\" title=\"Toyota Ipsum\">Toyota Ipsum</a>.</div>\n",
      "<div class=\"thumb tright\"><div class=\"thumbinner\" style=\"width:302px;\"><a href=\"/wiki/File:Lorem_ipsum_design.svg\" class=\"image\"><img alt=\"An example of the Lorem ipsum placeholder text on a green ans white webpage.\" src=\"//upload.wikimedia.org/wikipedia/commons/thumb/8/86/Lorem_ipsum_design.svg/300px-Lorem_ipsum_design.svg.png\" decoding=\"async\" width=\"300\" height=\"337\" class=\"thumbimage\" srcset=\"//upload.wikimedia.org/wikipedia/commons/thumb/8/86/Lorem_ipsum_design.svg/450px-Lorem_ipsum_design.svg.png 1.5x, //upload.wikimedia.org/wikipedia/commons/thumb/8/86/Lorem_ipsum_design.svg/600px-Lorem_ipsum_design.svg.png 2x\" data-file-width=\"1008\" data-file-height=\"1132\" /></a>  <div class=\"thumbcaption\"><div class=\"magnify\"><a href=\"/wiki/File:Lorem_ipsum_design.svg\" class=\"internal\" title=\"Enlarge\"></a></div>Using <i>Lorem ipsum</i> to focus attention on graphic elements in a webpage design proposal</div></div></div>\n",
      "<p>In <a href=\"/wiki/Publishing\" title=\"Publishing\">publishing</a> and <a href=\"/wiki/Graphic_design\" title=\"Graphic design\">graphic design</a>, <i><b>Lorem ipsum</b></i> is a <a href=\"/wiki/Placeholder_text\" class=\"mw-redirect\" title=\"Placeholder text\">placeholder text</a> commonly used to demonstrate the visual form of a document or a typeface without relying on meaningful content. <i>Lorem ipsum</i> may be used as a placeholder before final <a href=\"/wiki/Copy_(written)\" title=\"Copy (written)\">copy</a> is available. It is also used to temporarily replace text in a process called <a href=\"/wiki/Greeking\" title=\"Greeking\">greeking</a>, which allows designers to consider the form of a webpage or publication, without the meaning of the text influencing the design.\n",
      "</p><p><i>Lorem ipsum</i> is typically a corrupted version of <i lang=\"la\" title=\"Latin-language text\">'<a href=\"/wiki/De_finibus_bonorum_et_malorum\" title=\"De finibus bonorum et malorum\">De finibus bonorum et malorum</a>'</i>, a 1st century BC text by the <a href=\"/wiki/Roman_Republic\" title=\"Roman Republic\">Roman</a> statesman and philosopher <a href=\"/wiki/Cicero\" title=\"Cicero\">Cicero</a>, with words altered, added, and removed to make it nonsensical and improper <a href=\"/wiki/Latin\" title=\"Latin\">Latin</a>.\n",
      "</p><p>Versions of the <i>Lorem ipsum</i> text have been used in <a href=\"/wiki/Typesetting\" title=\"Typesetting\">typesetting</a> at least since the 1960s, when it was popularized by advertisements for <a href=\"/wiki/Letraset\" title=\"Letraset\">Letraset</a> transfer sheets.<sup id=\"cite_ref-Cibois_1-0\" class=\"reference\"><a href=\"#cite_note-Cibois-1\">&#91;1&#93;</a></sup> <i>Lorem ipsum</i> was introduced to the digital world in the mid-1980s, when <a href=\"/wiki/Aldus_Corporation\" title=\"Aldus Corporation\">Aldus</a> employed it in graphic and word-processing templates for its desktop publishing program <a href=\"/wiki/Adobe_PageMaker\" title=\"Adobe PageMaker\">PageMaker</a>. Other popular <a href=\"/wiki/Word_processor_(electronic_device)\" title=\"Word processor (electronic device)\">word processors</a>, including <a href=\"/wiki/Pages_(word_processor)\" title=\"Pages (word processor)\">Pages</a> and <a href=\"/wiki/Microsoft_Word\" title=\"Microsoft Word\">Microsoft Word</a>, have since adopted <i>Lorem ipsum</i>,<sup id=\"cite_ref-SDop_2-0\" class=\"reference\"><a href=\"#cite_note-SDop-2\">&#91;2&#93;</a></sup> as have many <a href=\"/wiki/LaTeX\" title=\"LaTeX\">LaTeX</a> packages,<sup id=\"cite_ref-3\" class=\"reference\"><a href=\"#cite_note-3\">&#91;3&#93;</a></sup><sup id=\"cite_ref-4\" class=\"reference\"><a href=\"#cite_note-4\">&#91;4&#93;</a></sup><sup id=\"cite_ref-ms-212251_5-0\" class=\"reference\"><a href=\"#cite_note-ms-212251-5\">&#91;5&#93;</a></sup> web content managers such as <a href=\"/wiki/Joomla!\" class=\"mw-redirect\" title=\"Joomla!\">Joomla!</a> and <a href=\"/wiki/WordPress\" title=\"WordPress\">WordPress</a>, and <a href=\"/wiki/CSS\" title=\"CSS\">CSS</a> libraries such as Semantic UI.<sup id=\"cite_ref-6\" class=\"reference\"><a href=\"#cite_note-6\">&#91;6&#93;</a></sup>\n",
      "</p>\n",
      "<div id=\"toc\" class=\"toc\" role=\"navigation\" aria-labelledby=\"mw-toc-heading\"><input type=\"checkbox\" role=\"button\" id=\"toctogglecheckbox\" class=\"toctogglecheckbox\" style=\"display:none\" /><div class=\"toctitle\" lang=\"en\" dir=\"ltr\"><h2 id=\"mw-toc-heading\">Contents</h2><span class=\"toctogglespan\"><label class=\"toctogglelabel\" for=\"toctogglecheckbox\"></label></span></div>\n",
      "<ul>\n",
      "<li class=\"toclevel-1 tocsection-1\"><a href=\"#Example_text\"><span class=\"tocnumber\">1</span> <span class=\"toctext\">Example text</span></a></li>\n",
      "<li class=\"toclevel-1 tocsection-2\"><a href=\"#Source_text\"><span class=\"tocnumber\">2</span> <span class=\"toctext\">Source text</span></a></li>\n",
      "<li class=\"toclevel-1 tocsection-3\"><a href=\"#See_also\"><span class=\"tocnumber\">3</span> <span class=\"toctext\">See also</span></a></li>\n",
      "<li class=\"toclevel-1 tocsection-4\"><a href=\"#References\"><span class=\"tocnumber\">4</span> <span class=\"toctext\">References</span></a></li>\n",
      "<li class=\"toclevel-1 tocsection-5\"><a href=\"#External_links\"><span class=\"tocnumber\">5</span> <span class=\"toctext\">External links</span></a></li>\n",
      "</ul>\n",
      "</div>\n",
      "\n",
      "<h2><span class=\"mw-headline\" id=\"Example_text\">Example text</span><span class=\"mw-editsection\"><span class=\"mw-editsection-bracket\">[</span><a href=\"/w/index.php?title=Lorem_ipsum&amp;action=edit&amp;section=1\" title=\"Edit section: Example text\">edit</a><span class=\"mw-editsection-bracket\">]</span></span></h2>\n",
      "<p>A common form of <i>Lorem ipsum</i> reads:\n",
      "</p>\n",
      "<blockquote>\n",
      "<p class=\"mw-empty-elt\"></p><p>Lorem ipsum dolor sit amet, consectetur adipiscing elit, sed do eiusmod tempor incididunt ut labore et dolore magna aliqua. Ut enim ad minim veniam, quis nostrud exercitation ullamco laboris nisi ut aliquip ex ea commodo consequat. Duis aute irure dolor in reprehenderit in voluptate velit esse cillum dolore eu fugiat nulla pariatur. Excepteur sint occaecat cupidatat non proident, sunt in culpa qui officia deserunt mollit anim id est laborum.</p><p class=\"mw-empty-elt\"></p>\n",
      "</blockquote>\n",
      "<h2><span class=\"mw-headline\" id=\"Source_text\">Source text</span><span class=\"mw-editsection\"><span class=\"mw-editsection-bracket\">[</span><a href=\"/w/index.php?title=Lorem_ipsum&amp;action=edit&amp;section=2\" title=\"Edit section: Source text\">edit</a><span class=\"mw-editsection-bracket\">]</span></span></h2>\n",
      "<p>The <i>Lorem ipsum</i> text is derived from sections 1.10.32 and 1.10.33 of Cicero's <i lang=\"la\" title=\"Latin-language text\">'De finibus bonorum et malorum'</i>.<sup id=\"cite_ref-Microsoft_7-0\" class=\"reference\"><a href=\"#cite_note-Microsoft-7\">&#91;7&#93;</a></sup><sup id=\"cite_ref-cicero_archive_org_8-0\" class=\"reference\"><a href=\"#cite_note-cicero_archive_org-8\">&#91;8&#93;</a></sup> The physical source may have been the 1914 <a href=\"/wiki/Loeb_Classical_Library\" title=\"Loeb Classical Library\">Loeb Classical Library</a> edition of <i lang=\"la\" title=\"Latin-language text\">De finibus</i>, where the Latin text, presented on the left-hand (even) pages, breaks off on page 34 with \"<i lang=\"la\" title=\"Latin-language text\">Neque porro quisquam est qui do-</i>\" and continues on page 36 with \"<i lang=\"la\" title=\"Latin-language text\">lorem ipsum<span class=\"nowrap\">&#160;</span>...</i>\", suggesting that the <a href=\"/wiki/Galley_proof\" title=\"Galley proof\">galley type</a> of that page was mixed up to make the dummy text seen today.<sup id=\"cite_ref-Cibois_1-1\" class=\"reference\"><a href=\"#cite_note-Cibois-1\">&#91;1&#93;</a></sup>\n",
      "</p><p>The discovery of the text's origin is attributed to Richard McClintock, a Latin scholar at <a href=\"/wiki/Hampden%E2%80%93Sydney_College\" title=\"Hampden–Sydney College\">Hampden–Sydney College</a>. McClintock connected <i>Lorem ipsum</i> to Cicero's writing sometime before 1982 while searching for instances of the Latin word <i lang=\"la\" title=\"Latin-language text\"><a href=\"https://en.wiktionary.org/wiki/consectetur\" class=\"extiw\" title=\"wikt:consectetur\">consectetur</a></i>, which was rarely used in classical literature.<sup id=\"cite_ref-SDop_2-1\" class=\"reference\"><a href=\"#cite_note-SDop-2\">&#91;2&#93;</a></sup> McClintock first published his discovery in a 1994 letter to the editor of <i>Before &amp; After</i> magazine, contesting the editor's earlier claim that <i>Lorem ipsum</i> held no meaning.<sup id=\"cite_ref-SDop_2-2\" class=\"reference\"><a href=\"#cite_note-SDop-2\">&#91;2&#93;</a></sup>\n",
      "</p><p>The relevant section of Cicero as printed in the source is reproduced below with fragments used in <i>Lorem ipsum</i> underlined. Letters in brackets were added to <i>Lorem ipsum</i> and were not present in the source text:\n",
      "</p>\n",
      "<style data-mw-deduplicate=\"TemplateStyles:r996844942\">.mw-parser-output .templatequote{overflow:hidden;margin:1em 0;padding:0 40px}.mw-parser-output .templatequote .templatequotecite{line-height:1.5em;text-align:left;padding-left:1.6em;margin-top:0}</style><blockquote class=\"templatequote\"><p>[32] <span lang=\"la\" style=\"font-style: normal;\" title=\"Latin-language text\">Sed ut perspiciatis, unde omnis iste natus error sit voluptatem accusantium doloremque laudantium, totam rem aperiam eaque ipsa, quae ab illo inventore veritatis et quasi architecto beatae vitae dicta sunt, explicabo. Nemo enim ipsam voluptatem, quia voluptas sit, aspernatur aut odit aut fugit, sed quia consequuntur magni dolores eos, qui ratione voluptatem sequi nesciunt, neque porro quisquam est, qui do</span><u>lorem ipsum</u>, <span lang=\"la\" style=\"font-style: normal;\" title=\"Latin-language text\">quia</span> <u>dolor sit amet consectetur adipisci[ng]</u> v<u>elit, sed</u> <span lang=\"la\" style=\"font-style: normal;\" title=\"Latin-language text\">quia non numquam</span> <u>[do] eius mod</u>i <u>tempor</u>a <u>inci[di]dunt, ut labore et dolore magna</u>m <u>aliqua</u><span lang=\"la\" style=\"font-style: normal;\" title=\"Latin-language text\">m quaerat voluptatem.</span> <u>Ut enim ad minim</u>a <u>veniam, quis nostru</u>m<u>[d] exercitation</u><span lang=\"la\" style=\"font-style: normal;\" title=\"Latin-language text\">em</span> <u>ullam co</u><span lang=\"la\" style=\"font-style: normal;\" title=\"Latin-language text\">rporis suscipit</span> <u>labori</u>o<u>s</u><span lang=\"la\" style=\"font-style: normal;\" title=\"Latin-language text\">am,</span> <u>nisi ut aliquid ex ea commod</u>i <u>consequat</u><span lang=\"la\" style=\"font-style: normal;\" title=\"Latin-language text\">ur?</span> [<u>D</u>]Q<u>uis aute</u><span lang=\"la\" style=\"font-style: normal;\" title=\"Latin-language text\">m vel eum</span> <u>iure reprehenderit,</u> <span lang=\"la\" style=\"font-style: normal;\" title=\"Latin-language text\">qui</span> <u>in</u> <span lang=\"la\" style=\"font-style: normal;\" title=\"Latin-language text\">ea</span> <u>voluptate velit esse</u>, <span lang=\"la\" style=\"font-style: normal;\" title=\"Latin-language text\">quam nihil molestiae</span> <u>c</u><span lang=\"la\" style=\"font-style: normal;\" title=\"Latin-language text\">onsequatur, vel</span> <u>illum</u>, <span lang=\"la\" style=\"font-style: normal;\" title=\"Latin-language text\">qui</span> <u>dolore</u>m <u>eu</u>m <u>fugiat</u>, <span lang=\"la\" style=\"font-style: normal;\" title=\"Latin-language text\">quo voluptas</span> <u>nulla pariatur</u>?\n",
      "[33] <span lang=\"la\" style=\"font-style: normal;\" title=\"Latin-language text\">At vero eos et accusamus et iusto odio dignissimos ducimus, qui blanditiis praesentium voluptatum deleniti atque corrupti, quos dolores et quas molestias</span> <u>exceptur</u>i <u>sint, obcaecat</u>i <u>cupiditat</u>e <u>non pro</u>v<u>ident</u>, <span lang=\"la\" style=\"font-style: normal;\" title=\"Latin-language text\">similique</span> <u>sunt in culpa</u>, <u>qui officia deserunt mollit</u>ia <u>anim</u>i, <u>id est laborum</u> <span lang=\"la\" style=\"font-style: normal;\" title=\"Latin-language text\">et dolorum fuga. Et harum quidem rerum facilis est et expedita distinctio. Nam libero tempore, cum soluta nobis est eligendi optio, cumque nihil impedit, quo minus id, quod maxime placeat, facere possimus, omnis voluptas assumenda est, omnis dolor repellendus. Temporibus autem quibusdam et aut officiis debitis aut rerum necessitatibus saepe eveniet, ut et voluptates repudiandae sint et molestiae non recusandae. Itaque earum rerum hic tenetur a sapiente delectus, ut aut reiciendis voluptatibus maiores alias consequatur aut perferendis doloribus asperiores repellat.</span></p></blockquote>\n",
      "<p>What follows is <a href=\"https://en.wikisource.org/wiki/Harris_Rackham\" class=\"extiw\" title=\"s:Harris Rackham\">H. Rackham</a>'s translation, as printed in the <a href=\"/wiki/Loeb_Classical_Library\" title=\"Loeb Classical Library\">Loeb Classical Library</a> edition, with words at least partially represented in <i>Lorem ipsum</i> underlined:<sup id=\"cite_ref-cicero_archive_org_8-1\" class=\"reference\"><a href=\"#cite_note-cicero_archive_org-8\">&#91;8&#93;</a></sup>\n",
      "</p>\n",
      "<link rel=\"mw-deduplicated-inline-style\" href=\"mw-data:TemplateStyles:r996844942\"/><blockquote class=\"templatequote\"><p>[32] But I must explain to you how all this mistaken idea of reprobating pleasure and extolling pain arose. To do so, I will give you a complete account of the system, and expound the actual teachings of the great explorer of the truth, the master-builder of human happiness. No one rejects, dislikes or avoids pleasure itself, because it is pleasure, but because those who do not know how to pursue pleasure rationally encounter consequences that are extremely painful. Nor again is there anyone who <u>loves or pursues or desires to obtain pain of itself, because it is pain, but</u> occasionally <u>circumstances occur in which toil and pain can procure him some great</u> pleasure. <u>To take a trivial example, which of us ever</u> undertakes <u>laborious physical exercise, except to obtain some advantage from it? But who</u> has any right to <u>find fault</u> with a man who <u>chooses to enjoy a pleasure</u> that has no annoying consequences, or <u>one</u> who <u>avoids a pain</u> that <u>produces no</u> resultant pleasure?\n",
      "[33] On the other hand, we denounce with righteous indignation and dislike men who are so beguiled and demoralized by the charms of pleasure of the moment, so <u>blinded by desire, that they cannot foresee</u> the pain and trouble that are bound to ensue; and equal <u>blame belongs to those who fail in their duty through weakness of will, which is the same as saying through shrinking from toil</u> and pain. These cases are perfectly simple and easy to distinguish. In a free hour, when our power of choice is untrammeled and when nothing prevents our being able to do what we like best, every pleasure is to be welcomed and every pain avoided. But in certain circumstances and owing to the claims of duty or the obligations of business it will frequently occur that pleasures have to be repudiated and annoyances accepted. The wise man therefore always holds in these matters to this principle of selection: he rejects pleasures to secure other greater pleasures, or else he endures pains to avoid worse pains.</p></blockquote>\n",
      "<h2><span class=\"mw-headline\" id=\"See_also\">See also</span><span class=\"mw-editsection\"><span class=\"mw-editsection-bracket\">[</span><a href=\"/w/index.php?title=Lorem_ipsum&amp;action=edit&amp;section=3\" title=\"Edit section: See also\">edit</a><span class=\"mw-editsection-bracket\">]</span></span></h2>\n",
      "<style data-mw-deduplicate=\"TemplateStyles:r998391716\">.mw-parser-output .div-col{margin-top:0.3em;column-width:30em}.mw-parser-output .div-col-small{font-size:90%}.mw-parser-output .div-col-rules{column-rule:1px solid #aaa}.mw-parser-output .div-col dl,.mw-parser-output .div-col ol,.mw-parser-output .div-col ul{margin-top:0}.mw-parser-output .div-col li,.mw-parser-output .div-col dd{page-break-inside:avoid;break-inside:avoid-column}</style><div class=\"div-col\" style=\"column-width: 30em;\">\n",
      "<ul><li><a href=\"/wiki/Asemic_writing\" title=\"Asemic writing\">Asemic writing</a></li>\n",
      "<li><a href=\"/wiki/Etaoin_shrdlu\" title=\"Etaoin shrdlu\">Etaoin shrdlu</a></li>\n",
      "<li><a href=\"/wiki/Lenna\" title=\"Lenna\">Lenna</a></li>\n",
      "<li><i lang=\"ie\" title=\"Interlingue-language text\"><a href=\"/wiki/Li_Europan_lingues\" title=\"Li Europan lingues\">Li Europan lingues</a></i></li>\n",
      "<li><a href=\"/wiki/List_of_Latin_phrases\" title=\"List of Latin phrases\">List of Latin phrases</a></li>\n",
      "<li><a href=\"/wiki/Metasyntactic_variable\" title=\"Metasyntactic variable\">Metasyntactic variable</a></li>\n",
      "<li><a href=\"/wiki/Pangram\" title=\"Pangram\">Pangram</a></li>\n",
      "<li><a href=\"/wiki/The_quick_brown_fox_jumps_over_the_lazy_dog\" title=\"The quick brown fox jumps over the lazy dog\">The quick brown fox jumps over the lazy dog</a></li>\n",
      "<li><a href=\"/wiki/To_come_(publishing)\" title=\"To come (publishing)\">To come (TK)</a></li></ul>\n",
      "</div>\n",
      "<h2><span class=\"mw-headline\" id=\"References\">References</span><span class=\"mw-editsection\"><span class=\"mw-editsection-bracket\">[</span><a href=\"/w/index.php?title=Lorem_ipsum&amp;action=edit&amp;section=4\" title=\"Edit section: References\">edit</a><span class=\"mw-editsection-bracket\">]</span></span></h2>\n",
      "<style data-mw-deduplicate=\"TemplateStyles:r1011085734\">.mw-parser-output .reflist{font-size:90%;margin-bottom:0.5em;list-style-type:decimal}.mw-parser-output .reflist .references{font-size:100%;margin-bottom:0;list-style-type:inherit}.mw-parser-output .reflist-columns-2{column-width:30em}.mw-parser-output .reflist-columns-3{column-width:25em}.mw-parser-output .reflist-columns{margin-top:0.3em}.mw-parser-output .reflist-columns ol{margin-top:0}.mw-parser-output .reflist-columns li{page-break-inside:avoid;break-inside:avoid-column}.mw-parser-output .reflist-upper-alpha{list-style-type:upper-alpha}.mw-parser-output .reflist-upper-roman{list-style-type:upper-roman}.mw-parser-output .reflist-lower-alpha{list-style-type:lower-alpha}.mw-parser-output .reflist-lower-greek{list-style-type:lower-greek}.mw-parser-output .reflist-lower-roman{list-style-type:lower-roman}</style><div class=\"reflist\">\n",
      "<div class=\"mw-references-wrap\"><ol class=\"references\">\n",
      "<li id=\"cite_note-Cibois-1\"><span class=\"mw-cite-backlink\">^ <a href=\"#cite_ref-Cibois_1-0\"><sup><i><b>a</b></i></sup></a> <a href=\"#cite_ref-Cibois_1-1\"><sup><i><b>b</b></i></sup></a></span> <span class=\"reference-text\"><style data-mw-deduplicate=\"TemplateStyles:r999302996\">.mw-parser-output cite.citation{font-style:inherit}.mw-parser-output .citation q{quotes:\"\\\"\"\"\\\"\"\"'\"\"'\"}.mw-parser-output .id-lock-free a,.mw-parser-output .citation .cs1-lock-free a{background:linear-gradient(transparent,transparent),url(\"//upload.wikimedia.org/wikipedia/commons/6/65/Lock-green.svg\")right 0.1em center/9px no-repeat}.mw-parser-output .id-lock-limited a,.mw-parser-output .id-lock-registration a,.mw-parser-output .citation .cs1-lock-limited a,.mw-parser-output .citation .cs1-lock-registration a{background:linear-gradient(transparent,transparent),url(\"//upload.wikimedia.org/wikipedia/commons/d/d6/Lock-gray-alt-2.svg\")right 0.1em center/9px no-repeat}.mw-parser-output .id-lock-subscription a,.mw-parser-output .citation .cs1-lock-subscription a{background:linear-gradient(transparent,transparent),url(\"//upload.wikimedia.org/wikipedia/commons/a/aa/Lock-red-alt-2.svg\")right 0.1em center/9px no-repeat}.mw-parser-output .cs1-subscription,.mw-parser-output .cs1-registration{color:#555}.mw-parser-output .cs1-subscription span,.mw-parser-output .cs1-registration span{border-bottom:1px dotted;cursor:help}.mw-parser-output .cs1-ws-icon a{background:linear-gradient(transparent,transparent),url(\"//upload.wikimedia.org/wikipedia/commons/4/4c/Wikisource-logo.svg\")right 0.1em center/12px no-repeat}.mw-parser-output code.cs1-code{color:inherit;background:inherit;border:none;padding:inherit}.mw-parser-output .cs1-hidden-error{display:none;font-size:100%}.mw-parser-output .cs1-visible-error{font-size:100%}.mw-parser-output .cs1-maint{display:none;color:#33aa33;margin-left:0.3em}.mw-parser-output .cs1-format{font-size:95%}.mw-parser-output .cs1-kern-left,.mw-parser-output .cs1-kern-wl-left{padding-left:0.2em}.mw-parser-output .cs1-kern-right,.mw-parser-output .cs1-kern-wl-right{padding-right:0.2em}.mw-parser-output .citation .mw-selflink{font-weight:inherit}</style><cite id=\"CITEREFCibois2012\" class=\"citation web cs1\">Cibois, Philippe (2012-06-03). <a rel=\"nofollow\" class=\"external text\" href=\"https://idm.hypotheses.org/2354\">\"Lorem ipsum: nouvel état de la question\"</a>. <i>L'intelligence du monde</i>. <a href=\"/wiki/Institut_fran%C3%A7ais\" class=\"mw-redirect\" title=\"Institut français\">L'Institut français</a><span class=\"reference-accessdate\">. Retrieved <span class=\"nowrap\">2017-04-07</span></span>.</cite><span title=\"ctx_ver=Z39.88-2004&amp;rft_val_fmt=info%3Aofi%2Ffmt%3Akev%3Amtx%3Ajournal&amp;rft.genre=unknown&amp;rft.jtitle=L%27intelligence+du+monde&amp;rft.atitle=Lorem+ipsum%3A+nouvel+%C3%A9tat+de+la+question&amp;rft.date=2012-06-03&amp;rft.aulast=Cibois&amp;rft.aufirst=Philippe&amp;rft_id=https%3A%2F%2Fidm.hypotheses.org%2F2354&amp;rfr_id=info%3Asid%2Fen.wikipedia.org%3ALorem+ipsum\" class=\"Z3988\"></span></span>\n",
      "</li>\n",
      "<li id=\"cite_note-SDop-2\"><span class=\"mw-cite-backlink\">^ <a href=\"#cite_ref-SDop_2-0\"><sup><i><b>a</b></i></sup></a> <a href=\"#cite_ref-SDop_2-1\"><sup><i><b>b</b></i></sup></a> <a href=\"#cite_ref-SDop_2-2\"><sup><i><b>c</b></i></sup></a></span> <span class=\"reference-text\"><link rel=\"mw-deduplicated-inline-style\" href=\"mw-data:TemplateStyles:r999302996\"/><cite id=\"CITEREFAdams2001\" class=\"citation web cs1\">Adams, Cecil (February 2001). <a rel=\"nofollow\" class=\"external text\" href=\"https://www.straightdope.com/21343427/what-does-the-filler-text-lorem-ipsum-mean\">\"What does the filler text \"lorem ipsum\" mean?\"</a>. The Straight Dope.</cite><span title=\"ctx_ver=Z39.88-2004&amp;rft_val_fmt=info%3Aofi%2Ffmt%3Akev%3Amtx%3Abook&amp;rft.genre=unknown&amp;rft.btitle=What+does+the+filler+text+%22lorem+ipsum%22+mean%3F&amp;rft.pub=The+Straight+Dope&amp;rft.date=2001-02&amp;rft.aulast=Adams&amp;rft.aufirst=Cecil&amp;rft_id=https%3A%2F%2Fwww.straightdope.com%2F21343427%2Fwhat-does-the-filler-text-lorem-ipsum-mean&amp;rfr_id=info%3Asid%2Fen.wikipedia.org%3ALorem+ipsum\" class=\"Z3988\"></span></span>\n",
      "</li>\n",
      "<li id=\"cite_note-3\"><span class=\"mw-cite-backlink\"><b><a href=\"#cite_ref-3\">^</a></b></span> <span class=\"reference-text\"><link rel=\"mw-deduplicated-inline-style\" href=\"mw-data:TemplateStyles:r999302996\"/><cite class=\"citation web cs1\"><a rel=\"nofollow\" class=\"external text\" href=\"https://www.ctan.org/pkg/lipsum\">\"LaTeX lipsum package\"</a><span class=\"reference-accessdate\">. Retrieved <span class=\"nowrap\">23 September</span> 2017</span>.</cite><span title=\"ctx_ver=Z39.88-2004&amp;rft_val_fmt=info%3Aofi%2Ffmt%3Akev%3Amtx%3Abook&amp;rft.genre=unknown&amp;rft.btitle=LaTeX+lipsum+package&amp;rft_id=https%3A%2F%2Fwww.ctan.org%2Fpkg%2Flipsum&amp;rfr_id=info%3Asid%2Fen.wikipedia.org%3ALorem+ipsum\" class=\"Z3988\"></span></span>\n",
      "</li>\n",
      "<li id=\"cite_note-4\"><span class=\"mw-cite-backlink\"><b><a href=\"#cite_ref-4\">^</a></b></span> <span class=\"reference-text\"><link rel=\"mw-deduplicated-inline-style\" href=\"mw-data:TemplateStyles:r999302996\"/><cite class=\"citation web cs1\"><a rel=\"nofollow\" class=\"external text\" href=\"https://www.ctan.org/pkg/blindtext\">\"LaTeX blind text package\"</a><span class=\"reference-accessdate\">. Retrieved <span class=\"nowrap\">23 September</span> 2017</span>.</cite><span title=\"ctx_ver=Z39.88-2004&amp;rft_val_fmt=info%3Aofi%2Ffmt%3Akev%3Amtx%3Abook&amp;rft.genre=unknown&amp;rft.btitle=LaTeX+blind+text+package&amp;rft_id=https%3A%2F%2Fwww.ctan.org%2Fpkg%2Fblindtext&amp;rfr_id=info%3Asid%2Fen.wikipedia.org%3ALorem+ipsum\" class=\"Z3988\"></span></span>\n",
      "</li>\n",
      "<li id=\"cite_note-ms-212251-5\"><span class=\"mw-cite-backlink\"><b><a href=\"#cite_ref-ms-212251_5-0\">^</a></b></span> <span class=\"reference-text\"><link rel=\"mw-deduplicated-inline-style\" href=\"mw-data:TemplateStyles:r999302996\"/><cite class=\"citation web cs1\"><a rel=\"nofollow\" class=\"external text\" href=\"https://web.archive.org/web/20120112094738/http://support.microsoft.com/kb/212251/en-us\">\"How to insert sample text into a document in Word\"</a>. <i>Microsoft Support</i>. 18 September 2011. Archived from the original on 12 January 2012<span class=\"reference-accessdate\">. Retrieved <span class=\"nowrap\">14 November</span> 2011</span>.</cite><span title=\"ctx_ver=Z39.88-2004&amp;rft_val_fmt=info%3Aofi%2Ffmt%3Akev%3Amtx%3Ajournal&amp;rft.genre=unknown&amp;rft.jtitle=Microsoft+Support&amp;rft.atitle=How+to+insert+sample+text+into+a+document+in+Word&amp;rft.date=2011-09-18&amp;rft_id=http%3A%2F%2Fsupport.microsoft.com%2Fkb%2F212251%2Fen-us&amp;rfr_id=info%3Asid%2Fen.wikipedia.org%3ALorem+ipsum\" class=\"Z3988\"></span><span class=\"cs1-maint citation-comment\">CS1 maint: unfit URL (<a href=\"/wiki/Category:CS1_maint:_unfit_URL\" title=\"Category:CS1 maint: unfit URL\">link</a>)</span></span>\n",
      "</li>\n",
      "<li id=\"cite_note-6\"><span class=\"mw-cite-backlink\"><b><a href=\"#cite_ref-6\">^</a></b></span> <span class=\"reference-text\"><link rel=\"mw-deduplicated-inline-style\" href=\"mw-data:TemplateStyles:r999302996\"/><cite class=\"citation web cs1\"><a rel=\"nofollow\" class=\"external text\" href=\"https://loremgenerator.io/\">\"Best Lorem Ipsum Generator\"</a>. <i>loremgenerator.io</i><span class=\"reference-accessdate\">. Retrieved <span class=\"nowrap\">2021-03-14</span></span>.</cite><span title=\"ctx_ver=Z39.88-2004&amp;rft_val_fmt=info%3Aofi%2Ffmt%3Akev%3Amtx%3Ajournal&amp;rft.genre=unknown&amp;rft.jtitle=loremgenerator.io&amp;rft.atitle=Best+Lorem+Ipsum+Generator&amp;rft_id=https%3A%2F%2Floremgenerator.io%2F&amp;rfr_id=info%3Asid%2Fen.wikipedia.org%3ALorem+ipsum\" class=\"Z3988\"></span></span>\n",
      "</li>\n",
      "<li id=\"cite_note-Microsoft-7\"><span class=\"mw-cite-backlink\"><b><a href=\"#cite_ref-Microsoft_7-0\">^</a></b></span> <span class=\"reference-text\"><link rel=\"mw-deduplicated-inline-style\" href=\"mw-data:TemplateStyles:r999302996\"/><cite class=\"citation web cs1\"><a rel=\"nofollow\" class=\"external text\" href=\"http://support.microsoft.com/kb/114222/en-us\">\"Description of the \"Lorem ipsum dolor sit amet\" text that appears in Word Help\"</a>. <i>support.microsoft.com</i><span class=\"reference-accessdate\">. Retrieved <span class=\"nowrap\">2007-03-22</span></span>.</cite><span title=\"ctx_ver=Z39.88-2004&amp;rft_val_fmt=info%3Aofi%2Ffmt%3Akev%3Amtx%3Ajournal&amp;rft.genre=unknown&amp;rft.jtitle=support.microsoft.com&amp;rft.atitle=Description+of+the+%22Lorem+ipsum+dolor+sit+amet%22+text+that+appears+in+Word+Help&amp;rft_id=http%3A%2F%2Fsupport.microsoft.com%2Fkb%2F114222%2Fen-us&amp;rfr_id=info%3Asid%2Fen.wikipedia.org%3ALorem+ipsum\" class=\"Z3988\"></span></span>\n",
      "</li>\n",
      "<li id=\"cite_note-cicero_archive_org-8\"><span class=\"mw-cite-backlink\">^ <a href=\"#cite_ref-cicero_archive_org_8-0\"><sup><i><b>a</b></i></sup></a> <a href=\"#cite_ref-cicero_archive_org_8-1\"><sup><i><b>b</b></i></sup></a></span> <span class=\"reference-text\"><link rel=\"mw-deduplicated-inline-style\" href=\"mw-data:TemplateStyles:r999302996\"/><cite id=\"CITEREFCiceroRackham1914\" class=\"citation book cs1\">Cicero, Marcus Tullius; Rackham, H. (1914). <a rel=\"nofollow\" class=\"external text\" href=\"https://archive.org/details/definibusbonoru02cicegoog\"><i>De finibus bonorum et malorum</i></a> (in Latin and English). New York: Macmillan Co. p.&#160;<a rel=\"nofollow\" class=\"external text\" href=\"https://archive.org/details/definibusbonoru02cicegoog/page/n72\">36</a> (Book I ix 32).</cite><span title=\"ctx_ver=Z39.88-2004&amp;rft_val_fmt=info%3Aofi%2Ffmt%3Akev%3Amtx%3Abook&amp;rft.genre=book&amp;rft.btitle=De+finibus+bonorum+et+malorum&amp;rft.place=New+York&amp;rft.pages=36+%28Book+I+ix+32%29&amp;rft.pub=Macmillan+Co.&amp;rft.date=1914&amp;rft.aulast=Cicero&amp;rft.aufirst=Marcus+Tullius&amp;rft.au=Rackham%2C+H.&amp;rft_id=https%3A%2F%2Farchive.org%2Fdetails%2Fdefinibusbonoru02cicegoog&amp;rfr_id=info%3Asid%2Fen.wikipedia.org%3ALorem+ipsum\" class=\"Z3988\"></span></span>\n",
      "</li>\n",
      "</ol></div></div>\n",
      "<h2><span class=\"mw-headline\" id=\"External_links\">External links</span><span class=\"mw-editsection\"><span class=\"mw-editsection-bracket\">[</span><a href=\"/w/index.php?title=Lorem_ipsum&amp;action=edit&amp;section=5\" title=\"Edit section: External links\">edit</a><span class=\"mw-editsection-bracket\">]</span></span></h2>\n",
      "<div role=\"navigation\" aria-labelledby=\"sister-projects\" class=\"metadata plainlinks sistersitebox plainlist mbox-small\" style=\"border:1px solid #aaa;padding:0;background:#f9f9f9\"><div style=\"padding:0.75em 0;text-align:center\"><b style=\"display:block\">Lorem ipsum</b>at Wikipedia's <a href=\"/wiki/Wikipedia:Wikimedia_sister_projects\" title=\"Wikipedia:Wikimedia sister projects\"><span id=\"sister-projects\">sister projects</span></a></div><ul style=\"border-top:1px solid #aaa;padding:0.75em 0;width:217px;margin:0 auto\"><li style=\"min-height:31px\"><span style=\"display:inline-block;width:31px;line-height:31px;vertical-align:middle;text-align:center\"><img alt=\"\" src=\"//upload.wikimedia.org/wikipedia/en/thumb/0/06/Wiktionary-logo-v2.svg/27px-Wiktionary-logo-v2.svg.png\" decoding=\"async\" width=\"27\" height=\"27\" style=\"vertical-align: middle\" srcset=\"//upload.wikimedia.org/wikipedia/en/thumb/0/06/Wiktionary-logo-v2.svg/41px-Wiktionary-logo-v2.svg.png 1.5x, //upload.wikimedia.org/wikipedia/en/thumb/0/06/Wiktionary-logo-v2.svg/54px-Wiktionary-logo-v2.svg.png 2x\" data-file-width=\"391\" data-file-height=\"391\" /></span><span style=\"display:inline-block;margin-left:4px;width:182px;vertical-align:middle\"><a href=\"https://en.wiktionary.org/wiki/Special:Search/Lorem_ipsum\" class=\"extiw\" title=\"wikt:Special:Search/Lorem ipsum\">Definitions</a> from Wiktionary</span></li><li style=\"min-height:31px\"><span style=\"display:inline-block;width:31px;line-height:31px;vertical-align:middle;text-align:center\"><img alt=\"\" src=\"//upload.wikimedia.org/wikipedia/en/thumb/4/4a/Commons-logo.svg/20px-Commons-logo.svg.png\" decoding=\"async\" width=\"20\" height=\"27\" style=\"vertical-align: middle\" srcset=\"//upload.wikimedia.org/wikipedia/en/thumb/4/4a/Commons-logo.svg/30px-Commons-logo.svg.png 1.5x, //upload.wikimedia.org/wikipedia/en/thumb/4/4a/Commons-logo.svg/40px-Commons-logo.svg.png 2x\" data-file-width=\"1024\" data-file-height=\"1376\" /></span><span style=\"display:inline-block;margin-left:4px;width:182px;vertical-align:middle\"><a href=\"https://commons.wikimedia.org/wiki/Lorem_ipsum\" class=\"extiw\" title=\"c:Lorem ipsum\">Media</a> from Wikimedia Commons</span></li><li style=\"min-height:31px\"><span style=\"display:inline-block;width:31px;line-height:31px;vertical-align:middle;text-align:center\"><img alt=\"\" src=\"//upload.wikimedia.org/wikipedia/commons/thumb/4/4c/Wikisource-logo.svg/26px-Wikisource-logo.svg.png\" decoding=\"async\" width=\"26\" height=\"27\" style=\"vertical-align: middle\" srcset=\"//upload.wikimedia.org/wikipedia/commons/thumb/4/4c/Wikisource-logo.svg/39px-Wikisource-logo.svg.png 1.5x, //upload.wikimedia.org/wikipedia/commons/thumb/4/4c/Wikisource-logo.svg/51px-Wikisource-logo.svg.png 2x\" data-file-width=\"410\" data-file-height=\"430\" /></span><span style=\"display:inline-block;margin-left:4px;width:182px;vertical-align:middle\"><a href=\"https://en.wikisource.org/wiki/mul:Lorem_ipsum\" class=\"extiw\" title=\"s:mul:Lorem ipsum\">Texts</a> from Wikisource</span></li></ul></div>\n",
      "<ul><li>The original <i><a href=\"https://en.wikisource.org/wiki/la:De_finibus_bonorum_et_malorum/Liber_Primus\" class=\"extiw\" title=\"s:la:De finibus bonorum et malorum/Liber Primus\">De finibus bonorum et malorum</a></i> (Book 1) from Cicero, on Latin WikiSource</li></ul>\n",
      "<div role=\"navigation\" class=\"navbox\" aria-labelledby=\"Standard_test_items\" style=\"padding:3px\"><table class=\"nowraplinks mw-collapsible autocollapse navbox-inner\" style=\"border-spacing:0;background:transparent;color:inherit\"><tbody><tr><th scope=\"col\" class=\"navbox-title\" colspan=\"2\"><style data-mw-deduplicate=\"TemplateStyles:r992953826\">.mw-parser-output .navbar{display:inline;font-size:88%;font-weight:normal}.mw-parser-output .navbar-collapse{float:left;text-align:left}.mw-parser-output .navbar-boxtext{word-spacing:0}.mw-parser-output .navbar ul{display:inline-block;white-space:nowrap;line-height:inherit}.mw-parser-output .navbar-brackets::before{margin-right:-0.125em;content:\"[ \"}.mw-parser-output .navbar-brackets::after{margin-left:-0.125em;content:\" ]\"}.mw-parser-output .navbar li{word-spacing:-0.125em}.mw-parser-output .navbar-mini abbr{font-variant:small-caps;border-bottom:none;text-decoration:none;cursor:inherit}.mw-parser-output .navbar-ct-full{font-size:114%;margin:0 7em}.mw-parser-output .navbar-ct-mini{font-size:114%;margin:0 4em}.mw-parser-output .infobox .navbar{font-size:100%}.mw-parser-output .navbox .navbar{display:block;font-size:100%}.mw-parser-output .navbox-title .navbar{float:left;text-align:left;margin-right:0.5em}</style><div class=\"navbar plainlinks hlist navbar-mini\"><ul><li class=\"nv-view\"><a href=\"/wiki/Template:Standard_test_item\" title=\"Template:Standard test item\"><abbr title=\"View this template\" style=\";;background:none transparent;border:none;box-shadow:none;padding:0;;text-decoration:inherit;\">v</abbr></a></li><li class=\"nv-talk\"><a href=\"/wiki/Template_talk:Standard_test_item\" title=\"Template talk:Standard test item\"><abbr title=\"Discuss this template\" style=\";;background:none transparent;border:none;box-shadow:none;padding:0;;text-decoration:inherit;\">t</abbr></a></li><li class=\"nv-edit\"><a class=\"external text\" href=\"https://en.wikipedia.org/w/index.php?title=Template:Standard_test_item&amp;action=edit\"><abbr title=\"Edit this template\" style=\";;background:none transparent;border:none;box-shadow:none;padding:0;;text-decoration:inherit;\">e</abbr></a></li></ul></div><div id=\"Standard_test_items\" style=\"font-size:114%;margin:0 4em\">Standard test items</div></th></tr><tr><td class=\"navbox-abovebelow hlist\" colspan=\"2\"><div id=\"*_Pangram_*_Reference_implementation_*_Sanity_check_*_Standard_test_image\">\n",
      "<ul><li><a href=\"/wiki/Pangram\" title=\"Pangram\">Pangram</a></li>\n",
      "<li><a href=\"/wiki/Reference_implementation\" title=\"Reference implementation\">Reference implementation</a></li>\n",
      "<li><a href=\"/wiki/Sanity_check\" title=\"Sanity check\">Sanity check</a></li>\n",
      "<li><a href=\"/wiki/Standard_test_image\" title=\"Standard test image\">Standard test image</a></li></ul>\n",
      "</div></td></tr><tr><th scope=\"row\" class=\"navbox-group\" style=\"width:1%\"><a href=\"/wiki/Artificial_intelligence\" title=\"Artificial intelligence\">Artificial intelligence</a></th><td class=\"navbox-list navbox-odd hlist\" style=\"text-align:left;border-left-width:2px;border-left-style:solid;width:100%;padding:0px\"><div style=\"padding:0em 0.25em\">\n",
      "<ul><li><a href=\"/wiki/Chinese_room\" title=\"Chinese room\">Chinese room</a></li>\n",
      "<li><a href=\"/wiki/Turing_test\" title=\"Turing test\">Turing test</a></li></ul>\n",
      "</div></td></tr><tr><th scope=\"row\" class=\"navbox-group\" style=\"width:1%\">Television (<a href=\"/wiki/Test_card\" title=\"Test card\">test card</a>)</th><td class=\"navbox-list navbox-even hlist\" style=\"text-align:left;border-left-width:2px;border-left-style:solid;width:100%;padding:0px\"><div style=\"padding:0em 0.25em\">\n",
      "<ul><li><a href=\"/wiki/SMPTE_color_bars\" title=\"SMPTE color bars\">SMPTE color bars</a></li>\n",
      "<li><a href=\"/wiki/Indian-head_test_pattern\" title=\"Indian-head test pattern\">Indian-head test pattern</a></li>\n",
      "<li><a href=\"/wiki/Test_Card_F\" title=\"Test Card F\">Test Card F</a></li>\n",
      "<li><a href=\"/wiki/Philips_PM5544\" title=\"Philips PM5544\">Philips PM5544</a></li></ul>\n",
      "</div></td></tr><tr><th scope=\"row\" class=\"navbox-group\" style=\"width:1%\"><a href=\"/wiki/Computer_language\" title=\"Computer language\">Computer languages</a></th><td class=\"navbox-list navbox-odd hlist\" style=\"text-align:left;border-left-width:2px;border-left-style:solid;width:100%;padding:0px\"><div style=\"padding:0em 0.25em\">\n",
      "<ul><li><a href=\"/wiki/%22Hello,_World!%22_program\" title=\"&quot;Hello, World!&quot; program\">\"Hello, World!\" program</a></li>\n",
      "<li><a href=\"/wiki/Quine_(computing)\" title=\"Quine (computing)\">Quine</a></li>\n",
      "<li><a href=\"/wiki/TPK_algorithm\" title=\"TPK algorithm\">Trabb Pardo–Knuth algorithm</a></li>\n",
      "<li><a href=\"/wiki/Man_or_boy_test\" title=\"Man or boy test\">Man or boy test</a></li>\n",
      "<li><a href=\"/wiki/Just_another_Perl_hacker\" title=\"Just another Perl hacker\">Just another Perl hacker</a></li></ul>\n",
      "</div></td></tr><tr><th scope=\"row\" class=\"navbox-group\" style=\"width:1%\"><a href=\"/wiki/Data_compression\" title=\"Data compression\">Data compression</a></th><td class=\"navbox-list navbox-even hlist\" style=\"text-align:left;border-left-width:2px;border-left-style:solid;width:100%;padding:0px\"><div style=\"padding:0em 0.25em\">\n",
      "<ul><li><a href=\"/wiki/Calgary_corpus\" title=\"Calgary corpus\">Calgary corpus</a></li>\n",
      "<li><a href=\"/wiki/Canterbury_corpus\" title=\"Canterbury corpus\">Canterbury corpus</a></li></ul>\n",
      "</div></td></tr><tr><th scope=\"row\" class=\"navbox-group\" style=\"width:1%\"><a href=\"/wiki/3D_computer_graphics\" title=\"3D computer graphics\">3D computer graphics</a></th><td class=\"navbox-list navbox-odd hlist\" style=\"text-align:left;border-left-width:2px;border-left-style:solid;width:100%;padding:0px\"><div style=\"padding:0em 0.25em\">\n",
      "<ul><li><a href=\"/wiki/Cornell_box\" title=\"Cornell box\">Cornell box</a></li>\n",
      "<li><a href=\"/wiki/Stanford_bunny\" title=\"Stanford bunny\">Stanford bunny</a></li>\n",
      "<li><a href=\"/wiki/Stanford_dragon\" title=\"Stanford dragon\">Stanford dragon</a></li>\n",
      "<li><a href=\"/wiki/Utah_teapot\" title=\"Utah teapot\">Utah teapot</a></li></ul>\n",
      "</div></td></tr><tr><th scope=\"row\" class=\"navbox-group\" style=\"width:1%\"><a href=\"/wiki/Machine_learning\" title=\"Machine learning\">Machine learning</a></th><td class=\"navbox-list navbox-even hlist\" style=\"text-align:left;border-left-width:2px;border-left-style:solid;width:100%;padding:0px\"><div style=\"padding:0em 0.25em\">\n",
      "<ul><li><a href=\"/wiki/ImageNet\" title=\"ImageNet\">ImageNet</a></li>\n",
      "<li><a href=\"/wiki/MNIST_database\" title=\"MNIST database\">MNIST database</a></li>\n",
      "<li><a href=\"/wiki/List_of_datasets_for_machine-learning_research\" title=\"List of datasets for machine-learning research\">List</a></li></ul>\n",
      "</div></td></tr><tr><th scope=\"row\" class=\"navbox-group\" style=\"width:1%\"><a href=\"/wiki/Typography\" title=\"Typography\">Typography</a></th><td class=\"navbox-list navbox-odd hlist\" style=\"text-align:left;border-left-width:2px;border-left-style:solid;width:100%;padding:0px\"><div style=\"padding:0em 0.25em\">\n",
      "<ul><li><a href=\"/wiki/Hamburgevons\" title=\"Hamburgevons\">Hamburgevons</a></li>\n",
      "<li><a class=\"mw-selflink selflink\">Lorem ipsum</a></li>\n",
      "<li><a href=\"/wiki/The_quick_brown_fox_jumps_over_the_lazy_dog\" title=\"The quick brown fox jumps over the lazy dog\">The quick brown fox jumps over the lazy dog</a></li></ul>\n",
      "</div></td></tr><tr><th scope=\"row\" class=\"navbox-group\" style=\"width:1%\">Other</th><td class=\"navbox-list navbox-even hlist\" style=\"text-align:left;border-left-width:2px;border-left-style:solid;width:100%;padding:0px\"><div style=\"padding:0em 0.25em\">\n",
      "<ul><li><a href=\"/wiki/EICAR_test_file\" title=\"EICAR test file\">EICAR test file</a></li>\n",
      "<li><a href=\"/wiki/GTUBE\" title=\"GTUBE\">GTUBE</a></li>\n",
      "<li><a href=\"/wiki/Harvard_sentences\" title=\"Harvard sentences\">Harvard sentences</a></li>\n",
      "<li><a href=\"/wiki/Lenna\" title=\"Lenna\">Lenna</a></li>\n",
      "<li><a href=\"/wiki/The_North_Wind_and_the_Sun#Use_in_phonetic_demonstrations\" title=\"The North Wind and the Sun\">\"The North Wind and the Sun\"</a></li>\n",
      "<li><a href=\"/wiki/Tom%27s_Diner#The_&quot;Mother_of_the_MP3&quot;\" title=\"Tom&#39;s Diner\">\"Tom's Diner\"</a></li>\n",
      "<li><a href=\"/wiki/Film_leader\" title=\"Film leader\">SMPTE universal leader</a></li>\n",
      "<li><a href=\"/wiki/EURion_constellation\" title=\"EURion constellation\">EURion constellation</a></li>\n",
      "<li><a href=\"/wiki/Shakedown_(testing)\" title=\"Shakedown (testing)\">Shakedown</a></li>\n",
      "<li><a href=\"/wiki/Acid3\" title=\"Acid3\">Acid3</a></li>\n",
      "<li><a href=\"/wiki/1951_USAF_resolution_test_chart\" title=\"1951 USAF resolution test chart\">1951 USAF resolution test chart</a></li></ul>\n",
      "</div></td></tr></tbody></table></div>\n",
      "<div role=\"navigation\" class=\"navbox\" aria-labelledby=\"Typography\" style=\"padding:3px\"><table class=\"nowraplinks hlist mw-collapsible autocollapse navbox-inner\" style=\"border-spacing:0;background:transparent;color:inherit\"><tbody><tr><th scope=\"col\" class=\"navbox-title\" colspan=\"2\"><link rel=\"mw-deduplicated-inline-style\" href=\"mw-data:TemplateStyles:r992953826\"/><div class=\"navbar plainlinks hlist navbar-mini\"><ul><li class=\"nv-view\"><a href=\"/wiki/Template:Typography\" title=\"Template:Typography\"><abbr title=\"View this template\" style=\";;background:none transparent;border:none;box-shadow:none;padding:0;;text-decoration:inherit;\">v</abbr></a></li><li class=\"nv-talk\"><a href=\"/wiki/Template_talk:Typography\" title=\"Template talk:Typography\"><abbr title=\"Discuss this template\" style=\";;background:none transparent;border:none;box-shadow:none;padding:0;;text-decoration:inherit;\">t</abbr></a></li><li class=\"nv-edit\"><a class=\"external text\" href=\"https://en.wikipedia.org/w/index.php?title=Template:Typography&amp;action=edit\"><abbr title=\"Edit this template\" style=\";;background:none transparent;border:none;box-shadow:none;padding:0;;text-decoration:inherit;\">e</abbr></a></li></ul></div><div id=\"Typography\" style=\"font-size:114%;margin:0 4em\"><a href=\"/wiki/Typography\" title=\"Typography\">Typography</a></div></th></tr><tr><th scope=\"row\" class=\"navbox-group\" style=\"width:1%\"><a href=\"/wiki/Page_(paper)\" title=\"Page (paper)\">Page</a></th><td class=\"navbox-list navbox-odd\" style=\"text-align:left;border-left-width:2px;border-left-style:solid;width:100%;padding:0px\"><div style=\"padding:0em 0.25em\">\n",
      "<ul><li><a href=\"/wiki/Canons_of_page_construction\" title=\"Canons of page construction\">Canons of page construction</a></li>\n",
      "<li><a href=\"/wiki/Column_(typography)\" title=\"Column (typography)\">Column</a></li>\n",
      "<li><a href=\"/wiki/Even_working\" title=\"Even working\">Even working</a></li>\n",
      "<li><a href=\"/wiki/Margin_(typography)\" title=\"Margin (typography)\">Margin</a></li>\n",
      "<li><a href=\"/wiki/Page_numbering\" title=\"Page numbering\">Page numbering</a></li>\n",
      "<li><a href=\"/wiki/Pagination\" title=\"Pagination\">Pagination</a></li>\n",
      "<li><a href=\"/wiki/Pull_quote\" title=\"Pull quote\">Pull quote</a></li>\n",
      "<li><a href=\"/wiki/Recto_and_verso\" title=\"Recto and verso\">Recto and verso</a></li></ul>\n",
      "</div></td></tr><tr><th scope=\"row\" class=\"navbox-group\" style=\"width:1%\"><a href=\"/wiki/Paragraph\" title=\"Paragraph\">Paragraph</a></th><td class=\"navbox-list navbox-even\" style=\"text-align:left;border-left-width:2px;border-left-style:solid;width:100%;padding:0px\"><div style=\"padding:0em 0.25em\">\n",
      "<ul><li><a href=\"/wiki/Typographic_alignment\" title=\"Typographic alignment\">Alignment</a></li>\n",
      "<li><a href=\"/wiki/Leading\" title=\"Leading\">Leading</a></li>\n",
      "<li><a href=\"/wiki/River_(typography)\" title=\"River (typography)\">River</a></li>\n",
      "<li><a href=\"/wiki/Runaround_(typography)\" title=\"Runaround (typography)\">Runaround</a></li>\n",
      "<li><a href=\"/wiki/Sentence_spacing\" title=\"Sentence spacing\">Sentence spacing</a></li>\n",
      "<li><a href=\"/wiki/Widows_and_orphans\" title=\"Widows and orphans\">Widows and orphans</a></li></ul>\n",
      "</div></td></tr><tr><th scope=\"row\" class=\"navbox-group\" style=\"width:1%\"><a href=\"/wiki/Glyph\" title=\"Glyph\">Character</a></th><td class=\"navbox-list navbox-odd\" style=\"text-align:left;border-left-width:2px;border-left-style:solid;width:100%;padding:0px\"><div style=\"padding:0em 0.25em\"></div><table class=\"nowraplinks navbox-subgroup\" style=\"border-spacing:0\"><tbody><tr><th scope=\"row\" class=\"navbox-group\" style=\"width:9em\"><a href=\"/wiki/Typeface_anatomy\" title=\"Typeface anatomy\">Typeface anatomy</a></th><td class=\"navbox-list navbox-odd\" style=\"text-align:left;border-left-width:2px;border-left-style:solid;padding:0px\"><div style=\"padding:0em 0.25em\">\n",
      "<ul><li><a href=\"/wiki/Counter_(typography)\" title=\"Counter (typography)\">Counter</a></li>\n",
      "<li><a href=\"/wiki/Diacritic\" title=\"Diacritic\">Diacritics</a></li>\n",
      "<li><a href=\"/wiki/Dingbat\" title=\"Dingbat\">Dingbat</a></li>\n",
      "<li><a href=\"/wiki/Glyph\" title=\"Glyph\">Glyph</a></li>\n",
      "<li><a href=\"/wiki/Initial\" title=\"Initial\">Initial</a></li>\n",
      "<li><a href=\"/wiki/Kerning\" title=\"Kerning\">Kerning</a></li>\n",
      "<li><a href=\"/wiki/Letter-spacing\" title=\"Letter-spacing\">Letter-spacing</a></li>\n",
      "<li><a href=\"/wiki/Ligature_(writing)\" title=\"Ligature (writing)\">Ligature</a></li>\n",
      "<li><a href=\"/wiki/Rotated_letter\" title=\"Rotated letter\">Rotation</a></li>\n",
      "<li><a href=\"/wiki/Subscript_and_superscript\" title=\"Subscript and superscript\">Subscript and superscript</a></li>\n",
      "<li><a href=\"/wiki/Swash_(typography)\" title=\"Swash (typography)\">Swash</a></li>\n",
      "<li><a href=\"/wiki/Text_figures\" title=\"Text figures\">Text figures</a></li>\n",
      "<li><a href=\"/wiki/Tittle\" title=\"Tittle\">Tittle</a></li></ul>\n",
      "</div></td></tr><tr><th scope=\"row\" class=\"navbox-group\" style=\"width:9em\"><a href=\"/wiki/Capitalization\" title=\"Capitalization\">Capitalization</a></th><td class=\"navbox-list navbox-even\" style=\"text-align:left;border-left-width:2px;border-left-style:solid;padding:0px\"><div style=\"padding:0em 0.25em\">\n",
      "<ul><li><a href=\"/wiki/All_caps\" title=\"All caps\">All caps</a></li>\n",
      "<li><a href=\"/wiki/Camel_case\" title=\"Camel case\">Camel case</a></li>\n",
      "<li><a href=\"/wiki/Letter_case\" title=\"Letter case\">Letter case</a></li>\n",
      "<li><a href=\"/wiki/Small_caps\" title=\"Small caps\">Small caps</a></li></ul>\n",
      "</div></td></tr><tr><th scope=\"row\" class=\"navbox-group\" style=\"width:9em\"><a href=\"/wiki/Emphasis_(typography)\" title=\"Emphasis (typography)\">Visual distinction</a></th><td class=\"navbox-list navbox-odd\" style=\"text-align:left;border-left-width:2px;border-left-style:solid;padding:0px\"><div style=\"padding:0em 0.25em\">\n",
      "<ul><li><a href=\"/wiki/Italic_type\" title=\"Italic type\">Italics</a></li>\n",
      "<li><a href=\"/wiki/Oblique_type\" title=\"Oblique type\">Oblique</a></li>\n",
      "<li><a href=\"/wiki/Emphasis_(typography)\" title=\"Emphasis (typography)\">Bold</a></li>\n",
      "<li><a href=\"/wiki/Color_printing\" title=\"Color printing\">Color printing</a></li>\n",
      "<li><a href=\"/wiki/Underscore\" title=\"Underscore\">Underline</a></li>\n",
      "<li><a href=\"/wiki/Blackboard_bold\" title=\"Blackboard bold\">Blackboard bold</a></li>\n",
      "<li><a href=\"/wiki/Blackletter\" title=\"Blackletter\">Blackletter</a></li></ul>\n",
      "</div></td></tr><tr><th scope=\"row\" class=\"navbox-group\" style=\"width:9em\">Vertical aspects</th><td class=\"navbox-list navbox-even\" style=\"text-align:left;border-left-width:2px;border-left-style:solid;padding:0px\"><div style=\"padding:0em 0.25em\">\n",
      "<ul><li><a href=\"/wiki/Ascender_(typography)\" title=\"Ascender (typography)\">Ascender</a></li>\n",
      "<li><a href=\"/wiki/Baseline_(typography)\" title=\"Baseline (typography)\">Baseline</a></li>\n",
      "<li><a href=\"/wiki/Cap_height\" title=\"Cap height\">Cap height</a></li>\n",
      "<li><a href=\"/wiki/Descender\" title=\"Descender\">Descender</a></li>\n",
      "<li><a href=\"/wiki/Mean_line\" title=\"Mean line\">Median</a></li>\n",
      "<li><a href=\"/wiki/Overshoot_(typography)\" title=\"Overshoot (typography)\">Overshoot</a></li>\n",
      "<li><a href=\"/wiki/X-height\" title=\"X-height\">x-height</a></li></ul>\n",
      "</div></td></tr></tbody></table><div></div></td></tr><tr><th scope=\"row\" class=\"navbox-group\" style=\"width:1%\"><a href=\"/wiki/Typeface\" title=\"Typeface\">Classifications</a></th><td class=\"navbox-list navbox-odd\" style=\"text-align:left;border-left-width:2px;border-left-style:solid;width:100%;padding:0px\"><div style=\"padding:0em 0.25em\"></div><table class=\"nowraplinks navbox-subgroup\" style=\"border-spacing:0\"><tbody><tr><th scope=\"row\" class=\"navbox-group\" style=\"width:9em\"><a href=\"/wiki/Roman_type\" title=\"Roman type\">Roman type</a></th><td class=\"navbox-list navbox-odd\" style=\"text-align:left;border-left-width:2px;border-left-style:solid;padding:0px\"><div style=\"padding:0em 0.25em\">\n",
      "<ul><li><a href=\"/wiki/Serif\" title=\"Serif\">Serif</a> (<a href=\"/wiki/Antiqua_(typeface_class)\" title=\"Antiqua (typeface class)\">Antiqua</a>, <a href=\"/wiki/Didone_(typography)\" title=\"Didone (typography)\">Didone</a>, <a href=\"/wiki/Slab_serif\" title=\"Slab serif\">slab serif</a>)</li>\n",
      "<li><a href=\"/wiki/Sans-serif\" title=\"Sans-serif\">Sans-serif</a></li></ul>\n",
      "</div></td></tr><tr><th scope=\"row\" class=\"navbox-group\" style=\"width:9em\"><a href=\"/wiki/Blackletter\" title=\"Blackletter\">Blackletter type</a></th><td class=\"navbox-list navbox-even\" style=\"text-align:left;border-left-width:2px;border-left-style:solid;padding:0px\"><div style=\"padding:0em 0.25em\">\n",
      "<ul><li><a href=\"/wiki/Fraktur\" title=\"Fraktur\">Fraktur</a></li>\n",
      "<li><a href=\"/wiki/Rotunda_(script)\" title=\"Rotunda (script)\">Rotunda</a></li>\n",
      "<li><i lang=\"de\" title=\"German-language text\"><a href=\"/wiki/Schwabacher\" title=\"Schwabacher\">Schwabacher</a></i></li></ul>\n",
      "</div></td></tr><tr><th scope=\"row\" class=\"navbox-group\" style=\"width:9em\"><a href=\"/wiki/Gaelic_type\" title=\"Gaelic type\">Gaelic type</a></th><td class=\"navbox-list navbox-odd\" style=\"text-align:left;border-left-width:2px;border-left-style:solid;padding:0px\"><div style=\"padding:0em 0.25em\">\n",
      "<ul><li><a href=\"/wiki/Insular_script\" title=\"Insular script\">Insular</a></li>\n",
      "<li><a href=\"/wiki/Uncial_script\" title=\"Uncial script\">Uncial</a></li></ul>\n",
      "</div></td></tr><tr><th scope=\"row\" class=\"navbox-group\" style=\"width:9em\">Specialist</th><td class=\"navbox-list navbox-even\" style=\"text-align:left;border-left-width:2px;border-left-style:solid;padding:0px\"><div style=\"padding:0em 0.25em\">\n",
      "<ul><li><a href=\"/wiki/Record_type\" title=\"Record type\">Record type</a></li>\n",
      "<li><a href=\"/wiki/Outline_typeface\" class=\"mw-redirect\" title=\"Outline typeface\">Outline typeface</a></li>\n",
      "<li><a href=\"/wiki/Display_typeface\" title=\"Display typeface\">Display typeface</a> (<a href=\"/wiki/Script_typeface\" title=\"Script typeface\">script</a>, <a href=\"/wiki/Fat_face\" title=\"Fat face\">fat face</a>, <a href=\"/wiki/Reverse-contrast_typefaces\" title=\"Reverse-contrast typefaces\">reverse-contrast</a>)</li></ul>\n",
      "</div></td></tr></tbody></table><div></div></td></tr><tr><th scope=\"row\" class=\"navbox-group\" style=\"width:1%\"><a href=\"/wiki/Punctuation\" title=\"Punctuation\">Punctuation</a></th><td class=\"navbox-list navbox-odd\" style=\"text-align:left;border-left-width:2px;border-left-style:solid;width:100%;padding:0px\"><div style=\"padding:0em 0.25em\">\n",
      "<ul><li><a href=\"/wiki/Dash\" title=\"Dash\">Dashes</a></li>\n",
      "<li><a href=\"/wiki/Hanging_punctuation\" title=\"Hanging punctuation\">Hanging punctuation</a></li>\n",
      "<li><a href=\"/wiki/Hyphen-minus\" title=\"Hyphen-minus\">Hyphen-minus</a></li>\n",
      "<li><a href=\"/wiki/Hyphen\" title=\"Hyphen\">Hyphenation</a></li>\n",
      "<li><a href=\"/wiki/Prime_(symbol)\" title=\"Prime (symbol)\">Prime mark</a></li>\n",
      "<li><a href=\"/wiki/Quotation_mark\" title=\"Quotation mark\">Quotation mark</a></li></ul>\n",
      "</div></td></tr><tr><th scope=\"row\" class=\"navbox-group\" style=\"width:1%\"><a href=\"/wiki/Typesetting\" title=\"Typesetting\">Typesetting</a></th><td class=\"navbox-list navbox-even\" style=\"text-align:left;border-left-width:2px;border-left-style:solid;width:100%;padding:0px\"><div style=\"padding:0em 0.25em\">\n",
      "<ul><li><a href=\"/wiki/Etaoin_shrdlu\" title=\"Etaoin shrdlu\">Etaoin shrdlu</a></li>\n",
      "<li><a href=\"/wiki/Font\" title=\"Font\">Font</a>\n",
      "<ul><li><a href=\"/wiki/Computer_font\" title=\"Computer font\">computer</a></li>\n",
      "<li><a href=\"/wiki/Monospaced_font\" title=\"Monospaced font\">monospaced</a></li></ul></li>\n",
      "<li><a href=\"/wiki/Font_catalog\" title=\"Font catalog\">Font catalog</a></li>\n",
      "<li><a href=\"/wiki/For_position_only\" title=\"For position only\">For position only</a></li>\n",
      "<li><a href=\"/wiki/Letterpress_printing\" title=\"Letterpress printing\">Letterpress</a></li>\n",
      "<li><a class=\"mw-selflink selflink\">Lorem ipsum</a></li>\n",
      "<li><a href=\"/wiki/Microprinting\" title=\"Microprinting\">Microprinting</a></li>\n",
      "<li><a href=\"/wiki/Microtypography\" title=\"Microtypography\">Microtypography</a></li>\n",
      "<li><a href=\"/wiki/Movable_type\" title=\"Movable type\">Movable type</a></li>\n",
      "<li><a href=\"/wiki/Pangram\" title=\"Pangram\">Pangram</a></li>\n",
      "<li><a href=\"/wiki/Phototypesetting\" title=\"Phototypesetting\">Phototypesetting</a></li>\n",
      "<li><a href=\"/wiki/Punchcutting\" title=\"Punchcutting\">Punchcutting</a></li>\n",
      "<li><a href=\"/wiki/Type_color\" title=\"Type color\">Type color</a></li>\n",
      "<li><a href=\"/wiki/Type_design\" title=\"Type design\">Type design</a></li>\n",
      "<li><a href=\"/wiki/Typeface\" title=\"Typeface\">Typeface</a>\n",
      "<ul><li><a href=\"/wiki/List_of_typefaces\" title=\"List of typefaces\">list</a></li></ul></li></ul>\n",
      "</div></td></tr><tr><th scope=\"row\" class=\"navbox-group\" style=\"width:1%\"><a href=\"/wiki/Typographic_unit\" title=\"Typographic unit\">Typographic units</a></th><td class=\"navbox-list navbox-odd\" style=\"text-align:left;border-left-width:2px;border-left-style:solid;width:100%;padding:0px\"><div style=\"padding:0em 0.25em\">\n",
      "<ul><li><a href=\"/wiki/Agate_(typography)\" title=\"Agate (typography)\">Agate</a></li>\n",
      "<li><a href=\"/wiki/Cicero_(typography)\" title=\"Cicero (typography)\">Cicero</a></li>\n",
      "<li><a href=\"/wiki/Em_(typography)\" title=\"Em (typography)\">Em</a></li>\n",
      "<li><a href=\"/wiki/En_(typography)\" title=\"En (typography)\">En</a></li>\n",
      "<li><a href=\"/wiki/Figure_space\" title=\"Figure space\">Figure space</a></li>\n",
      "<li><a href=\"/wiki/Line_length\" title=\"Line length\">Measure</a></li>\n",
      "<li><a href=\"/wiki/Paren_space\" title=\"Paren space\">Paren space</a></li>\n",
      "<li><a href=\"/wiki/Pica_(typography)\" title=\"Pica (typography)\">Pica</a></li>\n",
      "<li><a href=\"/wiki/Point_(typography)\" title=\"Point (typography)\">Point</a>\n",
      "<ul><li><a href=\"/wiki/Traditional_point-size_names\" title=\"Traditional point-size names\">traditional point-size names</a></li></ul></li>\n",
      "<li><a href=\"/wiki/Metric_typographic_units\" title=\"Metric typographic units\">Proposed metric units</a></li>\n",
      "<li><a href=\"/wiki/Thin_space\" title=\"Thin space\">Thin space</a></li>\n",
      "<li><a href=\"/wiki/Twip\" title=\"Twip\">Twip</a></li></ul>\n",
      "</div></td></tr><tr><th scope=\"row\" class=\"navbox-group\" style=\"width:1%\">Digital typography</th><td class=\"navbox-list navbox-even\" style=\"text-align:left;border-left-width:2px;border-left-style:solid;width:100%;padding:0px\"><div style=\"padding:0em 0.25em\">\n",
      "<ul><li><a href=\"/wiki/Character_encoding\" title=\"Character encoding\">Character encoding</a></li>\n",
      "<li><a href=\"/wiki/Font_hinting\" title=\"Font hinting\">Hinting</a></li>\n",
      "<li><a href=\"/wiki/Font_rasterization\" title=\"Font rasterization\">Rasterization</a></li>\n",
      "<li><a href=\"/wiki/List_of_typographic_features\" title=\"List of typographic features\">Typographic features</a></li>\n",
      "<li><a href=\"/wiki/Web_typography\" title=\"Web typography\">Web typography</a></li>\n",
      "<li><a href=\"/wiki/B%C3%A9zier_curve#Fonts\" title=\"Bézier curve\">Bézier curves</a></li></ul>\n",
      "</div></td></tr><tr><th scope=\"row\" class=\"navbox-group\" style=\"width:1%\">Related articles</th><td class=\"navbox-list navbox-odd\" style=\"text-align:left;border-left-width:2px;border-left-style:solid;width:100%;padding:0px\"><div style=\"padding:0em 0.25em\">\n",
      "<ul><li><a href=\"/wiki/Calligraphy\" title=\"Calligraphy\">Calligraphy</a></li>\n",
      "<li><a href=\"/wiki/Intentionally_blank_page\" title=\"Intentionally blank page\">Intentionally blank page</a></li>\n",
      "<li><a href=\"/wiki/Style_guide\" title=\"Style guide\">Style guide</a></li>\n",
      "<li><a href=\"/wiki/Type_foundry\" title=\"Type foundry\">Type foundry</a></li>\n",
      "<li><a href=\"/wiki/History_of_Western_typography\" title=\"History of Western typography\">History</a></li>\n",
      "<li><a href=\"/wiki/Intellectual_property_protection_of_typefaces\" title=\"Intellectual property protection of typefaces\">Intellectual property protection of typefaces</a></li>\n",
      "<li><a href=\"/wiki/Technical_lettering\" title=\"Technical lettering\">Technical lettering</a></li></ul>\n",
      "</div></td></tr><tr><th scope=\"row\" class=\"navbox-group\" style=\"width:1%\">Related tables</th><td class=\"navbox-list navbox-even\" style=\"text-align:left;border-left-width:2px;border-left-style:solid;width:100%;padding:0px\"><div style=\"padding:0em 0.25em\">\n",
      "<ul><li><a href=\"/wiki/Template:Navbox_punctuation\" title=\"Template:Navbox punctuation\">Punctuation and other typographic symbols</a></li></ul>\n",
      "</div></td></tr><tr><td class=\"navbox-abovebelow\" colspan=\"2\"><div>\n",
      "<ul><li><a href=\"/wiki/File:Symbol_category_class.svg\" class=\"image\" title=\"Category\"><img alt=\"Category\" src=\"//upload.wikimedia.org/wikipedia/en/thumb/9/96/Symbol_category_class.svg/16px-Symbol_category_class.svg.png\" decoding=\"async\" width=\"16\" height=\"16\" srcset=\"//upload.wikimedia.org/wikipedia/en/thumb/9/96/Symbol_category_class.svg/23px-Symbol_category_class.svg.png 1.5x, //upload.wikimedia.org/wikipedia/en/thumb/9/96/Symbol_category_class.svg/31px-Symbol_category_class.svg.png 2x\" data-file-width=\"180\" data-file-height=\"185\" /></a> <a href=\"/wiki/Category:Typography\" title=\"Category:Typography\">Category</a></li></ul>\n",
      "</div></td></tr></tbody></table></div>\n",
      "<!-- \n",
      "NewPP limit report\n",
      "Parsed by mw2339\n",
      "Cached time: 20210824173731\n",
      "Cache expiry: 1814400\n",
      "Reduced expiry: false\n",
      "Complications: [vary‐revision‐sha1]\n",
      "CPU time usage: 0.621 seconds\n",
      "Real time usage: 0.842 seconds\n",
      "Preprocessor visited node count: 1558/1000000\n",
      "Post‐expand include size: 81175/2097152 bytes\n",
      "Template argument size: 7224/2097152 bytes\n",
      "Highest expansion depth: 11/40\n",
      "Expensive parser function count: 1/500\n",
      "Unstrip recursion depth: 1/20\n",
      "Unstrip post‐expand size: 29052/5000000 bytes\n",
      "Lua time usage: 0.379/10.000 seconds\n",
      "Lua memory usage: 22064161/52428800 bytes\n",
      "Number of Wikibase entities loaded: 1/400\n",
      "-->\n",
      "<!--\n",
      "Transclusion expansion time report (%,ms,calls,template)\n",
      "100.00%  750.478      1 -total\n",
      " 30.23%  226.883     26 Template:Lang\n",
      " 24.83%  186.353      1 Template:Reflist\n",
      " 18.96%  142.253      7 Template:Cite_web\n",
      " 11.64%   87.378      1 Template:Short_description\n",
      "  8.74%   65.566      4 Template:Navbox\n",
      "  8.25%   61.944      1 Template:Lorem_ipsum\n",
      "  7.80%   58.501      2 Template:Quote\n",
      "  6.24%   46.853      1 Template:Pagetype\n",
      "  5.92%   44.464      1 Template:Lorem/p-cond\n",
      "-->\n",
      "\n",
      "<!-- Saved in parser cache with key enwiki:pcache:idhash:190246-0!canonical and timestamp 20210824173731 and revision id 1035139868. Serialized with JSON.\n",
      " -->\n",
      "</div><noscript><img src=\"//en.wikipedia.org/wiki/Special:CentralAutoLogin/start?type=1x1\" alt=\"\" title=\"\" width=\"1\" height=\"1\" style=\"border: none; position: absolute;\" /></noscript>\n",
      "<div class=\"printfooter\">Retrieved from \"<a dir=\"ltr\" href=\"https://en.wikipedia.org/w/index.php?title=Lorem_ipsum&amp;oldid=1035139868\">https://en.wikipedia.org/w/index.php?title=Lorem_ipsum&amp;oldid=1035139868</a>\"</div></div>\n",
      "\t\t<div id=\"catlinks\" class=\"catlinks\" data-mw=\"interface\"><div id=\"mw-normal-catlinks\" class=\"mw-normal-catlinks\"><a href=\"/wiki/Help:Category\" title=\"Help:Category\">Categories</a>: <ul><li><a href=\"/wiki/Category:Filler_text\" title=\"Category:Filler text\">Filler text</a></li><li><a href=\"/wiki/Category:Latin_words_and_phrases\" title=\"Category:Latin words and phrases\">Latin words and phrases</a></li><li><a href=\"/wiki/Category:Nonsense\" title=\"Category:Nonsense\">Nonsense</a></li><li><a href=\"/wiki/Category:Cicero\" title=\"Category:Cicero\">Cicero</a></li></ul></div><div id=\"mw-hidden-catlinks\" class=\"mw-hidden-catlinks mw-hidden-cats-hidden\">Hidden categories: <ul><li><a href=\"/wiki/Category:CS1_maint:_unfit_URL\" title=\"Category:CS1 maint: unfit URL\">CS1 maint: unfit URL</a></li><li><a href=\"/wiki/Category:CS1_Latin-language_sources_(la)\" title=\"Category:CS1 Latin-language sources (la)\">CS1 Latin-language sources (la)</a></li><li><a href=\"/wiki/Category:Articles_with_short_description\" title=\"Category:Articles with short description\">Articles with short description</a></li><li><a href=\"/wiki/Category:Short_description_is_different_from_Wikidata\" title=\"Category:Short description is different from Wikidata\">Short description is different from Wikidata</a></li><li><a href=\"/wiki/Category:Articles_containing_Latin-language_text\" title=\"Category:Articles containing Latin-language text\">Articles containing Latin-language text</a></li><li><a href=\"/wiki/Category:Wikipedia_articles_containing_placeholders\" title=\"Category:Wikipedia articles containing placeholders\">Wikipedia articles containing placeholders</a></li><li><a href=\"/wiki/Category:Articles_containing_Interlingue-language_text\" title=\"Category:Articles containing Interlingue-language text\">Articles containing Interlingue-language text</a></li><li><a href=\"/wiki/Category:Pages_using_Sister_project_links_with_wikidata_namespace_mismatch\" title=\"Category:Pages using Sister project links with wikidata namespace mismatch\">Pages using Sister project links with wikidata namespace mismatch</a></li><li><a href=\"/wiki/Category:Pages_using_Sister_project_links_with_default_search\" title=\"Category:Pages using Sister project links with default search\">Pages using Sister project links with default search</a></li></ul></div></div>\n",
      "\t</div>\n",
      "</div>\n",
      "<div id='mw-data-after-content'>\n",
      "\t<div class=\"read-more-container\"></div>\n",
      "</div>\n",
      "\n",
      "<div id=\"mw-navigation\">\n",
      "\t<h2>Navigation menu</h2>\n",
      "\t<div id=\"mw-head\">\n",
      "\t\t<nav id=\"p-personal\" class=\"mw-portlet mw-portlet-personal vector-user-menu-legacy vector-menu\" aria-labelledby=\"p-personal-label\" role=\"navigation\" \n",
      "\t >\n",
      "\t<h3 id=\"p-personal-label\" class=\"vector-menu-heading\"><span>Personal tools</span>\n",
      "\t</h3>\n",
      "\t<div class=\"vector-menu-content\">\n",
      "\t\t\n",
      "\t\t<ul class=\"vector-menu-content-list\"><li id=\"pt-anonuserpage\">Not logged in</li><li id=\"pt-anontalk\"><a href=\"/wiki/Special:MyTalk\" title=\"Discussion about edits from this IP address [n]\" accesskey=\"n\">Talk</a></li><li id=\"pt-anoncontribs\"><a href=\"/wiki/Special:MyContributions\" title=\"A list of edits made from this IP address [y]\" accesskey=\"y\">Contributions</a></li><li id=\"pt-createaccount\"><a href=\"/w/index.php?title=Special:CreateAccount&amp;returnto=Lorem+ipsum\" title=\"You are encouraged to create an account and log in; however, it is not mandatory\">Create account</a></li><li id=\"pt-login\"><a href=\"/w/index.php?title=Special:UserLogin&amp;returnto=Lorem+ipsum\" title=\"You&#039;re encouraged to log in; however, it&#039;s not mandatory. [o]\" accesskey=\"o\">Log in</a></li></ul>\n",
      "\t\t\n",
      "\t</div>\n",
      "</nav>\n",
      "\n",
      "\t\t<div id=\"left-navigation\">\n",
      "\t\t\t<nav id=\"p-namespaces\" class=\"mw-portlet mw-portlet-namespaces vector-menu vector-menu-tabs\" aria-labelledby=\"p-namespaces-label\" role=\"navigation\" \n",
      "\t >\n",
      "\t<h3 id=\"p-namespaces-label\" class=\"vector-menu-heading\"><span>Namespaces</span>\n",
      "\t</h3>\n",
      "\t<div class=\"vector-menu-content\">\n",
      "\t\t\n",
      "\t\t<ul class=\"vector-menu-content-list\"><li id=\"ca-nstab-main\" class=\"selected\"><a href=\"/wiki/Lorem_ipsum\" title=\"View the content page [c]\" accesskey=\"c\">Article</a></li><li id=\"ca-talk\"><a href=\"/wiki/Talk:Lorem_ipsum\" rel=\"discussion\" title=\"Discuss improvements to the content page [t]\" accesskey=\"t\">Talk</a></li></ul>\n",
      "\t\t\n",
      "\t</div>\n",
      "</nav>\n",
      "\n",
      "\t\t\t<nav id=\"p-variants\" class=\"mw-portlet mw-portlet-variants emptyPortlet vector-menu vector-menu-dropdown\" aria-labelledby=\"p-variants-label\" role=\"navigation\" \n",
      "\t >\n",
      "\t<input type=\"checkbox\"\n",
      "\t\tdata-event-name=\"ui.dropdown-p-variants\"\n",
      "\t\tclass=\"vector-menu-checkbox\" aria-labelledby=\"p-variants-label\" />\n",
      "\t<h3 id=\"p-variants-label\" class=\"vector-menu-heading\"><span>Variants</span>\n",
      "\t</h3>\n",
      "\t<div class=\"vector-menu-content\">\n",
      "\t\t\n",
      "\t\t<ul class=\"vector-menu-content-list\"></ul>\n",
      "\t\t\n",
      "\t</div>\n",
      "</nav>\n",
      "\n",
      "\t\t</div>\n",
      "\t\t<div id=\"right-navigation\">\n",
      "\t\t\t<nav id=\"p-views\" class=\"mw-portlet mw-portlet-views vector-menu vector-menu-tabs\" aria-labelledby=\"p-views-label\" role=\"navigation\" \n",
      "\t >\n",
      "\t<h3 id=\"p-views-label\" class=\"vector-menu-heading\"><span>Views</span>\n",
      "\t</h3>\n",
      "\t<div class=\"vector-menu-content\">\n",
      "\t\t\n",
      "\t\t<ul class=\"vector-menu-content-list\"><li id=\"ca-view\" class=\"selected\"><a href=\"/wiki/Lorem_ipsum\">Read</a></li><li id=\"ca-edit\"><a href=\"/w/index.php?title=Lorem_ipsum&amp;action=edit\" title=\"Edit this page [e]\" accesskey=\"e\">Edit</a></li><li id=\"ca-history\"><a href=\"/w/index.php?title=Lorem_ipsum&amp;action=history\" title=\"Past revisions of this page [h]\" accesskey=\"h\">View history</a></li></ul>\n",
      "\t\t\n",
      "\t</div>\n",
      "</nav>\n",
      "\n",
      "\t\t\t<nav id=\"p-cactions\" class=\"mw-portlet mw-portlet-cactions emptyPortlet vector-menu vector-menu-dropdown\" aria-labelledby=\"p-cactions-label\" role=\"navigation\" \n",
      "\t >\n",
      "\t<input type=\"checkbox\"\n",
      "\t\tdata-event-name=\"ui.dropdown-p-cactions\"\n",
      "\t\tclass=\"vector-menu-checkbox\" aria-labelledby=\"p-cactions-label\" />\n",
      "\t<h3 id=\"p-cactions-label\" class=\"vector-menu-heading\"><span>More</span>\n",
      "\t</h3>\n",
      "\t<div class=\"vector-menu-content\">\n",
      "\t\t\n",
      "\t\t<ul class=\"vector-menu-content-list\"></ul>\n",
      "\t\t\n",
      "\t</div>\n",
      "</nav>\n",
      "\n",
      "\t\t\t<div id=\"p-search\" role=\"search\" class=\"vector-search-box\">\n",
      "\t<div>\n",
      "\t\t<h3 >\n",
      "\t\t\t<label for=\"searchInput\">Search</label>\n",
      "\t\t</h3>\n",
      "\t\t<form action=\"/w/index.php\" id=\"searchform\">\n",
      "\t\t\t<div id=\"simpleSearch\" data-search-loc=\"header-navigation\">\n",
      "\t\t\t\t<input type=\"search\" name=\"search\" placeholder=\"Search Wikipedia\" autocapitalize=\"sentences\" title=\"Search Wikipedia [f]\" accesskey=\"f\" id=\"searchInput\"/>\n",
      "\t\t\t\t<input type=\"hidden\" name=\"title\" value=\"Special:Search\"/>\n",
      "\t\t\t\t<input type=\"submit\" name=\"fulltext\" value=\"Search\" title=\"Search Wikipedia for this text\" id=\"mw-searchButton\" class=\"searchButton mw-fallbackSearchButton\"/>\n",
      "\t\t\t\t<input type=\"submit\" name=\"go\" value=\"Go\" title=\"Go to a page with this exact name if it exists\" id=\"searchButton\" class=\"searchButton\"/>\n",
      "\t\t\t</div>\n",
      "\t\t</form>\n",
      "\t</div>\n",
      "</div>\n",
      "\n",
      "\t\t</div>\n",
      "\t</div>\n",
      "\t\n",
      "<div id=\"mw-panel\">\n",
      "\t<div id=\"p-logo\" role=\"banner\">\n",
      "\t\t<a class=\"mw-wiki-logo\" href=\"/wiki/Main_Page\"\n",
      "\t\t\ttitle=\"Visit the main page\"></a>\n",
      "\t</div>\n",
      "\t<nav id=\"p-navigation\" class=\"mw-portlet mw-portlet-navigation vector-menu vector-menu-portal portal\" aria-labelledby=\"p-navigation-label\" role=\"navigation\" \n",
      "\t >\n",
      "\t<h3 id=\"p-navigation-label\" class=\"vector-menu-heading\"><span>Navigation</span>\n",
      "\t</h3>\n",
      "\t<div class=\"vector-menu-content\">\n",
      "\t\t\n",
      "\t\t<ul class=\"vector-menu-content-list\"><li id=\"n-mainpage-description\"><a href=\"/wiki/Main_Page\" title=\"Visit the main page [z]\" accesskey=\"z\">Main page</a></li><li id=\"n-contents\"><a href=\"/wiki/Wikipedia:Contents\" title=\"Guides to browsing Wikipedia\">Contents</a></li><li id=\"n-currentevents\"><a href=\"/wiki/Portal:Current_events\" title=\"Articles related to current events\">Current events</a></li><li id=\"n-randompage\"><a href=\"/wiki/Special:Random\" title=\"Visit a randomly selected article [x]\" accesskey=\"x\">Random article</a></li><li id=\"n-aboutsite\"><a href=\"/wiki/Wikipedia:About\" title=\"Learn about Wikipedia and how it works\">About Wikipedia</a></li><li id=\"n-contactpage\"><a href=\"//en.wikipedia.org/wiki/Wikipedia:Contact_us\" title=\"How to contact Wikipedia\">Contact us</a></li><li id=\"n-sitesupport\"><a href=\"https://donate.wikimedia.org/wiki/Special:FundraiserRedirector?utm_source=donate&amp;utm_medium=sidebar&amp;utm_campaign=C13_en.wikipedia.org&amp;uselang=en\" title=\"Support us by donating to the Wikimedia Foundation\">Donate</a></li></ul>\n",
      "\t\t\n",
      "\t</div>\n",
      "</nav>\n",
      "\n",
      "\t<nav id=\"p-interaction\" class=\"mw-portlet mw-portlet-interaction vector-menu vector-menu-portal portal\" aria-labelledby=\"p-interaction-label\" role=\"navigation\" \n",
      "\t >\n",
      "\t<h3 id=\"p-interaction-label\" class=\"vector-menu-heading\"><span>Contribute</span>\n",
      "\t</h3>\n",
      "\t<div class=\"vector-menu-content\">\n",
      "\t\t\n",
      "\t\t<ul class=\"vector-menu-content-list\"><li id=\"n-help\"><a href=\"/wiki/Help:Contents\" title=\"Guidance on how to use and edit Wikipedia\">Help</a></li><li id=\"n-introduction\"><a href=\"/wiki/Help:Introduction\" title=\"Learn how to edit Wikipedia\">Learn to edit</a></li><li id=\"n-portal\"><a href=\"/wiki/Wikipedia:Community_portal\" title=\"The hub for editors\">Community portal</a></li><li id=\"n-recentchanges\"><a href=\"/wiki/Special:RecentChanges\" title=\"A list of recent changes to Wikipedia [r]\" accesskey=\"r\">Recent changes</a></li><li id=\"n-upload\"><a href=\"/wiki/Wikipedia:File_Upload_Wizard\" title=\"Add images or other media for use on Wikipedia\">Upload file</a></li></ul>\n",
      "\t\t\n",
      "\t</div>\n",
      "</nav>\n",
      "<nav id=\"p-tb\" class=\"mw-portlet mw-portlet-tb vector-menu vector-menu-portal portal\" aria-labelledby=\"p-tb-label\" role=\"navigation\" \n",
      "\t >\n",
      "\t<h3 id=\"p-tb-label\" class=\"vector-menu-heading\"><span>Tools</span>\n",
      "\t</h3>\n",
      "\t<div class=\"vector-menu-content\">\n",
      "\t\t\n",
      "\t\t<ul class=\"vector-menu-content-list\"><li id=\"t-whatlinkshere\"><a href=\"/wiki/Special:WhatLinksHere/Lorem_ipsum\" title=\"List of all English Wikipedia pages containing links to this page [j]\" accesskey=\"j\">What links here</a></li><li id=\"t-recentchangeslinked\"><a href=\"/wiki/Special:RecentChangesLinked/Lorem_ipsum\" rel=\"nofollow\" title=\"Recent changes in pages linked from this page [k]\" accesskey=\"k\">Related changes</a></li><li id=\"t-upload\"><a href=\"/wiki/Wikipedia:File_Upload_Wizard\" title=\"Upload files [u]\" accesskey=\"u\">Upload file</a></li><li id=\"t-specialpages\"><a href=\"/wiki/Special:SpecialPages\" title=\"A list of all special pages [q]\" accesskey=\"q\">Special pages</a></li><li id=\"t-permalink\"><a href=\"/w/index.php?title=Lorem_ipsum&amp;oldid=1035139868\" title=\"Permanent link to this revision of this page\">Permanent link</a></li><li id=\"t-info\"><a href=\"/w/index.php?title=Lorem_ipsum&amp;action=info\" title=\"More information about this page\">Page information</a></li><li id=\"t-cite\"><a href=\"/w/index.php?title=Special:CiteThisPage&amp;page=Lorem_ipsum&amp;id=1035139868&amp;wpFormIdentifier=titleform\" title=\"Information on how to cite this page\">Cite this page</a></li><li id=\"t-wikibase\"><a href=\"https://www.wikidata.org/wiki/Special:EntityPage/Q152036\" title=\"Structured data on this page hosted by Wikidata [g]\" accesskey=\"g\">Wikidata item</a></li></ul>\n",
      "\t\t\n",
      "\t</div>\n",
      "</nav>\n",
      "<nav id=\"p-coll-print_export\" class=\"mw-portlet mw-portlet-coll-print_export vector-menu vector-menu-portal portal\" aria-labelledby=\"p-coll-print_export-label\" role=\"navigation\" \n",
      "\t >\n",
      "\t<h3 id=\"p-coll-print_export-label\" class=\"vector-menu-heading\"><span>Print/export</span>\n",
      "\t</h3>\n",
      "\t<div class=\"vector-menu-content\">\n",
      "\t\t\n",
      "\t\t<ul class=\"vector-menu-content-list\"><li id=\"coll-download-as-rl\"><a href=\"/w/index.php?title=Special:DownloadAsPdf&amp;page=Lorem_ipsum&amp;action=show-download-screen\" title=\"Download this page as a PDF file\">Download as PDF</a></li><li id=\"t-print\"><a href=\"/w/index.php?title=Lorem_ipsum&amp;printable=yes\" title=\"Printable version of this page [p]\" accesskey=\"p\">Printable version</a></li></ul>\n",
      "\t\t\n",
      "\t</div>\n",
      "</nav>\n",
      "<nav id=\"p-wikibase-otherprojects\" class=\"mw-portlet mw-portlet-wikibase-otherprojects vector-menu vector-menu-portal portal\" aria-labelledby=\"p-wikibase-otherprojects-label\" role=\"navigation\" \n",
      "\t >\n",
      "\t<h3 id=\"p-wikibase-otherprojects-label\" class=\"vector-menu-heading\"><span>In other projects</span>\n",
      "\t</h3>\n",
      "\t<div class=\"vector-menu-content\">\n",
      "\t\t\n",
      "\t\t<ul class=\"vector-menu-content-list\"><li class=\"wb-otherproject-link wb-otherproject-commons\"><a href=\"https://commons.wikimedia.org/wiki/Category:Lorem_ipsum\" hreflang=\"en\">Wikimedia Commons</a></li><li class=\"wb-otherproject-link wb-otherproject-sources\"><a href=\"https://wikisource.org/wiki/Lorem_ipsum\" hreflang=\"en\">Multilingual Wikisource</a></li><li class=\"wb-otherproject-link wb-otherproject-wikisource\"><a href=\"https://en.wikisource.org/wiki/Lorem_ipsum\" hreflang=\"en\">Wikisource</a></li></ul>\n",
      "\t\t\n",
      "\t</div>\n",
      "</nav>\n",
      "\n",
      "\t<nav id=\"p-lang\" class=\"mw-portlet mw-portlet-lang vector-menu vector-menu-portal portal\" aria-labelledby=\"p-lang-label\" role=\"navigation\" \n",
      "\t >\n",
      "\t<h3 id=\"p-lang-label\" class=\"vector-menu-heading\"><span>Languages</span>\n",
      "\t</h3>\n",
      "\t<div class=\"vector-menu-content\">\n",
      "\t\t\n",
      "\t\t<ul class=\"vector-menu-content-list\"><li class=\"interlanguage-link interwiki-af\"><a href=\"https://af.wikipedia.org/wiki/Lorem_ipsum\" title=\"Lorem ipsum – Afrikaans\" lang=\"af\" hreflang=\"af\" class=\"interlanguage-link-target\">Afrikaans</a></li><li class=\"interlanguage-link interwiki-ar\"><a href=\"https://ar.wikipedia.org/wiki/%D9%84%D9%88%D8%B1%D9%8A%D9%85_%D8%A5%D9%8A%D8%A8%D8%B3%D9%88%D9%85\" title=\"لوريم إيبسوم – Arabic\" lang=\"ar\" hreflang=\"ar\" class=\"interlanguage-link-target\">العربية</a></li><li class=\"interlanguage-link interwiki-zh-min-nan\"><a href=\"https://zh-min-nan.wikipedia.org/wiki/Lorem_ipsum\" title=\"Lorem ipsum – Chinese (Min Nan)\" lang=\"nan\" hreflang=\"nan\" class=\"interlanguage-link-target\">Bân-lâm-gú</a></li><li class=\"interlanguage-link interwiki-be\"><a href=\"https://be.wikipedia.org/wiki/Lorem_ipsum\" title=\"Lorem ipsum – Belarusian\" lang=\"be\" hreflang=\"be\" class=\"interlanguage-link-target\">Беларуская</a></li><li class=\"interlanguage-link interwiki-bg\"><a href=\"https://bg.wikipedia.org/wiki/Lorem_ipsum\" title=\"Lorem ipsum – Bulgarian\" lang=\"bg\" hreflang=\"bg\" class=\"interlanguage-link-target\">Български</a></li><li class=\"interlanguage-link interwiki-ca\"><a href=\"https://ca.wikipedia.org/wiki/Lorem_ipsum\" title=\"Lorem ipsum – Catalan\" lang=\"ca\" hreflang=\"ca\" class=\"interlanguage-link-target\">Català</a></li><li class=\"interlanguage-link interwiki-cs\"><a href=\"https://cs.wikipedia.org/wiki/Lorem_ipsum\" title=\"Lorem ipsum – Czech\" lang=\"cs\" hreflang=\"cs\" class=\"interlanguage-link-target\">Čeština</a></li><li class=\"interlanguage-link interwiki-cy\"><a href=\"https://cy.wikipedia.org/wiki/Lorem_ipsum\" title=\"Lorem ipsum – Welsh\" lang=\"cy\" hreflang=\"cy\" class=\"interlanguage-link-target\">Cymraeg</a></li><li class=\"interlanguage-link interwiki-da\"><a href=\"https://da.wikipedia.org/wiki/Lorem_ipsum\" title=\"Lorem ipsum – Danish\" lang=\"da\" hreflang=\"da\" class=\"interlanguage-link-target\">Dansk</a></li><li class=\"interlanguage-link interwiki-de\"><a href=\"https://de.wikipedia.org/wiki/Lorem_ipsum\" title=\"Lorem ipsum – German\" lang=\"de\" hreflang=\"de\" class=\"interlanguage-link-target\">Deutsch</a></li><li class=\"interlanguage-link interwiki-et\"><a href=\"https://et.wikipedia.org/wiki/Lorem_ipsum\" title=\"Lorem ipsum – Estonian\" lang=\"et\" hreflang=\"et\" class=\"interlanguage-link-target\">Eesti</a></li><li class=\"interlanguage-link interwiki-el\"><a href=\"https://el.wikipedia.org/wiki/Lorem_ipsum\" title=\"Lorem ipsum – Greek\" lang=\"el\" hreflang=\"el\" class=\"interlanguage-link-target\">Ελληνικά</a></li><li class=\"interlanguage-link interwiki-es\"><a href=\"https://es.wikipedia.org/wiki/Lorem_ipsum\" title=\"Lorem ipsum – Spanish\" lang=\"es\" hreflang=\"es\" class=\"interlanguage-link-target\">Español</a></li><li class=\"interlanguage-link interwiki-eo\"><a href=\"https://eo.wikipedia.org/wiki/Lorem_ipsum\" title=\"Lorem ipsum – Esperanto\" lang=\"eo\" hreflang=\"eo\" class=\"interlanguage-link-target\">Esperanto</a></li><li class=\"interlanguage-link interwiki-eu\"><a href=\"https://eu.wikipedia.org/wiki/Lorem_ipsum\" title=\"Lorem ipsum – Basque\" lang=\"eu\" hreflang=\"eu\" class=\"interlanguage-link-target\">Euskara</a></li><li class=\"interlanguage-link interwiki-fa\"><a href=\"https://fa.wikipedia.org/wiki/%D8%B7%D8%B1%D8%AD%E2%80%8C%D9%86%D9%85%D8%A7\" title=\"طرح‌نما – Persian\" lang=\"fa\" hreflang=\"fa\" class=\"interlanguage-link-target\">فارسی</a></li><li class=\"interlanguage-link interwiki-fr\"><a href=\"https://fr.wikipedia.org/wiki/Lorem_ipsum\" title=\"Lorem ipsum – French\" lang=\"fr\" hreflang=\"fr\" class=\"interlanguage-link-target\">Français</a></li><li class=\"interlanguage-link interwiki-gd\"><a href=\"https://gd.wikipedia.org/wiki/Lorem_ipsum\" title=\"Lorem ipsum – Scottish Gaelic\" lang=\"gd\" hreflang=\"gd\" class=\"interlanguage-link-target\">Gàidhlig</a></li><li class=\"interlanguage-link interwiki-gl\"><a href=\"https://gl.wikipedia.org/wiki/Lorem_ipsum\" title=\"Lorem ipsum – Galician\" lang=\"gl\" hreflang=\"gl\" class=\"interlanguage-link-target\">Galego</a></li><li class=\"interlanguage-link interwiki-ko\"><a href=\"https://ko.wikipedia.org/wiki/%EB%A1%9C%EB%A0%98_%EC%9E%85%EC%88%A8\" title=\"로렘 입숨 – Korean\" lang=\"ko\" hreflang=\"ko\" class=\"interlanguage-link-target\">한국어</a></li><li class=\"interlanguage-link interwiki-hy\"><a href=\"https://hy.wikipedia.org/wiki/%D4%BC%D5%B8%D6%80%D5%A5%D5%B4_%D5%AB%D5%BA%D5%BD%D5%B8%D6%82%D5%B4\" title=\"Լորեմ իպսում – Armenian\" lang=\"hy\" hreflang=\"hy\" class=\"interlanguage-link-target\">Հայերեն</a></li><li class=\"interlanguage-link interwiki-hr\"><a href=\"https://hr.wikipedia.org/wiki/Lorem_ipsum\" title=\"Lorem ipsum – Croatian\" lang=\"hr\" hreflang=\"hr\" class=\"interlanguage-link-target\">Hrvatski</a></li><li class=\"interlanguage-link interwiki-id\"><a href=\"https://id.wikipedia.org/wiki/Lorem_ipsum\" title=\"Lorem ipsum – Indonesian\" lang=\"id\" hreflang=\"id\" class=\"interlanguage-link-target\">Bahasa Indonesia</a></li><li class=\"interlanguage-link interwiki-it\"><a href=\"https://it.wikipedia.org/wiki/Lorem_ipsum\" title=\"Lorem ipsum – Italian\" lang=\"it\" hreflang=\"it\" class=\"interlanguage-link-target\">Italiano</a></li><li class=\"interlanguage-link interwiki-he\"><a href=\"https://he.wikipedia.org/wiki/%D7%9C%D7%95%D7%A8%D7%9D_%D7%90%D7%99%D7%A4%D7%A1%D7%95%D7%9D\" title=\"לורם איפסום – Hebrew\" lang=\"he\" hreflang=\"he\" class=\"interlanguage-link-target\">עברית</a></li><li class=\"interlanguage-link interwiki-jv\"><a href=\"https://jv.wikipedia.org/wiki/Lorem_ipsum\" title=\"Lorem ipsum – Javanese\" lang=\"jv\" hreflang=\"jv\" class=\"interlanguage-link-target\">Jawa</a></li><li class=\"interlanguage-link interwiki-la\"><a href=\"https://la.wikipedia.org/wiki/Lorem_ipsum\" title=\"Lorem ipsum – Latin\" lang=\"la\" hreflang=\"la\" class=\"interlanguage-link-target\">Latina</a></li><li class=\"interlanguage-link interwiki-lb\"><a href=\"https://lb.wikipedia.org/wiki/Lorem_ipsum\" title=\"Lorem ipsum – Luxembourgish\" lang=\"lb\" hreflang=\"lb\" class=\"interlanguage-link-target\">Lëtzebuergesch</a></li><li class=\"interlanguage-link interwiki-lt\"><a href=\"https://lt.wikipedia.org/wiki/Lorem_ipsum\" title=\"Lorem ipsum – Lithuanian\" lang=\"lt\" hreflang=\"lt\" class=\"interlanguage-link-target\">Lietuvių</a></li><li class=\"interlanguage-link interwiki-lfn\"><a href=\"https://lfn.wikipedia.org/wiki/Lorem_ipsum\" title=\"Lorem ipsum – Lingua Franca Nova\" lang=\"lfn\" hreflang=\"lfn\" class=\"interlanguage-link-target\">Lingua Franca Nova</a></li><li class=\"interlanguage-link interwiki-hu\"><a href=\"https://hu.wikipedia.org/wiki/Lorem_ipsum\" title=\"Lorem ipsum – Hungarian\" lang=\"hu\" hreflang=\"hu\" class=\"interlanguage-link-target\">Magyar</a></li><li class=\"interlanguage-link interwiki-ml\"><a href=\"https://ml.wikipedia.org/wiki/%E0%B4%B3%E0%B5%8B%E0%B4%B1%E0%B5%86%E0%B4%82_%E0%B4%87%E0%B4%AA%E0%B5%8D%E0%B4%B8%E0%B5%81%E0%B4%82\" title=\"ളോറെം ഇപ്സും – Malayalam\" lang=\"ml\" hreflang=\"ml\" class=\"interlanguage-link-target\">മലയാളം</a></li><li class=\"interlanguage-link interwiki-ms\"><a href=\"https://ms.wikipedia.org/wiki/Lorem_ipsum\" title=\"Lorem ipsum – Malay\" lang=\"ms\" hreflang=\"ms\" class=\"interlanguage-link-target\">Bahasa Melayu</a></li><li class=\"interlanguage-link interwiki-nl\"><a href=\"https://nl.wikipedia.org/wiki/Lorem_ipsum\" title=\"Lorem ipsum – Dutch\" lang=\"nl\" hreflang=\"nl\" class=\"interlanguage-link-target\">Nederlands</a></li><li class=\"interlanguage-link interwiki-ja\"><a href=\"https://ja.wikipedia.org/wiki/Lorem_ipsum\" title=\"Lorem ipsum – Japanese\" lang=\"ja\" hreflang=\"ja\" class=\"interlanguage-link-target\">日本語</a></li><li class=\"interlanguage-link interwiki-no\"><a href=\"https://no.wikipedia.org/wiki/Lorem_ipsum\" title=\"Lorem ipsum – Norwegian Bokmål\" lang=\"nb\" hreflang=\"nb\" class=\"interlanguage-link-target\">Norsk bokmål</a></li><li class=\"interlanguage-link interwiki-pl\"><a href=\"https://pl.wikipedia.org/wiki/Lorem_ipsum\" title=\"Lorem ipsum – Polish\" lang=\"pl\" hreflang=\"pl\" class=\"interlanguage-link-target\">Polski</a></li><li class=\"interlanguage-link interwiki-pt\"><a href=\"https://pt.wikipedia.org/wiki/Lorem_ipsum\" title=\"Lorem ipsum – Portuguese\" lang=\"pt\" hreflang=\"pt\" class=\"interlanguage-link-target\">Português</a></li><li class=\"interlanguage-link interwiki-ksh\"><a href=\"https://ksh.wikipedia.org/wiki/Blindtex\" title=\"Blindtex – Colognian\" lang=\"ksh\" hreflang=\"ksh\" class=\"interlanguage-link-target\">Ripoarisch</a></li><li class=\"interlanguage-link interwiki-ro\"><a href=\"https://ro.wikipedia.org/wiki/Lorem_ipsum\" title=\"Lorem ipsum – Romanian\" lang=\"ro\" hreflang=\"ro\" class=\"interlanguage-link-target\">Română</a></li><li class=\"interlanguage-link interwiki-ru\"><a href=\"https://ru.wikipedia.org/wiki/Lorem_ipsum\" title=\"Lorem ipsum – Russian\" lang=\"ru\" hreflang=\"ru\" class=\"interlanguage-link-target\">Русский</a></li><li class=\"interlanguage-link interwiki-sq\"><a href=\"https://sq.wikipedia.org/wiki/Teksti_Lorem_Ipsum\" title=\"Teksti Lorem Ipsum – Albanian\" lang=\"sq\" hreflang=\"sq\" class=\"interlanguage-link-target\">Shqip</a></li><li class=\"interlanguage-link interwiki-simple\"><a href=\"https://simple.wikipedia.org/wiki/Lorem_ipsum\" title=\"Lorem ipsum – Simple English\" lang=\"en-simple\" hreflang=\"en-simple\" class=\"interlanguage-link-target\">Simple English</a></li><li class=\"interlanguage-link interwiki-sk\"><a href=\"https://sk.wikipedia.org/wiki/Lorem_ipsum\" title=\"Lorem ipsum – Slovak\" lang=\"sk\" hreflang=\"sk\" class=\"interlanguage-link-target\">Slovenčina</a></li><li class=\"interlanguage-link interwiki-sl\"><a href=\"https://sl.wikipedia.org/wiki/Lorem_ipsum\" title=\"Lorem ipsum – Slovenian\" lang=\"sl\" hreflang=\"sl\" class=\"interlanguage-link-target\">Slovenščina</a></li><li class=\"interlanguage-link interwiki-sr\"><a href=\"https://sr.wikipedia.org/wiki/Lorem_ipsum\" title=\"Lorem ipsum – Serbian\" lang=\"sr\" hreflang=\"sr\" class=\"interlanguage-link-target\">Српски / srpski</a></li><li class=\"interlanguage-link interwiki-fi\"><a href=\"https://fi.wikipedia.org/wiki/Lorem_ipsum\" title=\"Lorem ipsum – Finnish\" lang=\"fi\" hreflang=\"fi\" class=\"interlanguage-link-target\">Suomi</a></li><li class=\"interlanguage-link interwiki-sv\"><a href=\"https://sv.wikipedia.org/wiki/Lorem_ipsum\" title=\"Lorem ipsum – Swedish\" lang=\"sv\" hreflang=\"sv\" class=\"interlanguage-link-target\">Svenska</a></li><li class=\"interlanguage-link interwiki-ta\"><a href=\"https://ta.wikipedia.org/wiki/%E0%AE%B2%E0%AF%8B%E0%AE%B0%E0%AE%AE%E0%AF%8D_%E0%AE%87%E0%AE%AA%E0%AF%8D%E0%AE%9A%E0%AE%AE%E0%AF%8D\" title=\"லோரம் இப்சம் – Tamil\" lang=\"ta\" hreflang=\"ta\" class=\"interlanguage-link-target\">தமிழ்</a></li><li class=\"interlanguage-link interwiki-th\"><a href=\"https://th.wikipedia.org/wiki/%E0%B8%A5%E0%B8%AD%E0%B9%80%E0%B8%A3%E0%B9%87%E0%B8%A1%E0%B8%AD%E0%B8%B4%E0%B8%9B%E0%B8%8B%E0%B8%B1%E0%B8%A1\" title=\"ลอเร็มอิปซัม – Thai\" lang=\"th\" hreflang=\"th\" class=\"interlanguage-link-target\">ไทย</a></li><li class=\"interlanguage-link interwiki-tr\"><a href=\"https://tr.wikipedia.org/wiki/Lorem_Ipsum\" title=\"Lorem Ipsum – Turkish\" lang=\"tr\" hreflang=\"tr\" class=\"interlanguage-link-target\">Türkçe</a></li><li class=\"interlanguage-link interwiki-uk\"><a href=\"https://uk.wikipedia.org/wiki/Lorem_ipsum\" title=\"Lorem ipsum – Ukrainian\" lang=\"uk\" hreflang=\"uk\" class=\"interlanguage-link-target\">Українська</a></li><li class=\"interlanguage-link interwiki-vec\"><a href=\"https://vec.wikipedia.org/wiki/Lorem_ipsum\" title=\"Lorem ipsum – Venetian\" lang=\"vec\" hreflang=\"vec\" class=\"interlanguage-link-target\">Vèneto</a></li><li class=\"interlanguage-link interwiki-zh\"><a href=\"https://zh.wikipedia.org/wiki/Lorem_ipsum\" title=\"Lorem ipsum – Chinese\" lang=\"zh\" hreflang=\"zh\" class=\"interlanguage-link-target\">中文</a></li></ul>\n",
      "\t\t<div class=\"after-portlet after-portlet-lang\"><span class=\"wb-langlinks-edit wb-langlinks-link\"><a href=\"https://www.wikidata.org/wiki/Special:EntityPage/Q152036#sitelinks-wikipedia\" title=\"Edit interlanguage links\" class=\"wbc-editpage\">Edit links</a></span></div>\n",
      "\t</div>\n",
      "</nav>\n",
      "\n",
      "</div>\n",
      "\n",
      "</div>\n",
      "<footer id=\"footer\" class=\"mw-footer\" role=\"contentinfo\" >\n",
      "\t<ul id=\"footer-info\" >\n",
      "\t<li id=\"footer-info-lastmod\"> This page was last edited on 23 July 2021, at 22:34<span class=\"anonymous-show\">&#160;(UTC)</span>.</li>\n",
      "\t<li id=\"footer-info-copyright\">Text is available under the <a rel=\"license\" href=\"//en.wikipedia.org/wiki/Wikipedia:Text_of_Creative_Commons_Attribution-ShareAlike_3.0_Unported_License\">Creative Commons Attribution-ShareAlike License</a><a rel=\"license\" href=\"//creativecommons.org/licenses/by-sa/3.0/\" style=\"display:none;\"></a>;\n",
      "additional terms may apply.  By using this site, you agree to the <a href=\"//foundation.wikimedia.org/wiki/Terms_of_Use\">Terms of Use</a> and <a href=\"//foundation.wikimedia.org/wiki/Privacy_policy\">Privacy Policy</a>. Wikipedia® is a registered trademark of the <a href=\"//www.wikimediafoundation.org/\">Wikimedia Foundation, Inc.</a>, a non-profit organization.</li>\n",
      "</ul>\n",
      "\n",
      "\t<ul id=\"footer-places\" >\n",
      "\t<li id=\"footer-places-privacy\"><a href=\"https://foundation.wikimedia.org/wiki/Privacy_policy\" class=\"extiw\" title=\"wmf:Privacy policy\">Privacy policy</a></li>\n",
      "\t<li id=\"footer-places-about\"><a href=\"/wiki/Wikipedia:About\" title=\"Wikipedia:About\">About Wikipedia</a></li>\n",
      "\t<li id=\"footer-places-disclaimer\"><a href=\"/wiki/Wikipedia:General_disclaimer\" title=\"Wikipedia:General disclaimer\">Disclaimers</a></li>\n",
      "\t<li id=\"footer-places-contact\"><a href=\"//en.wikipedia.org/wiki/Wikipedia:Contact_us\">Contact Wikipedia</a></li>\n",
      "\t<li id=\"footer-places-mobileview\"><a href=\"//en.m.wikipedia.org/w/index.php?title=Lorem_ipsum&amp;mobileaction=toggle_view_mobile\" class=\"noprint stopMobileRedirectToggle\">Mobile view</a></li>\n",
      "\t<li id=\"footer-places-developers\"><a href=\"https://www.mediawiki.org/wiki/Special:MyLanguage/How_to_contribute\">Developers</a></li>\n",
      "\t<li id=\"footer-places-statslink\"><a href=\"https://stats.wikimedia.org/#/en.wikipedia.org\">Statistics</a></li>\n",
      "\t<li id=\"footer-places-cookiestatement\"><a href=\"https://foundation.wikimedia.org/wiki/Cookie_statement\">Cookie statement</a></li>\n",
      "</ul>\n",
      "\n",
      "\t<ul id=\"footer-icons\" class=\"noprint\">\n",
      "\t<li id=\"footer-copyrightico\"><a href=\"https://wikimediafoundation.org/\"><img src=\"/static/images/footer/wikimedia-button.png\" srcset=\"/static/images/footer/wikimedia-button-1.5x.png 1.5x, /static/images/footer/wikimedia-button-2x.png 2x\" width=\"88\" height=\"31\" alt=\"Wikimedia Foundation\" loading=\"lazy\" /></a></li>\n",
      "\t<li id=\"footer-poweredbyico\"><a href=\"https://www.mediawiki.org/\"><img src=\"/static/images/footer/poweredby_mediawiki_88x31.png\" alt=\"Powered by MediaWiki\" srcset=\"/static/images/footer/poweredby_mediawiki_132x47.png 1.5x, /static/images/footer/poweredby_mediawiki_176x62.png 2x\" width=\"88\" height=\"31\" loading=\"lazy\"/></a></li>\n",
      "</ul>\n",
      "\n",
      "</footer>\n",
      "\n",
      "\n",
      "<script>(RLQ=window.RLQ||[]).push(function(){mw.log.warn(\"This page is using the deprecated ResourceLoader module \\\"skins.vector.styles.legacy\\\".\\n[1.37] The use of the `content` feature with ResourceLoaderSkinModule is deprecated. Use `content-media` instead. [1.37] The use of the `content-thumbnails` feature with ResourceLoaderSkinModule is deprecated. Use `content-media` instead. More information can be found at [[mw:Manual:ResourceLoaderSkinModule]]. \");mw.config.set({\"wgPageParseReport\":{\"limitreport\":{\"cputime\":\"0.621\",\"walltime\":\"0.842\",\"ppvisitednodes\":{\"value\":1558,\"limit\":1000000},\"postexpandincludesize\":{\"value\":81175,\"limit\":2097152},\"templateargumentsize\":{\"value\":7224,\"limit\":2097152},\"expansiondepth\":{\"value\":11,\"limit\":40},\"expensivefunctioncount\":{\"value\":1,\"limit\":500},\"unstrip-depth\":{\"value\":1,\"limit\":20},\"unstrip-size\":{\"value\":29052,\"limit\":5000000},\"entityaccesscount\":{\"value\":1,\"limit\":400},\"timingprofile\":[\"100.00%  750.478      1 -total\",\" 30.23%  226.883     26 Template:Lang\",\" 24.83%  186.353      1 Template:Reflist\",\" 18.96%  142.253      7 Template:Cite_web\",\" 11.64%   87.378      1 Template:Short_description\",\"  8.74%   65.566      4 Template:Navbox\",\"  8.25%   61.944      1 Template:Lorem_ipsum\",\"  7.80%   58.501      2 Template:Quote\",\"  6.24%   46.853      1 Template:Pagetype\",\"  5.92%   44.464      1 Template:Lorem/p-cond\"]},\"scribunto\":{\"limitreport-timeusage\":{\"value\":\"0.379\",\"limit\":\"10.000\"},\"limitreport-memusage\":{\"value\":22064161,\"limit\":52428800}},\"cachereport\":{\"origin\":\"mw2339\",\"timestamp\":\"20210824173731\",\"ttl\":1814400,\"transientcontent\":false}}});});</script>\n",
      "<script type=\"application/ld+json\">{\"@context\":\"https:\\/\\/schema.org\",\"@type\":\"Article\",\"name\":\"Lorem ipsum\",\"url\":\"https:\\/\\/en.wikipedia.org\\/wiki\\/Lorem_ipsum\",\"sameAs\":\"http:\\/\\/www.wikidata.org\\/entity\\/Q152036\",\"mainEntity\":\"http:\\/\\/www.wikidata.org\\/entity\\/Q152036\",\"author\":{\"@type\":\"Organization\",\"name\":\"Contributors to Wikimedia projects\"},\"publisher\":{\"@type\":\"Organization\",\"name\":\"Wikimedia Foundation, Inc.\",\"logo\":{\"@type\":\"ImageObject\",\"url\":\"https:\\/\\/www.wikimedia.org\\/static\\/images\\/wmf-hor-googpub.png\"}},\"datePublished\":\"2003-03-01T22:28:04Z\",\"dateModified\":\"2021-07-23T22:34:46Z\",\"image\":\"https:\\/\\/upload.wikimedia.org\\/wikipedia\\/commons\\/8\\/86\\/Lorem_ipsum_design.svg\",\"headline\":\"type of placeholder text\"}</script>\n",
      "<script>(RLQ=window.RLQ||[]).push(function(){mw.config.set({\"wgBackendResponseTime\":148,\"wgHostname\":\"mw2406\"});});</script>\n",
      "</body></html>\n"
     ]
    }
   ],
   "source": [
    "from urllib.request import urlopen #from 패키지.모듈 import 함수\n",
    "\n",
    "var = urlopen('https://en.wikipedia.org/wiki/Lorem_ipsum').read().decode(\"utf-8\")\n",
    "\n",
    "print(var)"
   ]
  },
  {
   "cell_type": "markdown",
   "id": "52f0e0bc",
   "metadata": {},
   "source": [
    "## Numpy(Numerical Python)"
   ]
  },
  {
   "attachments": {},
   "cell_type": "markdown",
   "id": "1c464668",
   "metadata": {},
   "source": [
    "- Python에서 대규모 다차원 배열을 다룰 수 있게 도와주는 라이브러리"
   ]
  },
  {
   "cell_type": "markdown",
   "id": "f2cf58e9",
   "metadata": {},
   "source": [
    "* 왜 Numpy를 사용하는가?\n",
    "    * 반복문 없이 배열 처리가능\n",
    "    * 파이썬 리스트에 비해, 빠른 연산을 지원하고 메모리를 효율적으로 사용"
   ]
  },
  {
   "cell_type": "code",
   "execution_count": 11,
   "id": "90058d1f",
   "metadata": {},
   "outputs": [
    {
     "name": "stdout",
     "output_type": "stream",
     "text": [
      "Wall time: 0 ns\n",
      "[0, 1, 2, 3, 4, 5, 6, 7, 8, 9]\n",
      "<class 'list'>\n"
     ]
    }
   ],
   "source": [
    "list_arr = list(range(10))\n",
    "print(list_arr)\n",
    "print(type(list_arr))"
   ]
  },
  {
   "cell_type": "code",
   "execution_count": 12,
   "id": "c0f8d1b2",
   "metadata": {},
   "outputs": [
    {
     "name": "stdout",
     "output_type": "stream",
     "text": [
      "Wall time: 0 ns\n",
      "[0 1 2 3 4 5 6 7 8 9]\n",
      "<class 'numpy.ndarray'>\n"
     ]
    }
   ],
   "source": [
    "import numpy as np # numpy모듈불러와서‘np’별칭부여\n",
    "\n",
    "np_arr = np.array(range(10))\n",
    "print(np_arr)\n",
    "print(type(np_arr))"
   ]
  },
  {
   "cell_type": "code",
   "execution_count": 13,
   "id": "4666a389",
   "metadata": {},
   "outputs": [
    {
     "name": "stdout",
     "output_type": "stream",
     "text": [
      "[0. 1. 2. 3. 4. 5.]\n",
      "float64\n",
      "[0 1 2 3 4 5]\n"
     ]
    }
   ],
   "source": [
    "# 파이썬 리스트와 달리 같은 데이터 타입만 저장 가능\n",
    "arr = np.array([0, 1, 2, 3, 4, 5], dtype = float)\n",
    "print(arr)\n",
    "print(arr.dtype)\n",
    "print(arr.astype(int))"
   ]
  },
  {
   "cell_type": "markdown",
   "id": "dbfd957d",
   "metadata": {},
   "source": [
    "|dtype|설명|다양한 표현|\n",
    "|:------:|:---:|:---:|\n",
    "|int|정수형|i, int, int32, int64, i8|\n",
    "|float|실수형|f, float_, float32, float64, f8|\n",
    "|str|문자형|str, U, U32|\n",
    "|bool|부울|?, bool|"
   ]
  },
  {
   "cell_type": "markdown",
   "id": "659a663e",
   "metadata": {},
   "source": [
    "### ndarray 의 차원 관련 속성 : ndim & shape\n"
   ]
  },
  {
   "cell_type": "code",
   "execution_count": 14,
   "id": "aa1179f2",
   "metadata": {},
   "outputs": [
    {
     "name": "stdout",
     "output_type": "stream",
     "text": [
      "1\n",
      "(4,)\n"
     ]
    }
   ],
   "source": [
    "# 1차원 배열\n",
    "list = [0, 1, 2, 3]\n",
    "arr = np.array(list)\n",
    "print(arr.ndim)\n",
    "print(arr.shape)"
   ]
  },
  {
   "cell_type": "code",
   "execution_count": 15,
   "id": "0001a201",
   "metadata": {},
   "outputs": [
    {
     "name": "stdout",
     "output_type": "stream",
     "text": [
      "2\n",
      "(2, 3)\n"
     ]
    }
   ],
   "source": [
    "# 2차원 배열\n",
    "list = [[0, 1, 2], [3, 4, 5]]\n",
    "arr = np.array(list)\n",
    "print(arr.ndim)\n",
    "print(arr.shape)"
   ]
  },
  {
   "cell_type": "code",
   "execution_count": 18,
   "id": "22001f59",
   "metadata": {},
   "outputs": [
    {
     "name": "stdout",
     "output_type": "stream",
     "text": [
      "arr.shape: (6,)\n",
      "배열 요소의 수: 6\n",
      "배열의 길이:6\n"
     ]
    }
   ],
   "source": [
    "# ndarray의 크기 속성과 shape 조절\n",
    "\n",
    "arr = np.array([0, 1, 2, 3, 4,5])\n",
    "print('arr.shape: {}'.format(arr.shape))\n",
    "print('배열 요소의 수: {}'.format(arr.size))\n",
    "print(\"배열의 길이:{}\".format(len(arr)))"
   ]
  },
  {
   "cell_type": "code",
   "execution_count": 20,
   "id": "159eede0",
   "metadata": {},
   "outputs": [
    {
     "name": "stdout",
     "output_type": "stream",
     "text": [
      "arr.shape: (3, 2)\n",
      "배열 요소의 수:6\n",
      "배열의 길이:3\n"
     ]
    }
   ],
   "source": [
    "arr.shape= 3, 2\n",
    "print(\"arr.shape: {}\".format(arr.shape)) \n",
    "print(\"배열 요소의 수:{}\".format(arr.size)) \n",
    "print(\"배열의 길이:{}\".format(len(arr)))"
   ]
  },
  {
   "cell_type": "markdown",
   "id": "41a727b0",
   "metadata": {},
   "source": [
    "### Indexing & Slicing"
   ]
  },
  {
   "cell_type": "code",
   "execution_count": 25,
   "id": "131b0a6c",
   "metadata": {},
   "outputs": [
    {
     "name": "stdout",
     "output_type": "stream",
     "text": [
      "[0 1 2 3 4 5 6]\n",
      "3\n",
      "[10  1  2  3  4  5  6]\n"
     ]
    }
   ],
   "source": [
    "# indexing : 인덱스로 값을 찾아냄\n",
    "\n",
    "x = np.arange(7)\n",
    "print(x)\n",
    "print(x[3])\n",
    "# print(x[7]) #IndexError: index 7 is out of bounds for axis 0 with size 7\n",
    "\n",
    "x[0] = 10 # 0번째 값 바꾸기\n",
    "print(x)"
   ]
  },
  {
   "cell_type": "code",
   "execution_count": 27,
   "id": "24883c46",
   "metadata": {},
   "outputs": [
    {
     "name": "stdout",
     "output_type": "stream",
     "text": [
      "[[ 1  2  3  4]\n",
      " [ 5  6  7  8]\n",
      " [ 9 10 11 12]]\n",
      "12\n"
     ]
    }
   ],
   "source": [
    "# 2차원 배열\n",
    "x = np.arange(1, 13, 1) # 1부터 12까지 1씩 증가\n",
    "x.shape = 3, 4\n",
    "print(x)\n",
    "\n",
    "print(x[2, 3])"
   ]
  },
  {
   "cell_type": "code",
   "execution_count": 33,
   "id": "9459069f",
   "metadata": {},
   "outputs": [
    {
     "name": "stdout",
     "output_type": "stream",
     "text": [
      "[0 1 2 3 4 5 6]\n",
      "[1 2 3]\n",
      "[1 2 3 4 5 6]\n",
      "[0 1 2 3]\n",
      "[0 2 4 6]\n"
     ]
    }
   ],
   "source": [
    "# slicing : 인덱스의 값으로 배열의 일부분을 가져옴\n",
    "\n",
    "x = np.arange(7)\n",
    "print(x)\n",
    "\n",
    "print(x[1:4]) # 1번째 부터 4번째 전까지\n",
    "print(x[1:]) # 1번째 이후 전체\n",
    "print(x[:4]) # 4번째 전까지\n",
    "print(x[::2]) # 2씩 증가해서 출력"
   ]
  },
  {
   "cell_type": "code",
   "execution_count": 36,
   "id": "16d7a56a",
   "metadata": {},
   "outputs": [
    {
     "name": "stdout",
     "output_type": "stream",
     "text": [
      "[[ 1  2  3  4]\n",
      " [ 5  6  7  8]\n",
      " [ 9 10 11 12]]\n",
      "[[7]]\n",
      "[[ 5  6]\n",
      " [ 9 10]]\n"
     ]
    }
   ],
   "source": [
    "# 2차원 배열\n",
    "x = np.arange(1, 13, 1)\n",
    "x.shape = 3, 4\n",
    "print(x)\n",
    "\n",
    "print(x[1:2,2:3])\n",
    "print(x[1:,:2])"
   ]
  },
  {
   "cell_type": "code",
   "execution_count": 38,
   "id": "2761fb1d",
   "metadata": {},
   "outputs": [
    {
     "name": "stdout",
     "output_type": "stream",
     "text": [
      "[0 1 2 3 4 5 6]\n",
      "[ True  True  True False False False False]\n",
      "[False False False False False False False]\n",
      "[0 1 2]\n",
      "[0 2 4 6]\n"
     ]
    }
   ],
   "source": [
    "# Boolean indexing : 배열의 각 요소의 선택 여부를 Boolean mask를 이용하여 지정하는 방식\n",
    "\n",
    "x = np.arange(7)\n",
    "print(x)\n",
    "\n",
    "# Boolean mask? True,False로구성된maskarray\n",
    "print(x < 3)\n",
    "print(x > 7)\n",
    "\n",
    "# Boolean mask의True요소에해당하는index만을조회\n",
    "print(x[x < 3])\n",
    "print(x[x % 2 == 0])"
   ]
  },
  {
   "cell_type": "code",
   "execution_count": 39,
   "id": "5818717d",
   "metadata": {},
   "outputs": [
    {
     "name": "stdout",
     "output_type": "stream",
     "text": [
      "[0 1 2 3 4 5 6]\n",
      "[1 3 5]\n"
     ]
    }
   ],
   "source": [
    "# Fancy indexing : 배열의 각 요소 선택을 Index 배열을 전달하여 지정하는 방식\n",
    "\n",
    "x = np.arange(7)\n",
    "print(x)\n",
    "\n",
    "print(x[[1, 3, 5]])"
   ]
  },
  {
   "cell_type": "code",
   "execution_count": 41,
   "id": "9363a887",
   "metadata": {},
   "outputs": [
    {
     "name": "stdout",
     "output_type": "stream",
     "text": [
      "[[ 1  2  3  4]\n",
      " [ 5  6  7  8]\n",
      " [ 9 10 11 12]]\n",
      "[[ 1  2  3  4]\n",
      " [ 9 10 11 12]]\n"
     ]
    }
   ],
   "source": [
    "# 2차원 배열\n",
    "x = np.arange(1, 13, 1 ).reshape(3, 4)\n",
    "print(x)\n",
    "\n",
    "print(x[[0, 2]])"
   ]
  },
  {
   "cell_type": "code",
   "execution_count": 42,
   "id": "01e4a0a7",
   "metadata": {},
   "outputs": [
    {
     "name": "stdout",
     "output_type": "stream",
     "text": [
      "[[ 1  2  3  4]\n",
      " [ 5  6  7  8]\n",
      " [ 9 10 11 12]]\n"
     ]
    }
   ],
   "source": [
    "# 원하는 요소를 지정하기 위해 Indexing과 Slicing을 적절히 조합하여 사용가능\n",
    "x = np.arange(1, 13, 1).reshape(3, 4)\n",
    "print(x)"
   ]
  },
  {
   "cell_type": "code",
   "execution_count": 43,
   "id": "3a901a51",
   "metadata": {},
   "outputs": [
    {
     "name": "stdout",
     "output_type": "stream",
     "text": [
      "[7]\n"
     ]
    }
   ],
   "source": [
    "print(x[1:2, 2])"
   ]
  },
  {
   "cell_type": "code",
   "execution_count": 44,
   "id": "dac5d703",
   "metadata": {},
   "outputs": [
    {
     "name": "stdout",
     "output_type": "stream",
     "text": [
      "[ 3 11]\n"
     ]
    }
   ],
   "source": [
    "print(x[[0, 2], 2])"
   ]
  },
  {
   "cell_type": "code",
   "execution_count": 45,
   "id": "03bcf665",
   "metadata": {},
   "outputs": [
    {
     "name": "stdout",
     "output_type": "stream",
     "text": [
      "[[ 1  2]\n",
      " [ 9 10]]\n"
     ]
    }
   ],
   "source": [
    "print(x[[0, 2], :2])"
   ]
  },
  {
   "cell_type": "markdown",
   "id": "3ace5b0e",
   "metadata": {},
   "source": [
    "### 실습 1"
   ]
  },
  {
   "cell_type": "code",
   "execution_count": 47,
   "id": "a308f5f2",
   "metadata": {},
   "outputs": [
    {
     "name": "stdout",
     "output_type": "stream",
     "text": [
      "[0 1 2 3 4]\n"
     ]
    }
   ],
   "source": [
    "import numpy as np\n",
    "\n",
    "# 0부터 4까지 연속적인 숫자가 들어있는 배열을 만들어 봅시다!\n",
    "array = np.array(range(5))\n",
    "print(array)"
   ]
  },
  {
   "cell_type": "code",
   "execution_count": 48,
   "id": "e571c0c4",
   "metadata": {},
   "outputs": [
    {
     "name": "stdout",
     "output_type": "stream",
     "text": [
      "[0 1 2 3 4]\n"
     ]
    }
   ],
   "source": [
    "array2 = np.arange(5)\n",
    "print(array2)"
   ]
  },
  {
   "cell_type": "markdown",
   "id": "b3c6bceb",
   "metadata": {},
   "source": [
    "### 실습 2"
   ]
  },
  {
   "cell_type": "code",
   "execution_count": 49,
   "id": "fcadffde",
   "metadata": {},
   "outputs": [
    {
     "name": "stdout",
     "output_type": "stream",
     "text": [
      "1차원 array\n",
      "[0 1 2 3 4 5 6 7 8 9]\n",
      "<class 'numpy.ndarray'>\n",
      "1\n",
      "(10,)\n",
      "10\n",
      "int32\n",
      "5\n",
      "[3 4 5]\n"
     ]
    }
   ],
   "source": [
    "import numpy as np\n",
    "\n",
    "print(\"1차원 array\")\n",
    "array = np.array(range(10))\n",
    "print(array)\n",
    "\n",
    "# 1. array의 자료형을 출력해보세요.\n",
    "print(type(array))\n",
    "\n",
    "# 2. array의 차원을 출력해보세요.\n",
    "print(array.ndim)\n",
    "\n",
    "# 3. array의 모양을 출력해보세요.\n",
    "print(array.shape)\n",
    "\n",
    "# 4. array의 크기를 출력해보세요.\n",
    "print(array.size)\n",
    "\n",
    "# 5. array의 dtype(data type)을 출력해보세요.\n",
    "print(array.dtype)\n",
    "\n",
    "# 6. array의 인덱스 5의 요소를 출력해보세요.\n",
    "print(array[5])\n",
    "\n",
    "# 7. array의 인덱스 3의 요소부터 인덱스 5 요소까지 출력해보세요.\n",
    "print(array[3:6])\n"
   ]
  },
  {
   "cell_type": "code",
   "execution_count": 50,
   "id": "c43b1b9e",
   "metadata": {},
   "outputs": [
    {
     "name": "stdout",
     "output_type": "stream",
     "text": [
      "2차원 array\n",
      "[[ 1  2  3  4  5]\n",
      " [ 6  7  8  9 10]\n",
      " [11 12 13 14 15]]\n",
      "<class 'numpy.ndarray'>\n",
      "2\n",
      "(3, 5)\n",
      "15\n",
      "int32\n",
      "[['1' '2' '3' '4' '5']\n",
      " ['6' '7' '8' '9' '10']\n",
      " ['11' '12' '13' '14' '15']]\n",
      "14\n",
      "[[2 3 4]\n",
      " [7 8 9]]\n"
     ]
    }
   ],
   "source": [
    "import numpy as np\n",
    "\n",
    "print(\"2차원 array\")\n",
    "#1부터 15까지 들어있는 (3,5)짜리 배열을 만듭니다.\n",
    "matrix = np.array(range(1,16))\n",
    "matrix.shape = 3,5\n",
    "print(matrix)\n",
    "\n",
    "\n",
    "# 1. matrix의 자료형을 출력해보세요.\n",
    "print(type(matrix))\n",
    "\n",
    "# 2. matrix의 차원을 출력해보세요.\n",
    "print(matrix.ndim)\n",
    "\n",
    "# 3. matrix의 모양을 출력해보세요.\n",
    "print(matrix.shape)\n",
    "\n",
    "# 4. matrix의 크기를 출력해보세요.\n",
    "print(matrix.size)\n",
    "\n",
    "# 5. matrix의 dtype(data type)을 출력해보세요.\n",
    "print(matrix.dtype)\n",
    "\n",
    "# 6. matrix의 dtype을 str로 변경하여 출력해보세요.\n",
    "print(matrix.astype(str))\n",
    "\n",
    "# 7. matrix의 (2,3) 인덱스의 요소를 출력해보세요.\n",
    "print(matrix[2,3])\n",
    "\n",
    "# 8. matrix의 행은 인덱스 0부터 인덱스 1까지, 열은 인덱스 1부터 인덱스 3까지 출력해보세요.\n",
    "print(matrix[0:2,1:4])"
   ]
  },
  {
   "cell_type": "code",
   "execution_count": null,
   "id": "6a1f498e",
   "metadata": {},
   "outputs": [],
   "source": []
  }
 ],
 "metadata": {
  "kernelspec": {
   "display_name": "Python 3",
   "language": "python",
   "name": "python3"
  },
  "language_info": {
   "codemirror_mode": {
    "name": "ipython",
    "version": 3
   },
   "file_extension": ".py",
   "mimetype": "text/x-python",
   "name": "python",
   "nbconvert_exporter": "python",
   "pygments_lexer": "ipython3",
   "version": "3.8.8"
  }
 },
 "nbformat": 4,
 "nbformat_minor": 5
}
