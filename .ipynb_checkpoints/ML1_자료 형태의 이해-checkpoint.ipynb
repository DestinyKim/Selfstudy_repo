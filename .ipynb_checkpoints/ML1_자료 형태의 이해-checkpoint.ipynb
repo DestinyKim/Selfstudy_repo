{
 "cells": [
  {
   "cell_type": "markdown",
   "id": "2d051b5b",
   "metadata": {},
   "source": [
    "### 자료의 형태"
   ]
  },
  {
   "cell_type": "markdown",
   "id": "ea398934",
   "metadata": {},
   "source": [
    "* 자료\n",
    "    * 수치형 자료(Numerical data)\n",
    "    : = 양적자료(Quantitative data), 수치로 측정이 가능한 자료\n",
    "        - 연속형 자료(Continuous data) : 연속적인 관측값을 가짐\n",
    "            <br>ex) 원주율(3.141592...), 시간(10:10:30.24..) 등\n",
    "        - 이산형 자료(Discrete data) : 셀 수 있는 관측값을 가짐\n",
    "            <br>ex) 영화 댓글 개수, 주문 상품의 수 등\n",
    "   ------     \n",
    "    * 범주형 자료(Categorical data)\n",
    "    : = 질적자료(Qualitative data), 수치로 측정이 불가능한 자료\n",
    "        - 순위형 자료(Ordinal data) : 범주 사이의 순서에 의미가 있음\n",
    "            <br>ex) 학점(A+, B+, ...)\n",
    "        - 명목형 자료(Norminal data) : 범주 사이의 순서에 의미가 없음\n",
    "            <br>ex) 혈액형(A, B, O, AB)"
   ]
  },
  {
   "cell_type": "markdown",
   "id": "b525fc77",
   "metadata": {},
   "source": [
    "* 자료의 형태 구분 시, 주의점\n",
    "    * 범주형 자료가 숫자로 표현되는 경우\n",
    "        - 남녀 성별 구분 시, 남자를 1, 여자를 0으로 표현하는 경우, 숫자로 표현되지만 범주형 자료라고 할 수 있음\n",
    "        -----\n",
    "    * 수치형 자료를 범주형 자료로 변환하는 경우\n",
    "        - 나이 구분 시, 나이 값은 수치형 자료지만 10 ~ 19세, 20 ~ 29세 등 나이대에 따라 구간화 하면 범주형 자료라고 할 수 있음"
   ]
  },
  {
   "cell_type": "markdown",
   "id": "5099806d",
   "metadata": {},
   "source": [
    "### 도수분포표 정의"
   ]
  },
  {
   "cell_type": "markdown",
   "id": "ad91ffd6",
   "metadata": {},
   "source": [
    "* 도수(Frequency) : 각 범주에 속하는 관측값의 개수\n",
    "<pre>\n",
    "value_counts()\n",
    "</pre>"
   ]
  },
  {
   "cell_type": "markdown",
   "id": "bae4cfde",
   "metadata": {},
   "source": [
    "* 상대도수(Relative Frequency) : 도수를 자료의 전체 개수로 나눈 비율\n",
    "    <pre>value_counts(normalize = True)</pre>"
   ]
  },
  {
   "cell_type": "markdown",
   "id": "555706de",
   "metadata": {},
   "source": [
    "* 도수분포표(Frequency Table) : 범주형 자료에서 범주와 그 범주에 대응하는 도수, 상대도수를 나열해 표로 만든 것"
   ]
  },
  {
   "cell_type": "markdown",
   "id": "e0872b06",
   "metadata": {},
   "source": [
    "### 막대그래프(Bar Chart)"
   ]
  },
  {
   "cell_type": "code",
   "execution_count": 2,
   "id": "d80d8486",
   "metadata": {},
   "outputs": [
    {
     "data": {
      "image/png": "[encoded data removed]",
      "text/plain": [
       "<Figure size 432x288 with 1 Axes>"
      ]
     },
     "metadata": {
      "needs_background": "light"
     },
     "output_type": "display_data"
    }
   ],
   "source": [
    "import matplotlib.pyplot as plt\n",
    "import numpy as np\n",
    "\n",
    "x = np.arange(3)\n",
    "years = ['2018', '2019', '2020']\n",
    "values = [100, 400, 900]\n",
    "\n",
    "plt.bar(x, values)\n",
    "plt.xticks(x, years)\n",
    "\n",
    "plt.show()"
   ]
  },
  {
   "cell_type": "markdown",
   "id": "2b03b39e",
   "metadata": {},
   "source": [
    "- 각 범주에서 도수의 크기를 막대로 그림\n",
    "    * y축 : 도수에 대한 눈금\n",
    "    * x축 : 범주를 나열\n",
    "<br>\n",
    "<br>\n",
    "- 장점 : 각 범주가 가지는 도수의 크기 차이를 비교하기 쉬움\n",
    "- 단점 : 각 범주가 차지하는 비율의 비교는 어려움"
   ]
  },
  {
   "cell_type": "markdown",
   "id": "47e7248c",
   "metadata": {},
   "source": [
    "### 수치형 자료의 요약"
   ]
  },
  {
   "cell_type": "markdown",
   "id": "2528f211",
   "metadata": {},
   "source": [
    "* 수치를 통한 자료 요약\n",
    "    - 범주형 자료와 달리 수치로 구성되어 있기에 통계값을 사용한 요약이 가능함\n",
    "    - 시각적 자료로는 이론적 근거 제시가 쉽지 않은 단점을 보완함\n",
    "    - 많은 양의 자료를 의미 있는 수치로 요약하여 대략적인 분포상태를 파악 가능"
   ]
  },
  {
   "cell_type": "markdown",
   "id": "56e64926",
   "metadata": {},
   "source": [
    "* np.mean() : 산술평균\n",
    "    - 관측값들을 대표할 수 있는 통계값\n",
    "    - 수치형 자료의 통계값 중 가장 많이 사용되는 방법\n",
    "    - 모든 관측값의 합을 자료의 개수로 나눈 것\n",
    "    ![](https://wikimedia.org/api/rest_v1/media/math/render/svg/c03ccecb05cafe9c786f1b54d60eb5263bd296c1)\n",
    "    - 관측값의 산술평균으로 사용\n",
    "    - 통계에서 기초적인 통계 수치로 가장 많이 사용\n",
    "    - 극단적으로 큰 값이나 작은 값의 영향을 많이 받음"
   ]
  },
  {
   "cell_type": "markdown",
   "id": "853e5f99",
   "metadata": {},
   "source": [
    "#### 퍼진 정도의 측도\n",
    "    * 평균만으로 분포를 파악하기에 부족\n",
    "    * 평균 외에 분포가 퍼진 정도를 측도할 수치가 필요\n",
    "    * 분산, 표준편차 등을 퍼진 정도의 측도로 사용"
   ]
  },
  {
   "cell_type": "markdown",
   "id": "456c69c7",
   "metadata": {},
   "source": [
    "![](https://upload.wikimedia.org/wikipedia/commons/thumb/f/f9/Comparison_standard_deviations.svg/600px-Comparison_standard_deviations.svg.png)\n",
    "\n",
    "평균은 같지만 분산은 다른 두 확률 분포. 빨간색 분포는 100의 평균값과 100의 분산값을 가지고, 파란색 분포는 100의 확률값과 2500의 분산값을 가진다. SD는 표준편차를 의미한다."
   ]
  },
  {
   "cell_type": "code",
   "execution_count": 14,
   "id": "7b6b3f13",
   "metadata": {},
   "outputs": [
    {
     "data": {
      "text/plain": [
       "10"
      ]
     },
     "execution_count": 14,
     "metadata": {},
     "output_type": "execute_result"
    }
   ],
   "source": [
    "# 분산\n",
    "from statistics import variance\n",
    "\n",
    "variance([1,3,5,7,9])"
   ]
  },
  {
   "cell_type": "markdown",
   "id": "4058cf11",
   "metadata": {},
   "source": [
    "- 자료가 얼마나 흩어졌는지 숫자로 표현\n",
    "- 각 관측값이 자료의 평균으로부터 떨어진 정도"
   ]
  },
  {
   "cell_type": "code",
   "execution_count": 15,
   "id": "41bd513c",
   "metadata": {},
   "outputs": [
    {
     "data": {
      "text/plain": [
       "3.1622776601683795"
      ]
     },
     "execution_count": 15,
     "metadata": {},
     "output_type": "execute_result"
    }
   ],
   "source": [
    "# 표준편차\n",
    "from statistics import stdev\n",
    "\n",
    "stdev([1,3,5,7,9])"
   ]
  },
  {
   "cell_type": "markdown",
   "id": "d3c55405",
   "metadata": {},
   "source": [
    "* 분산의 단위 = 관측값의 단위의 제곱\n",
    "    - 관측값의 단위와 불일치\n",
    "* 분산의 양의 제곱근은 관측값과 단위가 일치\n",
    "    - 분산의 양의 제곱근을 표준편차라 하고 s로 표기\n",
    "    ![](https://wikimedia.org/api/rest_v1/media/math/render/svg/59c971dd00c3d1d3bcd9bbf25875fc99193c4f99)\n",
    "    $s = +\\sqrt{s^2}$\n",
    "    \n",
    "    $s$ : 표본의 표준편차<br>\n",
    "    $x$ : 변인<br>\n",
    "    $\\overline{x}$ : 표본의 평균<br>\n",
    "    $n$ : 표본의 크기<br>\n",
    "    $u$  : 잔차"
   ]
  },
  {
   "cell_type": "markdown",
   "id": "8ba681a1",
   "metadata": {},
   "source": [
    "#### 히스토그램(Histogram)"
   ]
  },
  {
   "cell_type": "code",
   "execution_count": 17,
   "id": "2048dab4",
   "metadata": {},
   "outputs": [
    {
     "data": {
      "image/png": "[encoded data removed]",
      "text/plain": [
       "<Figure size 432x288 with 1 Axes>"
      ]
     },
     "metadata": {
      "needs_background": "light"
     },
     "output_type": "display_data"
    }
   ],
   "source": [
    "import matplotlib.pyplot as plt\n",
    "\n",
    "weight = [68, 81, 64, 56, 78, 74, 61, 77, 66, 68, 59, 71,\n",
    "          80, 59, 67, 81, 69, 73, 69, 74, 70, 65]\n",
    "\n",
    "plt.hist(weight)\n",
    "\n",
    "plt.show()"
   ]
  },
  {
   "cell_type": "markdown",
   "id": "b885f61c",
   "metadata": {},
   "source": [
    "* 자료의 분포를 알 수 있음\n",
    "* 계급구간과 막대의 높이로 그림\n",
    "* 도수, 상대도수를 막대 높이로 이용"
   ]
  },
  {
   "cell_type": "markdown",
   "id": "de55f9a4",
   "metadata": {},
   "source": [
    "### 실습1"
   ]
  },
  {
   "cell_type": "code",
   "execution_count": 21,
   "id": "043fb7ce",
   "metadata": {},
   "outputs": [
    {
     "name": "stdout",
     "output_type": "stream",
     "text": [
      "도수분포표\n",
      "A    4\n",
      "B    3\n",
      "D    2\n",
      "C    2\n",
      "E    1\n",
      "Name: Name, dtype: int64\n"
     ]
    }
   ],
   "source": [
    "import pandas as pd \n",
    "import numpy as np\n",
    "\n",
    "# drink 데이터\n",
    "drink = pd.read_csv(\"./data/drink.csv\")\n",
    "\n",
    "\"\"\"\n",
    "1. 도수 계산\n",
    "\"\"\"\n",
    "drink_freq = drink[drink['Attend']==1]['Name'].value_counts()\n",
    "\n",
    "print(\"도수분포표\")\n",
    "print(drink_freq)"
   ]
  },
  {
   "cell_type": "markdown",
   "id": "7b31b5ad",
   "metadata": {},
   "source": [
    "### 실습2"
   ]
  },
  {
   "cell_type": "code",
   "execution_count": 23,
   "id": "8c17831e",
   "metadata": {},
   "outputs": [
    {
     "data": {
      "image/png": "[encoded data removed]",
      "text/plain": [
       "<Figure size 432x288 with 1 Axes>"
      ]
     },
     "metadata": {
      "needs_background": "light"
     },
     "output_type": "display_data"
    }
   ],
   "source": [
    "import matplotlib.pyplot as plt\n",
    "\n",
    "# 술자리 참석 상대도수 데이터 \n",
    "labels = ['A', 'B', 'C', 'D', 'E']\n",
    "ratio = [4,3,2,2,1]\n",
    "    \n",
    "#막대 그래프\n",
    "fig, ax = plt.subplots()\n",
    "\n",
    "\"\"\"\n",
    "1. 막대 그래프를 만드는 코드를 작성해 주세요\n",
    "\"\"\"\n",
    "plt.bar(labels,ratio)\n",
    "\n",
    "# 출력에 필요한 코드\n",
    "plt.show()\n"
   ]
  },
  {
   "cell_type": "markdown",
   "id": "f88a557e",
   "metadata": {},
   "source": [
    "### 실습3"
   ]
  },
  {
   "cell_type": "code",
   "execution_count": 24,
   "id": "b845ac15",
   "metadata": {},
   "outputs": [
    {
     "name": "stdout",
     "output_type": "stream",
     "text": [
      "Mean : 144.12\n"
     ]
    }
   ],
   "source": [
    "import numpy as np\n",
    "\n",
    "\n",
    "coffee = np.array([202,177,121,148,89,121,137,158])\n",
    "\n",
    "\"\"\"\n",
    "1. 평균계산\n",
    "\"\"\"\n",
    "cf_mean = np.mean(coffee)\n",
    "\n",
    "# 소수점 둘째 자리까지 반올림하여 출력합니다. \n",
    "print(\"Mean :\", round(cf_mean,2))\n"
   ]
  },
  {
   "cell_type": "markdown",
   "id": "45a154f0",
   "metadata": {},
   "source": [
    "### 실습4"
   ]
  },
  {
   "cell_type": "code",
   "execution_count": 25,
   "id": "3cd4838d",
   "metadata": {},
   "outputs": [
    {
     "name": "stdout",
     "output_type": "stream",
     "text": [
      "Sample std.Dev :  35.44\n"
     ]
    }
   ],
   "source": [
    "from statistics import stdev\n",
    "import numpy as np\n",
    "\n",
    "coffee = np.array([202,177,121,148,89,121,137,158])\n",
    "\n",
    "\"\"\"\n",
    "1. 표준편차 계산\n",
    "\"\"\"\n",
    "cf_std = stdev(coffee)\n",
    "\n",
    "# 소수점 둘째 자리까지 반올림하여 출력합니다. \n",
    "print(\"Sample std.Dev : \", round(cf_std,2))"
   ]
  },
  {
   "cell_type": "markdown",
   "id": "f1fcea22",
   "metadata": {},
   "source": [
    "### 실습5"
   ]
  },
  {
   "cell_type": "code",
   "execution_count": 26,
   "id": "363800fd",
   "metadata": {},
   "outputs": [
    {
     "data": {
      "image/png": "[encoded data removed]",
      "text/plain": [
       "<Figure size 432x288 with 1 Axes>"
      ]
     },
     "metadata": {
      "needs_background": "light"
     },
     "output_type": "display_data"
    }
   ],
   "source": [
    "import numpy as np\n",
    "import pandas as pd\n",
    "import matplotlib.pyplot as plt\n",
    "\n",
    "# 카페인 데이터\n",
    "coffee = np.array([202,177,121,148,89,121,137,158])\n",
    "\n",
    "fig, ax = plt.subplots()\n",
    "\n",
    "\"\"\"\n",
    "1. 히스토그램을 그리는 코드를 작성해 주세요\n",
    "\"\"\"\n",
    "plt.hist(coffee, bins = 8)\n",
    "\n",
    "# 히스토그램을 출력합니다.\n",
    "plt.show()"
   ]
  },
  {
   "cell_type": "code",
   "execution_count": null,
   "id": "30fdf55f",
   "metadata": {},
   "outputs": [],
   "source": []
  }
 ],
 "metadata": {
  "kernelspec": {
   "display_name": "Python 3",
   "language": "python",
   "name": "python3"
  },
  "language_info": {
   "codemirror_mode": {
    "name": "ipython",
    "version": 3
   },
   "file_extension": ".py",
   "mimetype": "text/x-python",
   "name": "python",
   "nbconvert_exporter": "python",
   "pygments_lexer": "ipython3",
   "version": "3.8.8"
  }
 },
 "nbformat": 4,
 "nbformat_minor": 5
}
