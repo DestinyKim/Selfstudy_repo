{
 "cells": [
  {
   "cell_type": "markdown",
   "metadata": {},
   "source": [
    "### 과제(자율과제)\n",
    "* Top 종목에 있는 상한가정보를 가져와서 xlsx파일로 정리하기\n",
    "* 제출 : 구글 드라이브"
   ]
  },
  {
   "cell_type": "code",
   "execution_count": 11,
   "metadata": {},
   "outputs": [],
   "source": [
    "from urllib.request import urlopen\n",
    "from bs4 import BeautifulSoup\n",
    "\n",
    "url = \"https://finance.naver.com/sise/\"\n",
    "page = urlopen(url)\n",
    "page\n",
    "soup = BeautifulSoup(page, \"html.parser\")"
   ]
  },
  {
   "cell_type": "code",
   "execution_count": 87,
   "metadata": {},
   "outputs": [
    {
     "name": "stdout",
     "output_type": "stream",
     "text": [
      "[<a href=\"javascript:main_tab('siselist', 1, 8)\" onclick=\"clickcr(this, 'bqu.3', '', '', event)\">하한가</a>, <a href=\"javascript:main_tab('siselist', 2, 8)\" onclick=\"clickcr(this, 'bqu.5', '', '', event)\">상승</a>, <a href=\"javascript:main_tab('siselist', 3, 8)\" onclick=\"clickcr(this, 'bqu.7', '', '', event)\">보합</a>, <a href=\"javascript:main_tab('siselist', 4, 8)\" onclick=\"clickcr(this, 'bqu.9', '', '', event)\">하락</a>, <a href=\"javascript:main_tab('siselist', 5, 8)\" onclick=\"clickcr(this, 'bqu.11', '', '', event)\">거래량상위</a>, <a href=\"javascript:main_tab('siselist', 6, 8)\" onclick=\"clickcr(this, 'bqu.13', '', '', event)\">고가대비급락</a>, <a href=\"javascript:main_tab('siselist', 7, 8)\" onclick=\"clickcr(this, 'bqu.15', '', '', event)\">시가총액상위</a>, <a class=\"tltle\" href=\"/item/main.nhn?code=006345\" onclick=\"clickcr(this, 'bqu.2', '006345', '1', event)\">대원전선우</a>, <a class=\"tltle\" href=\"/item/main.nhn?code=036180\" onclick=\"clickcr(this, 'bqu.2', '036180', '2', event)\">지더블유바이텍</a>, <a class=\"tltle\" href=\"/item/main.nhn?code=043910\" onclick=\"clickcr(this, 'bqu.2', '043910', '3', event)\">자연과환경</a>, <a class=\"tltle\" href=\"/item/main.nhn?code=079940\" onclick=\"clickcr(this, 'bqu.2', '079940', '4', event)\">가비아</a>, <a class=\"tltle\" href=\"/item/main.nhn?code=090150\" onclick=\"clickcr(this, 'bqu.2', '090150', '5', event)\">광진윈텍</a>, <a class=\"tltle\" href=\"/item/main.nhn?code=130660\" onclick=\"clickcr(this, 'bqu.2', '130660', '6', event)\">한전산업</a>, <a class=\"tltle\" href=\"/item/main.nhn?code=311060\" onclick=\"clickcr(this, 'bqu.2', '311060', '7', event)\">엘에이티</a>, <a href=\"javascript:main_tab('siselist', 0, 8)\" onclick=\"clickcr(this, 'bqu.1', '', '', event)\">상한가</a>, <a href=\"javascript:main_tab('siselist', 2, 8)\" onclick=\"clickcr(this, 'bqu.5', '', '', event)\">상승</a>, <a href=\"javascript:main_tab('siselist', 3, 8)\" onclick=\"clickcr(this, 'bqu.7', '', '', event)\">보합</a>, <a href=\"javascript:main_tab('siselist', 4, 8)\" onclick=\"clickcr(this, 'bqu.9', '', '', event)\">하락</a>, <a href=\"javascript:main_tab('siselist', 5, 8)\" onclick=\"clickcr(this, 'bqu.11', '', '', event)\">거래량상위</a>, <a href=\"javascript:main_tab('siselist', 6, 8)\" onclick=\"clickcr(this, 'bqu.13', '', '', event)\">고가대비급락</a>, <a href=\"javascript:main_tab('siselist', 7, 8)\" onclick=\"clickcr(this, 'bqu.15', '', '', event)\">시가총액상위</a>, <a class=\"tltle\" href=\"/item/main.nhn?code=267060\" onclick=\"clickcr(this, 'bqu.4', '267060', '1', event)\">명진홀딩스</a>, <a href=\"javascript:main_tab('siselist', 0, 8)\" onclick=\"clickcr(this, 'bqu.1', '', '', event)\">상한가</a>, <a href=\"javascript:main_tab('siselist', 1, 8)\" onclick=\"clickcr(this, 'bqu.3', '', '', event)\">하한가</a>, <a href=\"javascript:main_tab('siselist', 3, 8)\" onclick=\"clickcr(this, 'bqu.7', '', '', event)\">보합</a>, <a href=\"javascript:main_tab('siselist', 4, 8)\" onclick=\"clickcr(this, 'bqu.9', '', '', event)\">하락</a>, <a href=\"javascript:main_tab('siselist', 5, 8)\" onclick=\"clickcr(this, 'bqu.11', '', '', event)\">거래량상위</a>, <a href=\"javascript:main_tab('siselist', 6, 8)\" onclick=\"clickcr(this, 'bqu.13', '', '', event)\">고가대비급락</a>, <a href=\"javascript:main_tab('siselist', 7, 8)\" onclick=\"clickcr(this, 'bqu.15', '', '', event)\">시가총액상위</a>, <a class=\"tltle\" href=\"/item/main.nhn?code=069140\" onclick=\"clickcr(this, 'bqu.6', '069140', '1', event)\">누리플랜</a>, <a class=\"tltle\" href=\"/item/main.nhn?code=006340\" onclick=\"clickcr(this, 'bqu.6', '006340', '2', event)\">대원전선</a>, <a class=\"tltle\" href=\"/item/main.nhn?code=101670\" onclick=\"clickcr(this, 'bqu.6', '101670', '3', event)\">코리아에스이</a>, <a class=\"tltle\" href=\"/item/main.nhn?code=006890\" onclick=\"clickcr(this, 'bqu.6', '006890', '4', event)\">태경케미컬</a>, <a class=\"tltle\" href=\"/item/main.nhn?code=045510\" onclick=\"clickcr(this, 'bqu.6', '045510', '5', event)\">정원엔시스</a>, <a class=\"tltle\" href=\"/item/main.nhn?code=019685\" onclick=\"clickcr(this, 'bqu.6', '019685', '6', event)\">대교우B</a>, <a class=\"tltle\" href=\"/item/main.nhn?code=039740\" onclick=\"clickcr(this, 'bqu.6', '039740', '7', event)\">한국정보공학</a>, <a class=\"tltle\" href=\"/item/main.nhn?code=189860\" onclick=\"clickcr(this, 'bqu.6', '189860', '8', event)\">서전기전</a>, <a class=\"tltle\" href=\"/item/main.nhn?code=006910\" onclick=\"clickcr(this, 'bqu.6', '006910', '9', event)\">보성파워텍</a>, <a class=\"tltle\" href=\"/item/main.nhn?code=004410\" onclick=\"clickcr(this, 'bqu.6', '004410', '10', event)\">서울식품</a>, <a href=\"javascript:main_tab('siselist', 0, 8)\" onclick=\"clickcr(this, 'bqu.1', '', '', event)\">상한가</a>, <a href=\"javascript:main_tab('siselist', 1, 8)\" onclick=\"clickcr(this, 'bqu.3', '', '', event)\">하한가</a>, <a href=\"javascript:main_tab('siselist', 2, 8)\" onclick=\"clickcr(this, 'bqu.5', '', '', event)\">상승</a>, <a href=\"javascript:main_tab('siselist', 4, 8)\" onclick=\"clickcr(this, 'bqu.9', '', '', event)\">하락</a>, <a href=\"javascript:main_tab('siselist', 5, 8)\" onclick=\"clickcr(this, 'bqu.11', '', '', event)\">거래량상위</a>, <a href=\"javascript:main_tab('siselist', 6, 8)\" onclick=\"clickcr(this, 'bqu.13', '', '', event)\">고가대비급락</a>, <a href=\"javascript:main_tab('siselist', 7, 8)\" onclick=\"clickcr(this, 'bqu.15', '', '', event)\">시가총액상위</a>, <a class=\"tltle\" href=\"/item/main.nhn?code=000040\" onclick=\"clickcr(this, 'bqu.8', '000040', '1', event)\">KR모터스</a>, <a class=\"tltle\" href=\"/item/main.nhn?code=000210\" onclick=\"clickcr(this, 'bqu.8', '000210', '2', event)\">DL</a>, <a class=\"tltle\" href=\"/item/main.nhn?code=000320\" onclick=\"clickcr(this, 'bqu.8', '000320', '3', event)\">노루홀딩스</a>, <a class=\"tltle\" href=\"/item/main.nhn?code=000390\" onclick=\"clickcr(this, 'bqu.8', '000390', '4', event)\">삼화페인트</a>, <a class=\"tltle\" href=\"/item/main.nhn?code=000970\" onclick=\"clickcr(this, 'bqu.8', '000970', '5', event)\">한국주철관</a>, <a class=\"tltle\" href=\"/item/main.nhn?code=001060\" onclick=\"clickcr(this, 'bqu.8', '001060', '6', event)\">JW중외제약</a>, <a class=\"tltle\" href=\"/item/main.nhn?code=001070\" onclick=\"clickcr(this, 'bqu.8', '001070', '7', event)\">대한방직</a>, <a class=\"tltle\" href=\"/item/main.nhn?code=001140\" onclick=\"clickcr(this, 'bqu.8', '001140', '8', event)\">국보</a>, <a class=\"tltle\" href=\"/item/main.nhn?code=001340\" onclick=\"clickcr(this, 'bqu.8', '001340', '9', event)\">백광산업</a>, <a class=\"tltle\" href=\"/item/main.nhn?code=001390\" onclick=\"clickcr(this, 'bqu.8', '001390', '10', event)\">KG케미칼</a>, <a href=\"javascript:main_tab('siselist', 0, 8)\" onclick=\"clickcr(this, 'bqu.1', '', '', event)\">상한가</a>, <a href=\"javascript:main_tab('siselist', 1, 8)\" onclick=\"clickcr(this, 'bqu.3', '', '', event)\">하한가</a>, <a href=\"javascript:main_tab('siselist', 2, 8)\" onclick=\"clickcr(this, 'bqu.5', '', '', event)\">상승</a>, <a href=\"javascript:main_tab('siselist', 3, 8)\" onclick=\"clickcr(this, 'bqu.7', '', '', event)\">보합</a>, <a href=\"javascript:main_tab('siselist', 5, 8)\" onclick=\"clickcr(this, 'bqu.11', '', '', event)\">거래량상위</a>, <a href=\"javascript:main_tab('siselist', 6, 8)\" onclick=\"clickcr(this, 'bqu.13', '', '', event)\">고가대비급락</a>, <a href=\"javascript:main_tab('siselist', 7, 8)\" onclick=\"clickcr(this, 'bqu.15', '', '', event)\">시가총액상위</a>, <a class=\"tltle\" href=\"/item/main.nhn?code=102280\" onclick=\"clickcr(this, 'bqu.10', '102280', '1', event)\">쌍방울</a>, <a class=\"tltle\" href=\"/item/main.nhn?code=086460\" onclick=\"clickcr(this, 'bqu.10', '086460', '2', event)\">에스엔피제네틱스</a>, <a class=\"tltle\" href=\"/item/main.nhn?code=140660\" onclick=\"clickcr(this, 'bqu.10', '140660', '3', event)\">위월드</a>, <a class=\"tltle\" href=\"/item/main.nhn?code=354230\" onclick=\"clickcr(this, 'bqu.10', '354230', '4', event)\">폭스소프트</a>, <a class=\"tltle\" href=\"/item/main.nhn?code=224810\" onclick=\"clickcr(this, 'bqu.10', '224810', '5', event)\">엄지하우스</a>, <a class=\"tltle\" href=\"/item/main.nhn?code=001525\" onclick=\"clickcr(this, 'bqu.10', '001525', '6', event)\">동양우</a>, <a class=\"tltle\" href=\"/item/main.nhn?code=210120\" onclick=\"clickcr(this, 'bqu.10', '210120', '7', event)\">빅텐츠</a>, <a class=\"tltle\" href=\"/item/main.nhn?code=379390\" onclick=\"clickcr(this, 'bqu.10', '379390', '8', event)\">이성씨엔아이</a>, <a class=\"tltle\" href=\"/item/main.nhn?code=001527\" onclick=\"clickcr(this, 'bqu.10', '001527', '9', event)\">동양2우B</a>, <a class=\"tltle\" href=\"/item/main.nhn?code=202960\" onclick=\"clickcr(this, 'bqu.10', '202960', '10', event)\">판도라티비</a>, <a href=\"javascript:main_tab('siselist', 0, 8)\" onclick=\"clickcr(this, 'bqu.1', '', '', event)\">상한가</a>, <a href=\"javascript:main_tab('siselist', 1, 8)\" onclick=\"clickcr(this, 'bqu.3', '', '', event)\">하한가</a>, <a href=\"javascript:main_tab('siselist', 2, 8)\" onclick=\"clickcr(this, 'bqu.5', '', '', event)\">상승</a>, <a href=\"javascript:main_tab('siselist', 3, 8)\" onclick=\"clickcr(this, 'bqu.7', '', '', event)\">보합</a>, <a href=\"javascript:main_tab('siselist', 4, 8)\" onclick=\"clickcr(this, 'bqu.9', '', '', event)\">하락</a>, <a href=\"javascript:main_tab('siselist', 6, 8)\" onclick=\"clickcr(this, 'bqu.13', '', '', event)\">고가대비급락</a>, <a href=\"javascript:main_tab('siselist', 7, 8)\" onclick=\"clickcr(this, 'bqu.15', '', '', event)\">시가총액상위</a>, <a class=\"tltle\" href=\"/item/main.nhn?code=004410\" onclick=\"clickcr(this, 'bqu.12', '004410', '1', event)\">서울식품</a>, <a class=\"tltle\" href=\"/item/main.nhn?code=102280\" onclick=\"clickcr(this, 'bqu.12', '102280', '2', event)\">쌍방울</a>, <a class=\"tltle\" href=\"/item/main.nhn?code=252670\" onclick=\"clickcr(this, 'bqu.12', '252670', '3', event)\">KODEX 200선물인버스2X</a>, <a class=\"tltle\" href=\"/item/main.nhn?code=006340\" onclick=\"clickcr(this, 'bqu.12', '006340', '4', event)\">대원전선</a>, <a class=\"tltle\" href=\"/item/main.nhn?code=001440\" onclick=\"clickcr(this, 'bqu.12', '001440', '5', event)\">대한전선</a>, <a class=\"tltle\" href=\"/item/main.nhn?code=006910\" onclick=\"clickcr(this, 'bqu.12', '006910', '6', event)\">보성파워텍</a>, <a class=\"tltle\" href=\"/item/main.nhn?code=032820\" onclick=\"clickcr(this, 'bqu.12', '032820', '7', event)\">우리기술</a>, <a class=\"tltle\" href=\"/item/main.nhn?code=008970\" onclick=\"clickcr(this, 'bqu.12', '008970', '8', event)\">동양철관</a>, <a class=\"tltle\" href=\"/item/main.nhn?code=043910\" onclick=\"clickcr(this, 'bqu.12', '043910', '9', event)\">자연과환경</a>, <a class=\"tltle\" href=\"/item/main.nhn?code=054300\" onclick=\"clickcr(this, 'bqu.12', '054300', '10', event)\">팬스타엔터프라이즈</a>, <a href=\"javascript:main_tab('siselist', 0, 8)\" onclick=\"clickcr(this, 'bqu.1', '', '', event)\">상한가</a>, <a href=\"javascript:main_tab('siselist', 1, 8)\" onclick=\"clickcr(this, 'bqu.3', '', '', event)\">하한가</a>, <a href=\"javascript:main_tab('siselist', 2, 8)\" onclick=\"clickcr(this, 'bqu.5', '', '', event)\">상승</a>, <a href=\"javascript:main_tab('siselist', 3, 8)\" onclick=\"clickcr(this, 'bqu.7', '', '', event)\">보합</a>, <a href=\"javascript:main_tab('siselist', 4, 8)\" onclick=\"clickcr(this, 'bqu.9', '', '', event)\">하락</a>, <a href=\"javascript:main_tab('siselist', 5, 8)\" onclick=\"clickcr(this, 'bqu.11', '', '', event)\">거래량상위</a>, <a href=\"javascript:main_tab('siselist', 7, 8)\" onclick=\"clickcr(this, 'bqu.15', '', '', event)\">시가총액상위</a>, <a class=\"tltle\" href=\"/item/main.nhn?code=102280\" onclick=\"clickcr(this, 'bqu.14', '102280', '1', event)\">쌍방울</a>, <a class=\"tltle\" href=\"/item/main.nhn?code=026910\" onclick=\"clickcr(this, 'bqu.14', '026910', '2', event)\">광진실업</a>, <a class=\"tltle\" href=\"/item/main.nhn?code=000157\" onclick=\"clickcr(this, 'bqu.14', '000157', '3', event)\">두산2우B</a>, <a class=\"tltle\" href=\"/item/main.nhn?code=196700\" onclick=\"clickcr(this, 'bqu.14', '196700', '4', event)\">웹스</a>, <a class=\"tltle\" href=\"/item/main.nhn?code=202960\" onclick=\"clickcr(this, 'bqu.14', '202960', '5', event)\">판도라티비</a>, <a class=\"tltle\" href=\"/item/main.nhn?code=332370\" onclick=\"clickcr(this, 'bqu.14', '332370', '6', event)\">아이디피</a>, <a class=\"tltle\" href=\"/item/main.nhn?code=267060\" onclick=\"clickcr(this, 'bqu.14', '267060', '7', event)\">명진홀딩스</a>, <a class=\"tltle\" href=\"/item/main.nhn?code=001529\" onclick=\"clickcr(this, 'bqu.14', '001529', '8', event)\">동양3우B</a>, <a class=\"tltle\" href=\"/item/main.nhn?code=004920\" onclick=\"clickcr(this, 'bqu.14', '004920', '9', event)\">씨아이테크</a>, <a class=\"tltle\" href=\"/item/main.nhn?code=014200\" onclick=\"clickcr(this, 'bqu.14', '014200', '10', event)\">광림</a>, <a href=\"javascript:main_tab('siselist', 0, 8)\" onclick=\"clickcr(this, 'bqu.1', '', '', event)\">상한가</a>, <a href=\"javascript:main_tab('siselist', 1, 8)\" onclick=\"clickcr(this, 'bqu.3', '', '', event)\">하한가</a>, <a href=\"javascript:main_tab('siselist', 2, 8)\" onclick=\"clickcr(this, 'bqu.5', '', '', event)\">상승</a>, <a href=\"javascript:main_tab('siselist', 3, 8)\" onclick=\"clickcr(this, 'bqu.7', '', '', event)\">보합</a>, <a href=\"javascript:main_tab('siselist', 4, 8)\" onclick=\"clickcr(this, 'bqu.9', '', '', event)\">하락</a>, <a href=\"javascript:main_tab('siselist', 5, 8)\" onclick=\"clickcr(this, 'bqu.11', '', '', event)\">거래량상위</a>, <a href=\"javascript:main_tab('siselist', 6, 8)\" onclick=\"clickcr(this, 'bqu.13', '', '', event)\">고가대비급락</a>, <a class=\"tltle\" href=\"/item/main.nhn?code=005930\" onclick=\"clickcr(this, 'bqu.16', '005930', '1', event)\">삼성전자</a>, <a class=\"tltle\" href=\"/item/main.nhn?code=000660\" onclick=\"clickcr(this, 'bqu.16', '000660', '2', event)\">SK하이닉스</a>, <a class=\"tltle\" href=\"/item/main.nhn?code=035420\" onclick=\"clickcr(this, 'bqu.16', '035420', '3', event)\">NAVER</a>, <a class=\"tltle\" href=\"/item/main.nhn?code=035720\" onclick=\"clickcr(this, 'bqu.16', '035720', '4', event)\">카카오</a>, <a class=\"tltle\" href=\"/item/main.nhn?code=005935\" onclick=\"clickcr(this, 'bqu.16', '005935', '5', event)\">삼성전자우</a>, <a class=\"tltle\" href=\"/item/main.nhn?code=051910\" onclick=\"clickcr(this, 'bqu.16', '051910', '6', event)\">LG화학</a>, <a class=\"tltle\" href=\"/item/main.nhn?code=207940\" onclick=\"clickcr(this, 'bqu.16', '207940', '7', event)\">삼성바이오로직스</a>, <a class=\"tltle\" href=\"/item/main.nhn?code=005380\" onclick=\"clickcr(this, 'bqu.16', '005380', '8', event)\">현대차</a>, <a class=\"tltle\" href=\"/item/main.nhn?code=006400\" onclick=\"clickcr(this, 'bqu.16', '006400', '9', event)\">삼성SDI</a>, <a class=\"tltle\" href=\"/item/main.nhn?code=068270\" onclick=\"clickcr(this, 'bqu.16', '068270', '10', event)\">셀트리온</a>]\n"
     ]
    }
   ],
   "source": [
    "top = soup.find(\"div\",class_=\"box_type_l\").find_all(\"a\")\n",
    "print(top)"
   ]
  },
  {
   "cell_type": "code",
   "execution_count": null,
   "metadata": {},
   "outputs": [],
   "source": [
    "\n",
    "\n"
   ]
  },
  {
   "cell_type": "code",
   "execution_count": null,
   "metadata": {},
   "outputs": [],
   "source": []
  }
 ],
 "metadata": {
  "kernelspec": {
   "display_name": "Python 3",
   "language": "python",
   "name": "python3"
  },
  "language_info": {
   "codemirror_mode": {
    "name": "ipython",
    "version": 3
   },
   "file_extension": ".py",
   "mimetype": "text/x-python",
   "name": "python",
   "nbconvert_exporter": "python",
   "pygments_lexer": "ipython3",
   "version": "3.8.5"
  }
 },
 "nbformat": 4,
 "nbformat_minor": 4
}
