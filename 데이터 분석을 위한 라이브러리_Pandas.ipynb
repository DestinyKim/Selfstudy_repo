{
 "cells": [
  {
   "cell_type": "markdown",
   "id": "4b636309",
   "metadata": {},
   "source": [
    "## Pandas"
   ]
  },
  {
   "cell_type": "markdown",
   "id": "35b5575e",
   "metadata": {},
   "source": [
    "* 파이썬 라이브러리\n",
    "* 구조화된 데이터를 효과적으로 처리하고 저장\n",
    "* Array 계산에 특화된 Numpy를 기반으로 설계"
   ]
  },
  {
   "cell_type": "markdown",
   "id": "6a37396f",
   "metadata": {},
   "source": [
    "### Series"
   ]
  },
  {
   "cell_type": "markdown",
   "id": "a306e27c",
   "metadata": {},
   "source": [
    "- Numpy의 array가 보강된 형태\n",
    "- Data와 Index를 가지고 있음"
   ]
  },
  {
   "cell_type": "code",
   "execution_count": 23,
   "id": "6e582ada",
   "metadata": {},
   "outputs": [
    {
     "name": "stdout",
     "output_type": "stream",
     "text": [
      "0    1\n",
      "1    2\n",
      "2    3\n",
      "3    4\n",
      "dtype: int64\n"
     ]
    }
   ],
   "source": [
    "import pandas as pd\n",
    "\n",
    "data = pd.Series([1, 2, 3, 4])\n",
    "print(data)"
   ]
  },
  {
   "cell_type": "code",
   "execution_count": 24,
   "id": "f921749c",
   "metadata": {},
   "outputs": [
    {
     "name": "stdout",
     "output_type": "stream",
     "text": [
      "<class 'pandas.core.series.Series'>\n",
      "[1 2 3 4]\n",
      "<class 'numpy.ndarray'>\n"
     ]
    }
   ],
   "source": [
    "# Series는 값(values)을 ndarray 형태로 가지고 있음.\n",
    "print(type(data))\n",
    "\n",
    "print(data.values)\n",
    "print(type(data.values))"
   ]
  },
  {
   "cell_type": "code",
   "execution_count": 25,
   "id": "da6843ae",
   "metadata": {},
   "outputs": [
    {
     "name": "stdout",
     "output_type": "stream",
     "text": [
      "float64\n",
      "0    1.0\n",
      "1    2.0\n",
      "2    3.0\n",
      "3    4.0\n",
      "dtype: float64\n"
     ]
    }
   ],
   "source": [
    "# dtype 인자로 데이터 타입을 지정할 수 있음\n",
    "data = pd.Series([1, 2, 3, 4], dtype = 'float')\n",
    "print(data.dtype)\n",
    "print(data)"
   ]
  },
  {
   "cell_type": "code",
   "execution_count": 26,
   "id": "a48c4af5",
   "metadata": {},
   "outputs": [
    {
     "name": "stdout",
     "output_type": "stream",
     "text": [
      "a    1\n",
      "b    2\n",
      "c    3\n",
      "d    4\n",
      "dtype: int64\n",
      "a    1\n",
      "b    2\n",
      "c    5\n",
      "d    4\n",
      "dtype: int64\n"
     ]
    }
   ],
   "source": [
    "# 인덱스를 지정할 수 있고, 인덱스로 접근 가능\n",
    "data = pd.Series([1, 2, 3, 4], index = ['a', 'b', 'c', 'd'])\n",
    "print(data)\n",
    "data['c'] = 5 # c값을 3에서 5로 변경\n",
    "print(data)"
   ]
  },
  {
   "cell_type": "code",
   "execution_count": 27,
   "id": "875fb946",
   "metadata": {},
   "outputs": [
    {
     "name": "stdout",
     "output_type": "stream",
     "text": [
      "china    141500\n",
      "japan     12718\n",
      "korea      5180\n",
      "usa       32676\n",
      "dtype: int64\n"
     ]
    }
   ],
   "source": [
    "# Dictionary를 활용하여 Series 생성가능\n",
    "population_dict = {'china':141500, 'japan':12718, 'korea':5180, 'usa':32676}\n",
    "population = pd.Series(population_dict)\n",
    "print(population)"
   ]
  },
  {
   "cell_type": "markdown",
   "id": "1038ec9d",
   "metadata": {},
   "source": [
    "### DataFrame"
   ]
  },
  {
   "cell_type": "markdown",
   "id": "75ec04df",
   "metadata": {},
   "source": [
    "* 여러 개의 Series가 모여서 행과 열을 이룬 데이터"
   ]
  },
  {
   "cell_type": "code",
   "execution_count": 28,
   "id": "2fc55c72",
   "metadata": {},
   "outputs": [
    {
     "data": {
      "text/html": [
       "<div>\n",
       "<style scoped>\n",
       "    .dataframe tbody tr th:only-of-type {\n",
       "        vertical-align: middle;\n",
       "    }\n",
       "\n",
       "    .dataframe tbody tr th {\n",
       "        vertical-align: top;\n",
       "    }\n",
       "\n",
       "    .dataframe thead th {\n",
       "        text-align: right;\n",
       "    }\n",
       "</style>\n",
       "<table border=\"1\" class=\"dataframe\">\n",
       "  <thead>\n",
       "    <tr style=\"text-align: right;\">\n",
       "      <th></th>\n",
       "      <th>gdp</th>\n",
       "      <th>population</th>\n",
       "    </tr>\n",
       "  </thead>\n",
       "  <tbody>\n",
       "    <tr>\n",
       "      <th>china</th>\n",
       "      <td>1409250000</td>\n",
       "      <td>141500</td>\n",
       "    </tr>\n",
       "    <tr>\n",
       "      <th>japan</th>\n",
       "      <td>516700000</td>\n",
       "      <td>12718</td>\n",
       "    </tr>\n",
       "    <tr>\n",
       "      <th>korea</th>\n",
       "      <td>169320000</td>\n",
       "      <td>5180</td>\n",
       "    </tr>\n",
       "    <tr>\n",
       "      <th>usa</th>\n",
       "      <td>2041280000</td>\n",
       "      <td>32676</td>\n",
       "    </tr>\n",
       "  </tbody>\n",
       "</table>\n",
       "</div>"
      ],
      "text/plain": [
       "              gdp  population\n",
       "china  1409250000      141500\n",
       "japan   516700000       12718\n",
       "korea   169320000        5180\n",
       "usa    2041280000       32676"
      ]
     },
     "metadata": {},
     "output_type": "display_data"
    }
   ],
   "source": [
    "gdp_dict= {'china': 1409250000,'japan': 516700000,'korea': 169320000,'usa': 2041280000,}\n",
    "gdp= pd.Series(gdp_dict)\n",
    "\n",
    "country = pd.DataFrame({'gdp':gdp, 'population':population})\n",
    "display(country)"
   ]
  },
  {
   "cell_type": "code",
   "execution_count": 36,
   "id": "e9e294be",
   "metadata": {},
   "outputs": [
    {
     "data": {
      "text/html": [
       "<div>\n",
       "<style scoped>\n",
       "    .dataframe tbody tr th:only-of-type {\n",
       "        vertical-align: middle;\n",
       "    }\n",
       "\n",
       "    .dataframe tbody tr th {\n",
       "        vertical-align: top;\n",
       "    }\n",
       "\n",
       "    .dataframe thead th {\n",
       "        text-align: right;\n",
       "    }\n",
       "</style>\n",
       "<table border=\"1\" class=\"dataframe\">\n",
       "  <thead>\n",
       "    <tr style=\"text-align: right;\">\n",
       "      <th></th>\n",
       "      <th>gdp</th>\n",
       "      <th>population</th>\n",
       "    </tr>\n",
       "    <tr>\n",
       "      <th>country</th>\n",
       "      <th></th>\n",
       "      <th></th>\n",
       "    </tr>\n",
       "  </thead>\n",
       "  <tbody>\n",
       "    <tr>\n",
       "      <th>china</th>\n",
       "      <td>1409250000</td>\n",
       "      <td>141500</td>\n",
       "    </tr>\n",
       "    <tr>\n",
       "      <th>japan</th>\n",
       "      <td>516700000</td>\n",
       "      <td>12718</td>\n",
       "    </tr>\n",
       "    <tr>\n",
       "      <th>korea</th>\n",
       "      <td>169320000</td>\n",
       "      <td>5180</td>\n",
       "    </tr>\n",
       "    <tr>\n",
       "      <th>usa</th>\n",
       "      <td>2041280000</td>\n",
       "      <td>32676</td>\n",
       "    </tr>\n",
       "  </tbody>\n",
       "</table>\n",
       "</div>"
      ],
      "text/plain": [
       "                gdp  population\n",
       "country                        \n",
       "china    1409250000      141500\n",
       "japan     516700000       12718\n",
       "korea     169320000        5180\n",
       "usa      2041280000       32676"
      ]
     },
     "metadata": {},
     "output_type": "display_data"
    }
   ],
   "source": [
    "# Dictionary를 활용하여 DataFrame 생성 가능\n",
    "data = {'country': ['china','japan','korea','usa'],\n",
    "        'gdp': [1409250000,516700000, 169320000, 2041280000],\n",
    "        'population': [141500,12718, 5180, 32676]}\n",
    "\n",
    "country = pd.DataFrame(data)\n",
    "country = country.set_index('country')\n",
    "display(country)"
   ]
  },
  {
   "cell_type": "code",
   "execution_count": 37,
   "id": "fb8dac96",
   "metadata": {},
   "outputs": [
    {
     "name": "stdout",
     "output_type": "stream",
     "text": [
      "(4, 2)\n",
      "8\n",
      "2\n",
      "[[1409250000     141500]\n",
      " [ 516700000      12718]\n",
      " [ 169320000       5180]\n",
      " [2041280000      32676]]\n"
     ]
    }
   ],
   "source": [
    "# DataFrame 속성 확인\n",
    "print(country.shape)\n",
    "print(country.size)\n",
    "print(country.ndim)\n",
    "print(country.values)"
   ]
  },
  {
   "cell_type": "code",
   "execution_count": 38,
   "id": "b722a99a",
   "metadata": {},
   "outputs": [
    {
     "name": "stdout",
     "output_type": "stream",
     "text": [
      "Index(['china', 'japan', 'korea', 'usa'], dtype='object', name='Country')\n",
      "Index(['gdp', 'population'], dtype='object', name='Info')\n"
     ]
    }
   ],
   "source": [
    "# DataFrame의 index와 column에 이름 지정\n",
    "country.index.name = 'Country'\n",
    "country.columns.name = 'Info'\n",
    "\n",
    "print(country.index)\n",
    "print(country.columns)"
   ]
  },
  {
   "cell_type": "code",
   "execution_count": 39,
   "id": "01f3cd7d",
   "metadata": {},
   "outputs": [
    {
     "name": "stdout",
     "output_type": "stream",
     "text": [
      "  Country         gdp  population\n",
      "0   china  1409250000      141500\n",
      "1   japan   516700000       12718\n",
      "2   korea   169320000        5180\n",
      "3     usa  2041280000       32676\n"
     ]
    }
   ],
   "source": [
    "# 데이터 프레임 저장 및 불러오기 가능\n",
    "country.to_csv('./country.csv')\n",
    "country.to_excel('country.xlsx')\n",
    "\n",
    "country = pd.read_csv('./country.csv')\n",
    "\n",
    "# country = pd.read_excel('country.xlsx')\n",
    "\n",
    "print(country)"
   ]
  },
  {
   "cell_type": "markdown",
   "id": "d4b648db",
   "metadata": {},
   "source": [
    "#### .loc : 명시적인 인덱스를 참조하는 인덱싱/슬라이싱"
   ]
  },
  {
   "cell_type": "code",
   "execution_count": 42,
   "id": "25d5aa98",
   "metadata": {},
   "outputs": [
    {
     "data": {
      "text/plain": [
       "gdp           1409250000\n",
       "population        141500\n",
       "Name: china, dtype: int64"
      ]
     },
     "metadata": {},
     "output_type": "display_data"
    },
    {
     "data": {
      "text/html": [
       "<div>\n",
       "<style scoped>\n",
       "    .dataframe tbody tr th:only-of-type {\n",
       "        vertical-align: middle;\n",
       "    }\n",
       "\n",
       "    .dataframe tbody tr th {\n",
       "        vertical-align: top;\n",
       "    }\n",
       "\n",
       "    .dataframe thead th {\n",
       "        text-align: right;\n",
       "    }\n",
       "</style>\n",
       "<table border=\"1\" class=\"dataframe\">\n",
       "  <thead>\n",
       "    <tr style=\"text-align: right;\">\n",
       "      <th></th>\n",
       "      <th>gdp</th>\n",
       "      <th>population</th>\n",
       "    </tr>\n",
       "    <tr>\n",
       "      <th>country</th>\n",
       "      <th></th>\n",
       "      <th></th>\n",
       "    </tr>\n",
       "  </thead>\n",
       "  <tbody>\n",
       "    <tr>\n",
       "      <th>japan</th>\n",
       "      <td>516700000</td>\n",
       "      <td>12718</td>\n",
       "    </tr>\n",
       "    <tr>\n",
       "      <th>korea</th>\n",
       "      <td>169320000</td>\n",
       "      <td>5180</td>\n",
       "    </tr>\n",
       "  </tbody>\n",
       "</table>\n",
       "</div>"
      ],
      "text/plain": [
       "               gdp  population\n",
       "country                       \n",
       "japan    516700000       12718\n",
       "korea    169320000        5180"
      ]
     },
     "metadata": {},
     "output_type": "display_data"
    }
   ],
   "source": [
    "data = {'country': ['china','japan','korea','usa'],\n",
    "        'gdp': [1409250000,516700000, 169320000, 2041280000],\n",
    "        'population': [141500,12718, 5180, 32676]}\n",
    "\n",
    "country = pd.DataFrame(data)\n",
    "country = country.set_index('country')\n",
    "\n",
    "idx = country.loc['china'] # 인덱싱\n",
    "display(idx)\n",
    "\n",
    "sl = country.loc['japan':'korea', :'population'] # 슬라이싱\n",
    "display(sl)"
   ]
  },
  {
   "cell_type": "markdown",
   "id": "d75fb57a",
   "metadata": {},
   "source": [
    "#### .iloc : 파이썬 스타일의 정수 인덱스 인덱싱/슬라이싱"
   ]
  },
  {
   "cell_type": "code",
   "execution_count": 47,
   "id": "f6eb5084",
   "metadata": {},
   "outputs": [
    {
     "data": {
      "text/plain": [
       "gdp           1409250000\n",
       "population        141500\n",
       "Name: china, dtype: int64"
      ]
     },
     "metadata": {},
     "output_type": "display_data"
    },
    {
     "data": {
      "text/html": [
       "<div>\n",
       "<style scoped>\n",
       "    .dataframe tbody tr th:only-of-type {\n",
       "        vertical-align: middle;\n",
       "    }\n",
       "\n",
       "    .dataframe tbody tr th {\n",
       "        vertical-align: top;\n",
       "    }\n",
       "\n",
       "    .dataframe thead th {\n",
       "        text-align: right;\n",
       "    }\n",
       "</style>\n",
       "<table border=\"1\" class=\"dataframe\">\n",
       "  <thead>\n",
       "    <tr style=\"text-align: right;\">\n",
       "      <th></th>\n",
       "      <th>gdp</th>\n",
       "      <th>population</th>\n",
       "    </tr>\n",
       "    <tr>\n",
       "      <th>country</th>\n",
       "      <th></th>\n",
       "      <th></th>\n",
       "    </tr>\n",
       "  </thead>\n",
       "  <tbody>\n",
       "    <tr>\n",
       "      <th>japan</th>\n",
       "      <td>516700000</td>\n",
       "      <td>12718</td>\n",
       "    </tr>\n",
       "    <tr>\n",
       "      <th>korea</th>\n",
       "      <td>169320000</td>\n",
       "      <td>5180</td>\n",
       "    </tr>\n",
       "  </tbody>\n",
       "</table>\n",
       "</div>"
      ],
      "text/plain": [
       "               gdp  population\n",
       "country                       \n",
       "japan    516700000       12718\n",
       "korea    169320000        5180"
      ]
     },
     "metadata": {},
     "output_type": "display_data"
    }
   ],
   "source": [
    "idx = country.iloc[0] # 인덱싱\n",
    "display(idx)\n",
    "\n",
    "sl = country.iloc[1:3, :2] # 슬라이싱\n",
    "display(sl)"
   ]
  },
  {
   "cell_type": "code",
   "execution_count": 48,
   "id": "fd636069",
   "metadata": {},
   "outputs": [
    {
     "data": {
      "text/html": [
       "<div>\n",
       "<style scoped>\n",
       "    .dataframe tbody tr th:only-of-type {\n",
       "        vertical-align: middle;\n",
       "    }\n",
       "\n",
       "    .dataframe tbody tr th {\n",
       "        vertical-align: top;\n",
       "    }\n",
       "\n",
       "    .dataframe thead th {\n",
       "        text-align: right;\n",
       "    }\n",
       "</style>\n",
       "<table border=\"1\" class=\"dataframe\">\n",
       "  <thead>\n",
       "    <tr style=\"text-align: right;\">\n",
       "      <th></th>\n",
       "      <th>gdp</th>\n",
       "      <th>population</th>\n",
       "    </tr>\n",
       "    <tr>\n",
       "      <th>country</th>\n",
       "      <th></th>\n",
       "      <th></th>\n",
       "    </tr>\n",
       "  </thead>\n",
       "  <tbody>\n",
       "    <tr>\n",
       "      <th>china</th>\n",
       "      <td>1409250000</td>\n",
       "      <td>141500</td>\n",
       "    </tr>\n",
       "    <tr>\n",
       "      <th>japan</th>\n",
       "      <td>516700000</td>\n",
       "      <td>12718</td>\n",
       "    </tr>\n",
       "    <tr>\n",
       "      <th>korea</th>\n",
       "      <td>169320000</td>\n",
       "      <td>5180</td>\n",
       "    </tr>\n",
       "    <tr>\n",
       "      <th>usa</th>\n",
       "      <td>2041280000</td>\n",
       "      <td>32676</td>\n",
       "    </tr>\n",
       "  </tbody>\n",
       "</table>\n",
       "</div>"
      ],
      "text/plain": [
       "                gdp  population\n",
       "country                        \n",
       "china    1409250000      141500\n",
       "japan     516700000       12718\n",
       "korea     169320000        5180\n",
       "usa      2041280000       32676"
      ]
     },
     "execution_count": 48,
     "metadata": {},
     "output_type": "execute_result"
    }
   ],
   "source": [
    "# 컬럼명 활용하여 DataFrame에서 데이터 선택 가능\n",
    "country"
   ]
  },
  {
   "cell_type": "code",
   "execution_count": 49,
   "id": "76f5cefa",
   "metadata": {},
   "outputs": [
    {
     "name": "stdout",
     "output_type": "stream",
     "text": [
      "country\n",
      "china    1409250000\n",
      "japan     516700000\n",
      "korea     169320000\n",
      "usa      2041280000\n",
      "Name: gdp, dtype: int64\n",
      "                gdp\n",
      "country            \n",
      "china    1409250000\n",
      "japan     516700000\n",
      "korea     169320000\n",
      "usa      2041280000\n"
     ]
    }
   ],
   "source": [
    "print(country['gdp'])\n",
    "print(country[['gdp']])"
   ]
  },
  {
   "cell_type": "code",
   "execution_count": 50,
   "id": "b88b1535",
   "metadata": {},
   "outputs": [
    {
     "data": {
      "text/html": [
       "<div>\n",
       "<style scoped>\n",
       "    .dataframe tbody tr th:only-of-type {\n",
       "        vertical-align: middle;\n",
       "    }\n",
       "\n",
       "    .dataframe tbody tr th {\n",
       "        vertical-align: top;\n",
       "    }\n",
       "\n",
       "    .dataframe thead th {\n",
       "        text-align: right;\n",
       "    }\n",
       "</style>\n",
       "<table border=\"1\" class=\"dataframe\">\n",
       "  <thead>\n",
       "    <tr style=\"text-align: right;\">\n",
       "      <th></th>\n",
       "      <th>gdp</th>\n",
       "      <th>population</th>\n",
       "    </tr>\n",
       "    <tr>\n",
       "      <th>country</th>\n",
       "      <th></th>\n",
       "      <th></th>\n",
       "    </tr>\n",
       "  </thead>\n",
       "  <tbody>\n",
       "    <tr>\n",
       "      <th>korea</th>\n",
       "      <td>169320000</td>\n",
       "      <td>5180</td>\n",
       "    </tr>\n",
       "  </tbody>\n",
       "</table>\n",
       "</div>"
      ],
      "text/plain": [
       "               gdp  population\n",
       "country                       \n",
       "korea    169320000        5180"
      ]
     },
     "execution_count": 50,
     "metadata": {},
     "output_type": "execute_result"
    }
   ],
   "source": [
    "# Masking 연산이나 query 함수를 활용하여 조건에 맞는 DataFrame 행 추출 가능\n",
    "country[country['population'] < 10000] # masking 연산 활용"
   ]
  },
  {
   "cell_type": "code",
   "execution_count": 51,
   "id": "cc8d7814",
   "metadata": {},
   "outputs": [
    {
     "data": {
      "text/html": [
       "<div>\n",
       "<style scoped>\n",
       "    .dataframe tbody tr th:only-of-type {\n",
       "        vertical-align: middle;\n",
       "    }\n",
       "\n",
       "    .dataframe tbody tr th {\n",
       "        vertical-align: top;\n",
       "    }\n",
       "\n",
       "    .dataframe thead th {\n",
       "        text-align: right;\n",
       "    }\n",
       "</style>\n",
       "<table border=\"1\" class=\"dataframe\">\n",
       "  <thead>\n",
       "    <tr style=\"text-align: right;\">\n",
       "      <th></th>\n",
       "      <th>gdp</th>\n",
       "      <th>population</th>\n",
       "    </tr>\n",
       "    <tr>\n",
       "      <th>country</th>\n",
       "      <th></th>\n",
       "      <th></th>\n",
       "    </tr>\n",
       "  </thead>\n",
       "  <tbody>\n",
       "    <tr>\n",
       "      <th>china</th>\n",
       "      <td>1409250000</td>\n",
       "      <td>141500</td>\n",
       "    </tr>\n",
       "  </tbody>\n",
       "</table>\n",
       "</div>"
      ],
      "text/plain": [
       "                gdp  population\n",
       "country                        \n",
       "china    1409250000      141500"
      ]
     },
     "execution_count": 51,
     "metadata": {},
     "output_type": "execute_result"
    }
   ],
   "source": [
    "country.query(\"population > 100000\") # query 함수 활용"
   ]
  },
  {
   "cell_type": "code",
   "execution_count": 53,
   "id": "bc70ce7d",
   "metadata": {},
   "outputs": [
    {
     "data": {
      "text/html": [
       "<div>\n",
       "<style scoped>\n",
       "    .dataframe tbody tr th:only-of-type {\n",
       "        vertical-align: middle;\n",
       "    }\n",
       "\n",
       "    .dataframe tbody tr th {\n",
       "        vertical-align: top;\n",
       "    }\n",
       "\n",
       "    .dataframe thead th {\n",
       "        text-align: right;\n",
       "    }\n",
       "</style>\n",
       "<table border=\"1\" class=\"dataframe\">\n",
       "  <thead>\n",
       "    <tr style=\"text-align: right;\">\n",
       "      <th></th>\n",
       "      <th>gdp</th>\n",
       "      <th>population</th>\n",
       "      <th>gdp per capita</th>\n",
       "    </tr>\n",
       "    <tr>\n",
       "      <th>country</th>\n",
       "      <th></th>\n",
       "      <th></th>\n",
       "      <th></th>\n",
       "    </tr>\n",
       "  </thead>\n",
       "  <tbody>\n",
       "    <tr>\n",
       "      <th>china</th>\n",
       "      <td>1409250000</td>\n",
       "      <td>141500</td>\n",
       "      <td>9959.363958</td>\n",
       "    </tr>\n",
       "    <tr>\n",
       "      <th>japan</th>\n",
       "      <td>516700000</td>\n",
       "      <td>12718</td>\n",
       "      <td>40627.457147</td>\n",
       "    </tr>\n",
       "    <tr>\n",
       "      <th>korea</th>\n",
       "      <td>169320000</td>\n",
       "      <td>5180</td>\n",
       "      <td>32687.258687</td>\n",
       "    </tr>\n",
       "    <tr>\n",
       "      <th>usa</th>\n",
       "      <td>2041280000</td>\n",
       "      <td>32676</td>\n",
       "      <td>62470.314604</td>\n",
       "    </tr>\n",
       "  </tbody>\n",
       "</table>\n",
       "</div>"
      ],
      "text/plain": [
       "                gdp  population  gdp per capita\n",
       "country                                        \n",
       "china    1409250000      141500     9959.363958\n",
       "japan     516700000       12718    40627.457147\n",
       "korea     169320000        5180    32687.258687\n",
       "usa      2041280000       32676    62470.314604"
      ]
     },
     "execution_count": 53,
     "metadata": {},
     "output_type": "execute_result"
    }
   ],
   "source": [
    "# Series도 numpy array처럼 연산자 활용 가능\n",
    "gdp_per_capita = country['gdp'] / country['population']\n",
    "country['gdp per capita']  = gdp_per_capita\n",
    "country"
   ]
  },
  {
   "cell_type": "code",
   "execution_count": 58,
   "id": "97ef1cae",
   "metadata": {},
   "outputs": [
    {
     "data": {
      "text/html": [
       "<div>\n",
       "<style scoped>\n",
       "    .dataframe tbody tr th:only-of-type {\n",
       "        vertical-align: middle;\n",
       "    }\n",
       "\n",
       "    .dataframe tbody tr th {\n",
       "        vertical-align: top;\n",
       "    }\n",
       "\n",
       "    .dataframe thead th {\n",
       "        text-align: right;\n",
       "    }\n",
       "</style>\n",
       "<table border=\"1\" class=\"dataframe\">\n",
       "  <thead>\n",
       "    <tr style=\"text-align: right;\">\n",
       "      <th></th>\n",
       "      <th>이름</th>\n",
       "      <th>나이</th>\n",
       "      <th>주소</th>\n",
       "    </tr>\n",
       "  </thead>\n",
       "  <tbody>\n",
       "    <tr>\n",
       "      <th>0</th>\n",
       "      <td>길동</td>\n",
       "      <td>26</td>\n",
       "      <td>서울</td>\n",
       "    </tr>\n",
       "  </tbody>\n",
       "</table>\n",
       "</div>"
      ],
      "text/plain": [
       "   이름  나이  주소\n",
       "0  길동  26  서울"
      ]
     },
     "metadata": {},
     "output_type": "display_data"
    },
    {
     "data": {
      "text/html": [
       "<div>\n",
       "<style scoped>\n",
       "    .dataframe tbody tr th:only-of-type {\n",
       "        vertical-align: middle;\n",
       "    }\n",
       "\n",
       "    .dataframe tbody tr th {\n",
       "        vertical-align: top;\n",
       "    }\n",
       "\n",
       "    .dataframe thead th {\n",
       "        text-align: right;\n",
       "    }\n",
       "</style>\n",
       "<table border=\"1\" class=\"dataframe\">\n",
       "  <thead>\n",
       "    <tr style=\"text-align: right;\">\n",
       "      <th></th>\n",
       "      <th>이름</th>\n",
       "      <th>나이</th>\n",
       "      <th>주소</th>\n",
       "    </tr>\n",
       "  </thead>\n",
       "  <tbody>\n",
       "    <tr>\n",
       "      <th>0</th>\n",
       "      <td>길동</td>\n",
       "      <td>26</td>\n",
       "      <td>서울</td>\n",
       "    </tr>\n",
       "    <tr>\n",
       "      <th>1</th>\n",
       "      <td>철수</td>\n",
       "      <td>25</td>\n",
       "      <td>인천</td>\n",
       "    </tr>\n",
       "  </tbody>\n",
       "</table>\n",
       "</div>"
      ],
      "text/plain": [
       "   이름  나이  주소\n",
       "0  길동  26  서울\n",
       "1  철수  25  인천"
      ]
     },
     "metadata": {},
     "output_type": "display_data"
    },
    {
     "data": {
      "text/html": [
       "<div>\n",
       "<style scoped>\n",
       "    .dataframe tbody tr th:only-of-type {\n",
       "        vertical-align: middle;\n",
       "    }\n",
       "\n",
       "    .dataframe tbody tr th {\n",
       "        vertical-align: top;\n",
       "    }\n",
       "\n",
       "    .dataframe thead th {\n",
       "        text-align: right;\n",
       "    }\n",
       "</style>\n",
       "<table border=\"1\" class=\"dataframe\">\n",
       "  <thead>\n",
       "    <tr style=\"text-align: right;\">\n",
       "      <th></th>\n",
       "      <th>이름</th>\n",
       "      <th>나이</th>\n",
       "      <th>주소</th>\n",
       "    </tr>\n",
       "  </thead>\n",
       "  <tbody>\n",
       "    <tr>\n",
       "      <th>0</th>\n",
       "      <td>길동</td>\n",
       "      <td>26</td>\n",
       "      <td>서울</td>\n",
       "    </tr>\n",
       "    <tr>\n",
       "      <th>1</th>\n",
       "      <td>영희</td>\n",
       "      <td>25</td>\n",
       "      <td>인천</td>\n",
       "    </tr>\n",
       "  </tbody>\n",
       "</table>\n",
       "</div>"
      ],
      "text/plain": [
       "   이름  나이  주소\n",
       "0  길동  26  서울\n",
       "1  영희  25  인천"
      ]
     },
     "metadata": {},
     "output_type": "display_data"
    }
   ],
   "source": [
    "# list로 추가 or Dictionary로 추가\n",
    "\n",
    "df = pd.DataFrame(columns=['이름','나이','주소']) # DataFrame 생성\n",
    "df.loc[0] = ['길동', '26', '서울'] # list로 데이터 추가\n",
    "display(df)\n",
    "\n",
    "df.loc[1] = {'이름':'철수', '나이':'25', '주소':'인천'} # Dictionary로 데이터 추가\n",
    "display(df)\n",
    "\n",
    "df.loc[1, '이름'] = '영희'# 명시적 인덱스 활용하여 데이터수정\n",
    "display(df)\n",
    "3"
   ]
  },
  {
   "cell_type": "code",
   "execution_count": 62,
   "id": "1f796bb1",
   "metadata": {},
   "outputs": [
    {
     "data": {
      "text/html": [
       "<div>\n",
       "<style scoped>\n",
       "    .dataframe tbody tr th:only-of-type {\n",
       "        vertical-align: middle;\n",
       "    }\n",
       "\n",
       "    .dataframe tbody tr th {\n",
       "        vertical-align: top;\n",
       "    }\n",
       "\n",
       "    .dataframe thead th {\n",
       "        text-align: right;\n",
       "    }\n",
       "</style>\n",
       "<table border=\"1\" class=\"dataframe\">\n",
       "  <thead>\n",
       "    <tr style=\"text-align: right;\">\n",
       "      <th></th>\n",
       "      <th>이름</th>\n",
       "      <th>나이</th>\n",
       "      <th>주소</th>\n",
       "      <th>전화번호</th>\n",
       "    </tr>\n",
       "  </thead>\n",
       "  <tbody>\n",
       "    <tr>\n",
       "      <th>0</th>\n",
       "      <td>길동</td>\n",
       "      <td>26</td>\n",
       "      <td>서울</td>\n",
       "      <td>NaN</td>\n",
       "    </tr>\n",
       "    <tr>\n",
       "      <th>1</th>\n",
       "      <td>영희</td>\n",
       "      <td>25</td>\n",
       "      <td>인천</td>\n",
       "      <td>NaN</td>\n",
       "    </tr>\n",
       "  </tbody>\n",
       "</table>\n",
       "</div>"
      ],
      "text/plain": [
       "   이름  나이  주소  전화번호\n",
       "0  길동  26  서울   NaN\n",
       "1  영희  25  인천   NaN"
      ]
     },
     "metadata": {},
     "output_type": "display_data"
    },
    {
     "data": {
      "text/html": [
       "<div>\n",
       "<style scoped>\n",
       "    .dataframe tbody tr th:only-of-type {\n",
       "        vertical-align: middle;\n",
       "    }\n",
       "\n",
       "    .dataframe tbody tr th {\n",
       "        vertical-align: top;\n",
       "    }\n",
       "\n",
       "    .dataframe thead th {\n",
       "        text-align: right;\n",
       "    }\n",
       "</style>\n",
       "<table border=\"1\" class=\"dataframe\">\n",
       "  <thead>\n",
       "    <tr style=\"text-align: right;\">\n",
       "      <th></th>\n",
       "      <th>이름</th>\n",
       "      <th>나이</th>\n",
       "      <th>주소</th>\n",
       "      <th>전화번호</th>\n",
       "    </tr>\n",
       "  </thead>\n",
       "  <tbody>\n",
       "    <tr>\n",
       "      <th>0</th>\n",
       "      <td>길동</td>\n",
       "      <td>26</td>\n",
       "      <td>서울</td>\n",
       "      <td>01012341234</td>\n",
       "    </tr>\n",
       "    <tr>\n",
       "      <th>1</th>\n",
       "      <td>영희</td>\n",
       "      <td>25</td>\n",
       "      <td>인천</td>\n",
       "      <td>NaN</td>\n",
       "    </tr>\n",
       "  </tbody>\n",
       "</table>\n",
       "</div>"
      ],
      "text/plain": [
       "   이름  나이  주소         전화번호\n",
       "0  길동  26  서울  01012341234\n",
       "1  영희  25  인천          NaN"
      ]
     },
     "metadata": {},
     "output_type": "display_data"
    }
   ],
   "source": [
    "import numpy as np\n",
    "# NaN(= Not a Number)값으로 초기화 한 새로운 컬럼 추가\n",
    "\n",
    "df['전화번호'] = np.nan # 새로운 컬럼 추가 후 NaN으로 초기화\n",
    "display(df)\n",
    "\n",
    "df.loc[0, '전화번호'] = '01012341234' # 명시적 인덱스 활용하여 데이터 수정\n",
    "display(df)"
   ]
  },
  {
   "cell_type": "code",
   "execution_count": 63,
   "id": "8f4eff78",
   "metadata": {},
   "outputs": [],
   "source": [
    "# DataFrame에서 컬럼 삭제 후 원본 변경\n",
    "\n",
    "df.drop('전화번호', axis = 1, inplace = True) # 컬럼 삭제\n",
    "#axis = 1 : 열방향/axis = 0 : 행방향\n",
    "#inplace= True : 원본변경/inplace=False : 원본변경X"
   ]
  },
  {
   "cell_type": "code",
   "execution_count": 64,
   "id": "19f24494",
   "metadata": {},
   "outputs": [
    {
     "data": {
      "text/html": [
       "<div>\n",
       "<style scoped>\n",
       "    .dataframe tbody tr th:only-of-type {\n",
       "        vertical-align: middle;\n",
       "    }\n",
       "\n",
       "    .dataframe tbody tr th {\n",
       "        vertical-align: top;\n",
       "    }\n",
       "\n",
       "    .dataframe thead th {\n",
       "        text-align: right;\n",
       "    }\n",
       "</style>\n",
       "<table border=\"1\" class=\"dataframe\">\n",
       "  <thead>\n",
       "    <tr style=\"text-align: right;\">\n",
       "      <th></th>\n",
       "      <th>이름</th>\n",
       "      <th>나이</th>\n",
       "      <th>주소</th>\n",
       "    </tr>\n",
       "  </thead>\n",
       "  <tbody>\n",
       "    <tr>\n",
       "      <th>0</th>\n",
       "      <td>길동</td>\n",
       "      <td>26</td>\n",
       "      <td>서울</td>\n",
       "    </tr>\n",
       "    <tr>\n",
       "      <th>1</th>\n",
       "      <td>영희</td>\n",
       "      <td>25</td>\n",
       "      <td>인천</td>\n",
       "    </tr>\n",
       "  </tbody>\n",
       "</table>\n",
       "</div>"
      ],
      "text/plain": [
       "   이름  나이  주소\n",
       "0  길동  26  서울\n",
       "1  영희  25  인천"
      ]
     },
     "execution_count": 64,
     "metadata": {},
     "output_type": "execute_result"
    }
   ],
   "source": [
    "df"
   ]
  },
  {
   "cell_type": "markdown",
   "id": "621742dc",
   "metadata": {},
   "source": [
    "### 실습 1"
   ]
  },
  {
   "cell_type": "code",
   "execution_count": 65,
   "id": "3f6ca2f9",
   "metadata": {},
   "outputs": [
    {
     "name": "stdout",
     "output_type": "stream",
     "text": [
      "a    1\n",
      "b    2\n",
      "c    3\n",
      "d    4\n",
      "Name: Title, dtype: int64 \n",
      "\n",
      "korea      5180\n",
      "japan     12718\n",
      "china    141500\n",
      "usa       32676\n",
      "dtype: int64\n"
     ]
    }
   ],
   "source": [
    "import numpy as np\n",
    "import pandas as pd\n",
    "\n",
    "# 예시) 시리즈 데이터를 만드는 방법.\n",
    "series = pd.Series([1,2,3,4], index = ['a', 'b', 'c', 'd'], name=\"Title\")\n",
    "print(series, \"\\n\")\n",
    "\n",
    "\n",
    "# 국가별 인구 수 시리즈 데이터를 딕셔너리를 사용하여 만들어보세요.\n",
    "dict = {'korea' : 5180, 'japan': 12718, 'china' : 141500, 'usa' : 32676}\n",
    "country = pd.Series(dict)\n",
    "print(country)"
   ]
  },
  {
   "cell_type": "markdown",
   "id": "6e6b200a",
   "metadata": {},
   "source": [
    "### 실습 2"
   ]
  },
  {
   "cell_type": "code",
   "execution_count": 66,
   "id": "c2c8ca39",
   "metadata": {},
   "outputs": [
    {
     "name": "stdout",
     "output_type": "stream",
     "text": [
      "Population series data:\n",
      "korea      5180\n",
      "japan     12718\n",
      "china    141500\n",
      "usa       32676\n",
      "dtype: int64 \n",
      "\n",
      "GDP series data:\n",
      "korea     169320000\n",
      "japan     516700000\n",
      "china    1409250000\n",
      "usa      2041280000\n",
      "dtype: int64 \n",
      "\n",
      "Country DataFrame\n",
      "       population         gdp\n",
      "korea        5180   169320000\n",
      "japan       12718   516700000\n",
      "china      141500  1409250000\n",
      "usa         32676  2041280000\n"
     ]
    }
   ],
   "source": [
    "import numpy as np\n",
    "import pandas as pd\n",
    "\n",
    "# 두 개의 시리즈 데이터가 있습니다.\n",
    "print(\"Population series data:\")\n",
    "population_dict = {\n",
    "    'korea': 5180,\n",
    "    'japan': 12718,\n",
    "    'china': 141500,\n",
    "    'usa': 32676\n",
    "}\n",
    "population = pd.Series(population_dict)\n",
    "print(population, \"\\n\")\n",
    "\n",
    "print(\"GDP series data:\")\n",
    "gdp_dict = {\n",
    "    'korea': 169320000,\n",
    "    'japan': 516700000,\n",
    "    'china': 1409250000,\n",
    "    'usa': 2041280000,\n",
    "}\n",
    "gdp = pd.Series(gdp_dict)\n",
    "print(gdp, \"\\n\")\n",
    "\n",
    "\n",
    "# 이곳에서 2개의 시리즈 값이 들어간 데이터프레임을 생성합니다.\n",
    "print(\"Country DataFrame\")\n",
    "country = pd.DataFrame({'population':population,'gdp':gdp})\n",
    "print(country)\n"
   ]
  },
  {
   "cell_type": "markdown",
   "id": "7c604772",
   "metadata": {},
   "source": [
    "### 실습 3"
   ]
  },
  {
   "cell_type": "code",
   "execution_count": 67,
   "id": "d3d97443",
   "metadata": {},
   "outputs": [
    {
     "name": "stdout",
     "output_type": "stream",
     "text": [
      "Masking & query\n",
      "          A         B\n",
      "0  0.871126  0.772657\n",
      "1  0.458188  0.796000\n",
      "2  0.585945  0.621700\n",
      "3  0.435743  0.585024\n",
      "4  0.020204  0.454780 \n",
      "\n",
      "          A         B\n",
      "1  0.458188  0.796000\n",
      "3  0.435743  0.585024\n",
      "4  0.020204  0.454780\n",
      "          A         B\n",
      "1  0.458188  0.796000\n",
      "3  0.435743  0.585024\n",
      "4  0.020204  0.454780\n"
     ]
    }
   ],
   "source": [
    "import numpy as np\n",
    "import pandas as pd\n",
    "\n",
    "print(\"Masking & query\")\n",
    "df = pd.DataFrame(np.random.rand(5, 2), columns=[\"A\", \"B\"])\n",
    "print(df, \"\\n\")\n",
    "\n",
    "# 데이터 프레임에서 A컬럼값이 0.5보다 작고 B컬럼 값이 0.3보다 큰값들을 구해봅시다.\n",
    "# 마스킹 연산을 활용하여 출력해보세요!\n",
    "print(df[(df['A']<0.5) & (df['B']>0.3)])\n",
    "\n",
    "# query 함수를 활용하여 출력해보세요!\n",
    "\n",
    "print(df.query(\"A < 0.5 and B>0.3\"))"
   ]
  },
  {
   "cell_type": "markdown",
   "id": "e232d8e3",
   "metadata": {},
   "source": [
    "### 실습 4"
   ]
  },
  {
   "cell_type": "code",
   "execution_count": 68,
   "id": "4cb02e6e",
   "metadata": {},
   "outputs": [
    {
     "name": "stdout",
     "output_type": "stream",
     "text": [
      "Country DataFrame\n",
      "       population         gdp\n",
      "korea        5180   169320000\n",
      "japan       12718   516700000\n",
      "china      141500  1409250000\n",
      "usa         32676  2041280000\n",
      "korea    32687.258687\n",
      "japan    40627.457147\n",
      "china     9959.363958\n",
      "usa      62470.314604\n",
      "dtype: float64\n",
      "       population         gdp  gdp per capita\n",
      "korea        5180   169320000    32687.258687\n",
      "japan       12718   516700000    40627.457147\n",
      "china      141500  1409250000     9959.363958\n",
      "usa         32676  2041280000    62470.314604\n"
     ]
    }
   ],
   "source": [
    "import numpy as np\n",
    "import pandas as pd\n",
    "\n",
    "# GDP와 인구수 시리즈 값이 들어간 데이터프레임을 생성합니다.\n",
    "population = pd.Series({'korea': 5180,'japan': 12718,'china': 141500,'usa': 32676})\n",
    "gdp = pd.Series({'korea': 169320000,'japan': 516700000,'china': 1409250000,'usa': 2041280000})\n",
    "print(\"Country DataFrame\")\n",
    "country = pd.DataFrame({\"population\" : population,\"gdp\" : gdp})\n",
    "print(country)\n",
    "\n",
    "\n",
    "# 데이터프레임에 gdp per capita 칼럼을 추가하고 출력합니다.\n",
    "gdp_per_capita = country['gdp'] / country['population']\n",
    "print(gdp_per_capita)\n",
    "country['gdp per capita'] = gdp_per_capita\n",
    "print(country)"
   ]
  },
  {
   "cell_type": "code",
   "execution_count": 92,
   "id": "7c7e3baa",
   "metadata": {},
   "outputs": [
    {
     "data": {
      "text/html": [
       "<div>\n",
       "<style scoped>\n",
       "    .dataframe tbody tr th:only-of-type {\n",
       "        vertical-align: middle;\n",
       "    }\n",
       "\n",
       "    .dataframe tbody tr th {\n",
       "        vertical-align: top;\n",
       "    }\n",
       "\n",
       "    .dataframe thead th {\n",
       "        text-align: right;\n",
       "    }\n",
       "</style>\n",
       "<table border=\"1\" class=\"dataframe\">\n",
       "  <thead>\n",
       "    <tr style=\"text-align: right;\">\n",
       "      <th></th>\n",
       "      <th>col1</th>\n",
       "      <th>col2</th>\n",
       "      <th>col3</th>\n",
       "    </tr>\n",
       "  </thead>\n",
       "  <tbody>\n",
       "    <tr>\n",
       "      <th>1</th>\n",
       "      <td>1</td>\n",
       "      <td>A</td>\n",
       "      <td>1</td>\n",
       "    </tr>\n",
       "    <tr>\n",
       "      <th>0</th>\n",
       "      <td>2</td>\n",
       "      <td>A</td>\n",
       "      <td>0</td>\n",
       "    </tr>\n",
       "    <tr>\n",
       "      <th>2</th>\n",
       "      <td>9</td>\n",
       "      <td>B</td>\n",
       "      <td>9</td>\n",
       "    </tr>\n",
       "    <tr>\n",
       "      <th>4</th>\n",
       "      <td>7</td>\n",
       "      <td>D</td>\n",
       "      <td>2</td>\n",
       "    </tr>\n",
       "    <tr>\n",
       "      <th>3</th>\n",
       "      <td>8</td>\n",
       "      <td>NaN</td>\n",
       "      <td>4</td>\n",
       "    </tr>\n",
       "    <tr>\n",
       "      <th>5</th>\n",
       "      <td>4</td>\n",
       "      <td>C</td>\n",
       "      <td>3</td>\n",
       "    </tr>\n",
       "  </tbody>\n",
       "</table>\n",
       "</div>"
      ],
      "text/plain": [
       "   col1 col2  col3\n",
       "1     1    A     1\n",
       "0     2    A     0\n",
       "2     9    B     9\n",
       "4     7    D     2\n",
       "3     8  NaN     4\n",
       "5     4    C     3"
      ]
     },
     "metadata": {},
     "output_type": "display_data"
    }
   ],
   "source": [
    "df = pd.DataFrame({'col1':[1, 2, 9, 7, 8, 4],\n",
    "                  'col2':['A','A','B','D','NaN','C'],\n",
    "                  'col3':[1, 0, 9, 2, 4, 3]}, index = [1, 0, 2, 4, 3, 5])\n",
    "display(df)"
   ]
  },
  {
   "cell_type": "code",
   "execution_count": 93,
   "id": "e05de6db",
   "metadata": {},
   "outputs": [
    {
     "data": {
      "text/html": [
       "<div>\n",
       "<style scoped>\n",
       "    .dataframe tbody tr th:only-of-type {\n",
       "        vertical-align: middle;\n",
       "    }\n",
       "\n",
       "    .dataframe tbody tr th {\n",
       "        vertical-align: top;\n",
       "    }\n",
       "\n",
       "    .dataframe thead th {\n",
       "        text-align: right;\n",
       "    }\n",
       "</style>\n",
       "<table border=\"1\" class=\"dataframe\">\n",
       "  <thead>\n",
       "    <tr style=\"text-align: right;\">\n",
       "      <th></th>\n",
       "      <th>col1</th>\n",
       "      <th>col2</th>\n",
       "      <th>col3</th>\n",
       "    </tr>\n",
       "  </thead>\n",
       "  <tbody>\n",
       "    <tr>\n",
       "      <th>0</th>\n",
       "      <td>2</td>\n",
       "      <td>A</td>\n",
       "      <td>0</td>\n",
       "    </tr>\n",
       "    <tr>\n",
       "      <th>1</th>\n",
       "      <td>1</td>\n",
       "      <td>A</td>\n",
       "      <td>1</td>\n",
       "    </tr>\n",
       "    <tr>\n",
       "      <th>2</th>\n",
       "      <td>9</td>\n",
       "      <td>B</td>\n",
       "      <td>9</td>\n",
       "    </tr>\n",
       "    <tr>\n",
       "      <th>3</th>\n",
       "      <td>8</td>\n",
       "      <td>NaN</td>\n",
       "      <td>4</td>\n",
       "    </tr>\n",
       "    <tr>\n",
       "      <th>4</th>\n",
       "      <td>7</td>\n",
       "      <td>D</td>\n",
       "      <td>2</td>\n",
       "    </tr>\n",
       "    <tr>\n",
       "      <th>5</th>\n",
       "      <td>4</td>\n",
       "      <td>C</td>\n",
       "      <td>3</td>\n",
       "    </tr>\n",
       "  </tbody>\n",
       "</table>\n",
       "</div>"
      ],
      "text/plain": [
       "   col1 col2  col3\n",
       "0     2    A     0\n",
       "1     1    A     1\n",
       "2     9    B     9\n",
       "3     8  NaN     4\n",
       "4     7    D     2\n",
       "5     4    C     3"
      ]
     },
     "execution_count": 93,
     "metadata": {},
     "output_type": "execute_result"
    }
   ],
   "source": [
    "# axis = 0 : 행 인덱스 기준 정렬(Default 오름차순)\n",
    "df = df.sort_index(axis = 0)\n",
    "df"
   ]
  },
  {
   "cell_type": "code",
   "execution_count": 94,
   "id": "ce553672",
   "metadata": {},
   "outputs": [
    {
     "data": {
      "text/html": [
       "<div>\n",
       "<style scoped>\n",
       "    .dataframe tbody tr th:only-of-type {\n",
       "        vertical-align: middle;\n",
       "    }\n",
       "\n",
       "    .dataframe tbody tr th {\n",
       "        vertical-align: top;\n",
       "    }\n",
       "\n",
       "    .dataframe thead th {\n",
       "        text-align: right;\n",
       "    }\n",
       "</style>\n",
       "<table border=\"1\" class=\"dataframe\">\n",
       "  <thead>\n",
       "    <tr style=\"text-align: right;\">\n",
       "      <th></th>\n",
       "      <th>col1</th>\n",
       "      <th>col2</th>\n",
       "      <th>col3</th>\n",
       "    </tr>\n",
       "  </thead>\n",
       "  <tbody>\n",
       "    <tr>\n",
       "      <th>1</th>\n",
       "      <td>1</td>\n",
       "      <td>A</td>\n",
       "      <td>1</td>\n",
       "    </tr>\n",
       "    <tr>\n",
       "      <th>0</th>\n",
       "      <td>2</td>\n",
       "      <td>A</td>\n",
       "      <td>0</td>\n",
       "    </tr>\n",
       "    <tr>\n",
       "      <th>2</th>\n",
       "      <td>9</td>\n",
       "      <td>B</td>\n",
       "      <td>9</td>\n",
       "    </tr>\n",
       "    <tr>\n",
       "      <th>4</th>\n",
       "      <td>7</td>\n",
       "      <td>D</td>\n",
       "      <td>2</td>\n",
       "    </tr>\n",
       "    <tr>\n",
       "      <th>3</th>\n",
       "      <td>8</td>\n",
       "      <td>NaN</td>\n",
       "      <td>4</td>\n",
       "    </tr>\n",
       "    <tr>\n",
       "      <th>5</th>\n",
       "      <td>4</td>\n",
       "      <td>C</td>\n",
       "      <td>3</td>\n",
       "    </tr>\n",
       "  </tbody>\n",
       "</table>\n",
       "</div>"
      ],
      "text/plain": [
       "   col1 col2  col3\n",
       "1     1    A     1\n",
       "0     2    A     0\n",
       "2     9    B     9\n",
       "4     7    D     2\n",
       "3     8  NaN     4\n",
       "5     4    C     3"
      ]
     },
     "metadata": {},
     "output_type": "display_data"
    },
    {
     "data": {
      "text/html": [
       "<div>\n",
       "<style scoped>\n",
       "    .dataframe tbody tr th:only-of-type {\n",
       "        vertical-align: middle;\n",
       "    }\n",
       "\n",
       "    .dataframe tbody tr th {\n",
       "        vertical-align: top;\n",
       "    }\n",
       "\n",
       "    .dataframe thead th {\n",
       "        text-align: right;\n",
       "    }\n",
       "</style>\n",
       "<table border=\"1\" class=\"dataframe\">\n",
       "  <thead>\n",
       "    <tr style=\"text-align: right;\">\n",
       "      <th></th>\n",
       "      <th>col3</th>\n",
       "      <th>col2</th>\n",
       "      <th>col1</th>\n",
       "    </tr>\n",
       "  </thead>\n",
       "  <tbody>\n",
       "    <tr>\n",
       "      <th>1</th>\n",
       "      <td>1</td>\n",
       "      <td>A</td>\n",
       "      <td>1</td>\n",
       "    </tr>\n",
       "    <tr>\n",
       "      <th>0</th>\n",
       "      <td>0</td>\n",
       "      <td>A</td>\n",
       "      <td>2</td>\n",
       "    </tr>\n",
       "    <tr>\n",
       "      <th>2</th>\n",
       "      <td>9</td>\n",
       "      <td>B</td>\n",
       "      <td>9</td>\n",
       "    </tr>\n",
       "    <tr>\n",
       "      <th>4</th>\n",
       "      <td>2</td>\n",
       "      <td>D</td>\n",
       "      <td>7</td>\n",
       "    </tr>\n",
       "    <tr>\n",
       "      <th>3</th>\n",
       "      <td>4</td>\n",
       "      <td>NaN</td>\n",
       "      <td>8</td>\n",
       "    </tr>\n",
       "    <tr>\n",
       "      <th>5</th>\n",
       "      <td>3</td>\n",
       "      <td>C</td>\n",
       "      <td>4</td>\n",
       "    </tr>\n",
       "  </tbody>\n",
       "</table>\n",
       "</div>"
      ],
      "text/plain": [
       "   col3 col2  col1\n",
       "1     1    A     1\n",
       "0     0    A     2\n",
       "2     9    B     9\n",
       "4     2    D     7\n",
       "3     4  NaN     8\n",
       "5     3    C     4"
      ]
     },
     "metadata": {},
     "output_type": "display_data"
    }
   ],
   "source": [
    "# axis = 1 : 열 인덱스 기준 정렬, 내림차순 정렬\n",
    "df = pd.DataFrame({'col1':[1, 2, 9, 7, 8, 4],\n",
    "                  'col2':['A','A','B','D','NaN','C'],\n",
    "                  'col3':[1, 0, 9, 2, 4, 3]}, index = [1, 0, 2, 4, 3, 5])\n",
    "display(df)\n",
    "\n",
    "df = df.sort_index(axis = 1, ascending = False)\n",
    "display(df)"
   ]
  },
  {
   "cell_type": "code",
   "execution_count": 95,
   "id": "355bc1c0",
   "metadata": {},
   "outputs": [
    {
     "data": {
      "text/html": [
       "<div>\n",
       "<style scoped>\n",
       "    .dataframe tbody tr th:only-of-type {\n",
       "        vertical-align: middle;\n",
       "    }\n",
       "\n",
       "    .dataframe tbody tr th {\n",
       "        vertical-align: top;\n",
       "    }\n",
       "\n",
       "    .dataframe thead th {\n",
       "        text-align: right;\n",
       "    }\n",
       "</style>\n",
       "<table border=\"1\" class=\"dataframe\">\n",
       "  <thead>\n",
       "    <tr style=\"text-align: right;\">\n",
       "      <th></th>\n",
       "      <th>col1</th>\n",
       "      <th>col2</th>\n",
       "      <th>col3</th>\n",
       "    </tr>\n",
       "  </thead>\n",
       "  <tbody>\n",
       "    <tr>\n",
       "      <th>1</th>\n",
       "      <td>1</td>\n",
       "      <td>A</td>\n",
       "      <td>1</td>\n",
       "    </tr>\n",
       "    <tr>\n",
       "      <th>0</th>\n",
       "      <td>2</td>\n",
       "      <td>A</td>\n",
       "      <td>0</td>\n",
       "    </tr>\n",
       "    <tr>\n",
       "      <th>2</th>\n",
       "      <td>9</td>\n",
       "      <td>B</td>\n",
       "      <td>9</td>\n",
       "    </tr>\n",
       "    <tr>\n",
       "      <th>4</th>\n",
       "      <td>7</td>\n",
       "      <td>D</td>\n",
       "      <td>2</td>\n",
       "    </tr>\n",
       "    <tr>\n",
       "      <th>3</th>\n",
       "      <td>8</td>\n",
       "      <td>NaN</td>\n",
       "      <td>4</td>\n",
       "    </tr>\n",
       "    <tr>\n",
       "      <th>5</th>\n",
       "      <td>4</td>\n",
       "      <td>C</td>\n",
       "      <td>3</td>\n",
       "    </tr>\n",
       "  </tbody>\n",
       "</table>\n",
       "</div>"
      ],
      "text/plain": [
       "   col1 col2  col3\n",
       "1     1    A     1\n",
       "0     2    A     0\n",
       "2     9    B     9\n",
       "4     7    D     2\n",
       "3     8  NaN     4\n",
       "5     4    C     3"
      ]
     },
     "metadata": {},
     "output_type": "display_data"
    },
    {
     "data": {
      "text/html": [
       "<div>\n",
       "<style scoped>\n",
       "    .dataframe tbody tr th:only-of-type {\n",
       "        vertical-align: middle;\n",
       "    }\n",
       "\n",
       "    .dataframe tbody tr th {\n",
       "        vertical-align: top;\n",
       "    }\n",
       "\n",
       "    .dataframe thead th {\n",
       "        text-align: right;\n",
       "    }\n",
       "</style>\n",
       "<table border=\"1\" class=\"dataframe\">\n",
       "  <thead>\n",
       "    <tr style=\"text-align: right;\">\n",
       "      <th></th>\n",
       "      <th>col1</th>\n",
       "      <th>col2</th>\n",
       "      <th>col3</th>\n",
       "    </tr>\n",
       "  </thead>\n",
       "  <tbody>\n",
       "    <tr>\n",
       "      <th>1</th>\n",
       "      <td>1</td>\n",
       "      <td>A</td>\n",
       "      <td>1</td>\n",
       "    </tr>\n",
       "    <tr>\n",
       "      <th>0</th>\n",
       "      <td>2</td>\n",
       "      <td>A</td>\n",
       "      <td>0</td>\n",
       "    </tr>\n",
       "    <tr>\n",
       "      <th>5</th>\n",
       "      <td>4</td>\n",
       "      <td>C</td>\n",
       "      <td>3</td>\n",
       "    </tr>\n",
       "    <tr>\n",
       "      <th>4</th>\n",
       "      <td>7</td>\n",
       "      <td>D</td>\n",
       "      <td>2</td>\n",
       "    </tr>\n",
       "    <tr>\n",
       "      <th>3</th>\n",
       "      <td>8</td>\n",
       "      <td>NaN</td>\n",
       "      <td>4</td>\n",
       "    </tr>\n",
       "    <tr>\n",
       "      <th>2</th>\n",
       "      <td>9</td>\n",
       "      <td>B</td>\n",
       "      <td>9</td>\n",
       "    </tr>\n",
       "  </tbody>\n",
       "</table>\n",
       "</div>"
      ],
      "text/plain": [
       "   col1 col2  col3\n",
       "1     1    A     1\n",
       "0     2    A     0\n",
       "5     4    C     3\n",
       "4     7    D     2\n",
       "3     8  NaN     4\n",
       "2     9    B     9"
      ]
     },
     "execution_count": 95,
     "metadata": {},
     "output_type": "execute_result"
    }
   ],
   "source": [
    "# col1 컬럼 기준 정렬(Default 오름차순)\n",
    "df = pd.DataFrame({'col1':[1, 2, 9, 7, 8, 4],\n",
    "                  'col2':['A','A','B','D','NaN','C'],\n",
    "                  'col3':[1, 0, 9, 2, 4, 3]}, index = [1, 0, 2, 4, 3, 5])\n",
    "display(df)\n",
    "\n",
    "df.sort_values('col1', ascending = True)"
   ]
  },
  {
   "cell_type": "code",
   "execution_count": 96,
   "id": "a367abd7",
   "metadata": {},
   "outputs": [
    {
     "data": {
      "text/html": [
       "<div>\n",
       "<style scoped>\n",
       "    .dataframe tbody tr th:only-of-type {\n",
       "        vertical-align: middle;\n",
       "    }\n",
       "\n",
       "    .dataframe tbody tr th {\n",
       "        vertical-align: top;\n",
       "    }\n",
       "\n",
       "    .dataframe thead th {\n",
       "        text-align: right;\n",
       "    }\n",
       "</style>\n",
       "<table border=\"1\" class=\"dataframe\">\n",
       "  <thead>\n",
       "    <tr style=\"text-align: right;\">\n",
       "      <th></th>\n",
       "      <th>col1</th>\n",
       "      <th>col2</th>\n",
       "      <th>col3</th>\n",
       "    </tr>\n",
       "  </thead>\n",
       "  <tbody>\n",
       "    <tr>\n",
       "      <th>1</th>\n",
       "      <td>1</td>\n",
       "      <td>A</td>\n",
       "      <td>1</td>\n",
       "    </tr>\n",
       "    <tr>\n",
       "      <th>0</th>\n",
       "      <td>2</td>\n",
       "      <td>A</td>\n",
       "      <td>0</td>\n",
       "    </tr>\n",
       "    <tr>\n",
       "      <th>2</th>\n",
       "      <td>9</td>\n",
       "      <td>B</td>\n",
       "      <td>9</td>\n",
       "    </tr>\n",
       "    <tr>\n",
       "      <th>4</th>\n",
       "      <td>7</td>\n",
       "      <td>D</td>\n",
       "      <td>2</td>\n",
       "    </tr>\n",
       "    <tr>\n",
       "      <th>3</th>\n",
       "      <td>8</td>\n",
       "      <td>NaN</td>\n",
       "      <td>4</td>\n",
       "    </tr>\n",
       "    <tr>\n",
       "      <th>5</th>\n",
       "      <td>4</td>\n",
       "      <td>C</td>\n",
       "      <td>3</td>\n",
       "    </tr>\n",
       "  </tbody>\n",
       "</table>\n",
       "</div>"
      ],
      "text/plain": [
       "   col1 col2  col3\n",
       "1     1    A     1\n",
       "0     2    A     0\n",
       "2     9    B     9\n",
       "4     7    D     2\n",
       "3     8  NaN     4\n",
       "5     4    C     3"
      ]
     },
     "metadata": {},
     "output_type": "display_data"
    },
    {
     "data": {
      "text/html": [
       "<div>\n",
       "<style scoped>\n",
       "    .dataframe tbody tr th:only-of-type {\n",
       "        vertical-align: middle;\n",
       "    }\n",
       "\n",
       "    .dataframe tbody tr th {\n",
       "        vertical-align: top;\n",
       "    }\n",
       "\n",
       "    .dataframe thead th {\n",
       "        text-align: right;\n",
       "    }\n",
       "</style>\n",
       "<table border=\"1\" class=\"dataframe\">\n",
       "  <thead>\n",
       "    <tr style=\"text-align: right;\">\n",
       "      <th></th>\n",
       "      <th>col1</th>\n",
       "      <th>col2</th>\n",
       "      <th>col3</th>\n",
       "    </tr>\n",
       "  </thead>\n",
       "  <tbody>\n",
       "    <tr>\n",
       "      <th>2</th>\n",
       "      <td>9</td>\n",
       "      <td>B</td>\n",
       "      <td>9</td>\n",
       "    </tr>\n",
       "    <tr>\n",
       "      <th>3</th>\n",
       "      <td>8</td>\n",
       "      <td>NaN</td>\n",
       "      <td>4</td>\n",
       "    </tr>\n",
       "    <tr>\n",
       "      <th>4</th>\n",
       "      <td>7</td>\n",
       "      <td>D</td>\n",
       "      <td>2</td>\n",
       "    </tr>\n",
       "    <tr>\n",
       "      <th>5</th>\n",
       "      <td>4</td>\n",
       "      <td>C</td>\n",
       "      <td>3</td>\n",
       "    </tr>\n",
       "    <tr>\n",
       "      <th>0</th>\n",
       "      <td>2</td>\n",
       "      <td>A</td>\n",
       "      <td>0</td>\n",
       "    </tr>\n",
       "    <tr>\n",
       "      <th>1</th>\n",
       "      <td>1</td>\n",
       "      <td>A</td>\n",
       "      <td>1</td>\n",
       "    </tr>\n",
       "  </tbody>\n",
       "</table>\n",
       "</div>"
      ],
      "text/plain": [
       "   col1 col2  col3\n",
       "2     9    B     9\n",
       "3     8  NaN     4\n",
       "4     7    D     2\n",
       "5     4    C     3\n",
       "0     2    A     0\n",
       "1     1    A     1"
      ]
     },
     "execution_count": 96,
     "metadata": {},
     "output_type": "execute_result"
    }
   ],
   "source": [
    "# col1 컬럼 기준 정렬, 내림차순 정렬\n",
    "df = pd.DataFrame({'col1':[1, 2, 9, 7, 8, 4],\n",
    "                  'col2':['A','A','B','D','NaN','C'],\n",
    "                  'col3':[1, 0, 9, 2, 4, 3]}, index = [1, 0, 2, 4, 3, 5])\n",
    "display(df)\n",
    "\n",
    "df.sort_values('col1', ascending = False)"
   ]
  },
  {
   "cell_type": "code",
   "execution_count": 99,
   "id": "ef5d46ed",
   "metadata": {},
   "outputs": [
    {
     "data": {
      "text/html": [
       "<div>\n",
       "<style scoped>\n",
       "    .dataframe tbody tr th:only-of-type {\n",
       "        vertical-align: middle;\n",
       "    }\n",
       "\n",
       "    .dataframe tbody tr th {\n",
       "        vertical-align: top;\n",
       "    }\n",
       "\n",
       "    .dataframe thead th {\n",
       "        text-align: right;\n",
       "    }\n",
       "</style>\n",
       "<table border=\"1\" class=\"dataframe\">\n",
       "  <thead>\n",
       "    <tr style=\"text-align: right;\">\n",
       "      <th></th>\n",
       "      <th>col1</th>\n",
       "      <th>col2</th>\n",
       "      <th>col3</th>\n",
       "    </tr>\n",
       "  </thead>\n",
       "  <tbody>\n",
       "    <tr>\n",
       "      <th>1</th>\n",
       "      <td>1</td>\n",
       "      <td>A</td>\n",
       "      <td>1</td>\n",
       "    </tr>\n",
       "    <tr>\n",
       "      <th>0</th>\n",
       "      <td>2</td>\n",
       "      <td>A</td>\n",
       "      <td>0</td>\n",
       "    </tr>\n",
       "    <tr>\n",
       "      <th>2</th>\n",
       "      <td>9</td>\n",
       "      <td>B</td>\n",
       "      <td>9</td>\n",
       "    </tr>\n",
       "    <tr>\n",
       "      <th>4</th>\n",
       "      <td>7</td>\n",
       "      <td>D</td>\n",
       "      <td>2</td>\n",
       "    </tr>\n",
       "    <tr>\n",
       "      <th>3</th>\n",
       "      <td>8</td>\n",
       "      <td>NaN</td>\n",
       "      <td>4</td>\n",
       "    </tr>\n",
       "    <tr>\n",
       "      <th>5</th>\n",
       "      <td>4</td>\n",
       "      <td>C</td>\n",
       "      <td>3</td>\n",
       "    </tr>\n",
       "  </tbody>\n",
       "</table>\n",
       "</div>"
      ],
      "text/plain": [
       "   col1 col2  col3\n",
       "1     1    A     1\n",
       "0     2    A     0\n",
       "2     9    B     9\n",
       "4     7    D     2\n",
       "3     8  NaN     4\n",
       "5     4    C     3"
      ]
     },
     "metadata": {},
     "output_type": "display_data"
    },
    {
     "data": {
      "text/html": [
       "<div>\n",
       "<style scoped>\n",
       "    .dataframe tbody tr th:only-of-type {\n",
       "        vertical-align: middle;\n",
       "    }\n",
       "\n",
       "    .dataframe tbody tr th {\n",
       "        vertical-align: top;\n",
       "    }\n",
       "\n",
       "    .dataframe thead th {\n",
       "        text-align: right;\n",
       "    }\n",
       "</style>\n",
       "<table border=\"1\" class=\"dataframe\">\n",
       "  <thead>\n",
       "    <tr style=\"text-align: right;\">\n",
       "      <th></th>\n",
       "      <th>col1</th>\n",
       "      <th>col2</th>\n",
       "      <th>col3</th>\n",
       "    </tr>\n",
       "  </thead>\n",
       "  <tbody>\n",
       "    <tr>\n",
       "      <th>0</th>\n",
       "      <td>2</td>\n",
       "      <td>A</td>\n",
       "      <td>0</td>\n",
       "    </tr>\n",
       "    <tr>\n",
       "      <th>1</th>\n",
       "      <td>1</td>\n",
       "      <td>A</td>\n",
       "      <td>1</td>\n",
       "    </tr>\n",
       "    <tr>\n",
       "      <th>2</th>\n",
       "      <td>9</td>\n",
       "      <td>B</td>\n",
       "      <td>9</td>\n",
       "    </tr>\n",
       "    <tr>\n",
       "      <th>5</th>\n",
       "      <td>4</td>\n",
       "      <td>C</td>\n",
       "      <td>3</td>\n",
       "    </tr>\n",
       "    <tr>\n",
       "      <th>4</th>\n",
       "      <td>7</td>\n",
       "      <td>D</td>\n",
       "      <td>2</td>\n",
       "    </tr>\n",
       "    <tr>\n",
       "      <th>3</th>\n",
       "      <td>8</td>\n",
       "      <td>NaN</td>\n",
       "      <td>4</td>\n",
       "    </tr>\n",
       "  </tbody>\n",
       "</table>\n",
       "</div>"
      ],
      "text/plain": [
       "   col1 col2  col3\n",
       "0     2    A     0\n",
       "1     1    A     1\n",
       "2     9    B     9\n",
       "5     4    C     3\n",
       "4     7    D     2\n",
       "3     8  NaN     4"
      ]
     },
     "execution_count": 99,
     "metadata": {},
     "output_type": "execute_result"
    }
   ],
   "source": [
    "# col2 컬럼 기준 오름차순 정렬 후 col1 컬럼 기준 내림차순 정렬\n",
    "df = pd.DataFrame({'col1':[1, 2, 9, 7, 8, 4],\n",
    "                  'col2':['A','A','B','D','NaN','C'],\n",
    "                  'col3':[1, 0, 9, 2, 4, 3]}, index = [1, 0, 2, 4, 3, 5])\n",
    "display(df)\n",
    "\n",
    "df.sort_values(['col2', 'col1'], ascending = [True, False])"
   ]
  },
  {
   "cell_type": "markdown",
   "id": "6d500799",
   "metadata": {},
   "source": [
    "### 데이터프레임 분석용 함수"
   ]
  },
  {
   "cell_type": "markdown",
   "id": "c6ecc34b",
   "metadata": {},
   "source": [
    "#### 집계함수 count : 데이터 개수 확인 가능(Default : NaN 값 제외)"
   ]
  },
  {
   "cell_type": "code",
   "execution_count": 103,
   "id": "d7c6ff8d",
   "metadata": {},
   "outputs": [
    {
     "data": {
      "text/html": [
       "<div>\n",
       "<style scoped>\n",
       "    .dataframe tbody tr th:only-of-type {\n",
       "        vertical-align: middle;\n",
       "    }\n",
       "\n",
       "    .dataframe tbody tr th {\n",
       "        vertical-align: top;\n",
       "    }\n",
       "\n",
       "    .dataframe thead th {\n",
       "        text-align: right;\n",
       "    }\n",
       "</style>\n",
       "<table border=\"1\" class=\"dataframe\">\n",
       "  <thead>\n",
       "    <tr style=\"text-align: right;\">\n",
       "      <th></th>\n",
       "      <th>korean</th>\n",
       "      <th>math</th>\n",
       "    </tr>\n",
       "  </thead>\n",
       "  <tbody>\n",
       "    <tr>\n",
       "      <th>a</th>\n",
       "      <td>50</td>\n",
       "      <td>10.0</td>\n",
       "    </tr>\n",
       "    <tr>\n",
       "      <th>b</th>\n",
       "      <td>60</td>\n",
       "      <td>NaN</td>\n",
       "    </tr>\n",
       "    <tr>\n",
       "      <th>c</th>\n",
       "      <td>70</td>\n",
       "      <td>40.0</td>\n",
       "    </tr>\n",
       "  </tbody>\n",
       "</table>\n",
       "</div>"
      ],
      "text/plain": [
       "   korean  math\n",
       "a      50  10.0\n",
       "b      60   NaN\n",
       "c      70  40.0"
      ]
     },
     "metadata": {},
     "output_type": "display_data"
    },
    {
     "data": {
      "text/plain": [
       "korean    3\n",
       "math      2\n",
       "dtype: int64"
      ]
     },
     "metadata": {},
     "output_type": "display_data"
    },
    {
     "data": {
      "text/plain": [
       "a    2\n",
       "b    1\n",
       "c    2\n",
       "dtype: int64"
      ]
     },
     "metadata": {},
     "output_type": "display_data"
    }
   ],
   "source": [
    "data = {'korean':[50, 60, 70],\n",
    "       'math':[10, np.nan, 40]}\n",
    "\n",
    "df = pd.DataFrame(data, index = ['a', 'b', 'c'])\n",
    "display(df)\n",
    "\n",
    "c = df.count(axis = 0) # 열 기준\n",
    "display(c)\n",
    "\n",
    "r = df.count(axis = 1) # 행 기준\n",
    "display(r)"
   ]
  },
  {
   "cell_type": "markdown",
   "id": "63c57131",
   "metadata": {},
   "source": [
    "#### 집계함수 max, min : 최대, 최소값 확인 가능(Default: 열기준, NaN 값 제외)"
   ]
  },
  {
   "cell_type": "code",
   "execution_count": 104,
   "id": "ef77e48b",
   "metadata": {},
   "outputs": [
    {
     "data": {
      "text/html": [
       "<div>\n",
       "<style scoped>\n",
       "    .dataframe tbody tr th:only-of-type {\n",
       "        vertical-align: middle;\n",
       "    }\n",
       "\n",
       "    .dataframe tbody tr th {\n",
       "        vertical-align: top;\n",
       "    }\n",
       "\n",
       "    .dataframe thead th {\n",
       "        text-align: right;\n",
       "    }\n",
       "</style>\n",
       "<table border=\"1\" class=\"dataframe\">\n",
       "  <thead>\n",
       "    <tr style=\"text-align: right;\">\n",
       "      <th></th>\n",
       "      <th>korean</th>\n",
       "      <th>math</th>\n",
       "    </tr>\n",
       "  </thead>\n",
       "  <tbody>\n",
       "    <tr>\n",
       "      <th>a</th>\n",
       "      <td>50</td>\n",
       "      <td>10.0</td>\n",
       "    </tr>\n",
       "    <tr>\n",
       "      <th>b</th>\n",
       "      <td>60</td>\n",
       "      <td>NaN</td>\n",
       "    </tr>\n",
       "    <tr>\n",
       "      <th>c</th>\n",
       "      <td>70</td>\n",
       "      <td>40.0</td>\n",
       "    </tr>\n",
       "  </tbody>\n",
       "</table>\n",
       "</div>"
      ],
      "text/plain": [
       "   korean  math\n",
       "a      50  10.0\n",
       "b      60   NaN\n",
       "c      70  40.0"
      ]
     },
     "metadata": {},
     "output_type": "display_data"
    },
    {
     "data": {
      "text/plain": [
       "korean    70.0\n",
       "math      40.0\n",
       "dtype: float64"
      ]
     },
     "metadata": {},
     "output_type": "display_data"
    },
    {
     "data": {
      "text/plain": [
       "korean    50.0\n",
       "math      10.0\n",
       "dtype: float64"
      ]
     },
     "metadata": {},
     "output_type": "display_data"
    }
   ],
   "source": [
    "data = {'korean':[50, 60, 70],\n",
    "       'math':[10, np.nan, 40]}\n",
    "\n",
    "df = pd.DataFrame(data, index = ['a', 'b', 'c'])\n",
    "display(df)\n",
    "\n",
    "max_df = df.max() # 최댓값 \n",
    "display(max_df)\n",
    "\n",
    "min_df = df.min() # 최솟값\n",
    "display(min_df)"
   ]
  },
  {
   "cell_type": "markdown",
   "id": "598233a9",
   "metadata": {},
   "source": [
    "#### 집계함수 sum, mean : 합계 및 평균 계산(Default: 열기준, NaN 값 제외)"
   ]
  },
  {
   "cell_type": "code",
   "execution_count": 105,
   "id": "3bf44e46",
   "metadata": {},
   "outputs": [
    {
     "data": {
      "text/html": [
       "<div>\n",
       "<style scoped>\n",
       "    .dataframe tbody tr th:only-of-type {\n",
       "        vertical-align: middle;\n",
       "    }\n",
       "\n",
       "    .dataframe tbody tr th {\n",
       "        vertical-align: top;\n",
       "    }\n",
       "\n",
       "    .dataframe thead th {\n",
       "        text-align: right;\n",
       "    }\n",
       "</style>\n",
       "<table border=\"1\" class=\"dataframe\">\n",
       "  <thead>\n",
       "    <tr style=\"text-align: right;\">\n",
       "      <th></th>\n",
       "      <th>korean</th>\n",
       "      <th>math</th>\n",
       "    </tr>\n",
       "  </thead>\n",
       "  <tbody>\n",
       "    <tr>\n",
       "      <th>a</th>\n",
       "      <td>50</td>\n",
       "      <td>10.0</td>\n",
       "    </tr>\n",
       "    <tr>\n",
       "      <th>b</th>\n",
       "      <td>60</td>\n",
       "      <td>NaN</td>\n",
       "    </tr>\n",
       "    <tr>\n",
       "      <th>c</th>\n",
       "      <td>70</td>\n",
       "      <td>40.0</td>\n",
       "    </tr>\n",
       "  </tbody>\n",
       "</table>\n",
       "</div>"
      ],
      "text/plain": [
       "   korean  math\n",
       "a      50  10.0\n",
       "b      60   NaN\n",
       "c      70  40.0"
      ]
     },
     "metadata": {},
     "output_type": "display_data"
    },
    {
     "data": {
      "text/plain": [
       "korean    180.0\n",
       "math       50.0\n",
       "dtype: float64"
      ]
     },
     "metadata": {},
     "output_type": "display_data"
    },
    {
     "data": {
      "text/plain": [
       "korean    60.0\n",
       "math      25.0\n",
       "dtype: float64"
      ]
     },
     "metadata": {},
     "output_type": "display_data"
    }
   ],
   "source": [
    "data = {'korean':[50, 60, 70],\n",
    "       'math':[10, np.nan, 40]}\n",
    "\n",
    "df = pd.DataFrame(data, index = ['a', 'b', 'c'])\n",
    "display(df)\n",
    "\n",
    "sum_df = df.sum() # 합계\n",
    "display(sum_df)\n",
    "\n",
    "mean_df = df.mean() # 평균\n",
    "display(mean_df)"
   ]
  },
  {
   "cell_type": "code",
   "execution_count": 106,
   "id": "13ed726f",
   "metadata": {},
   "outputs": [
    {
     "data": {
      "text/plain": [
       "a     60.0\n",
       "b     60.0\n",
       "c    110.0\n",
       "dtype: float64"
      ]
     },
     "metadata": {},
     "output_type": "display_data"
    },
    {
     "data": {
      "text/plain": [
       "a    30.0\n",
       "b     NaN\n",
       "c    55.0\n",
       "dtype: float64"
      ]
     },
     "metadata": {},
     "output_type": "display_data"
    }
   ],
   "source": [
    "# axis, skipna 인자 활용하여 합계 및 평균 계산(행 기준, NaN값 포함시)\n",
    "sum1_df = df.sum(axis=1)\n",
    "display(sum1_df)\n",
    "\n",
    "mean1_df = df.mean(axis=1, skipna=False)\n",
    "display(mean1_df)"
   ]
  },
  {
   "cell_type": "code",
   "execution_count": 108,
   "id": "0103ac66",
   "metadata": {},
   "outputs": [
    {
     "name": "stdout",
     "output_type": "stream",
     "text": [
      "25.0\n"
     ]
    },
    {
     "data": {
      "text/html": [
       "<div>\n",
       "<style scoped>\n",
       "    .dataframe tbody tr th:only-of-type {\n",
       "        vertical-align: middle;\n",
       "    }\n",
       "\n",
       "    .dataframe tbody tr th {\n",
       "        vertical-align: top;\n",
       "    }\n",
       "\n",
       "    .dataframe thead th {\n",
       "        text-align: right;\n",
       "    }\n",
       "</style>\n",
       "<table border=\"1\" class=\"dataframe\">\n",
       "  <thead>\n",
       "    <tr style=\"text-align: right;\">\n",
       "      <th></th>\n",
       "      <th>korean</th>\n",
       "      <th>math</th>\n",
       "    </tr>\n",
       "  </thead>\n",
       "  <tbody>\n",
       "    <tr>\n",
       "      <th>a</th>\n",
       "      <td>50</td>\n",
       "      <td>10.0</td>\n",
       "    </tr>\n",
       "    <tr>\n",
       "      <th>b</th>\n",
       "      <td>60</td>\n",
       "      <td>25.0</td>\n",
       "    </tr>\n",
       "    <tr>\n",
       "      <th>c</th>\n",
       "      <td>70</td>\n",
       "      <td>40.0</td>\n",
       "    </tr>\n",
       "  </tbody>\n",
       "</table>\n",
       "</div>"
      ],
      "text/plain": [
       "   korean  math\n",
       "a      50  10.0\n",
       "b      60  25.0\n",
       "c      70  40.0"
      ]
     },
     "metadata": {},
     "output_type": "display_data"
    },
    {
     "data": {
      "text/plain": [
       "a    30.0\n",
       "b    42.5\n",
       "c    55.0\n",
       "dtype: float64"
      ]
     },
     "execution_count": 108,
     "metadata": {},
     "output_type": "execute_result"
    }
   ],
   "source": [
    "# NaN값이 존재하는 column의 평균 구하여 NaN값 대체\n",
    "B_avg = df['math'].mean()\n",
    "print(B_avg)\n",
    "\n",
    "# NaN값 대체\n",
    "df['math'] = df['math'].fillna(B_avg)\n",
    "display(df)\n",
    "\n",
    "# 평균\n",
    "df.mean(axis=1, skipna=False)"
   ]
  },
  {
   "cell_type": "markdown",
   "id": "4eb01256",
   "metadata": {},
   "source": [
    "### 그룹으로 묶기"
   ]
  },
  {
   "cell_type": "markdown",
   "id": "bbb38f65",
   "metadata": {},
   "source": [
    "* 간단한 집계를 넘어서서 조건부로 집계하고 싶은 경우"
   ]
  },
  {
   "cell_type": "code",
   "execution_count": 109,
   "id": "28f7b9ce",
   "metadata": {},
   "outputs": [
    {
     "data": {
      "text/html": [
       "<div>\n",
       "<style scoped>\n",
       "    .dataframe tbody tr th:only-of-type {\n",
       "        vertical-align: middle;\n",
       "    }\n",
       "\n",
       "    .dataframe tbody tr th {\n",
       "        vertical-align: top;\n",
       "    }\n",
       "\n",
       "    .dataframe thead th {\n",
       "        text-align: right;\n",
       "    }\n",
       "</style>\n",
       "<table border=\"1\" class=\"dataframe\">\n",
       "  <thead>\n",
       "    <tr style=\"text-align: right;\">\n",
       "      <th></th>\n",
       "      <th>data1</th>\n",
       "      <th>data2</th>\n",
       "      <th>key</th>\n",
       "    </tr>\n",
       "  </thead>\n",
       "  <tbody>\n",
       "    <tr>\n",
       "      <th>0</th>\n",
       "      <td>0</td>\n",
       "      <td>4</td>\n",
       "      <td>A</td>\n",
       "    </tr>\n",
       "    <tr>\n",
       "      <th>1</th>\n",
       "      <td>1</td>\n",
       "      <td>4</td>\n",
       "      <td>B</td>\n",
       "    </tr>\n",
       "    <tr>\n",
       "      <th>2</th>\n",
       "      <td>2</td>\n",
       "      <td>6</td>\n",
       "      <td>C</td>\n",
       "    </tr>\n",
       "    <tr>\n",
       "      <th>3</th>\n",
       "      <td>3</td>\n",
       "      <td>0</td>\n",
       "      <td>A</td>\n",
       "    </tr>\n",
       "    <tr>\n",
       "      <th>4</th>\n",
       "      <td>4</td>\n",
       "      <td>6</td>\n",
       "      <td>B</td>\n",
       "    </tr>\n",
       "    <tr>\n",
       "      <th>5</th>\n",
       "      <td>5</td>\n",
       "      <td>1</td>\n",
       "      <td>C</td>\n",
       "    </tr>\n",
       "  </tbody>\n",
       "</table>\n",
       "</div>"
      ],
      "text/plain": [
       "   data1  data2 key\n",
       "0      0      4   A\n",
       "1      1      4   B\n",
       "2      2      6   C\n",
       "3      3      0   A\n",
       "4      4      6   B\n",
       "5      5      1   C"
      ]
     },
     "execution_count": 109,
     "metadata": {},
     "output_type": "execute_result"
    }
   ],
   "source": [
    "df = pd.DataFrame({'data1':range(6),\n",
    "                  'data2': [4, 4, 6, 0, 6, 1],\n",
    "                  'key': ['A','B','C','A','B','C']})\n",
    "df"
   ]
  },
  {
   "cell_type": "code",
   "execution_count": 110,
   "id": "c9eaaa56",
   "metadata": {},
   "outputs": [
    {
     "data": {
      "text/html": [
       "<div>\n",
       "<style scoped>\n",
       "    .dataframe tbody tr th:only-of-type {\n",
       "        vertical-align: middle;\n",
       "    }\n",
       "\n",
       "    .dataframe tbody tr th {\n",
       "        vertical-align: top;\n",
       "    }\n",
       "\n",
       "    .dataframe thead th {\n",
       "        text-align: right;\n",
       "    }\n",
       "</style>\n",
       "<table border=\"1\" class=\"dataframe\">\n",
       "  <thead>\n",
       "    <tr style=\"text-align: right;\">\n",
       "      <th></th>\n",
       "      <th>data1</th>\n",
       "      <th>data2</th>\n",
       "    </tr>\n",
       "    <tr>\n",
       "      <th>key</th>\n",
       "      <th></th>\n",
       "      <th></th>\n",
       "    </tr>\n",
       "  </thead>\n",
       "  <tbody>\n",
       "    <tr>\n",
       "      <th>A</th>\n",
       "      <td>3</td>\n",
       "      <td>4</td>\n",
       "    </tr>\n",
       "    <tr>\n",
       "      <th>B</th>\n",
       "      <td>5</td>\n",
       "      <td>10</td>\n",
       "    </tr>\n",
       "    <tr>\n",
       "      <th>C</th>\n",
       "      <td>7</td>\n",
       "      <td>7</td>\n",
       "    </tr>\n",
       "  </tbody>\n",
       "</table>\n",
       "</div>"
      ],
      "text/plain": [
       "     data1  data2\n",
       "key              \n",
       "A        3      4\n",
       "B        5     10\n",
       "C        7      7"
      ]
     },
     "execution_count": 110,
     "metadata": {},
     "output_type": "execute_result"
    }
   ],
   "source": [
    "df.groupby('key').sum()"
   ]
  },
  {
   "cell_type": "code",
   "execution_count": 111,
   "id": "ec4d5504",
   "metadata": {},
   "outputs": [
    {
     "data": {
      "text/html": [
       "<div>\n",
       "<style scoped>\n",
       "    .dataframe tbody tr th:only-of-type {\n",
       "        vertical-align: middle;\n",
       "    }\n",
       "\n",
       "    .dataframe tbody tr th {\n",
       "        vertical-align: top;\n",
       "    }\n",
       "\n",
       "    .dataframe thead th {\n",
       "        text-align: right;\n",
       "    }\n",
       "</style>\n",
       "<table border=\"1\" class=\"dataframe\">\n",
       "  <thead>\n",
       "    <tr style=\"text-align: right;\">\n",
       "      <th></th>\n",
       "      <th></th>\n",
       "      <th>data2</th>\n",
       "    </tr>\n",
       "    <tr>\n",
       "      <th>key</th>\n",
       "      <th>data1</th>\n",
       "      <th></th>\n",
       "    </tr>\n",
       "  </thead>\n",
       "  <tbody>\n",
       "    <tr>\n",
       "      <th rowspan=\"2\" valign=\"top\">A</th>\n",
       "      <th>0</th>\n",
       "      <td>4</td>\n",
       "    </tr>\n",
       "    <tr>\n",
       "      <th>3</th>\n",
       "      <td>0</td>\n",
       "    </tr>\n",
       "    <tr>\n",
       "      <th rowspan=\"2\" valign=\"top\">B</th>\n",
       "      <th>1</th>\n",
       "      <td>4</td>\n",
       "    </tr>\n",
       "    <tr>\n",
       "      <th>4</th>\n",
       "      <td>6</td>\n",
       "    </tr>\n",
       "    <tr>\n",
       "      <th rowspan=\"2\" valign=\"top\">C</th>\n",
       "      <th>2</th>\n",
       "      <td>6</td>\n",
       "    </tr>\n",
       "    <tr>\n",
       "      <th>5</th>\n",
       "      <td>1</td>\n",
       "    </tr>\n",
       "  </tbody>\n",
       "</table>\n",
       "</div>"
      ],
      "text/plain": [
       "           data2\n",
       "key data1       \n",
       "A   0          4\n",
       "    3          0\n",
       "B   1          4\n",
       "    4          6\n",
       "C   2          6\n",
       "    5          1"
      ]
     },
     "execution_count": 111,
     "metadata": {},
     "output_type": "execute_result"
    }
   ],
   "source": [
    "df.groupby(['key','data1']).sum()"
   ]
  },
  {
   "cell_type": "code",
   "execution_count": 112,
   "id": "e0b2c5dc",
   "metadata": {},
   "outputs": [
    {
     "data": {
      "text/html": [
       "<div>\n",
       "<style scoped>\n",
       "    .dataframe tbody tr th:only-of-type {\n",
       "        vertical-align: middle;\n",
       "    }\n",
       "\n",
       "    .dataframe tbody tr th {\n",
       "        vertical-align: top;\n",
       "    }\n",
       "\n",
       "    .dataframe thead tr th {\n",
       "        text-align: left;\n",
       "    }\n",
       "\n",
       "    .dataframe thead tr:last-of-type th {\n",
       "        text-align: right;\n",
       "    }\n",
       "</style>\n",
       "<table border=\"1\" class=\"dataframe\">\n",
       "  <thead>\n",
       "    <tr>\n",
       "      <th></th>\n",
       "      <th colspan=\"3\" halign=\"left\">data1</th>\n",
       "      <th colspan=\"3\" halign=\"left\">data2</th>\n",
       "    </tr>\n",
       "    <tr>\n",
       "      <th></th>\n",
       "      <th>min</th>\n",
       "      <th>median</th>\n",
       "      <th>max</th>\n",
       "      <th>min</th>\n",
       "      <th>median</th>\n",
       "      <th>max</th>\n",
       "    </tr>\n",
       "    <tr>\n",
       "      <th>key</th>\n",
       "      <th></th>\n",
       "      <th></th>\n",
       "      <th></th>\n",
       "      <th></th>\n",
       "      <th></th>\n",
       "      <th></th>\n",
       "    </tr>\n",
       "  </thead>\n",
       "  <tbody>\n",
       "    <tr>\n",
       "      <th>A</th>\n",
       "      <td>0</td>\n",
       "      <td>1.5</td>\n",
       "      <td>3</td>\n",
       "      <td>0</td>\n",
       "      <td>2.0</td>\n",
       "      <td>4</td>\n",
       "    </tr>\n",
       "    <tr>\n",
       "      <th>B</th>\n",
       "      <td>1</td>\n",
       "      <td>2.5</td>\n",
       "      <td>4</td>\n",
       "      <td>4</td>\n",
       "      <td>5.0</td>\n",
       "      <td>6</td>\n",
       "    </tr>\n",
       "    <tr>\n",
       "      <th>C</th>\n",
       "      <td>2</td>\n",
       "      <td>3.5</td>\n",
       "      <td>5</td>\n",
       "      <td>1</td>\n",
       "      <td>3.5</td>\n",
       "      <td>6</td>\n",
       "    </tr>\n",
       "  </tbody>\n",
       "</table>\n",
       "</div>"
      ],
      "text/plain": [
       "    data1            data2           \n",
       "      min median max   min median max\n",
       "key                                  \n",
       "A       0    1.5   3     0    2.0   4\n",
       "B       1    2.5   4     4    5.0   6\n",
       "C       2    3.5   5     1    3.5   6"
      ]
     },
     "execution_count": 112,
     "metadata": {},
     "output_type": "execute_result"
    }
   ],
   "source": [
    "# groupby를 통해서 집계를 한 번에 계산하는 방법\n",
    "df.groupby('key').aggregate(['min', np.median, max])"
   ]
  },
  {
   "cell_type": "code",
   "execution_count": 113,
   "id": "17973ab6",
   "metadata": {},
   "outputs": [
    {
     "data": {
      "text/html": [
       "<div>\n",
       "<style scoped>\n",
       "    .dataframe tbody tr th:only-of-type {\n",
       "        vertical-align: middle;\n",
       "    }\n",
       "\n",
       "    .dataframe tbody tr th {\n",
       "        vertical-align: top;\n",
       "    }\n",
       "\n",
       "    .dataframe thead th {\n",
       "        text-align: right;\n",
       "    }\n",
       "</style>\n",
       "<table border=\"1\" class=\"dataframe\">\n",
       "  <thead>\n",
       "    <tr style=\"text-align: right;\">\n",
       "      <th></th>\n",
       "      <th>data1</th>\n",
       "      <th>data2</th>\n",
       "    </tr>\n",
       "    <tr>\n",
       "      <th>key</th>\n",
       "      <th></th>\n",
       "      <th></th>\n",
       "    </tr>\n",
       "  </thead>\n",
       "  <tbody>\n",
       "    <tr>\n",
       "      <th>A</th>\n",
       "      <td>0</td>\n",
       "      <td>4</td>\n",
       "    </tr>\n",
       "    <tr>\n",
       "      <th>B</th>\n",
       "      <td>1</td>\n",
       "      <td>10</td>\n",
       "    </tr>\n",
       "    <tr>\n",
       "      <th>C</th>\n",
       "      <td>2</td>\n",
       "      <td>7</td>\n",
       "    </tr>\n",
       "  </tbody>\n",
       "</table>\n",
       "</div>"
      ],
      "text/plain": [
       "     data1  data2\n",
       "key              \n",
       "A        0      4\n",
       "B        1     10\n",
       "C        2      7"
      ]
     },
     "execution_count": 113,
     "metadata": {},
     "output_type": "execute_result"
    }
   ],
   "source": [
    "df.groupby('key').aggregate({'data1':'min','data2':np.sum})"
   ]
  },
  {
   "cell_type": "code",
   "execution_count": 114,
   "id": "84e7eae9",
   "metadata": {},
   "outputs": [
    {
     "data": {
      "text/html": [
       "<div>\n",
       "<style scoped>\n",
       "    .dataframe tbody tr th:only-of-type {\n",
       "        vertical-align: middle;\n",
       "    }\n",
       "\n",
       "    .dataframe tbody tr th {\n",
       "        vertical-align: top;\n",
       "    }\n",
       "\n",
       "    .dataframe thead th {\n",
       "        text-align: right;\n",
       "    }\n",
       "</style>\n",
       "<table border=\"1\" class=\"dataframe\">\n",
       "  <thead>\n",
       "    <tr style=\"text-align: right;\">\n",
       "      <th></th>\n",
       "      <th>data1</th>\n",
       "      <th>data2</th>\n",
       "    </tr>\n",
       "    <tr>\n",
       "      <th>key</th>\n",
       "      <th></th>\n",
       "      <th></th>\n",
       "    </tr>\n",
       "  </thead>\n",
       "  <tbody>\n",
       "    <tr>\n",
       "      <th>A</th>\n",
       "      <td>1.5</td>\n",
       "      <td>2.0</td>\n",
       "    </tr>\n",
       "    <tr>\n",
       "      <th>B</th>\n",
       "      <td>2.5</td>\n",
       "      <td>5.0</td>\n",
       "    </tr>\n",
       "    <tr>\n",
       "      <th>C</th>\n",
       "      <td>3.5</td>\n",
       "      <td>3.5</td>\n",
       "    </tr>\n",
       "  </tbody>\n",
       "</table>\n",
       "</div>"
      ],
      "text/plain": [
       "     data1  data2\n",
       "key              \n",
       "A      1.5    2.0\n",
       "B      2.5    5.0\n",
       "C      3.5    3.5"
      ]
     },
     "execution_count": 114,
     "metadata": {},
     "output_type": "execute_result"
    }
   ],
   "source": [
    "# groupby를 통해서 그룹 속성을 기준으로 데이터 필터링\n",
    "def filter_by_mean(x):\n",
    "    return x['data2'].mean() > 3\n",
    "\n",
    "df.groupby('key').mean()"
   ]
  },
  {
   "cell_type": "code",
   "execution_count": 115,
   "id": "34bc46cd",
   "metadata": {},
   "outputs": [
    {
     "data": {
      "text/html": [
       "<div>\n",
       "<style scoped>\n",
       "    .dataframe tbody tr th:only-of-type {\n",
       "        vertical-align: middle;\n",
       "    }\n",
       "\n",
       "    .dataframe tbody tr th {\n",
       "        vertical-align: top;\n",
       "    }\n",
       "\n",
       "    .dataframe thead th {\n",
       "        text-align: right;\n",
       "    }\n",
       "</style>\n",
       "<table border=\"1\" class=\"dataframe\">\n",
       "  <thead>\n",
       "    <tr style=\"text-align: right;\">\n",
       "      <th></th>\n",
       "      <th>data1</th>\n",
       "      <th>data2</th>\n",
       "      <th>key</th>\n",
       "    </tr>\n",
       "  </thead>\n",
       "  <tbody>\n",
       "    <tr>\n",
       "      <th>1</th>\n",
       "      <td>1</td>\n",
       "      <td>4</td>\n",
       "      <td>B</td>\n",
       "    </tr>\n",
       "    <tr>\n",
       "      <th>2</th>\n",
       "      <td>2</td>\n",
       "      <td>6</td>\n",
       "      <td>C</td>\n",
       "    </tr>\n",
       "    <tr>\n",
       "      <th>4</th>\n",
       "      <td>4</td>\n",
       "      <td>6</td>\n",
       "      <td>B</td>\n",
       "    </tr>\n",
       "    <tr>\n",
       "      <th>5</th>\n",
       "      <td>5</td>\n",
       "      <td>1</td>\n",
       "      <td>C</td>\n",
       "    </tr>\n",
       "  </tbody>\n",
       "</table>\n",
       "</div>"
      ],
      "text/plain": [
       "   data1  data2 key\n",
       "1      1      4   B\n",
       "2      2      6   C\n",
       "4      4      6   B\n",
       "5      5      1   C"
      ]
     },
     "execution_count": 115,
     "metadata": {},
     "output_type": "execute_result"
    }
   ],
   "source": [
    "df.groupby('key').filter(filter_by_mean)"
   ]
  },
  {
   "cell_type": "code",
   "execution_count": 116,
   "id": "5b3a3416",
   "metadata": {},
   "outputs": [
    {
     "data": {
      "text/html": [
       "<div>\n",
       "<style scoped>\n",
       "    .dataframe tbody tr th:only-of-type {\n",
       "        vertical-align: middle;\n",
       "    }\n",
       "\n",
       "    .dataframe tbody tr th {\n",
       "        vertical-align: top;\n",
       "    }\n",
       "\n",
       "    .dataframe thead th {\n",
       "        text-align: right;\n",
       "    }\n",
       "</style>\n",
       "<table border=\"1\" class=\"dataframe\">\n",
       "  <thead>\n",
       "    <tr style=\"text-align: right;\">\n",
       "      <th></th>\n",
       "      <th>data1</th>\n",
       "      <th>data2</th>\n",
       "    </tr>\n",
       "    <tr>\n",
       "      <th>key</th>\n",
       "      <th></th>\n",
       "      <th></th>\n",
       "    </tr>\n",
       "  </thead>\n",
       "  <tbody>\n",
       "    <tr>\n",
       "      <th>A</th>\n",
       "      <td>3</td>\n",
       "      <td>4</td>\n",
       "    </tr>\n",
       "    <tr>\n",
       "      <th>B</th>\n",
       "      <td>3</td>\n",
       "      <td>2</td>\n",
       "    </tr>\n",
       "    <tr>\n",
       "      <th>C</th>\n",
       "      <td>3</td>\n",
       "      <td>5</td>\n",
       "    </tr>\n",
       "  </tbody>\n",
       "</table>\n",
       "</div>"
      ],
      "text/plain": [
       "     data1  data2\n",
       "key              \n",
       "A        3      4\n",
       "B        3      2\n",
       "C        3      5"
      ]
     },
     "execution_count": 116,
     "metadata": {},
     "output_type": "execute_result"
    }
   ],
   "source": [
    "# groupby를 통해서 묶인 데이터에 함수 적용\n",
    "df.groupby('key').apply(lambda x:x.max() - x.min())"
   ]
  },
  {
   "cell_type": "markdown",
   "id": "e34fbe6d",
   "metadata": {},
   "source": [
    "* groupby로 묶인 데이터에서 key값으로 데이터를 가져올 땐\n",
    "  - df.groupby(컬럼명).get_group(key값)"
   ]
  },
  {
   "cell_type": "markdown",
   "id": "b90b11cf",
   "metadata": {},
   "source": [
    "### 실습 1"
   ]
  },
  {
   "cell_type": "code",
   "execution_count": 117,
   "id": "debe9a3d",
   "metadata": {},
   "outputs": [
    {
     "name": "stdout",
     "output_type": "stream",
     "text": [
      "DataFrame: \n",
      "   col1 col2  col3\n",
      "0     2    A     0\n",
      "1     1    A     1\n",
      "2     9    B     9\n",
      "3     8  NaN     4\n",
      "4     7    D     2\n",
      "5     4    C     3 \n",
      "\n",
      "   col1 col2  col3\n",
      "1     1    A     1\n",
      "0     2    A     0\n",
      "5     4    C     3\n",
      "4     7    D     2\n",
      "3     8  NaN     4\n",
      "2     9    B     9\n",
      "   col1 col2  col3\n",
      "4     7    D     2\n",
      "5     4    C     3\n",
      "2     9    B     9\n",
      "0     2    A     0\n",
      "1     1    A     1\n",
      "3     8  NaN     4\n",
      "   col1 col2  col3\n",
      "0     2    A     0\n",
      "1     1    A     1\n",
      "2     9    B     9\n",
      "5     4    C     3\n",
      "4     7    D     2\n",
      "3     8  NaN     4\n"
     ]
    }
   ],
   "source": [
    "import numpy as np\n",
    "import pandas as pd\n",
    "\n",
    "print(\"DataFrame: \")\n",
    "df = pd.DataFrame({\n",
    "    'col1' : [2, 1, 9, 8, 7, 4],\n",
    "    'col2' : ['A', 'A', 'B', np.nan, 'D', 'C'],\n",
    "    'col3': [0, 1, 9, 4, 2, 3],\n",
    "})\n",
    "print(df, \"\\n\")\n",
    "\n",
    "\n",
    "# 정렬 코드 입력해보기    \n",
    "# 1. col1을 기준으로 오름차순으로 정렬하기.\n",
    "sorted_df1 = df.sort_values('col1')\n",
    "\n",
    "\n",
    "# 2. col2를 기준으로 내림차순으로 정렬하기.\n",
    "sorted_df2 = df.sort_values('col2', ascending = False)\n",
    "\n",
    "\n",
    "# 3. col2를 기준으로 오름차순으로, col1를 기준으로 내림차순으로 정렬하기.\n",
    "sorted_df3 = df.sort_values(['col2','col1'], ascending = [True, False])\n",
    "\n",
    "print(sorted_df1)\n",
    "print(sorted_df2)\n",
    "print(sorted_df3)"
   ]
  },
  {
   "cell_type": "markdown",
   "id": "f1351a2c",
   "metadata": {},
   "source": [
    "### 실습 2"
   ]
  },
  {
   "cell_type": "code",
   "execution_count": 118,
   "id": "4ebb9e35",
   "metadata": {},
   "outputs": [
    {
     "name": "stdout",
     "output_type": "stream",
     "text": [
      "   korean  math\n",
      "a      50  10.0\n",
      "b      60   NaN\n",
      "c      70  40.0 \n",
      "\n",
      "korean    3\n",
      "math      2\n",
      "dtype: int64 \n",
      "\n",
      "a    2\n",
      "b    1\n",
      "c    2\n",
      "dtype: int64 \n",
      "\n",
      "korean    70.0\n",
      "math      40.0\n",
      "dtype: float64 \n",
      "\n",
      "korean    50.0\n",
      "math      10.0\n",
      "dtype: float64 \n",
      "\n",
      "korean    180.0\n",
      "math       50.0\n",
      "dtype: float64 \n",
      "\n",
      "   korean  math\n",
      "a      50  10.0\n",
      "b      60  10.0\n",
      "c      70  40.0 \n",
      "\n",
      "korean    60.0\n",
      "math      20.0\n",
      "dtype: float64 \n",
      "\n"
     ]
    }
   ],
   "source": [
    "import numpy as np\n",
    "import pandas as pd\n",
    "\n",
    "data = {\n",
    "    'korean' : [50, 60, 70],\n",
    "    'math' : [10, np.nan, 40]\n",
    "}\n",
    "df = pd.DataFrame(data, index = ['a','b','c'])\n",
    "print(df, \"\\n\")\n",
    "\n",
    "# 각 컬럼별 데이터 개수\n",
    "col_num = df.count(axis = 0)\n",
    "print(col_num, \"\\n\")\n",
    "\n",
    "# 각 행별 데이터 개수\n",
    "row_num = df.count(axis =1)\n",
    "print(row_num, \"\\n\")\n",
    "\n",
    "# 각 컬럼별 최댓값\n",
    "col_max = df.max(axis = 0)\n",
    "print(col_max, \"\\n\")\n",
    "\n",
    "# 각 컬럼별 최솟값\n",
    "col_min = df.min(axis = 0)\n",
    "print(col_min, \"\\n\")\n",
    "\n",
    "# 각 컬럼별 합계\n",
    "col_sum = df.sum(axis = 0)\n",
    "print(col_sum, \"\\n\")\n",
    "\n",
    "# 컬럼의 최솟값으로 NaN값 대체\n",
    "math_min = df['math'].min()\n",
    "df['math'] = df['math'].fillna(math_min)\n",
    "print(df, \"\\n\")\n",
    "\n",
    "# 각 컬럼별 평균\n",
    "col_avg = df.mean(axis = 0)\n",
    "print(col_avg, \"\\n\")"
   ]
  },
  {
   "cell_type": "markdown",
   "id": "c3fdca2d",
   "metadata": {},
   "source": [
    "### 실습 3"
   ]
  },
  {
   "cell_type": "code",
   "execution_count": 119,
   "id": "8511eed3",
   "metadata": {},
   "outputs": [
    {
     "name": "stdout",
     "output_type": "stream",
     "text": [
      "DataFrame:\n",
      "  key  data1  data2\n",
      "0   A      1      4\n",
      "1   B      2      4\n",
      "2   C      3      6\n",
      "3   A      1      0\n",
      "4   B      2      6\n",
      "5   C      3      1 \n",
      "\n",
      "     data1  data2\n",
      "key              \n",
      "A        2      4\n",
      "B        4     10\n",
      "C        6      7\n",
      "           data2\n",
      "key data1       \n",
      "A   1          4\n",
      "B   2         10\n",
      "C   3          7\n"
     ]
    }
   ],
   "source": [
    "import numpy as np\n",
    "import pandas as pd\n",
    "\n",
    "df = pd.DataFrame({\n",
    "    'key': ['A', 'B', 'C', 'A', 'B', 'C'],\n",
    "    'data1': [1, 2, 3, 1, 2, 3],\n",
    "    'data2': [4, 4, 6, 0, 6, 1]\n",
    "})\n",
    "print(\"DataFrame:\")\n",
    "print(df, \"\\n\")\n",
    "\n",
    "# groupby 함수를 이용해봅시다.\n",
    "# key를 기준으로 묶어 합계를 구해 출력해보세요.\n",
    "print(df.groupby('key').sum())\n",
    "\n",
    "# key와 data1을 기준으로 묶어 합계를 구해 출력해보세요.\n",
    "print(df.groupby(['key','data1']).sum())"
   ]
  },
  {
   "cell_type": "markdown",
   "id": "946d7b18",
   "metadata": {},
   "source": [
    "### 실습 4"
   ]
  },
  {
   "cell_type": "code",
   "execution_count": 120,
   "id": "11563f9a",
   "metadata": {},
   "outputs": [
    {
     "name": "stdout",
     "output_type": "stream",
     "text": [
      "DataFrame:\n",
      "  key  data1  data2\n",
      "0   A      0      4\n",
      "1   B      1      4\n",
      "2   C      2      6\n",
      "3   A      3      0\n",
      "4   B      4      6\n",
      "5   C      5      1 \n",
      "\n",
      "    data1            data2           \n",
      "      min median max   min median max\n",
      "key                                  \n",
      "A       0    1.5   3     0    2.0   4\n",
      "B       1    2.5   4     4    5.0   6\n",
      "C       2    3.5   5     1    3.5   6\n",
      "     data1  data2\n",
      "key              \n",
      "A        0      4\n",
      "B        1     10\n",
      "C        2      7\n"
     ]
    }
   ],
   "source": [
    "import numpy as np\n",
    "import pandas as pd\n",
    "\n",
    "df = pd.DataFrame({\n",
    "    'key': ['A', 'B', 'C', 'A', 'B', 'C'],\n",
    "    'data1': [0, 1, 2, 3, 4, 5],\n",
    "    'data2': [4, 4, 6, 0, 6, 1]\n",
    "})\n",
    "print(\"DataFrame:\")\n",
    "print(df, \"\\n\")\n",
    "\n",
    "# aggregate를 이용하여 요약 통계량을 산출해봅시다.\n",
    "# 데이터 프레임을 'key' 칼럼으로 묶고, data1과 data2 각각의 최솟값, 중앙값, 최댓값을 출력하세요.\n",
    "print(df.groupby('key').aggregate([min, np.median, max]))\n",
    "\n",
    "\n",
    "# 데이터 프레임을 'key' 칼럼으로 묶고, data1의 최솟값, data2의 합계를 출력하세요.\n",
    "print(df.groupby('key').aggregate({'data1':min, 'data2':np.sum}))"
   ]
  },
  {
   "cell_type": "code",
   "execution_count": null,
   "id": "7e204ccd",
   "metadata": {},
   "outputs": [],
   "source": []
  }
 ],
 "metadata": {
  "kernelspec": {
   "display_name": "Python 3",
   "language": "python",
   "name": "python3"
  },
  "language_info": {
   "codemirror_mode": {
    "name": "ipython",
    "version": 3
   },
   "file_extension": ".py",
   "mimetype": "text/x-python",
   "name": "python",
   "nbconvert_exporter": "python",
   "pygments_lexer": "ipython3",
   "version": "3.8.8"
  }
 },
 "nbformat": 4,
 "nbformat_minor": 5
}
