{
 "cells": [
  {
   "cell_type": "markdown",
   "id": "ea04d346",
   "metadata": {},
   "source": [
    "## Pandas"
   ]
  },
  {
   "cell_type": "markdown",
   "id": "a86db0b0",
   "metadata": {},
   "source": [
    "* 파이썬 라이브러리\n",
    "* 구조화된 데이터를 효과적으로 처리하고 저장\n",
    "* Array 계산에 특화된 Numpy를 기반으로 설계"
   ]
  },
  {
   "cell_type": "markdown",
   "id": "5e2bcb7f",
   "metadata": {},
   "source": [
    "### Series"
   ]
  },
  {
   "cell_type": "markdown",
   "id": "4df298ee",
   "metadata": {},
   "source": [
    "- Numpy의 array가 보강된 형태\n",
    "- Data와 Index를 가지고 있음"
   ]
  },
  {
   "cell_type": "code",
   "execution_count": 23,
   "id": "96f99542",
   "metadata": {},
   "outputs": [
    {
     "name": "stdout",
     "output_type": "stream",
     "text": [
      "0    1\n",
      "1    2\n",
      "2    3\n",
      "3    4\n",
      "dtype: int64\n"
     ]
    }
   ],
   "source": [
    "import pandas as pd\n",
    "\n",
    "data = pd.Series([1, 2, 3, 4])\n",
    "print(data)"
   ]
  },
  {
   "cell_type": "code",
   "execution_count": 24,
   "id": "400e5273",
   "metadata": {},
   "outputs": [
    {
     "name": "stdout",
     "output_type": "stream",
     "text": [
      "<class 'pandas.core.series.Series'>\n",
      "[1 2 3 4]\n",
      "<class 'numpy.ndarray'>\n"
     ]
    }
   ],
   "source": [
    "# Series는 값(values)을 ndarray 형태로 가지고 있음.\n",
    "print(type(data))\n",
    "\n",
    "print(data.values)\n",
    "print(type(data.values))"
   ]
  },
  {
   "cell_type": "code",
   "execution_count": 25,
   "id": "0415caa9",
   "metadata": {},
   "outputs": [
    {
     "name": "stdout",
     "output_type": "stream",
     "text": [
      "float64\n",
      "0    1.0\n",
      "1    2.0\n",
      "2    3.0\n",
      "3    4.0\n",
      "dtype: float64\n"
     ]
    }
   ],
   "source": [
    "# dtype 인자로 데이터 타입을 지정할 수 있음\n",
    "data = pd.Series([1, 2, 3, 4], dtype = 'float')\n",
    "print(data.dtype)\n",
    "print(data)"
   ]
  },
  {
   "cell_type": "code",
   "execution_count": 26,
   "id": "0354c38c",
   "metadata": {},
   "outputs": [
    {
     "name": "stdout",
     "output_type": "stream",
     "text": [
      "a    1\n",
      "b    2\n",
      "c    3\n",
      "d    4\n",
      "dtype: int64\n",
      "a    1\n",
      "b    2\n",
      "c    5\n",
      "d    4\n",
      "dtype: int64\n"
     ]
    }
   ],
   "source": [
    "# 인덱스를 지정할 수 있고, 인덱스로 접근 가능\n",
    "data = pd.Series([1, 2, 3, 4], index = ['a', 'b', 'c', 'd'])\n",
    "print(data)\n",
    "data['c'] = 5 # c값을 3에서 5로 변경\n",
    "print(data)"
   ]
  },
  {
   "cell_type": "code",
   "execution_count": 27,
   "id": "7c5b99d4",
   "metadata": {},
   "outputs": [
    {
     "name": "stdout",
     "output_type": "stream",
     "text": [
      "china    141500\n",
      "japan     12718\n",
      "korea      5180\n",
      "usa       32676\n",
      "dtype: int64\n"
     ]
    }
   ],
   "source": [
    "# Dictionary를 활용하여 Series 생성가능\n",
    "population_dict = {'china':141500, 'japan':12718, 'korea':5180, 'usa':32676}\n",
    "population = pd.Series(population_dict)\n",
    "print(population)"
   ]
  },
  {
   "cell_type": "markdown",
   "id": "dc8fa9d0",
   "metadata": {},
   "source": [
    "### DataFrame"
   ]
  },
  {
   "cell_type": "markdown",
   "id": "ef5fd368",
   "metadata": {},
   "source": [
    "* 여러 개의 Series가 모여서 행과 열을 이룬 데이터"
   ]
  },
  {
   "cell_type": "code",
   "execution_count": 28,
   "id": "e9819213",
   "metadata": {},
   "outputs": [
    {
     "data": {
      "text/html": [
       "<div>\n",
       "<style scoped>\n",
       "    .dataframe tbody tr th:only-of-type {\n",
       "        vertical-align: middle;\n",
       "    }\n",
       "\n",
       "    .dataframe tbody tr th {\n",
       "        vertical-align: top;\n",
       "    }\n",
       "\n",
       "    .dataframe thead th {\n",
       "        text-align: right;\n",
       "    }\n",
       "</style>\n",
       "<table border=\"1\" class=\"dataframe\">\n",
       "  <thead>\n",
       "    <tr style=\"text-align: right;\">\n",
       "      <th></th>\n",
       "      <th>gdp</th>\n",
       "      <th>population</th>\n",
       "    </tr>\n",
       "  </thead>\n",
       "  <tbody>\n",
       "    <tr>\n",
       "      <th>china</th>\n",
       "      <td>1409250000</td>\n",
       "      <td>141500</td>\n",
       "    </tr>\n",
       "    <tr>\n",
       "      <th>japan</th>\n",
       "      <td>516700000</td>\n",
       "      <td>12718</td>\n",
       "    </tr>\n",
       "    <tr>\n",
       "      <th>korea</th>\n",
       "      <td>169320000</td>\n",
       "      <td>5180</td>\n",
       "    </tr>\n",
       "    <tr>\n",
       "      <th>usa</th>\n",
       "      <td>2041280000</td>\n",
       "      <td>32676</td>\n",
       "    </tr>\n",
       "  </tbody>\n",
       "</table>\n",
       "</div>"
      ],
      "text/plain": [
       "              gdp  population\n",
       "china  1409250000      141500\n",
       "japan   516700000       12718\n",
       "korea   169320000        5180\n",
       "usa    2041280000       32676"
      ]
     },
     "metadata": {},
     "output_type": "display_data"
    }
   ],
   "source": [
    "gdp_dict= {'china': 1409250000,'japan': 516700000,'korea': 169320000,'usa': 2041280000,}\n",
    "gdp= pd.Series(gdp_dict)\n",
    "\n",
    "country = pd.DataFrame({'gdp':gdp, 'population':population})\n",
    "display(country)"
   ]
  },
  {
   "cell_type": "code",
   "execution_count": 36,
   "id": "abc270c3",
   "metadata": {},
   "outputs": [
    {
     "data": {
      "text/html": [
       "<div>\n",
       "<style scoped>\n",
       "    .dataframe tbody tr th:only-of-type {\n",
       "        vertical-align: middle;\n",
       "    }\n",
       "\n",
       "    .dataframe tbody tr th {\n",
       "        vertical-align: top;\n",
       "    }\n",
       "\n",
       "    .dataframe thead th {\n",
       "        text-align: right;\n",
       "    }\n",
       "</style>\n",
       "<table border=\"1\" class=\"dataframe\">\n",
       "  <thead>\n",
       "    <tr style=\"text-align: right;\">\n",
       "      <th></th>\n",
       "      <th>gdp</th>\n",
       "      <th>population</th>\n",
       "    </tr>\n",
       "    <tr>\n",
       "      <th>country</th>\n",
       "      <th></th>\n",
       "      <th></th>\n",
       "    </tr>\n",
       "  </thead>\n",
       "  <tbody>\n",
       "    <tr>\n",
       "      <th>china</th>\n",
       "      <td>1409250000</td>\n",
       "      <td>141500</td>\n",
       "    </tr>\n",
       "    <tr>\n",
       "      <th>japan</th>\n",
       "      <td>516700000</td>\n",
       "      <td>12718</td>\n",
       "    </tr>\n",
       "    <tr>\n",
       "      <th>korea</th>\n",
       "      <td>169320000</td>\n",
       "      <td>5180</td>\n",
       "    </tr>\n",
       "    <tr>\n",
       "      <th>usa</th>\n",
       "      <td>2041280000</td>\n",
       "      <td>32676</td>\n",
       "    </tr>\n",
       "  </tbody>\n",
       "</table>\n",
       "</div>"
      ],
      "text/plain": [
       "                gdp  population\n",
       "country                        \n",
       "china    1409250000      141500\n",
       "japan     516700000       12718\n",
       "korea     169320000        5180\n",
       "usa      2041280000       32676"
      ]
     },
     "metadata": {},
     "output_type": "display_data"
    }
   ],
   "source": [
    "# Dictionary를 활용하여 DataFrame 생성 가능\n",
    "data = {'country': ['china','japan','korea','usa'],\n",
    "        'gdp': [1409250000,516700000, 169320000, 2041280000],\n",
    "        'population': [141500,12718, 5180, 32676]}\n",
    "\n",
    "country = pd.DataFrame(data)\n",
    "country = country.set_index('country')\n",
    "display(country)"
   ]
  },
  {
   "cell_type": "code",
   "execution_count": 37,
   "id": "afa0bbe6",
   "metadata": {},
   "outputs": [
    {
     "name": "stdout",
     "output_type": "stream",
     "text": [
      "(4, 2)\n",
      "8\n",
      "2\n",
      "[[1409250000     141500]\n",
      " [ 516700000      12718]\n",
      " [ 169320000       5180]\n",
      " [2041280000      32676]]\n"
     ]
    }
   ],
   "source": [
    "# DataFrame 속성 확인\n",
    "print(country.shape)\n",
    "print(country.size)\n",
    "print(country.ndim)\n",
    "print(country.values)"
   ]
  },
  {
   "cell_type": "code",
   "execution_count": 38,
   "id": "92ca08b3",
   "metadata": {},
   "outputs": [
    {
     "name": "stdout",
     "output_type": "stream",
     "text": [
      "Index(['china', 'japan', 'korea', 'usa'], dtype='object', name='Country')\n",
      "Index(['gdp', 'population'], dtype='object', name='Info')\n"
     ]
    }
   ],
   "source": [
    "# DataFrame의 index와 column에 이름 지정\n",
    "country.index.name = 'Country'\n",
    "country.columns.name = 'Info'\n",
    "\n",
    "print(country.index)\n",
    "print(country.columns)"
   ]
  },
  {
   "cell_type": "code",
   "execution_count": 39,
   "id": "b2630b92",
   "metadata": {},
   "outputs": [
    {
     "name": "stdout",
     "output_type": "stream",
     "text": [
      "  Country         gdp  population\n",
      "0   china  1409250000      141500\n",
      "1   japan   516700000       12718\n",
      "2   korea   169320000        5180\n",
      "3     usa  2041280000       32676\n"
     ]
    }
   ],
   "source": [
    "# 데이터 프레임 저장 및 불러오기 가능\n",
    "country.to_csv('./country.csv')\n",
    "country.to_excel('country.xlsx')\n",
    "\n",
    "country = pd.read_csv('./country.csv')\n",
    "\n",
    "# country = pd.read_excel('country.xlsx')\n",
    "\n",
    "print(country)"
   ]
  },
  {
   "cell_type": "markdown",
   "id": "080e97bd",
   "metadata": {},
   "source": [
    "#### .loc : 명시적인 인덱스를 참조하는 인덱싱/슬라이싱"
   ]
  },
  {
   "cell_type": "code",
   "execution_count": 42,
   "id": "ca41f758",
   "metadata": {},
   "outputs": [
    {
     "data": {
      "text/plain": [
       "gdp           1409250000\n",
       "population        141500\n",
       "Name: china, dtype: int64"
      ]
     },
     "metadata": {},
     "output_type": "display_data"
    },
    {
     "data": {
      "text/html": [
       "<div>\n",
       "<style scoped>\n",
       "    .dataframe tbody tr th:only-of-type {\n",
       "        vertical-align: middle;\n",
       "    }\n",
       "\n",
       "    .dataframe tbody tr th {\n",
       "        vertical-align: top;\n",
       "    }\n",
       "\n",
       "    .dataframe thead th {\n",
       "        text-align: right;\n",
       "    }\n",
       "</style>\n",
       "<table border=\"1\" class=\"dataframe\">\n",
       "  <thead>\n",
       "    <tr style=\"text-align: right;\">\n",
       "      <th></th>\n",
       "      <th>gdp</th>\n",
       "      <th>population</th>\n",
       "    </tr>\n",
       "    <tr>\n",
       "      <th>country</th>\n",
       "      <th></th>\n",
       "      <th></th>\n",
       "    </tr>\n",
       "  </thead>\n",
       "  <tbody>\n",
       "    <tr>\n",
       "      <th>japan</th>\n",
       "      <td>516700000</td>\n",
       "      <td>12718</td>\n",
       "    </tr>\n",
       "    <tr>\n",
       "      <th>korea</th>\n",
       "      <td>169320000</td>\n",
       "      <td>5180</td>\n",
       "    </tr>\n",
       "  </tbody>\n",
       "</table>\n",
       "</div>"
      ],
      "text/plain": [
       "               gdp  population\n",
       "country                       \n",
       "japan    516700000       12718\n",
       "korea    169320000        5180"
      ]
     },
     "metadata": {},
     "output_type": "display_data"
    }
   ],
   "source": [
    "data = {'country': ['china','japan','korea','usa'],\n",
    "        'gdp': [1409250000,516700000, 169320000, 2041280000],\n",
    "        'population': [141500,12718, 5180, 32676]}\n",
    "\n",
    "country = pd.DataFrame(data)\n",
    "country = country.set_index('country')\n",
    "\n",
    "idx = country.loc['china'] # 인덱싱\n",
    "display(idx)\n",
    "\n",
    "sl = country.loc['japan':'korea', :'population'] # 슬라이싱\n",
    "display(sl)"
   ]
  },
  {
   "cell_type": "markdown",
   "id": "5e8f0048",
   "metadata": {},
   "source": [
    "#### .iloc : 파이썬 스타일의 정수 인덱스 인덱싱/슬라이싱"
   ]
  },
  {
   "cell_type": "code",
   "execution_count": 47,
   "id": "4a100e67",
   "metadata": {},
   "outputs": [
    {
     "data": {
      "text/plain": [
       "gdp           1409250000\n",
       "population        141500\n",
       "Name: china, dtype: int64"
      ]
     },
     "metadata": {},
     "output_type": "display_data"
    },
    {
     "data": {
      "text/html": [
       "<div>\n",
       "<style scoped>\n",
       "    .dataframe tbody tr th:only-of-type {\n",
       "        vertical-align: middle;\n",
       "    }\n",
       "\n",
       "    .dataframe tbody tr th {\n",
       "        vertical-align: top;\n",
       "    }\n",
       "\n",
       "    .dataframe thead th {\n",
       "        text-align: right;\n",
       "    }\n",
       "</style>\n",
       "<table border=\"1\" class=\"dataframe\">\n",
       "  <thead>\n",
       "    <tr style=\"text-align: right;\">\n",
       "      <th></th>\n",
       "      <th>gdp</th>\n",
       "      <th>population</th>\n",
       "    </tr>\n",
       "    <tr>\n",
       "      <th>country</th>\n",
       "      <th></th>\n",
       "      <th></th>\n",
       "    </tr>\n",
       "  </thead>\n",
       "  <tbody>\n",
       "    <tr>\n",
       "      <th>japan</th>\n",
       "      <td>516700000</td>\n",
       "      <td>12718</td>\n",
       "    </tr>\n",
       "    <tr>\n",
       "      <th>korea</th>\n",
       "      <td>169320000</td>\n",
       "      <td>5180</td>\n",
       "    </tr>\n",
       "  </tbody>\n",
       "</table>\n",
       "</div>"
      ],
      "text/plain": [
       "               gdp  population\n",
       "country                       \n",
       "japan    516700000       12718\n",
       "korea    169320000        5180"
      ]
     },
     "metadata": {},
     "output_type": "display_data"
    }
   ],
   "source": [
    "idx = country.iloc[0] # 인덱싱\n",
    "display(idx)\n",
    "\n",
    "sl = country.iloc[1:3, :2] # 슬라이싱\n",
    "display(sl)"
   ]
  },
  {
   "cell_type": "code",
   "execution_count": 48,
   "id": "21482f83",
   "metadata": {},
   "outputs": [
    {
     "data": {
      "text/html": [
       "<div>\n",
       "<style scoped>\n",
       "    .dataframe tbody tr th:only-of-type {\n",
       "        vertical-align: middle;\n",
       "    }\n",
       "\n",
       "    .dataframe tbody tr th {\n",
       "        vertical-align: top;\n",
       "    }\n",
       "\n",
       "    .dataframe thead th {\n",
       "        text-align: right;\n",
       "    }\n",
       "</style>\n",
       "<table border=\"1\" class=\"dataframe\">\n",
       "  <thead>\n",
       "    <tr style=\"text-align: right;\">\n",
       "      <th></th>\n",
       "      <th>gdp</th>\n",
       "      <th>population</th>\n",
       "    </tr>\n",
       "    <tr>\n",
       "      <th>country</th>\n",
       "      <th></th>\n",
       "      <th></th>\n",
       "    </tr>\n",
       "  </thead>\n",
       "  <tbody>\n",
       "    <tr>\n",
       "      <th>china</th>\n",
       "      <td>1409250000</td>\n",
       "      <td>141500</td>\n",
       "    </tr>\n",
       "    <tr>\n",
       "      <th>japan</th>\n",
       "      <td>516700000</td>\n",
       "      <td>12718</td>\n",
       "    </tr>\n",
       "    <tr>\n",
       "      <th>korea</th>\n",
       "      <td>169320000</td>\n",
       "      <td>5180</td>\n",
       "    </tr>\n",
       "    <tr>\n",
       "      <th>usa</th>\n",
       "      <td>2041280000</td>\n",
       "      <td>32676</td>\n",
       "    </tr>\n",
       "  </tbody>\n",
       "</table>\n",
       "</div>"
      ],
      "text/plain": [
       "                gdp  population\n",
       "country                        \n",
       "china    1409250000      141500\n",
       "japan     516700000       12718\n",
       "korea     169320000        5180\n",
       "usa      2041280000       32676"
      ]
     },
     "execution_count": 48,
     "metadata": {},
     "output_type": "execute_result"
    }
   ],
   "source": [
    "# 컬럼명 활용하여 DataFrame에서 데이터 선택 가능\n",
    "country"
   ]
  },
  {
   "cell_type": "code",
   "execution_count": 49,
   "id": "e9869419",
   "metadata": {},
   "outputs": [
    {
     "name": "stdout",
     "output_type": "stream",
     "text": [
      "country\n",
      "china    1409250000\n",
      "japan     516700000\n",
      "korea     169320000\n",
      "usa      2041280000\n",
      "Name: gdp, dtype: int64\n",
      "                gdp\n",
      "country            \n",
      "china    1409250000\n",
      "japan     516700000\n",
      "korea     169320000\n",
      "usa      2041280000\n"
     ]
    }
   ],
   "source": [
    "print(country['gdp'])\n",
    "print(country[['gdp']])"
   ]
  },
  {
   "cell_type": "code",
   "execution_count": 50,
   "id": "a0ff9808",
   "metadata": {},
   "outputs": [
    {
     "data": {
      "text/html": [
       "<div>\n",
       "<style scoped>\n",
       "    .dataframe tbody tr th:only-of-type {\n",
       "        vertical-align: middle;\n",
       "    }\n",
       "\n",
       "    .dataframe tbody tr th {\n",
       "        vertical-align: top;\n",
       "    }\n",
       "\n",
       "    .dataframe thead th {\n",
       "        text-align: right;\n",
       "    }\n",
       "</style>\n",
       "<table border=\"1\" class=\"dataframe\">\n",
       "  <thead>\n",
       "    <tr style=\"text-align: right;\">\n",
       "      <th></th>\n",
       "      <th>gdp</th>\n",
       "      <th>population</th>\n",
       "    </tr>\n",
       "    <tr>\n",
       "      <th>country</th>\n",
       "      <th></th>\n",
       "      <th></th>\n",
       "    </tr>\n",
       "  </thead>\n",
       "  <tbody>\n",
       "    <tr>\n",
       "      <th>korea</th>\n",
       "      <td>169320000</td>\n",
       "      <td>5180</td>\n",
       "    </tr>\n",
       "  </tbody>\n",
       "</table>\n",
       "</div>"
      ],
      "text/plain": [
       "               gdp  population\n",
       "country                       \n",
       "korea    169320000        5180"
      ]
     },
     "execution_count": 50,
     "metadata": {},
     "output_type": "execute_result"
    }
   ],
   "source": [
    "# Masking 연산이나 query 함수를 활용하여 조건에 맞는 DataFrame 행 추출 가능\n",
    "country[country['population'] < 10000] # masking 연산 활용"
   ]
  },
  {
   "cell_type": "code",
   "execution_count": 51,
   "id": "e5f36555",
   "metadata": {},
   "outputs": [
    {
     "data": {
      "text/html": [
       "<div>\n",
       "<style scoped>\n",
       "    .dataframe tbody tr th:only-of-type {\n",
       "        vertical-align: middle;\n",
       "    }\n",
       "\n",
       "    .dataframe tbody tr th {\n",
       "        vertical-align: top;\n",
       "    }\n",
       "\n",
       "    .dataframe thead th {\n",
       "        text-align: right;\n",
       "    }\n",
       "</style>\n",
       "<table border=\"1\" class=\"dataframe\">\n",
       "  <thead>\n",
       "    <tr style=\"text-align: right;\">\n",
       "      <th></th>\n",
       "      <th>gdp</th>\n",
       "      <th>population</th>\n",
       "    </tr>\n",
       "    <tr>\n",
       "      <th>country</th>\n",
       "      <th></th>\n",
       "      <th></th>\n",
       "    </tr>\n",
       "  </thead>\n",
       "  <tbody>\n",
       "    <tr>\n",
       "      <th>china</th>\n",
       "      <td>1409250000</td>\n",
       "      <td>141500</td>\n",
       "    </tr>\n",
       "  </tbody>\n",
       "</table>\n",
       "</div>"
      ],
      "text/plain": [
       "                gdp  population\n",
       "country                        \n",
       "china    1409250000      141500"
      ]
     },
     "execution_count": 51,
     "metadata": {},
     "output_type": "execute_result"
    }
   ],
   "source": [
    "country.query(\"population > 100000\") # query 함수 활용"
   ]
  },
  {
   "cell_type": "code",
   "execution_count": 53,
   "id": "f61f5aa4",
   "metadata": {},
   "outputs": [
    {
     "data": {
      "text/html": [
       "<div>\n",
       "<style scoped>\n",
       "    .dataframe tbody tr th:only-of-type {\n",
       "        vertical-align: middle;\n",
       "    }\n",
       "\n",
       "    .dataframe tbody tr th {\n",
       "        vertical-align: top;\n",
       "    }\n",
       "\n",
       "    .dataframe thead th {\n",
       "        text-align: right;\n",
       "    }\n",
       "</style>\n",
       "<table border=\"1\" class=\"dataframe\">\n",
       "  <thead>\n",
       "    <tr style=\"text-align: right;\">\n",
       "      <th></th>\n",
       "      <th>gdp</th>\n",
       "      <th>population</th>\n",
       "      <th>gdp per capita</th>\n",
       "    </tr>\n",
       "    <tr>\n",
       "      <th>country</th>\n",
       "      <th></th>\n",
       "      <th></th>\n",
       "      <th></th>\n",
       "    </tr>\n",
       "  </thead>\n",
       "  <tbody>\n",
       "    <tr>\n",
       "      <th>china</th>\n",
       "      <td>1409250000</td>\n",
       "      <td>141500</td>\n",
       "      <td>9959.363958</td>\n",
       "    </tr>\n",
       "    <tr>\n",
       "      <th>japan</th>\n",
       "      <td>516700000</td>\n",
       "      <td>12718</td>\n",
       "      <td>40627.457147</td>\n",
       "    </tr>\n",
       "    <tr>\n",
       "      <th>korea</th>\n",
       "      <td>169320000</td>\n",
       "      <td>5180</td>\n",
       "      <td>32687.258687</td>\n",
       "    </tr>\n",
       "    <tr>\n",
       "      <th>usa</th>\n",
       "      <td>2041280000</td>\n",
       "      <td>32676</td>\n",
       "      <td>62470.314604</td>\n",
       "    </tr>\n",
       "  </tbody>\n",
       "</table>\n",
       "</div>"
      ],
      "text/plain": [
       "                gdp  population  gdp per capita\n",
       "country                                        \n",
       "china    1409250000      141500     9959.363958\n",
       "japan     516700000       12718    40627.457147\n",
       "korea     169320000        5180    32687.258687\n",
       "usa      2041280000       32676    62470.314604"
      ]
     },
     "execution_count": 53,
     "metadata": {},
     "output_type": "execute_result"
    }
   ],
   "source": [
    "# Series도 numpy array처럼 연산자 활용 가능\n",
    "gdp_per_capita = country['gdp'] / country['population']\n",
    "country['gdp per capita']  = gdp_per_capita\n",
    "country"
   ]
  },
  {
   "cell_type": "code",
   "execution_count": 58,
   "id": "e7ab26a2",
   "metadata": {},
   "outputs": [
    {
     "data": {
      "text/html": [
       "<div>\n",
       "<style scoped>\n",
       "    .dataframe tbody tr th:only-of-type {\n",
       "        vertical-align: middle;\n",
       "    }\n",
       "\n",
       "    .dataframe tbody tr th {\n",
       "        vertical-align: top;\n",
       "    }\n",
       "\n",
       "    .dataframe thead th {\n",
       "        text-align: right;\n",
       "    }\n",
       "</style>\n",
       "<table border=\"1\" class=\"dataframe\">\n",
       "  <thead>\n",
       "    <tr style=\"text-align: right;\">\n",
       "      <th></th>\n",
       "      <th>이름</th>\n",
       "      <th>나이</th>\n",
       "      <th>주소</th>\n",
       "    </tr>\n",
       "  </thead>\n",
       "  <tbody>\n",
       "    <tr>\n",
       "      <th>0</th>\n",
       "      <td>길동</td>\n",
       "      <td>26</td>\n",
       "      <td>서울</td>\n",
       "    </tr>\n",
       "  </tbody>\n",
       "</table>\n",
       "</div>"
      ],
      "text/plain": [
       "   이름  나이  주소\n",
       "0  길동  26  서울"
      ]
     },
     "metadata": {},
     "output_type": "display_data"
    },
    {
     "data": {
      "text/html": [
       "<div>\n",
       "<style scoped>\n",
       "    .dataframe tbody tr th:only-of-type {\n",
       "        vertical-align: middle;\n",
       "    }\n",
       "\n",
       "    .dataframe tbody tr th {\n",
       "        vertical-align: top;\n",
       "    }\n",
       "\n",
       "    .dataframe thead th {\n",
       "        text-align: right;\n",
       "    }\n",
       "</style>\n",
       "<table border=\"1\" class=\"dataframe\">\n",
       "  <thead>\n",
       "    <tr style=\"text-align: right;\">\n",
       "      <th></th>\n",
       "      <th>이름</th>\n",
       "      <th>나이</th>\n",
       "      <th>주소</th>\n",
       "    </tr>\n",
       "  </thead>\n",
       "  <tbody>\n",
       "    <tr>\n",
       "      <th>0</th>\n",
       "      <td>길동</td>\n",
       "      <td>26</td>\n",
       "      <td>서울</td>\n",
       "    </tr>\n",
       "    <tr>\n",
       "      <th>1</th>\n",
       "      <td>철수</td>\n",
       "      <td>25</td>\n",
       "      <td>인천</td>\n",
       "    </tr>\n",
       "  </tbody>\n",
       "</table>\n",
       "</div>"
      ],
      "text/plain": [
       "   이름  나이  주소\n",
       "0  길동  26  서울\n",
       "1  철수  25  인천"
      ]
     },
     "metadata": {},
     "output_type": "display_data"
    },
    {
     "data": {
      "text/html": [
       "<div>\n",
       "<style scoped>\n",
       "    .dataframe tbody tr th:only-of-type {\n",
       "        vertical-align: middle;\n",
       "    }\n",
       "\n",
       "    .dataframe tbody tr th {\n",
       "        vertical-align: top;\n",
       "    }\n",
       "\n",
       "    .dataframe thead th {\n",
       "        text-align: right;\n",
       "    }\n",
       "</style>\n",
       "<table border=\"1\" class=\"dataframe\">\n",
       "  <thead>\n",
       "    <tr style=\"text-align: right;\">\n",
       "      <th></th>\n",
       "      <th>이름</th>\n",
       "      <th>나이</th>\n",
       "      <th>주소</th>\n",
       "    </tr>\n",
       "  </thead>\n",
       "  <tbody>\n",
       "    <tr>\n",
       "      <th>0</th>\n",
       "      <td>길동</td>\n",
       "      <td>26</td>\n",
       "      <td>서울</td>\n",
       "    </tr>\n",
       "    <tr>\n",
       "      <th>1</th>\n",
       "      <td>영희</td>\n",
       "      <td>25</td>\n",
       "      <td>인천</td>\n",
       "    </tr>\n",
       "  </tbody>\n",
       "</table>\n",
       "</div>"
      ],
      "text/plain": [
       "   이름  나이  주소\n",
       "0  길동  26  서울\n",
       "1  영희  25  인천"
      ]
     },
     "metadata": {},
     "output_type": "display_data"
    }
   ],
   "source": [
    "# list로 추가 or Dictionary로 추가\n",
    "\n",
    "df = pd.DataFrame(columns=['이름','나이','주소']) # DataFrame 생성\n",
    "df.loc[0] = ['길동', '26', '서울'] # list로 데이터 추가\n",
    "display(df)\n",
    "\n",
    "df.loc[1] = {'이름':'철수', '나이':'25', '주소':'인천'} # Dictionary로 데이터 추가\n",
    "display(df)\n",
    "\n",
    "df.loc[1, '이름'] = '영희'# 명시적 인덱스 활용하여 데이터수정\n",
    "display(df)\n",
    "3"
   ]
  },
  {
   "cell_type": "code",
   "execution_count": 62,
   "id": "f44dcde6",
   "metadata": {},
   "outputs": [
    {
     "data": {
      "text/html": [
       "<div>\n",
       "<style scoped>\n",
       "    .dataframe tbody tr th:only-of-type {\n",
       "        vertical-align: middle;\n",
       "    }\n",
       "\n",
       "    .dataframe tbody tr th {\n",
       "        vertical-align: top;\n",
       "    }\n",
       "\n",
       "    .dataframe thead th {\n",
       "        text-align: right;\n",
       "    }\n",
       "</style>\n",
       "<table border=\"1\" class=\"dataframe\">\n",
       "  <thead>\n",
       "    <tr style=\"text-align: right;\">\n",
       "      <th></th>\n",
       "      <th>이름</th>\n",
       "      <th>나이</th>\n",
       "      <th>주소</th>\n",
       "      <th>전화번호</th>\n",
       "    </tr>\n",
       "  </thead>\n",
       "  <tbody>\n",
       "    <tr>\n",
       "      <th>0</th>\n",
       "      <td>길동</td>\n",
       "      <td>26</td>\n",
       "      <td>서울</td>\n",
       "      <td>NaN</td>\n",
       "    </tr>\n",
       "    <tr>\n",
       "      <th>1</th>\n",
       "      <td>영희</td>\n",
       "      <td>25</td>\n",
       "      <td>인천</td>\n",
       "      <td>NaN</td>\n",
       "    </tr>\n",
       "  </tbody>\n",
       "</table>\n",
       "</div>"
      ],
      "text/plain": [
       "   이름  나이  주소  전화번호\n",
       "0  길동  26  서울   NaN\n",
       "1  영희  25  인천   NaN"
      ]
     },
     "metadata": {},
     "output_type": "display_data"
    },
    {
     "data": {
      "text/html": [
       "<div>\n",
       "<style scoped>\n",
       "    .dataframe tbody tr th:only-of-type {\n",
       "        vertical-align: middle;\n",
       "    }\n",
       "\n",
       "    .dataframe tbody tr th {\n",
       "        vertical-align: top;\n",
       "    }\n",
       "\n",
       "    .dataframe thead th {\n",
       "        text-align: right;\n",
       "    }\n",
       "</style>\n",
       "<table border=\"1\" class=\"dataframe\">\n",
       "  <thead>\n",
       "    <tr style=\"text-align: right;\">\n",
       "      <th></th>\n",
       "      <th>이름</th>\n",
       "      <th>나이</th>\n",
       "      <th>주소</th>\n",
       "      <th>전화번호</th>\n",
       "    </tr>\n",
       "  </thead>\n",
       "  <tbody>\n",
       "    <tr>\n",
       "      <th>0</th>\n",
       "      <td>길동</td>\n",
       "      <td>26</td>\n",
       "      <td>서울</td>\n",
       "      <td>01012341234</td>\n",
       "    </tr>\n",
       "    <tr>\n",
       "      <th>1</th>\n",
       "      <td>영희</td>\n",
       "      <td>25</td>\n",
       "      <td>인천</td>\n",
       "      <td>NaN</td>\n",
       "    </tr>\n",
       "  </tbody>\n",
       "</table>\n",
       "</div>"
      ],
      "text/plain": [
       "   이름  나이  주소         전화번호\n",
       "0  길동  26  서울  01012341234\n",
       "1  영희  25  인천          NaN"
      ]
     },
     "metadata": {},
     "output_type": "display_data"
    }
   ],
   "source": [
    "import numpy as np\n",
    "# NaN(= Not a Number)값으로 초기화 한 새로운 컬럼 추가\n",
    "\n",
    "df['전화번호'] = np.nan # 새로운 컬럼 추가 후 NaN으로 초기화\n",
    "display(df)\n",
    "\n",
    "df.loc[0, '전화번호'] = '01012341234' # 명시적 인덱스 활용하여 데이터 수정\n",
    "display(df)"
   ]
  },
  {
   "cell_type": "code",
   "execution_count": 63,
   "id": "656ed75f",
   "metadata": {},
   "outputs": [],
   "source": [
    "# DataFrame에서 컬럼 삭제 후 원본 변경\n",
    "\n",
    "df.drop('전화번호', axis = 1, inplace = True) # 컬럼 삭제\n",
    "#axis = 1 : 열방향/axis = 0 : 행방향\n",
    "#inplace= True : 원본변경/inplace=False : 원본변경X"
   ]
  },
  {
   "cell_type": "code",
   "execution_count": 64,
   "id": "3a212373",
   "metadata": {},
   "outputs": [
    {
     "data": {
      "text/html": [
       "<div>\n",
       "<style scoped>\n",
       "    .dataframe tbody tr th:only-of-type {\n",
       "        vertical-align: middle;\n",
       "    }\n",
       "\n",
       "    .dataframe tbody tr th {\n",
       "        vertical-align: top;\n",
       "    }\n",
       "\n",
       "    .dataframe thead th {\n",
       "        text-align: right;\n",
       "    }\n",
       "</style>\n",
       "<table border=\"1\" class=\"dataframe\">\n",
       "  <thead>\n",
       "    <tr style=\"text-align: right;\">\n",
       "      <th></th>\n",
       "      <th>이름</th>\n",
       "      <th>나이</th>\n",
       "      <th>주소</th>\n",
       "    </tr>\n",
       "  </thead>\n",
       "  <tbody>\n",
       "    <tr>\n",
       "      <th>0</th>\n",
       "      <td>길동</td>\n",
       "      <td>26</td>\n",
       "      <td>서울</td>\n",
       "    </tr>\n",
       "    <tr>\n",
       "      <th>1</th>\n",
       "      <td>영희</td>\n",
       "      <td>25</td>\n",
       "      <td>인천</td>\n",
       "    </tr>\n",
       "  </tbody>\n",
       "</table>\n",
       "</div>"
      ],
      "text/plain": [
       "   이름  나이  주소\n",
       "0  길동  26  서울\n",
       "1  영희  25  인천"
      ]
     },
     "execution_count": 64,
     "metadata": {},
     "output_type": "execute_result"
    }
   ],
   "source": [
    "df"
   ]
  },
  {
   "cell_type": "markdown",
   "id": "c48c365f",
   "metadata": {},
   "source": [
    "### 실습 1"
   ]
  },
  {
   "cell_type": "code",
   "execution_count": 65,
   "id": "8f64a0a5",
   "metadata": {},
   "outputs": [
    {
     "name": "stdout",
     "output_type": "stream",
     "text": [
      "a    1\n",
      "b    2\n",
      "c    3\n",
      "d    4\n",
      "Name: Title, dtype: int64 \n",
      "\n",
      "korea      5180\n",
      "japan     12718\n",
      "china    141500\n",
      "usa       32676\n",
      "dtype: int64\n"
     ]
    }
   ],
   "source": [
    "import numpy as np\n",
    "import pandas as pd\n",
    "\n",
    "# 예시) 시리즈 데이터를 만드는 방법.\n",
    "series = pd.Series([1,2,3,4], index = ['a', 'b', 'c', 'd'], name=\"Title\")\n",
    "print(series, \"\\n\")\n",
    "\n",
    "\n",
    "# 국가별 인구 수 시리즈 데이터를 딕셔너리를 사용하여 만들어보세요.\n",
    "dict = {'korea' : 5180, 'japan': 12718, 'china' : 141500, 'usa' : 32676}\n",
    "country = pd.Series(dict)\n",
    "print(country)"
   ]
  },
  {
   "cell_type": "markdown",
   "id": "835b09ac",
   "metadata": {},
   "source": [
    "### 실습 2"
   ]
  },
  {
   "cell_type": "code",
   "execution_count": 66,
   "id": "3a6d6873",
   "metadata": {},
   "outputs": [
    {
     "name": "stdout",
     "output_type": "stream",
     "text": [
      "Population series data:\n",
      "korea      5180\n",
      "japan     12718\n",
      "china    141500\n",
      "usa       32676\n",
      "dtype: int64 \n",
      "\n",
      "GDP series data:\n",
      "korea     169320000\n",
      "japan     516700000\n",
      "china    1409250000\n",
      "usa      2041280000\n",
      "dtype: int64 \n",
      "\n",
      "Country DataFrame\n",
      "       population         gdp\n",
      "korea        5180   169320000\n",
      "japan       12718   516700000\n",
      "china      141500  1409250000\n",
      "usa         32676  2041280000\n"
     ]
    }
   ],
   "source": [
    "import numpy as np\n",
    "import pandas as pd\n",
    "\n",
    "# 두 개의 시리즈 데이터가 있습니다.\n",
    "print(\"Population series data:\")\n",
    "population_dict = {\n",
    "    'korea': 5180,\n",
    "    'japan': 12718,\n",
    "    'china': 141500,\n",
    "    'usa': 32676\n",
    "}\n",
    "population = pd.Series(population_dict)\n",
    "print(population, \"\\n\")\n",
    "\n",
    "print(\"GDP series data:\")\n",
    "gdp_dict = {\n",
    "    'korea': 169320000,\n",
    "    'japan': 516700000,\n",
    "    'china': 1409250000,\n",
    "    'usa': 2041280000,\n",
    "}\n",
    "gdp = pd.Series(gdp_dict)\n",
    "print(gdp, \"\\n\")\n",
    "\n",
    "\n",
    "# 이곳에서 2개의 시리즈 값이 들어간 데이터프레임을 생성합니다.\n",
    "print(\"Country DataFrame\")\n",
    "country = pd.DataFrame({'population':population,'gdp':gdp})\n",
    "print(country)\n"
   ]
  },
  {
   "cell_type": "code",
   "execution_count": null,
   "id": "0d92743a",
   "metadata": {},
   "outputs": [],
   "source": [
    "### t"
   ]
  },
  {
   "cell_type": "code",
   "execution_count": null,
   "id": "75e8460a",
   "metadata": {},
   "outputs": [],
   "source": [
    "import numpy as np\n",
    "import pandas as pd\n",
    "\n",
    "print(\"Masking & query\")\n",
    "df = pd.DataFrame(np.random.rand(5, 2), columns=[\"A\", \"B\"])\n",
    "print(df, \"\\n\")\n",
    "\n",
    "# 데이터 프레임에서 A컬럼값이 0.5보다 작고 B컬럼 값이 0.3보다 큰값들을 구해봅시다.\n",
    "# 마스킹 연산을 활용하여 출력해보세요!\n",
    "print(df[(df['A']<0.5) & (df['B']>0.3)])\n",
    "\n",
    "# query 함수를 활용하여 출력해보세요!\n",
    "\n",
    "print(df.query(\"A < 0.5 and B>0.3\"))"
   ]
  }
 ],
 "metadata": {
  "kernelspec": {
   "display_name": "Python 3",
   "language": "python",
   "name": "python3"
  },
  "language_info": {
   "codemirror_mode": {
    "name": "ipython",
    "version": 3
   },
   "file_extension": ".py",
   "mimetype": "text/x-python",
   "name": "python",
   "nbconvert_exporter": "python",
   "pygments_lexer": "ipython3",
   "version": "3.8.8"
  }
 },
 "nbformat": 4,
 "nbformat_minor": 5
}
