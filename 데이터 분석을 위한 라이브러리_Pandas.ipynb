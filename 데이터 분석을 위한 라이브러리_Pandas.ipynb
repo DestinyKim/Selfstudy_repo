{
 "cells": [
  {
   "cell_type": "markdown",
   "id": "b19a1a06",
   "metadata": {},
   "source": [
    "## Pandas"
   ]
  },
  {
   "cell_type": "markdown",
   "id": "aa59b3c3",
   "metadata": {},
   "source": [
    "* 파이썬 라이브러리\n",
    "* 구조화된 데이터를 효과적으로 처리하고 저장\n",
    "* Array 계산에 특화된 Numpy를 기반으로 설계"
   ]
  },
  {
   "cell_type": "markdown",
   "id": "97ac6089",
   "metadata": {},
   "source": [
    "### Series"
   ]
  },
  {
   "cell_type": "markdown",
   "id": "5fc33c09",
   "metadata": {},
   "source": [
    "- Numpy의 array가 보강된 형태\n",
    "- Data와 Index를 가지고 있음"
   ]
  },
  {
   "cell_type": "code",
   "execution_count": 2,
   "id": "4c2ffd5e",
   "metadata": {},
   "outputs": [
    {
     "name": "stdout",
     "output_type": "stream",
     "text": [
      "0    1\n",
      "1    2\n",
      "2    3\n",
      "3    4\n",
      "dtype: int64\n"
     ]
    }
   ],
   "source": [
    "import pandas as pd\n",
    "\n",
    "data = pd.Series([1, 2, 3, 4])\n",
    "print(data)"
   ]
  },
  {
   "cell_type": "code",
   "execution_count": 3,
   "id": "1a4d5647",
   "metadata": {},
   "outputs": [
    {
     "name": "stdout",
     "output_type": "stream",
     "text": [
      "<class 'pandas.core.series.Series'>\n",
      "[1 2 3 4]\n",
      "<class 'numpy.ndarray'>\n"
     ]
    }
   ],
   "source": [
    "# Series는 값(values)을 ndarray 형태로 가지고 있음.\n",
    "print(type(data))\n",
    "\n",
    "print(data.values)\n",
    "print(type(data.values))"
   ]
  },
  {
   "cell_type": "code",
   "execution_count": 5,
   "id": "d8e0bc17",
   "metadata": {},
   "outputs": [
    {
     "name": "stdout",
     "output_type": "stream",
     "text": [
      "float64\n",
      "0    1.0\n",
      "1    2.0\n",
      "2    3.0\n",
      "3    4.0\n",
      "dtype: float64\n"
     ]
    }
   ],
   "source": [
    "# dtype 인자로 데이터 타입을 지정할 수 있음\n",
    "data = pd.Series([1, 2, 3, 4], dtype = 'float')\n",
    "print(data.dtype)\n",
    "print(data)"
   ]
  },
  {
   "cell_type": "code",
   "execution_count": 6,
   "id": "0f2d6bdb",
   "metadata": {},
   "outputs": [
    {
     "name": "stdout",
     "output_type": "stream",
     "text": [
      "a    1\n",
      "b    2\n",
      "c    3\n",
      "d    4\n",
      "dtype: int64\n",
      "a    1\n",
      "b    2\n",
      "c    5\n",
      "d    4\n",
      "dtype: int64\n"
     ]
    }
   ],
   "source": [
    "# 인덱스를 지정할 수 있고, 인덱스로 접근 가능\n",
    "data = pd.Series([1, 2, 3, 4], index = ['a', 'b', 'c', 'd'])\n",
    "print(data)\n",
    "data['c'] = 5 # c값을 3에서 5로 변경\n",
    "print(data)"
   ]
  },
  {
   "cell_type": "code",
   "execution_count": 7,
   "id": "c883ae93",
   "metadata": {},
   "outputs": [
    {
     "name": "stdout",
     "output_type": "stream",
     "text": [
      "china    141500\n",
      "japan     12718\n",
      "korea      5180\n",
      "usa       32676\n",
      "dtype: int64\n"
     ]
    }
   ],
   "source": [
    "# Dictionary를 활용하여 Series 생성가능\n",
    "population_dict = {'china':141500, 'japan':12718, 'korea':5180, 'usa':32676}\n",
    "population = pd.Series(population_dict)\n",
    "print(population)"
   ]
  },
  {
   "cell_type": "markdown",
   "id": "3aee76c8",
   "metadata": {},
   "source": [
    "### DataFrame"
   ]
  },
  {
   "cell_type": "markdown",
   "id": "4c6da4fb",
   "metadata": {},
   "source": [
    "* 여러 개의 Series가 모여서 행과 열을 이룬 데이터"
   ]
  },
  {
   "cell_type": "code",
   "execution_count": 9,
   "id": "ceea3648",
   "metadata": {},
   "outputs": [
    {
     "data": {
      "text/html": [
       "<div>\n",
       "<style scoped>\n",
       "    .dataframe tbody tr th:only-of-type {\n",
       "        vertical-align: middle;\n",
       "    }\n",
       "\n",
       "    .dataframe tbody tr th {\n",
       "        vertical-align: top;\n",
       "    }\n",
       "\n",
       "    .dataframe thead th {\n",
       "        text-align: right;\n",
       "    }\n",
       "</style>\n",
       "<table border=\"1\" class=\"dataframe\">\n",
       "  <thead>\n",
       "    <tr style=\"text-align: right;\">\n",
       "      <th></th>\n",
       "      <th>gdp</th>\n",
       "      <th>population</th>\n",
       "    </tr>\n",
       "  </thead>\n",
       "  <tbody>\n",
       "    <tr>\n",
       "      <th>china</th>\n",
       "      <td>1409250000</td>\n",
       "      <td>141500</td>\n",
       "    </tr>\n",
       "    <tr>\n",
       "      <th>japan</th>\n",
       "      <td>516700000</td>\n",
       "      <td>12718</td>\n",
       "    </tr>\n",
       "    <tr>\n",
       "      <th>korea</th>\n",
       "      <td>169320000</td>\n",
       "      <td>5180</td>\n",
       "    </tr>\n",
       "    <tr>\n",
       "      <th>usa</th>\n",
       "      <td>2041280000</td>\n",
       "      <td>32676</td>\n",
       "    </tr>\n",
       "  </tbody>\n",
       "</table>\n",
       "</div>"
      ],
      "text/plain": [
       "              gdp  population\n",
       "china  1409250000      141500\n",
       "japan   516700000       12718\n",
       "korea   169320000        5180\n",
       "usa    2041280000       32676"
      ]
     },
     "metadata": {},
     "output_type": "display_data"
    }
   ],
   "source": [
    "gdp_dict= {'china': 1409250000,'japan': 516700000,'korea': 169320000,'usa': 2041280000,}\n",
    "gdp= pd.Series(gdp_dict)\n",
    "\n",
    "country = pd.DataFrame({'gdp':gdp, 'population':population})\n",
    "display(country)"
   ]
  },
  {
   "cell_type": "code",
   "execution_count": 11,
   "id": "3eb75524",
   "metadata": {},
   "outputs": [
    {
     "data": {
      "text/html": [
       "<div>\n",
       "<style scoped>\n",
       "    .dataframe tbody tr th:only-of-type {\n",
       "        vertical-align: middle;\n",
       "    }\n",
       "\n",
       "    .dataframe tbody tr th {\n",
       "        vertical-align: top;\n",
       "    }\n",
       "\n",
       "    .dataframe thead th {\n",
       "        text-align: right;\n",
       "    }\n",
       "</style>\n",
       "<table border=\"1\" class=\"dataframe\">\n",
       "  <thead>\n",
       "    <tr style=\"text-align: right;\">\n",
       "      <th></th>\n",
       "      <th>gdp</th>\n",
       "      <th>population</th>\n",
       "    </tr>\n",
       "    <tr>\n",
       "      <th>country</th>\n",
       "      <th></th>\n",
       "      <th></th>\n",
       "    </tr>\n",
       "  </thead>\n",
       "  <tbody>\n",
       "    <tr>\n",
       "      <th>china</th>\n",
       "      <td>1409250000</td>\n",
       "      <td>141500</td>\n",
       "    </tr>\n",
       "    <tr>\n",
       "      <th>japan</th>\n",
       "      <td>516700000</td>\n",
       "      <td>12718</td>\n",
       "    </tr>\n",
       "    <tr>\n",
       "      <th>korea</th>\n",
       "      <td>169320000</td>\n",
       "      <td>5180</td>\n",
       "    </tr>\n",
       "    <tr>\n",
       "      <th>usa</th>\n",
       "      <td>2041280000</td>\n",
       "      <td>32676</td>\n",
       "    </tr>\n",
       "  </tbody>\n",
       "</table>\n",
       "</div>"
      ],
      "text/plain": [
       "                gdp  population\n",
       "country                        \n",
       "china    1409250000      141500\n",
       "japan     516700000       12718\n",
       "korea     169320000        5180\n",
       "usa      2041280000       32676"
      ]
     },
     "metadata": {},
     "output_type": "display_data"
    }
   ],
   "source": [
    "# Dictionary를 활용하여 DataFrame 생성 가능\n",
    "data = {'country': ['china','japan','korea','usa'],\n",
    "        'gdp': [1409250000,516700000, 169320000, 2041280000],\n",
    "        'population': [141500,12718, 5180, 32676]}\n",
    "\n",
    "country = pd.DataFrame(data)\n",
    "country = country.set_index('country')\n",
    "display(country)"
   ]
  },
  {
   "cell_type": "code",
   "execution_count": 12,
   "id": "1cc3ae06",
   "metadata": {},
   "outputs": [
    {
     "name": "stdout",
     "output_type": "stream",
     "text": [
      "(4, 2)\n",
      "8\n",
      "2\n",
      "[[1409250000     141500]\n",
      " [ 516700000      12718]\n",
      " [ 169320000       5180]\n",
      " [2041280000      32676]]\n"
     ]
    }
   ],
   "source": [
    "# DataFrame 속성 확인\n",
    "print(country.shape)\n",
    "print(country.size)\n",
    "print(country.ndim)\n",
    "print(country.values)"
   ]
  },
  {
   "cell_type": "code",
   "execution_count": 14,
   "id": "4e963ed7",
   "metadata": {},
   "outputs": [
    {
     "name": "stdout",
     "output_type": "stream",
     "text": [
      "Index(['china', 'japan', 'korea', 'usa'], dtype='object', name='Country')\n",
      "Index(['gdp', 'population'], dtype='object', name='Info')\n"
     ]
    }
   ],
   "source": [
    "# DataFrame의 index와 column에 이름 지정\n",
    "country.index.name = 'Country'\n",
    "country.columns.name = 'Info'\n",
    "\n",
    "print(country.index)\n",
    "print(country.columns)"
   ]
  },
  {
   "cell_type": "code",
   "execution_count": null,
   "id": "e29331e1",
   "metadata": {},
   "outputs": [],
   "source": [
    "# 데이터 프레임 저장 및 불러오기 가능\n",
    "country.to_csv('./country.csv')\n",
    "country.to_excel('country.xlsx')\n",
    "\n",
    "country = pd.read_csv('./country.csv')\n",
    "country = pd.read_excel"
   ]
  }
 ],
 "metadata": {
  "kernelspec": {
   "display_name": "Python 3",
   "language": "python",
   "name": "python3"
  },
  "language_info": {
   "codemirror_mode": {
    "name": "ipython",
    "version": 3
   },
   "file_extension": ".py",
   "mimetype": "text/x-python",
   "name": "python",
   "nbconvert_exporter": "python",
   "pygments_lexer": "ipython3",
   "version": "3.8.8"
  }
 },
 "nbformat": 4,
 "nbformat_minor": 5
}
