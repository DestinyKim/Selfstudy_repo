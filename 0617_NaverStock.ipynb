{
 "cells": [
  {
   "cell_type": "code",
   "execution_count": 11,
   "metadata": {},
   "outputs": [],
   "source": [
    "from urllib.request import urlopen\n",
    "from bs4 import BeautifulSoup\n",
    "\n",
    "url = \"https://finance.naver.com/sise/\"\n",
    "\n",
    "page = urlopen(url)\n",
    "page\n",
    "soup = BeautifulSoup(page,\"html.parser\")"
   ]
  },
  {
   "cell_type": "code",
   "execution_count": 15,
   "metadata": {},
   "outputs": [
    {
     "name": "stdout",
     "output_type": "stream",
     "text": [
      "998.26\n",
      "3,258.76\n",
      "433.92\n"
     ]
    }
   ],
   "source": [
    "print(soup.find('span', id='KOSDAQ_now').text) # 코스닥\n",
    "print(soup.find('span', id='KOSPI_now').text) # 코스피\n",
    "print(soup.find('span', id='KPI200_now').text) # 코스피200\n"
   ]
  },
  {
   "cell_type": "markdown",
   "metadata": {},
   "source": [
    "find는 문자형 자료, find_all은 리스트형 자료이다.\n",
    "find_all().find() 이런 형식으로 정보를 가져온다.\n",
    "find().text() 가능 하지만, find_all().text() 불가능"
   ]
  },
  {
   "cell_type": "code",
   "execution_count": null,
   "metadata": {},
   "outputs": [],
   "source": [
    "## 삼성전자 : 005930\n",
    "## 카카오 : 035720\n",
    "## 유한양행 : 000100"
   ]
  },
  {
   "cell_type": "code",
   "execution_count": null,
   "metadata": {},
   "outputs": [],
   "source": [
    "my_stock = ['삼성전자','카카오','유한양행','NAVER']\n",
    "my_stock_code = ['005930','035720', '000100', '035420']"
   ]
  },
  {
   "cell_type": "code",
   "execution_count": 17,
   "metadata": {},
   "outputs": [
    {
     "data": {
      "text/plain": [
       "<title>유한양행 : 네이버 금융</title>"
      ]
     },
     "execution_count": 17,
     "metadata": {},
     "output_type": "execute_result"
    }
   ],
   "source": [
    "chk_url = 'https://finance.naver.com/item/main.nhn?code=000100'\n",
    "page = urlopen(chk_url)\n",
    "soup = BeautifulSoup(page,'lxml')\n",
    "soup.title"
   ]
  },
  {
   "cell_type": "code",
   "execution_count": 28,
   "metadata": {},
   "outputs": [
    {
     "data": {
      "text/plain": [
       "'63,100'"
      ]
     },
     "execution_count": 28,
     "metadata": {},
     "output_type": "execute_result"
    }
   ],
   "source": [
    "soup.find(\"p\",{'class':'no_today'}).find(\"span\", class_='blind').text"
   ]
  },
  {
   "cell_type": "code",
   "execution_count": 37,
   "metadata": {},
   "outputs": [
    {
     "name": "stdout",
     "output_type": "stream",
     "text": [
      "['\\n', <em class=\"no_down\">\n",
      "<span class=\"blind\">63,100</span>\n",
      "<span class=\"no6\">6</span><span class=\"no3\">3</span><span class=\"shim\">,</span><span class=\"no1\">1</span><span class=\"no0\">0</span><span class=\"no0\">0</span>\n",
      "</em>, '\\n']\n"
     ]
    }
   ],
   "source": [
    "child_today = list(soup.find(\"p\",{'class':'no_today'}).children)\n",
    "print(child_today)"
   ]
  },
  {
   "cell_type": "code",
   "execution_count": 39,
   "metadata": {},
   "outputs": [
    {
     "data": {
      "text/plain": [
       "3"
      ]
     },
     "execution_count": 39,
     "metadata": {},
     "output_type": "execute_result"
    }
   ],
   "source": [
    "len(child_today)"
   ]
  },
  {
   "cell_type": "code",
   "execution_count": 50,
   "metadata": {},
   "outputs": [],
   "source": [
    "my_stock = ['삼성전자', '카카오', '유한양행', 'NAVER']\n",
    "my_stock_code = ['005930','035720', '000100', '035420']\n",
    "base_url = 'https://finance.naver.com/item/main.nhn?code='"
   ]
  },
  {
   "cell_type": "code",
   "execution_count": 53,
   "metadata": {},
   "outputs": [
    {
     "name": "stdout",
     "output_type": "stream",
     "text": [
      "삼성전자 80,700\n",
      "카카오 144,000\n",
      "유한양행 63,200\n",
      "NAVER 389,000\n"
     ]
    }
   ],
   "source": [
    "for idx, code in enumerate(my_stock_code):\n",
    "    all_url = base_url+code\n",
    "    page = urlopen(all_url)\n",
    "    soup = BeautifulSoup(page, 'lxml')\n",
    "    \n",
    "    ## 현재가\n",
    "    tmp = soup.find('p',class_='no_today')\n",
    "    price = tmp.find('span',class_='blind').text\n",
    "    \n",
    "    print(my_stock[idx], price)\n",
    "    cnt +=1"
   ]
  },
  {
   "cell_type": "markdown",
   "metadata": {},
   "source": [
    "### <실습> 관심 있는 종목 5개 선정, 코드 확인 후, 내가 필요로 하는 정보 6개 가져오기"
   ]
  },
  {
   "cell_type": "code",
   "execution_count": 76,
   "metadata": {},
   "outputs": [
    {
     "name": "stdout",
     "output_type": "stream",
     "text": [
      "회사명 / 현재가격 / 거래량\n",
      "한국전력 / 26,800 / 1,616,911\n",
      "카카오 / 147,000 / 2,597,907\n",
      "대한전선 / 3,090 / 23,342,545\n",
      "동방 / 6,830 / 2,237,177\n",
      "NAVER / 392,000 / 307,361\n"
     ]
    }
   ],
   "source": [
    "my_stock = ['한국전력','카카오','대한전선','동방','NAVER']\n",
    "my_stock_code = ['015760','035720','001440','004140','035420'] #이것도 받아오게 시도해보자\n",
    "base_url = 'https://finance.naver.com/item/main.nhn?code='\n",
    "print(\"회사명 / 현재가격 / 거래량\")\n",
    "\n",
    "for idx, code in enumerate(my_stock_code):\n",
    "    all_url = base_url+code\n",
    "    page = urlopen(all_url)\n",
    "    soup = BeautifulSoup(page,'lxml')\n",
    "    \n",
    "    ## 현재가\n",
    "    now = soup.find('p', class_='no_today')\n",
    "    now_price = now.find('span',class_='blind').text\n",
    "    \n",
    "    # 거래량\n",
    "    qty = soup.find('div',id='chart_area')\n",
    "    now_qty = qty.find('span', class_='sptxt sp_txt9').find_next(\"span\", class_=\"blind\").text\n",
    "    #find_text()는 find() 다음의 요소를 찾아준다\n",
    "    \n",
    "    \n",
    "    print(my_stock[idx],\"/\",now_price,\"/\", now_qty)\n",
    "    cnt +=1\n",
    "    \n",
    "    \n",
    "    \n"
   ]
  },
  {
   "cell_type": "code",
   "execution_count": null,
   "metadata": {},
   "outputs": [],
   "source": []
  },
  {
   "cell_type": "code",
   "execution_count": null,
   "metadata": {},
   "outputs": [],
   "source": []
  },
  {
   "cell_type": "code",
   "execution_count": null,
   "metadata": {},
   "outputs": [],
   "source": []
  }
 ],
 "metadata": {
  "kernelspec": {
   "display_name": "Python 3",
   "language": "python",
   "name": "python3"
  },
  "language_info": {
   "codemirror_mode": {
    "name": "ipython",
    "version": 3
   },
   "file_extension": ".py",
   "mimetype": "text/x-python",
   "name": "python",
   "nbconvert_exporter": "python",
   "pygments_lexer": "ipython3",
   "version": "3.8.5"
  }
 },
 "nbformat": 4,
 "nbformat_minor": 4
}
