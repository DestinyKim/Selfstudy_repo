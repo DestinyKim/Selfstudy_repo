{
 "cells": [
  {
   "cell_type": "code",
   "execution_count": 1,
   "id": "967e3c4b",
   "metadata": {},
   "outputs": [
    {
     "name": "stdout",
     "output_type": "stream",
     "text": [
      "True False True\n"
     ]
    }
   ],
   "source": [
    "# Q1. == 혹은 != 연산자을 이용해서 True인 명제를 ans1에 넣어봅시다.\n",
    "ans1 = 5==5\n",
    "\n",
    "# Q2. > 혹은 < 연산자를 이용해서 False인 명제를 ans2에 넣어봅시다.\n",
    "ans2 = 3<1\n",
    "\n",
    "# Q3. >= 혹은 <= 연산자를 이용해서 True인 명제를 ans3에 넣어봅시다.\n",
    "ans3 = 4>=3\n",
    "\n",
    "# 위의 세 변수를 출력해서 True, False 여부를 확인해봅시다.\n",
    "print(ans1, ans2, ans3)"
   ]
  },
  {
   "cell_type": "code",
   "execution_count": 2,
   "id": "cd241565",
   "metadata": {},
   "outputs": [
    {
     "name": "stdout",
     "output_type": "stream",
     "text": [
      "True False True\n"
     ]
    }
   ],
   "source": [
    "# 괄호 안에 적절한 명제를 채워 stat1이 True가 되게 해봅시다.\n",
    "stat1 = 3==3 and 2<4 and (1<3)\n",
    "\n",
    "# 괄호 안에 적절한 명제를 채워 stat2이 False가 되게 해봅시다.\n",
    "stat2 = 4>=6 or \"apple\"==\"Apple\" or (1==3) \n",
    "\n",
    "# 괄호 안에 적절한 명제를 채워 stat3이 True가 되게 해봅시다.\n",
    "stat3 = not (False)\n",
    "\n",
    "# 위의 세 변수를 한 문장으로 출력해서 True, False 여부를 확인해봅시다.\n",
    "print(stat1, stat2, stat3)"
   ]
  },
  {
   "cell_type": "code",
   "execution_count": 3,
   "id": "faa1c897",
   "metadata": {},
   "outputs": [
    {
     "name": "stdout",
     "output_type": "stream",
     "text": [
      "5\n",
      "5 홀수입니다.\n"
     ]
    }
   ],
   "source": [
    "# input()을 이용해서 숫자(정수) 입력을 받고, 변수 num에 이를 넣어봅시다.\n",
    "num = int(input())\n",
    "\n",
    "# if-else문을 이용해서 만약 입력받은 수가 홀수면 \"(입력받은 수) 홀수입니다.\"\n",
    "# 짝수면 \"(입력받은 수) 짝수입니다.\"를 출력해봅시다.\n",
    "# 괄호는 출력하지 않습니다.\n",
    "if num % 2 != 0:\n",
    "    print(f\"{num} 홀수입니다.\")\n",
    "else:\n",
    "    print(f\"{num} 짝수입니다.\")"
   ]
  },
  {
   "cell_type": "code",
   "execution_count": 4,
   "id": "4d77fc94",
   "metadata": {},
   "outputs": [
    {
     "name": "stdout",
     "output_type": "stream",
     "text": [
      "35\n",
      "정답보다 더 큰 수를 입력했습니다.\n"
     ]
    }
   ],
   "source": [
    "# 변수 answer에 수 1~50 중 하나를 넣어봅시다.\n",
    "\n",
    "answer = 3\n",
    "\n",
    "# input을 통해 숫자형으로 입력을 받아서 변수 submit에 저장해봅시다.\n",
    "submit = int(input())\n",
    "\n",
    "# if-elif-else문으로 Up-Down Game을 구현해봅시다.\n",
    "# 만약 answer보다 submit이 더 크면 \"정답보다 더 큰 수를 입력했습니다.\"\n",
    "# 만약 answer보다 submit이 더 작으면 \"정답보다 더 작은 수를 입력했습니다.\"\n",
    "# 만약 answer와 submit이 같으면 \"정답!\" 를 출력합니다.\n",
    "if answer < submit:\n",
    "    print(\"정답보다 더 큰 수를 입력했습니다.\")\n",
    "elif answer > submit:\n",
    "    print(\"정답보다 더 작은 수를 입력했습니다.\")\n",
    "elif answer == submit:\n",
    "    print(\"정답!\")\n"
   ]
  },
  {
   "cell_type": "code",
   "execution_count": 5,
   "id": "a6f4d493",
   "metadata": {},
   "outputs": [
    {
     "name": "stdout",
     "output_type": "stream",
     "text": [
      "1\n",
      "2\n",
      "3\n",
      "4\n",
      "5\n",
      "6\n",
      "7\n",
      "8\n",
      "9\n",
      "10\n"
     ]
    }
   ],
   "source": [
    "nums = [1, 2, 3, 4, 5, 6, 7, 8, 9, 10]\n",
    "for i in nums:\n",
    "    print(i)"
   ]
  },
  {
   "cell_type": "code",
   "execution_count": 6,
   "id": "5f612907",
   "metadata": {},
   "outputs": [
    {
     "name": "stdout",
     "output_type": "stream",
     "text": [
      "300\n"
     ]
    }
   ],
   "source": [
    "## 변수 mix에 있는 \"쌀\"의 개수를 세봅시다.\n",
    "mix = \"쌀씰쌀쌀씰쌀씰쌀씰쌀쌀씰쌀씰쌀씰쌀쌀씰쌀씰쌀씰쌀쌀씰쌀씰쌀씰쌀쌀씰쌀씰쌀씰쌀쌀씰쌀씰쌀씰쌀쌀씰쌀씰쌀씰쌀쌀씰쌀씰쌀씰쌀쌀씰쌀씰쌀씰쌀쌀씰쌀씰쌀씰쌀쌀씰쌀씰쌀씰쌀쌀씰쌀씰쌀씰쌀쌀씰쌀씰쌀씰쌀쌀씰쌀씰쌀씰쌀쌀씰쌀씰쌀씰쌀쌀씰쌀씰쌀씰쌀쌀씰쌀씰쌀씰쌀쌀씰쌀씰쌀씰쌀쌀씰쌀씰쌀씰쌀쌀씰쌀씰쌀씰쌀쌀씰쌀씰쌀씰쌀쌀씰쌀씰쌀씰쌀쌀씰쌀씰쌀씰쌀쌀씰쌀씰쌀씰쌀쌀씰쌀씰쌀씰쌀쌀씰쌀씰쌀씰쌀쌀씰쌀씰쌀씰쌀쌀씰쌀씰쌀씰쌀쌀씰쌀씰쌀씰쌀쌀씰쌀씰쌀씰쌀쌀씰쌀씰쌀씰쌀쌀씰쌀씰쌀씰쌀쌀씰쌀씰쌀씰쌀쌀씰쌀씰쌀씰쌀쌀씰쌀씰쌀씰쌀쌀씰쌀씰쌀씰쌀쌀씰쌀씰쌀씰쌀쌀씰쌀씰쌀씰쌀쌀씰쌀씰쌀씰쌀쌀씰쌀씰쌀씰쌀쌀씰쌀씰쌀씰쌀쌀씰쌀씰쌀씰쌀쌀씰쌀씰쌀씰쌀쌀씰쌀씰쌀씰쌀쌀씰쌀씰쌀씰쌀쌀씰쌀씰쌀씰쌀쌀씰쌀씰쌀씰쌀쌀씰쌀씰쌀씰쌀쌀씰쌀씰쌀씰쌀쌀씰쌀씰쌀씰쌀쌀씰쌀씰쌀씰쌀쌀씰쌀씰쌀씰쌀쌀씰쌀씰쌀씰쌀쌀씰쌀씰쌀씰쌀쌀씰쌀씰쌀씰쌀쌀씰쌀씰쌀씰쌀쌀씰쌀씰쌀씰쌀쌀씰쌀씰쌀씰쌀쌀씰쌀씰쌀씰쌀쌀씰쌀씰쌀씰쌀쌀씰쌀씰쌀씰쌀쌀씰쌀씰쌀씰쌀쌀씰쌀씰쌀씰쌀쌀씰쌀씰쌀씰쌀쌀씰쌀씰쌀씰쌀쌀씰쌀씰쌀씰쌀쌀씰쌀씰쌀씰쌀쌀씰쌀씰쌀씰쌀쌀씰쌀씰쌀씰쌀쌀씰쌀씰쌀씰쌀쌀씰쌀씰쌀씰쌀쌀씰쌀씰쌀씰쌀쌀씰쌀씰쌀씰쌀쌀씰쌀씰쌀씰쌀쌀씰쌀씰\"\n",
    "\n",
    "count_ssal = 0\n",
    "for i in mix:\n",
    "    if i == '쌀':\n",
    "        count_ssal+=1\n",
    "        \n",
    "print(count_ssal)"
   ]
  },
  {
   "cell_type": "code",
   "execution_count": 7,
   "id": "8b071c07",
   "metadata": {},
   "outputs": [
    {
     "name": "stdout",
     "output_type": "stream",
     "text": [
      "1\n",
      "2\n",
      "3\n",
      "4\n",
      "5\n",
      "6\n",
      "7\n",
      "8\n",
      "9\n",
      "10\n"
     ]
    }
   ],
   "source": [
    "for i in range(1, 11):\n",
    "    print(i)"
   ]
  },
  {
   "cell_type": "code",
   "execution_count": 8,
   "id": "6a317840",
   "metadata": {},
   "outputs": [
    {
     "name": "stdout",
     "output_type": "stream",
     "text": [
      "I Love Python!\n",
      "I Love Python!\n",
      "I Love Python!\n",
      "I Love Python!\n",
      "I Love Python!\n"
     ]
    }
   ],
   "source": [
    "for i in range(5):\n",
    "    print(\"I Love Python!\")"
   ]
  },
  {
   "cell_type": "code",
   "execution_count": 9,
   "id": "d74d65f6",
   "metadata": {},
   "outputs": [
    {
     "name": "stdout",
     "output_type": "stream",
     "text": [
      "19 * 1 = 19\n",
      "19 * 2 = 38\n",
      "19 * 3 = 57\n",
      "19 * 4 = 76\n",
      "19 * 5 = 95\n",
      "19 * 6 = 114\n",
      "19 * 7 = 133\n",
      "19 * 8 = 152\n",
      "19 * 9 = 171\n",
      "19 * 10 = 190\n",
      "19 * 11 = 209\n",
      "19 * 12 = 228\n",
      "19 * 13 = 247\n",
      "19 * 14 = 266\n",
      "19 * 15 = 285\n",
      "19 * 16 = 304\n",
      "19 * 17 = 323\n",
      "19 * 18 = 342\n",
      "19 * 19 = 361\n"
     ]
    }
   ],
   "source": [
    "#for-range()를 이용해서 19단을 전부 출력해봅시다!\n",
    "for i in range(1, 20):\n",
    "    print(\"19 *\",i, \"=\",19*i)"
   ]
  },
  {
   "cell_type": "code",
   "execution_count": 10,
   "id": "872f39cf",
   "metadata": {},
   "outputs": [
    {
     "name": "stdout",
     "output_type": "stream",
     "text": [
      "[5, 4, 2, 1]\n"
     ]
    }
   ],
   "source": [
    "my_list = []\n",
    "my_list.append(5)\n",
    "my_list.append(4)\n",
    "my_list.append(2)\n",
    "my_list.append(1)\n",
    "print(my_list)"
   ]
  },
  {
   "cell_type": "code",
   "execution_count": 11,
   "id": "0939f66b",
   "metadata": {},
   "outputs": [
    {
     "name": "stdout",
     "output_type": "stream",
     "text": [
      "['apple', 'banana', 'carrot']\n",
      "[2, 3, 4, 5]\n"
     ]
    }
   ],
   "source": [
    "my_list = ['banana', 'apple', 'carrot'] # 오름차순, 내림차순은 ascending=False\n",
    "my_list.sort()\n",
    "print(my_list) #['apple', 'banana', 'carrot']\n",
    "\n",
    "my_list2 = [5, 4, 3, 2] \n",
    "my_list2.sort()\n",
    "print(my_list2)"
   ]
  },
  {
   "cell_type": "code",
   "execution_count": 13,
   "id": "e26288ac",
   "metadata": {},
   "outputs": [
    {
     "name": "stdout",
     "output_type": "stream",
     "text": [
      "Chamwae\n",
      "possible\n"
     ]
    }
   ],
   "source": [
    "my_str = \"Impossible\"\n",
    "my_list = ['Apple', 'Banana', 'Chamwae', 'Durian']\n",
    "var1 = my_list[2]\n",
    "var2 = my_str[2:]\n",
    "print(var1)\n",
    "print(var2)"
   ]
  },
  {
   "cell_type": "code",
   "execution_count": 14,
   "id": "f02f5e5b",
   "metadata": {},
   "outputs": [
    {
     "name": "stdout",
     "output_type": "stream",
     "text": [
      "10\n",
      "False\n"
     ]
    }
   ],
   "source": [
    "my_str = \"Impossible\"\n",
    "my_list =  [\"Apple\", \"Banana\", \"Chamwae\", \"Durian\"]\n",
    "var1 = len(my_str)\n",
    "var2 = 'Egg' in my_list\n",
    "print(var1)\n",
    "print(var2)"
   ]
  },
  {
   "cell_type": "code",
   "execution_count": 16,
   "id": "ae3ac26f",
   "metadata": {},
   "outputs": [
    {
     "name": "stdout",
     "output_type": "stream",
     "text": [
      "apple\n",
      "{'사과': 'apple', '바나나': 'banana'}\n",
      "{'사과': 'apple', '바나나': 'banana', '체리': 'cherry'}\n"
     ]
    }
   ],
   "source": [
    "my_dict = {\"사과\":\"apple\", \"바나나\":\"banana\", \"당근\":\"carrot\"}\n",
    "\n",
    "var1 = my_dict[\"사과\"]\n",
    "print(var1) # var1의 value 확인\n",
    "\n",
    "del my_dict[\"당근\"] # key인 당근을 삭제하면 'carrot'도 삭제\n",
    "print(my_dict)\n",
    "\n",
    "my_dict[\"체리\"] =\"cherry\" # 체리 추가\n",
    "print(my_dict)"
   ]
  },
  {
   "cell_type": "code",
   "execution_count": 17,
   "id": "e36282dd",
   "metadata": {},
   "outputs": [
    {
     "name": "stdout",
     "output_type": "stream",
     "text": [
      "List는 Dictionary의 Key가 될 수 없습니다.\n"
     ]
    }
   ],
   "source": [
    "my_dict = {}\n",
    "my_dict = {1:\"Integer\", 'a':\"String\", (1,2,3):\"Tuple\"} # 값이 변하지 않는 Tuple은 key가 될 수 있다.\n",
    "\n",
    "\n",
    "try:\n",
    "    #여기에 [1, 2, 3] → \"List\"의 대응관계를 만들어봅시다.\n",
    "    my_dict[[1,2,3]] = \"List\"\n",
    "    \n",
    "except TypeError:\n",
    "    print(\"List는 Dictionary의 Key가 될 수 없습니다.\")"
   ]
  },
  {
   "cell_type": "code",
   "execution_count": 18,
   "id": "bd8dc22a",
   "metadata": {},
   "outputs": [
    {
     "name": "stdout",
     "output_type": "stream",
     "text": [
      "25 5 5.0\n"
     ]
    }
   ],
   "source": [
    "my_list = [1, 3, 5, 7, 9]\n",
    "var1 = sum(my_list)\n",
    "var2 = len(my_list)\n",
    "var3 = sum(my_list)/len(my_list)\n",
    "print(var1, var2, var3)"
   ]
  },
  {
   "cell_type": "code",
   "execution_count": 19,
   "id": "388d0cb1",
   "metadata": {},
   "outputs": [
    {
     "name": "stdout",
     "output_type": "stream",
     "text": [
      "7\n",
      "12\n"
     ]
    }
   ],
   "source": [
    "def plus_print(a, b):\n",
    "    print(a + b)\n",
    "\n",
    "def times_return(a, b):\n",
    "    return(a * b)\n",
    "\n",
    "plus_print(3, 4)\n",
    "\n",
    "print(times_return(3, 4))"
   ]
  },
  {
   "cell_type": "code",
   "execution_count": 20,
   "id": "faf34979",
   "metadata": {},
   "outputs": [
    {
     "name": "stdout",
     "output_type": "stream",
     "text": [
      "dict_keys(['dog', 'cat', 'bird'])\n",
      "dict_values(['white', 'black', 'orange'])\n"
     ]
    }
   ],
   "source": [
    "my_dict = {'dog':'white', 'cat':'black', 'bird':'orange'}\n",
    "var1 = my_dict.keys()\n",
    "var2 = my_dict.values()\n",
    "print(var1)\n",
    "print(var2)"
   ]
  },
  {
   "cell_type": "code",
   "execution_count": 21,
   "id": "6d2ba44f",
   "metadata": {},
   "outputs": [
    {
     "name": "stdout",
     "output_type": "stream",
     "text": [
      "12\n",
      "['Cham', 'Cham', 'Cham']\n"
     ]
    }
   ],
   "source": [
    "def solve(a, b):\n",
    "    return (a * b)\n",
    "\n",
    "var1 = solve(3, 4)\n",
    "var2 = solve(3, ['Cham'])\n",
    "print(var1)\n",
    "print(var2)"
   ]
  },
  {
   "cell_type": "code",
   "execution_count": 26,
   "id": "3d2a7981",
   "metadata": {},
   "outputs": [
    {
     "name": "stdout",
     "output_type": "stream",
     "text": [
      "ELI-C2 7 5\n"
     ]
    }
   ],
   "source": [
    "import cal\n",
    "\n",
    "\n",
    "var1 = cal.modelName\n",
    "\n",
    "var2 = cal.plus(3,4)\n",
    "\n",
    "var3 = cal.minus(7,2)\n",
    "\n",
    "## 변수의 값을 확인하는 출력문입니다.\n",
    "print(var1, var2, var3)\n"
   ]
  }
 ],
 "metadata": {
  "kernelspec": {
   "display_name": "Python 3",
   "language": "python",
   "name": "python3"
  },
  "language_info": {
   "codemirror_mode": {
    "name": "ipython",
    "version": 3
   },
   "file_extension": ".py",
   "mimetype": "text/x-python",
   "name": "python",
   "nbconvert_exporter": "python",
   "pygments_lexer": "ipython3",
   "version": "3.8.8"
  }
 },
 "nbformat": 4,
 "nbformat_minor": 5
}
