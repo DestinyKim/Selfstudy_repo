{
 "cells": [
  {
   "cell_type": "code",
   "execution_count": 1,
   "metadata": {},
   "outputs": [],
   "source": [
    "import requests"
   ]
  },
  {
   "cell_type": "code",
   "execution_count": 13,
   "metadata": {},
   "outputs": [
    {
     "name": "stdout",
     "output_type": "stream",
     "text": [
      "응답코드: 200\n"
     ]
    }
   ],
   "source": [
    "res = requests.get(\"http://google.com\")\n",
    "print(\"응답코드:\",res.status_code) ## 200이면 정상"
   ]
  },
  {
   "cell_type": "code",
   "execution_count": 8,
   "metadata": {},
   "outputs": [
    {
     "name": "stdout",
     "output_type": "stream",
     "text": [
      "정상입니다.\n"
     ]
    }
   ],
   "source": [
    "if res.status_code == requests.codes.ok :  ## 연결이 정상이면 \":정상입니다.\"\n",
    "    print(\"정상입니다.\")                   ## 연결에 문제가 있으면 \"문제가 생겼습니다.\"\n",
    "else:\n",
    "    print(\"문제가 생겼습니다.[에러코드\",res.status_code,\"]\")"
   ]
  },
  {
   "cell_type": "code",
   "execution_count": 9,
   "metadata": {},
   "outputs": [
    {
     "name": "stdout",
     "output_type": "stream",
     "text": [
      "웹 스크래핑을 진행합니다.\n"
     ]
    }
   ],
   "source": [
    "res.raise_for_status() # 올바르게 코드를 가지고 오면 괜찮지만, 에러가 나면 알려줌\n",
    "print(\"웹 스크래핑을 진행합니다.\")"
   ]
  },
  {
   "cell_type": "code",
   "execution_count": null,
   "metadata": {},
   "outputs": [],
   "source": [
    "===================================================================\n",
    "보통 requests.get()와 raise_for_status() 같이 사용하여 잘 연결됐는지 확인한다."
   ]
  },
  {
   "cell_type": "code",
   "execution_count": 14,
   "metadata": {},
   "outputs": [],
   "source": [
    "res = requests.get(\"http://google.com\")\n",
    "res.raise_for_status()"
   ]
  },
  {
   "cell_type": "code",
   "execution_count": 15,
   "metadata": {},
   "outputs": [
    {
     "data": {
      "text/plain": [
       "15230"
      ]
     },
     "execution_count": 15,
     "metadata": {},
     "output_type": "execute_result"
    }
   ],
   "source": [
    "len(res.text) #Google 페이지 안의 글자 갯수"
   ]
  },
  {
   "cell_type": "code",
   "execution_count": null,
   "metadata": {},
   "outputs": [],
   "source": [
    "### 파일로 만들어 보자."
   ]
  },
  {
   "cell_type": "code",
   "execution_count": 16,
   "metadata": {},
   "outputs": [],
   "source": [
    "with open(\"mygoogle.html\",\"w\",encoding='utf8') as f:\n",
    "    f.write(res.text)"
   ]
  },
  {
   "cell_type": "markdown",
   "metadata": {},
   "source": [
    "### 정규식"
   ]
  },
  {
   "cell_type": "code",
   "execution_count": null,
   "metadata": {},
   "outputs": [],
   "source": [
    "# 주민등록번호\n",
    "# 901201-1111111\n",
    "\n",
    "# 이메일주소\n",
    "# nadocoding@gmail.com\n",
    "\n",
    "# 차량번호\n",
    "# 11가 1234 / 123가 1234\n",
    "\n",
    "# IP 주소\n",
    "# 192.168.0.1"
   ]
  },
  {
   "cell_type": "code",
   "execution_count": 18,
   "metadata": {},
   "outputs": [],
   "source": [
    "import re  # 정규식 라이브러리"
   ]
  },
  {
   "cell_type": "code",
   "execution_count": null,
   "metadata": {},
   "outputs": [],
   "source": [
    "# abcd, book, desk\n",
    "# ca?e\n",
    "# care, cafe, case, cave\n",
    "# caae, cabe, cace, cade, ..."
   ]
  },
  {
   "cell_type": "code",
   "execution_count": 19,
   "metadata": {},
   "outputs": [],
   "source": [
    "p = re.compile(\"ca.e\") # . (ca.e) : 하나의 문자를 의미 \n",
    "                       # ^ (de^) : 문자열의 시작  desk, detination (o) / fade(x)\n",
    "                       # $ (se$) : 문자열의 끝 case, base(o) / face(x)"
   ]
  },
  {
   "cell_type": "code",
   "execution_count": 20,
   "metadata": {},
   "outputs": [
    {
     "name": "stdout",
     "output_type": "stream",
     "text": [
      "case\n"
     ]
    }
   ],
   "source": [
    "m = p.match(\"case\")\n",
    "print(m.group()) # 매치되지 않으면 에러가 발생된다."
   ]
  },
  {
   "cell_type": "code",
   "execution_count": 21,
   "metadata": {},
   "outputs": [
    {
     "ename": "AttributeError",
     "evalue": "'NoneType' object has no attribute 'group'",
     "output_type": "error",
     "traceback": [
      "\u001b[1;31m---------------------------------------------------------------------------\u001b[0m",
      "\u001b[1;31mAttributeError\u001b[0m                            Traceback (most recent call last)",
      "\u001b[1;32m<ipython-input-21-b6179d0a1df2>\u001b[0m in \u001b[0;36m<module>\u001b[1;34m\u001b[0m\n\u001b[0;32m      1\u001b[0m \u001b[0mm\u001b[0m \u001b[1;33m=\u001b[0m \u001b[0mp\u001b[0m\u001b[1;33m.\u001b[0m\u001b[0mmatch\u001b[0m\u001b[1;33m(\u001b[0m\u001b[1;34m\"caffe\"\u001b[0m\u001b[1;33m)\u001b[0m\u001b[1;33m\u001b[0m\u001b[1;33m\u001b[0m\u001b[0m\n\u001b[1;32m----> 2\u001b[1;33m \u001b[0mprint\u001b[0m\u001b[1;33m(\u001b[0m\u001b[0mm\u001b[0m\u001b[1;33m.\u001b[0m\u001b[0mgroup\u001b[0m\u001b[1;33m(\u001b[0m\u001b[1;33m)\u001b[0m\u001b[1;33m)\u001b[0m \u001b[1;31m# 매치되지 않으면 에러가 발생된다.\u001b[0m\u001b[1;33m\u001b[0m\u001b[1;33m\u001b[0m\u001b[0m\n\u001b[0m",
      "\u001b[1;31mAttributeError\u001b[0m: 'NoneType' object has no attribute 'group'"
     ]
    }
   ],
   "source": [
    "m = p.match(\"caffe\")\n",
    "print(m.group()) # 매치되지 않으면 에러가 발생된다."
   ]
  },
  {
   "cell_type": "code",
   "execution_count": 31,
   "metadata": {},
   "outputs": [
    {
     "name": "stdout",
     "output_type": "stream",
     "text": [
      "m.group() : cafe\n",
      "m.string : cafe\n",
      "m.start() : 0\n",
      "m.end() : 4\n",
      "m.span() : (0, 4)\n",
      "매칭되지 않음\n"
     ]
    }
   ],
   "source": [
    "def print_match(m):\n",
    "    if m:\n",
    "        print(\"m.group() :\",m.group())  # 일치하는 문자열 반환\n",
    "        print(\"m.string :\",m.string)    # 입력받은 문자열\n",
    "        print(\"m.start() :\",m.start())  # 일치하는 문자열의 시작 index\n",
    "        print(\"m.end() :\", m.end())     # 일치하는 문자열의 끝 index\n",
    "        print(\"m.span() :\", m.span())   # 일치하는 문자열의 시작 / 끝 index\n",
    "    else:\n",
    "        print(\"매칭되지 않음\")\n",
    "        \n",
    "m = p.match(\"cafe\")\n",
    "print_match(m)\n",
    "\n",
    "m = p.match(\"good care\")\n",
    "print_match(m)\n",
    "\n",
    "# m2 = p.match(\"careless\")   # match() : 주어진 문자열의 처음부터 일치하는지 확인\n",
    "# print_match(m2)"
   ]
  },
  {
   "cell_type": "code",
   "execution_count": 32,
   "metadata": {},
   "outputs": [
    {
     "name": "stdout",
     "output_type": "stream",
     "text": [
      "m.group() : care\n",
      "m.string : good care\n",
      "m.start() : 5\n",
      "m.end() : 9\n",
      "m.span() : (5, 9)\n"
     ]
    }
   ],
   "source": [
    "m = p.search(\"good care\") # search() : 주어진 문자열 중에 일치하는게 있는지 확인\n",
    "print_match(m)"
   ]
  },
  {
   "cell_type": "code",
   "execution_count": 35,
   "metadata": {},
   "outputs": [
    {
     "name": "stdout",
     "output_type": "stream",
     "text": [
      "['care', 'cafe']\n"
     ]
    }
   ],
   "source": [
    "lst = p.findall(\"good care cafe\")  # findall : 일치하는 모든 것들 리스트 형태로 반환\n",
    "print(lst)"
   ]
  },
  {
   "cell_type": "code",
   "execution_count": null,
   "metadata": {},
   "outputs": [],
   "source": [
    "# 1. re.compile(\"원하는 형태\")\n",
    "# 2. m = p.match(\"비교할 문자열\") : 주어진 문자열의 처음부터 일치하는지 확인\n",
    "# 3, m = p.search(\"비교할 문자열\") : 주어진 문자열 중에 일치하는게 있는지 확인\n",
    "# 4. lst = p.findall(\"비교할 문자열\") : 일치하는 모든 것을 'List' 형태로 반환\n",
    "\n",
    "# . (ca.e) : 하나의 문자를 의미 \n",
    "# ^ (de^) : 문자열의 시작  desk, detination (o) / fade(x)\n",
    "# $ (se$) : 문자열의 끝 case, base(o) / face(x)\n",
    "\n",
    "# 참고자료) https://www.w3schools.com/python/python_regex.asp"
   ]
  },
  {
   "cell_type": "markdown",
   "metadata": {},
   "source": [
    "### User Agent"
   ]
  },
  {
   "cell_type": "code",
   "execution_count": 38,
   "metadata": {},
   "outputs": [],
   "source": [
    "import requests\n",
    "\n",
    "url = \"http://nadocoding.tistory.com\"\n",
    "headers = {\"User-Agent\" : \"Mozilla/5.0 (Windows NT 10.0; Win64; x64) AppleWebKit/537.36 (KHTML, like Gecko) Chrome/91.0.4472.106 Safari/537.36\"}\n",
    "## headers를 넣어줌으로써 자세한 정보들을 더 얻을 수 있다.\n",
    "\n",
    "res = requests.get(url, headers = headers)\n",
    "res.raise_for_status()"
   ]
  },
  {
   "cell_type": "code",
   "execution_count": 39,
   "metadata": {},
   "outputs": [],
   "source": [
    "with open(\"nadocoding.html\", \"w\", encoding=\"utf8\") as f:\n",
    "    f.write(res.text)"
   ]
  },
  {
   "cell_type": "markdown",
   "metadata": {},
   "source": [
    "============================================================="
   ]
  },
  {
   "cell_type": "markdown",
   "metadata": {},
   "source": [
    "### BeautifulSoup"
   ]
  },
  {
   "cell_type": "code",
   "execution_count": 43,
   "metadata": {},
   "outputs": [
    {
     "data": {
      "text/plain": [
       "'네이버 만화'"
      ]
     },
     "execution_count": 43,
     "metadata": {},
     "output_type": "execute_result"
    }
   ],
   "source": [
    "import requests\n",
    "from bs4 import BeautifulSoup\n",
    "\n",
    "url = \"https://comic.naver.com/index.nhn\"\n",
    "res = requests.get(url)\n",
    "res.raise_for_status()\n",
    "\n",
    "soup = BeautifulSoup(res.text, \"lxml\")\n",
    "soup.title\n",
    "soup.title.get_text()"
   ]
  },
  {
   "cell_type": "code",
   "execution_count": 44,
   "metadata": {},
   "outputs": [
    {
     "data": {
      "text/plain": [
       "<a href=\"#menu\" onclick=\"document.getElementById('menu').tabIndex=-1;document.getElementById('menu').focus();return false;\"><span>메인 메뉴로 바로가기</span></a>"
      ]
     },
     "execution_count": 44,
     "metadata": {},
     "output_type": "execute_result"
    }
   ],
   "source": [
    "soup.a   # soup 객체에서 처음 발견되는 a element 내용을 출력해줌"
   ]
  },
  {
   "cell_type": "code",
   "execution_count": 45,
   "metadata": {},
   "outputs": [
    {
     "data": {
      "text/plain": [
       "{'href': '#menu',\n",
       " 'onclick': \"document.getElementById('menu').tabIndex=-1;document.getElementById('menu').focus();return false;\"}"
      ]
     },
     "execution_count": 45,
     "metadata": {},
     "output_type": "execute_result"
    }
   ],
   "source": [
    "soup.a.attrs # a element의 속성 정보를 출력해줌"
   ]
  },
  {
   "cell_type": "code",
   "execution_count": 46,
   "metadata": {},
   "outputs": [
    {
     "data": {
      "text/plain": [
       "'#menu'"
      ]
     },
     "execution_count": 46,
     "metadata": {},
     "output_type": "execute_result"
    }
   ],
   "source": [
    "soup.a[\"href\"] # a element의 href 속성 값을 출력해줌"
   ]
  },
  {
   "cell_type": "code",
   "execution_count": 49,
   "metadata": {},
   "outputs": [
    {
     "data": {
      "text/plain": [
       "'웹툰 올리기'"
      ]
     },
     "execution_count": 49,
     "metadata": {},
     "output_type": "execute_result"
    }
   ],
   "source": [
    "soup.find(\"a\", attrs={\"class\":\"Nbtn_upload\"}) # class='Nbtn_upload'인 a element를 찾아줘"
   ]
  },
  {
   "cell_type": "code",
   "execution_count": 52,
   "metadata": {},
   "outputs": [
    {
     "data": {
      "text/plain": [
       "<a class=\"Nbtn_upload\" href=\"/mypage/myActivity.nhn\" onclick=\"nclk_v2(event,'olk.upload');\">웹툰 올리기</a>"
      ]
     },
     "execution_count": 52,
     "metadata": {},
     "output_type": "execute_result"
    }
   ],
   "source": [
    "soup.find(attrs={\"class\":\"Nbtn_upload\"}) # class='Nbtn_upload'인 어떤 element를 찾아줘"
   ]
  },
  {
   "cell_type": "code",
   "execution_count": 51,
   "metadata": {},
   "outputs": [
    {
     "data": {
      "text/plain": [
       "'웹툰 올리기'"
      ]
     },
     "execution_count": 51,
     "metadata": {},
     "output_type": "execute_result"
    }
   ],
   "source": [
    "soup.find(\"a\", class_=\"Nbtn_upload\").text"
   ]
  },
  {
   "cell_type": "markdown",
   "metadata": {},
   "source": [
    "==============================================="
   ]
  },
  {
   "cell_type": "code",
   "execution_count": 53,
   "metadata": {},
   "outputs": [
    {
     "data": {
      "text/plain": [
       "<li class=\"rank01\">\n",
       "<a href=\"/webtoon/detail.nhn?titleId=758037&amp;no=34\" onclick=\"nclk_v2(event,'rnk*p.cont','758037','1')\" title=\"참교육-34화\">참교육-34화</a>\n",
       "<span class=\"rankBox\">\n",
       "<img alt=\"변동없음\" height=\"10\" src=\"https://ssl.pstatic.net/static/comic/images/migration/common/arrow_no.gif\" title=\"변동없음\" width=\"7\"/> 0\n",
       "\t\t\t\t\t\t\n",
       "\t\t\t\t\t\n",
       "\t\t\t\t</span>\n",
       "</li>"
      ]
     },
     "execution_count": 53,
     "metadata": {},
     "output_type": "execute_result"
    }
   ],
   "source": [
    "soup.find(\"li\", attrs={\"class\":\"rank01\"})"
   ]
  },
  {
   "cell_type": "code",
   "execution_count": 58,
   "metadata": {},
   "outputs": [
    {
     "data": {
      "text/plain": [
       "<a href=\"/webtoon/detail.nhn?titleId=758037&amp;no=34\" onclick=\"nclk_v2(event,'rnk*p.cont','758037','1')\" title=\"참교육-34화\">참교육-34화</a>"
      ]
     },
     "execution_count": 58,
     "metadata": {},
     "output_type": "execute_result"
    }
   ],
   "source": [
    "rank1 = soup.find(\"li\", attrs={\"class\":\"rank01\"})\n",
    "rank1.a"
   ]
  },
  {
   "cell_type": "code",
   "execution_count": 59,
   "metadata": {},
   "outputs": [
    {
     "data": {
      "text/plain": [
       "'참교육-34화'"
      ]
     },
     "execution_count": 59,
     "metadata": {},
     "output_type": "execute_result"
    }
   ],
   "source": [
    "rank1.a.get_text()"
   ]
  },
  {
   "cell_type": "code",
   "execution_count": 60,
   "metadata": {},
   "outputs": [
    {
     "data": {
      "text/plain": [
       "'\\n'"
      ]
     },
     "execution_count": 60,
     "metadata": {},
     "output_type": "execute_result"
    }
   ],
   "source": [
    "rank1.next_sibling"
   ]
  },
  {
   "cell_type": "code",
   "execution_count": 68,
   "metadata": {},
   "outputs": [
    {
     "data": {
      "text/plain": [
       "'신의 탑-3부 74화'"
      ]
     },
     "execution_count": 68,
     "metadata": {},
     "output_type": "execute_result"
    }
   ],
   "source": [
    "rank2  = rank1.next_sibling.next_sibling\n",
    "rank2.a.get_text()"
   ]
  },
  {
   "cell_type": "code",
   "execution_count": 69,
   "metadata": {},
   "outputs": [
    {
     "data": {
      "text/plain": [
       "'백수세끼-80화 주꾸미 볶음'"
      ]
     },
     "execution_count": 69,
     "metadata": {},
     "output_type": "execute_result"
    }
   ],
   "source": [
    "rank3  = rank2.next_sibling.next_sibling\n",
    "rank3.a.get_text()"
   ]
  },
  {
   "cell_type": "code",
   "execution_count": 71,
   "metadata": {},
   "outputs": [
    {
     "data": {
      "text/plain": [
       "'신의 탑-3부 74화'"
      ]
     },
     "execution_count": 71,
     "metadata": {},
     "output_type": "execute_result"
    }
   ],
   "source": [
    "rank2 = rank3.previous_sibling.previous_sibling\n",
    "rank2.a.get_text()"
   ]
  },
  {
   "cell_type": "code",
   "execution_count": 72,
   "metadata": {},
   "outputs": [
    {
     "data": {
      "text/plain": [
       "<ol class=\"asideBoxRank\" id=\"realTimeRankFavorite\">\n",
       "<li class=\"rank01\">\n",
       "<a href=\"/webtoon/detail.nhn?titleId=758037&amp;no=34\" onclick=\"nclk_v2(event,'rnk*p.cont','758037','1')\" title=\"참교육-34화\">참교육-34화</a>\n",
       "<span class=\"rankBox\">\n",
       "<img alt=\"변동없음\" height=\"10\" src=\"https://ssl.pstatic.net/static/comic/images/migration/common/arrow_no.gif\" title=\"변동없음\" width=\"7\"/> 0\n",
       "\t\t\t\t\t\t\n",
       "\t\t\t\t\t\n",
       "\t\t\t\t</span>\n",
       "</li>\n",
       "<li class=\"rank02\">\n",
       "<a href=\"/webtoon/detail.nhn?titleId=183559&amp;no=493\" onclick=\"nclk_v2(event,'rnk*p.cont','183559','2')\" title=\"신의 탑-3부 74화\">신의 탑-3부 74화</a>\n",
       "<span class=\"rankBox\">\n",
       "<img alt=\"변동없음\" height=\"10\" src=\"https://ssl.pstatic.net/static/comic/images/migration/common/arrow_no.gif\" title=\"변동없음\" width=\"7\"/> 0\n",
       "\t\t\t\t\t\t\n",
       "\t\t\t\t\t\n",
       "\t\t\t\t</span>\n",
       "</li>\n",
       "<li class=\"rank03\">\n",
       "<a href=\"/webtoon/detail.nhn?titleId=733074&amp;no=80\" onclick=\"nclk_v2(event,'rnk*p.cont','733074','3')\" title=\"백수세끼-80화 주꾸미 볶음\">백수세끼-80화 주꾸미 볶음</a>\n",
       "<span class=\"rankBox\">\n",
       "<img alt=\"변동없음\" height=\"10\" src=\"https://ssl.pstatic.net/static/comic/images/migration/common/arrow_no.gif\" title=\"변동없음\" width=\"7\"/> 0\n",
       "\t\t\t\t\t\t\n",
       "\t\t\t\t\t\n",
       "\t\t\t\t</span>\n",
       "</li>\n",
       "<li class=\"rank04\">\n",
       "<a href=\"/webtoon/detail.nhn?titleId=602910&amp;no=367\" onclick=\"nclk_v2(event,'rnk*p.cont','602910','4')\" title=\"윈드브레이커-3부 - 117화 불편한 자리\">윈드브레이커-3부 - 117화 불편한 자리</a>\n",
       "<span class=\"rankBox\">\n",
       "<img alt=\"변동없음\" height=\"10\" src=\"https://ssl.pstatic.net/static/comic/images/migration/common/arrow_no.gif\" title=\"변동없음\" width=\"7\"/> 0\n",
       "\t\t\t\t\t\t\n",
       "\t\t\t\t\t\n",
       "\t\t\t\t</span>\n",
       "</li>\n",
       "<li class=\"rank05\">\n",
       "<a href=\"/webtoon/detail.nhn?titleId=748105&amp;no=102\" onclick=\"nclk_v2(event,'rnk*p.cont','748105','5')\" title=\"독립일기-QnA\">독립일기-QnA</a>\n",
       "<span class=\"rankBox\">\n",
       "<img alt=\"순위상승\" height=\"10\" src=\"https://ssl.pstatic.net/static/comic/images/migration/common/arrow_up.gif\" title=\"순위상승\" width=\"7\"/>3\n",
       "\t\t\t\t\t\t\n",
       "\t\t\t\t\t\t\n",
       "\t\t\t\t\t\n",
       "\t\t\t\t</span>\n",
       "</li>\n",
       "<li class=\"rank06\">\n",
       "<a href=\"/webtoon/detail.nhn?titleId=648419&amp;no=300\" onclick=\"nclk_v2(event,'rnk*p.cont','648419','6')\" title=\"뷰티풀 군바리-295화_이동희 3\">뷰티풀 군바리-295화_이동희 3</a>\n",
       "<span class=\"rankBox\">\n",
       "<img alt=\"순위하락\" height=\"10\" src=\"https://ssl.pstatic.net/static/comic/images/migration/common/arrow_down.gif\" title=\"순위하락\" width=\"7\"/>1\n",
       "\t\t\t\t\t\t\n",
       "\t\t\t\t\t\t\n",
       "\t\t\t\t\t\t\n",
       "\t\t\t\t\t\n",
       "\t\t\t\t</span>\n",
       "</li>\n",
       "<li class=\"rank07\">\n",
       "<a href=\"/webtoon/detail.nhn?titleId=769317&amp;no=12\" onclick=\"nclk_v2(event,'rnk*p.cont','769317','7')\" title=\"삼매경-12화\">삼매경-12화</a>\n",
       "<span class=\"rankBox\">\n",
       "<img alt=\"순위하락\" height=\"10\" src=\"https://ssl.pstatic.net/static/comic/images/migration/common/arrow_down.gif\" title=\"순위하락\" width=\"7\"/>1\n",
       "\t\t\t\t\t\t\n",
       "\t\t\t\t\t\t\n",
       "\t\t\t\t\t\t\n",
       "\t\t\t\t\t\n",
       "\t\t\t\t</span>\n",
       "</li>\n",
       "<li class=\"rank08\">\n",
       "<a href=\"/webtoon/detail.nhn?titleId=709731&amp;no=143\" onclick=\"nclk_v2(event,'rnk*p.cont','709731','8')\" title=\"유일무이 로맨스-143화\">유일무이 로맨스-143화</a>\n",
       "<span class=\"rankBox\">\n",
       "<img alt=\"순위하락\" height=\"10\" src=\"https://ssl.pstatic.net/static/comic/images/migration/common/arrow_down.gif\" title=\"순위하락\" width=\"7\"/>1\n",
       "\t\t\t\t\t\t\n",
       "\t\t\t\t\t\t\n",
       "\t\t\t\t\t\t\n",
       "\t\t\t\t\t\n",
       "\t\t\t\t</span>\n",
       "</li>\n",
       "<li class=\"rank09\">\n",
       "<a href=\"/webtoon/detail.nhn?titleId=736277&amp;no=84\" onclick=\"nclk_v2(event,'rnk*p.cont','736277','9')\" title=\"싸움독학-84화 : 감기가 오려나@\">싸움독학-84화 : 감기가 오려나@</a>\n",
       "<span class=\"rankBox\">\n",
       "<img alt=\"순위상승\" height=\"10\" src=\"https://ssl.pstatic.net/static/comic/images/migration/common/arrow_up.gif\" title=\"순위상승\" width=\"7\"/>1\n",
       "\t\t\t\t\t\t\n",
       "\t\t\t\t\t\t\n",
       "\t\t\t\t\t\n",
       "\t\t\t\t</span>\n",
       "</li>\n",
       "<li class=\"rank10\">\n",
       "<a href=\"/webtoon/detail.nhn?titleId=730174&amp;no=103\" onclick=\"nclk_v2(event,'rnk*p.cont','730174','10')\" title=\"칼가는 소녀-103화\">칼가는 소녀-103화</a>\n",
       "<span class=\"rankBox\">\n",
       "<img alt=\"순위하락\" height=\"10\" src=\"https://ssl.pstatic.net/static/comic/images/migration/common/arrow_down.gif\" title=\"순위하락\" width=\"7\"/>1\n",
       "\t\t\t\t\t\t\n",
       "\t\t\t\t\t\t\n",
       "\t\t\t\t\t\t\n",
       "\t\t\t\t\t\n",
       "\t\t\t\t</span>\n",
       "</li>\n",
       "</ol>"
      ]
     },
     "execution_count": 72,
     "metadata": {},
     "output_type": "execute_result"
    }
   ],
   "source": [
    "rank1.parent"
   ]
  },
  {
   "cell_type": "code",
   "execution_count": 75,
   "metadata": {},
   "outputs": [
    {
     "data": {
      "text/plain": [
       "'신의 탑-3부 74화'"
      ]
     },
     "execution_count": 75,
     "metadata": {},
     "output_type": "execute_result"
    }
   ],
   "source": [
    "rank2 = rank1.find_next_sibling(\"li\")\n",
    "rank2.a.get_text()"
   ]
  },
  {
   "cell_type": "code",
   "execution_count": 77,
   "metadata": {},
   "outputs": [
    {
     "data": {
      "text/plain": [
       "'백수세끼-80화 주꾸미 볶음'"
      ]
     },
     "execution_count": 77,
     "metadata": {},
     "output_type": "execute_result"
    }
   ],
   "source": [
    "rank3 = rank2.find_next_sibling(\"li\")\n",
    "rank3.a.get_text()"
   ]
  },
  {
   "cell_type": "code",
   "execution_count": 78,
   "metadata": {},
   "outputs": [
    {
     "data": {
      "text/plain": [
       "'신의 탑-3부 74화'"
      ]
     },
     "execution_count": 78,
     "metadata": {},
     "output_type": "execute_result"
    }
   ],
   "source": [
    "rank2 = rank3.find_previous_sibling(\"li\")\n",
    "rank2.a.get_text()"
   ]
  },
  {
   "cell_type": "code",
   "execution_count": 83,
   "metadata": {},
   "outputs": [
    {
     "data": {
      "text/plain": [
       "bs4.element.ResultSet"
      ]
     },
     "execution_count": 83,
     "metadata": {},
     "output_type": "execute_result"
    }
   ],
   "source": [
    "rank1.find_next_siblings(\"li\")"
   ]
  },
  {
   "cell_type": "markdown",
   "metadata": {},
   "source": [
    "======================================================================="
   ]
  },
  {
   "cell_type": "code",
   "execution_count": 85,
   "metadata": {},
   "outputs": [
    {
     "name": "stdout",
     "output_type": "stream",
     "text": [
      "<a href=\"/webtoon/detail.nhn?titleId=758037&amp;no=34\" onclick=\"nclk_v2(event,'rnk*p.cont','758037','1')\" title=\"참교육-34화\">참교육-34화</a>\n"
     ]
    }
   ],
   "source": [
    "webtoon = soup.find(\"a\", text=\"참교육-34화\")  # a태그 안에 \"참교육-34화\"라고 적힌 a태그 전체를 갖고와줘\n",
    "print(webtoon)"
   ]
  },
  {
   "cell_type": "code",
   "execution_count": 90,
   "metadata": {},
   "outputs": [
    {
     "name": "stdout",
     "output_type": "stream",
     "text": [
      "신의 탑\n",
      "참교육\n",
      "뷰티풀 군바리\n",
      "파이게임\n",
      "윈드브레이커\n",
      "소녀의 세계\n",
      "신입일기\n",
      "장씨세가 호위무사\n",
      "삼매경\n",
      "앵무살수\n",
      "만렙돌파\n",
      "백수세끼\n",
      "요리GO\n",
      "칼가는 소녀\n",
      "유일무이 로맨스\n",
      "히어로메이커\n",
      "리턴 투 플레이어\n",
      "오늘의 순정망화\n",
      "잔불의 기사\n",
      "결혼생활 그림일기\n",
      "황제와의 하룻밤\n",
      "최후의 금빛아이\n",
      "물어보는 사이\n",
      "장난감\n",
      "수영만화일기\n",
      "모스크바의 여명\n",
      "하루의 하루\n",
      "평범한 8반\n",
      "아는 여자애\n",
      "바로 보지 않는\n",
      "순정말고 순종\n",
      "사랑의 헌옷수거함\n",
      "꿈의 기업\n",
      "야생천사 보호구역\n",
      "브랜든\n",
      "착한건 돈이된다\n",
      "또다시, 계약 부부\n",
      "선배, 그 립스틱 바르지 마요\n",
      "침범\n",
      "왕따협상\n",
      "이중첩자\n",
      "마지막 지수\n",
      "원하는 건 너 하나\n",
      "살아간다\n",
      "라서드\n",
      "모락모락 왕세자님\n",
      "백호랑\n",
      "기사님을 지켜줘\n",
      "이탄국의 자청비\n",
      "개밥 먹는 남자\n",
      "드로잉 레시피\n",
      "중독연구소\n",
      "사막에 핀 달\n",
      "그림자 신부\n",
      "트리거\n",
      "헬로맨스\n",
      "오로지 오로라\n",
      "보살님이 캐리해!\n",
      "와이키키 뱀파이어\n",
      "아, 쫌 참으세요 영주님!\n",
      "여신강림\n",
      "바른연애 길잡이\n",
      "한림체육관\n",
      "엽총소년\n",
      "하루만 네가 되고 싶어\n",
      "용사가 돌아왔다\n",
      "랜덤채팅의 그녀!\n",
      "사신소년\n",
      "니나의 마법서랍\n",
      "신도림\n",
      "중증외상센터 : 골든 아워\n",
      "헬58\n",
      "삼국지톡\n",
      "몬스터\n",
      "호랑이 들어와요\n",
      "달콤살벌한 부부\n",
      "집이 없어\n",
      "오피스 누나 이야기\n",
      "원주민 공포만화\n",
      "윌유메리미\n",
      "위아더좀비\n",
      "하우스키퍼\n",
      "나는 어디에나 있다\n",
      "아이레\n",
      "오늘의 순정망화\n",
      "견우와 선녀\n",
      "플레이, 플리\n",
      "용왕님의 셰프가 되었습니다\n",
      "고등매직\n",
      "빌런투킬\n",
      "천마는 평범하게 살 수 없다\n",
      "성인초딩\n",
      "빅맨\n",
      "올가미\n",
      "악인\n",
      "은주의 방 2~3부\n",
      "태시트\n",
      "정년이\n",
      "3cm 헌터\n",
      "NG불가\n",
      "아이즈\n",
      "제로게임\n",
      "그녀석 정복기\n",
      "연우의 순정\n",
      "급식러너\n",
      "열녀박씨 계약결혼뎐\n",
      "숲속의 담\n",
      "프린스 메이커\n",
      "나의 플랏메이트\n",
      "대신 심부름을 해다오\n",
      "나타나주세요!\n",
      "오파츠\n",
      "빛빛빛\n",
      "자판귀\n",
      "조선홍보대행사 조대박\n",
      "안식의 밤\n",
      "완벽한 가족\n",
      "언메이크\n",
      "풋내기들\n",
      "찐:종합게임동아리\n",
      "하나in세인\n",
      "피로만땅\n",
      "인문학적 감수성\n",
      "헬퍼 2 : 킬베로스\n",
      "전지적 독자 시점\n",
      "복학왕\n",
      "모죠의 일지\n",
      "급식아빠\n",
      "튜토리얼 탑의 고인물\n",
      "캐슬\n",
      "격기3반\n",
      "남주의 첫날밤을 가져버렸다\n",
      "화산귀환\n",
      "세상은 돈과 권력\n",
      "여주실격!\n",
      "노곤하개\n",
      "일렉시드\n",
      "연놈\n",
      "나쁜사람\n",
      "고삼무쌍\n",
      "엔딩 후 서브남을 주웠다\n",
      "닥터앤닥터 육아일기\n",
      "하렘의 남자들\n",
      "원수를 사랑하라\n",
      "빌드업\n",
      "판타지 여동생!\n",
      "마른 가지에 바람처럼\n",
      "오징어도 사랑이 되나요?\n",
      "귀곡의 문\n",
      "각자의 디데이\n",
      "언덕 위의 제임스\n",
      "사랑과 평강의 온달!\n",
      "마녀와 용의 신혼일기\n",
      "방탈출\n",
      "사상최강\n",
      "구주\n",
      "아도나이\n",
      "새벽 두 시의 신데렐라\n",
      "로어 올림푸스\n",
      "이츠마인\n",
      "수요웹툰의 나강림\n",
      "나의 계절\n",
      "더 트웰브\n",
      "반귀\n",
      "럭키언럭키\n",
      "당신의 향수\n",
      "얼굴천재\n",
      "칼부림\n",
      "범이올시다!\n",
      "말하는대로\n",
      "속보입니다\n",
      "웰컴 온보드\n",
      "뱀은 꽃을 먹는가\n",
      "기억흔적\n",
      "스캔들\n",
      "해귀\n",
      "노선도\n",
      "신선비\n",
      "내 룸메이트는 마네킹\n",
      "스몰\n",
      "천도\n",
      "저승사자 출입금지\n",
      "수상한 비밀상담부\n",
      "시효완성\n",
      "독립일기\n",
      "더 복서\n",
      "연애혁명\n",
      "기기괴괴\n",
      "이두나!\n",
      "노답소녀\n",
      "나노마신\n",
      "정글쥬스\n",
      "화이트 블러드\n",
      "겟백\n",
      "하드캐리\n",
      "무사만리행\n",
      "던전 씹어먹는 아티팩트\n",
      "신비\n",
      "포식동물\n",
      "꽃만 키우는데 너무강함\n",
      "흑막 여주가 날 새엄마로 만들려고 해\n",
      "트롤트랩\n",
      "쿠베라\n",
      "오늘의 순정망화\n",
      "최강전설 강해효\n",
      "선의의 경쟁\n",
      "수영만화일기\n",
      "돌아온 여기사\n",
      "소년의 기록\n",
      "만물의 영장\n",
      "평범한 낙원\n",
      "별을 삼킨 너에게\n",
      "마계인섬\n",
      "시월드 판타지\n",
      "달의 요람\n",
      "그 개, 만두\n",
      "그 황제가 시곗바늘을 되돌린 사연\n",
      "자취방 신선들\n",
      "롤랑롤랑\n",
      "로그아웃\n",
      "온실 속 화초\n",
      "성스러운 아이돌\n",
      "안개무덤\n",
      "루커피쳐\n",
      "멸망X초이스\n",
      "불편한 관계\n",
      "집사레인저\n",
      "어차피 남편은!\n",
      "야만의 시대\n",
      "겟라이프\n",
      "소녀180\n",
      "불릿 6미리\n",
      "혼모노트\n",
      "유리와 유리와 유리\n",
      "미드나잇 체이서\n",
      "카루나\n",
      "모어 라이프\n",
      "밤하늘에 구름운\n",
      "바른탕진 프로젝트\n",
      "보물과 괴물의 도시\n",
      "헬프미\n",
      "외모지상주의\n",
      "갓 오브 하이스쿨\n",
      "데드퀸\n",
      "재혼 황후\n",
      "1초\n",
      "개를 낳았다\n",
      "죽지 않으려면\n",
      "삼국지톡\n",
      "낙향문사전\n",
      "여성전용헬스장 진달래짐\n",
      "세기말 풋사과 보습학원\n",
      "더 게이머\n",
      "그들이 사귀는 세상\n",
      "살人스타그램\n",
      "서울역 드루이드\n",
      "성경의 역사\n",
      "플레이어\n",
      "걸어서 30분\n",
      "상남자\n",
      "복학생 정순이\n",
      "구남친이 내게 반했다\n",
      "고래별\n",
      "로판 빙의 만화\n",
      "난약\n",
      "히어로 킬러\n",
      "엽사:요괴사냥꾼\n",
      "뫼신 사냥꾼\n",
      "환상의 용\n",
      "A.I. 닥터\n",
      "가슴털 로망스\n",
      "그 기사가 레이디로 사는 법\n",
      "주님, 악마가 되게 해주세요!\n",
      "팬시X팬시\n",
      "감자마을\n",
      "피와 나비\n",
      "태권보이\n",
      "거래\n",
      "버그: 스티그마\n",
      "닥터 프로스트 시즌 3~4\n",
      "후덜덜덜 남극전자\n",
      "사람의 조각\n",
      "악몽일기\n",
      "너의 미소가 함정\n",
      "방과후 선녀\n",
      "도무지 그애는\n",
      "아찔한 전남편\n",
      "빨리감기\n",
      "도깨비 고개\n",
      "썸내일\n",
      "몽홀\n",
      "트럼프\n",
      "꽃 피우는 남자\n",
      "구독금지\n",
      "찬란하지 않아도 괜찮아, 새벽\n",
      "백년게임\n",
      "구주의 시간\n",
      "진짜 정말 맹세코 좋아해\n",
      "합법해적 파르페\n",
      "히트포인트\n",
      "강림전기 개정기\n",
      "매지컬 메디컬\n",
      "호랑이형님\n",
      "프리드로우\n",
      "모죠의 일지\n",
      "취사병 전설이 되다\n",
      "광장\n",
      "니나의 마법서랍\n",
      "욕망일기\n",
      "노곤하개\n",
      "힙한남자\n",
      "토끼대왕\n",
      "좀비 파이트\n",
      "청춘 블라썸\n",
      "아홉수 우리들\n",
      "나이트런\n",
      "윌유메리미\n",
      "나를 바꿔줘\n",
      "어글리후드\n",
      "피라미드 게임\n",
      "동트는 로맨스\n",
      "반드시 해피엔딩\n",
      "나태 공자, 노력 천재 되다\n",
      "갓핑크\n",
      "지옥급식\n",
      "두번째 생일\n",
      "중매쟁이 아가 황녀님\n",
      "공유몽\n",
      "메트로헌터\n",
      "왕년엔 용사님\n",
      "단편.zip\n",
      "광해의 연인\n",
      "먹이\n",
      "웰캄투실버라이프\n",
      "남자주인공의 여자사람친구입니다\n",
      "태백 : 튜토리얼 맨\n",
      "내게 필요한 NO맨스\n",
      "군주\n",
      "왕세자 입학도\n",
      "저무는 해, 시린 눈\n",
      "키스 식스 센스\n",
      "2-3승강장\n",
      "율리\n",
      "동네몬스터\n",
      "압락사스\n",
      "팔려 온 신부\n",
      "남편을 만렙으로 키우려 합니다\n",
      "더 나우\n",
      "좋은데 어떡해\n",
      "모두 너였다\n",
      "오늘부터 천생연분\n",
      "아가사\n",
      "후아유!\n",
      "도사 가온\n",
      "손 잡아 볼래?\n",
      "안녕, 이바다씨\n",
      "아침을 지나 밤으로\n",
      "인간졸업\n",
      "언플래시레슨\n",
      "누군가의 로섬\n",
      "친구의 비밀계정\n",
      "주욱 같은 하루\n",
      "함부로 대해줘\n",
      "어른의 계절\n",
      "독립일기\n",
      "싸움독학\n",
      "이번 생도 잘 부탁해\n",
      "약한영웅\n",
      "열렙전사\n",
      "입학용병\n",
      "맘마미안\n",
      "소녀재판\n",
      "곱게 키웠더니, 짐승\n",
      "테러대부활\n",
      "닥터앤닥터 육아일기\n",
      "천하제일인\n",
      "오로지 너를 이기고 싶어\n",
      "살아남은 로맨스\n",
      "나만 보여!\n",
      "내일\n",
      "전설의 화석\n",
      "행성인간\n",
      "별이삼샵\n",
      "마법스크롤 상인 지오\n",
      "구름이 피워낸 꽃\n",
      "생존로그\n",
      "동생친구\n",
      "다이스(DICE)\n",
      "판사 이한영\n",
      "가짜인간\n",
      "벚꽃이 흩날릴 무렵\n",
      "로어 올림푸스\n",
      "제타\n",
      "AI가 세상을 지배한다면\n",
      "강남도깨비\n",
      "학교정벌\n",
      "합격시켜주세용\n",
      "라일락 200%\n",
      "사람은 고쳐 쓰는 게 아니야!\n",
      "호수의 인어\n",
      "평행도시\n",
      "아르세니아의 마법사\n",
      "결혼까지 망상했어!\n",
      "오른눈이 보는 세계\n",
      "굿 리스너\n",
      "데빌샷\n",
      "잉여특공대\n",
      "두근두근 연극부\n",
      "조선여우스캔들\n",
      "라커, 오프너\n",
      "오늘 밤만 재워줘\n",
      "마도\n",
      "소녀 해미\n",
      "위험한 신입사원\n",
      "푸른불꽃\n",
      "데이즈\n",
      "샤인 스타\n",
      "호시탐탐\n"
     ]
    }
   ],
   "source": [
    "import requests\n",
    "from bs4 import BeautifulSoup\n",
    "\n",
    "url = \"https://comic.naver.com/webtoon/weekday.nhn\"\n",
    "res = requests.get(url)\n",
    "res.raise_for_status()\n",
    "\n",
    "soup = BeautifulSoup(res.text, \"lxml\")\n",
    "\n",
    "# 네이버 웹툰 전체 목록 가져오기\n",
    "cartoons = soup.find_all(\"a\", attrs={\"class\":\"title\"})\n",
    "# class 속성이 title인 모든 \"a\" element를 출력\n",
    "for cartoon in cartoons:\n",
    "    print(cartoon.get_text())"
   ]
  },
  {
   "cell_type": "markdown",
   "metadata": {},
   "source": [
    "===================================================================="
   ]
  },
  {
   "cell_type": "code",
   "execution_count": 177,
   "metadata": {},
   "outputs": [
    {
     "data": {
      "text/plain": [
       "10"
      ]
     },
     "execution_count": 177,
     "metadata": {},
     "output_type": "execute_result"
    }
   ],
   "source": [
    "# 중증외상센터 : 골든 아워\n",
    "\n",
    "import requests\n",
    "from bs4 import BeautifulSoup\n",
    "\n",
    "url = \"https://comic.naver.com/webtoon/list.nhn?titleId=738174&weekday=tue\"\n",
    "res = requests.get(url)\n",
    "res.raise_for_status()\n",
    "\n",
    "soup = BeautifulSoup(res.text, \"lxml\")\n",
    "cartoons = soup.find_all(\"tr\")\n",
    "len(cartoons[2:])\n",
    "\n",
    "\n",
    "# cartoons[0].find(\"td\",class_=\"title\").a.text #제목\n",
    "\n",
    "# cartoons[0].find(\"td\",class_=\"title\").a[\"href\"] # 링크\n",
    "\n",
    "# cartoons[0].find(\"div\",class_=\"rating_type\").strong.text #평점"
   ]
  },
  {
   "cell_type": "code",
   "execution_count": 178,
   "metadata": {},
   "outputs": [
    {
     "name": "stdout",
     "output_type": "stream",
     "text": [
      "['2부 4화 : 뜯어고치려면_2'] ['https://comic.naver.com/webtoon/detail.nhn?titleId=738174&no=69&weekday=tue'] ['9.98']\n",
      "['2부 4화 : 뜯어고치려면_2', '2부 3화 : 뜯어고치려면_1'] ['https://comic.naver.com/webtoon/detail.nhn?titleId=738174&no=69&weekday=tue', 'https://comic.naver.com/webtoon/detail.nhn?titleId=738174&no=68&weekday=tue'] ['9.98', '9.98']\n",
      "['2부 4화 : 뜯어고치려면_2', '2부 3화 : 뜯어고치려면_1', '2부 2화 : 의술만 배우러 온 게 아니야'] ['https://comic.naver.com/webtoon/detail.nhn?titleId=738174&no=69&weekday=tue', 'https://comic.naver.com/webtoon/detail.nhn?titleId=738174&no=68&weekday=tue', 'https://comic.naver.com/webtoon/detail.nhn?titleId=738174&no=67&weekday=tue'] ['9.98', '9.98', '9.97']\n",
      "['2부 4화 : 뜯어고치려면_2', '2부 3화 : 뜯어고치려면_1', '2부 2화 : 의술만 배우러 온 게 아니야', '2부 1화 : 뉴욕'] ['https://comic.naver.com/webtoon/detail.nhn?titleId=738174&no=69&weekday=tue', 'https://comic.naver.com/webtoon/detail.nhn?titleId=738174&no=68&weekday=tue', 'https://comic.naver.com/webtoon/detail.nhn?titleId=738174&no=67&weekday=tue', 'https://comic.naver.com/webtoon/detail.nhn?titleId=738174&no=66&weekday=tue'] ['9.98', '9.98', '9.97', '9.96']\n",
      "['2부 4화 : 뜯어고치려면_2', '2부 3화 : 뜯어고치려면_1', '2부 2화 : 의술만 배우러 온 게 아니야', '2부 1화 : 뉴욕', '1부 후기'] ['https://comic.naver.com/webtoon/detail.nhn?titleId=738174&no=69&weekday=tue', 'https://comic.naver.com/webtoon/detail.nhn?titleId=738174&no=68&weekday=tue', 'https://comic.naver.com/webtoon/detail.nhn?titleId=738174&no=67&weekday=tue', 'https://comic.naver.com/webtoon/detail.nhn?titleId=738174&no=66&weekday=tue', 'https://comic.naver.com/webtoon/detail.nhn?titleId=738174&no=65&weekday=tue'] ['9.98', '9.98', '9.97', '9.96', '9.97']\n",
      "['2부 4화 : 뜯어고치려면_2', '2부 3화 : 뜯어고치려면_1', '2부 2화 : 의술만 배우러 온 게 아니야', '2부 1화 : 뉴욕', '1부 후기', '64화 : 정리(1부 완결)'] ['https://comic.naver.com/webtoon/detail.nhn?titleId=738174&no=69&weekday=tue', 'https://comic.naver.com/webtoon/detail.nhn?titleId=738174&no=68&weekday=tue', 'https://comic.naver.com/webtoon/detail.nhn?titleId=738174&no=67&weekday=tue', 'https://comic.naver.com/webtoon/detail.nhn?titleId=738174&no=66&weekday=tue', 'https://comic.naver.com/webtoon/detail.nhn?titleId=738174&no=65&weekday=tue', 'https://comic.naver.com/webtoon/detail.nhn?titleId=738174&no=64&weekday=tue'] ['9.98', '9.98', '9.97', '9.96', '9.97', '9.97']\n",
      "['2부 4화 : 뜯어고치려면_2', '2부 3화 : 뜯어고치려면_1', '2부 2화 : 의술만 배우러 온 게 아니야', '2부 1화 : 뉴욕', '1부 후기', '64화 : 정리(1부 완결)', '63화 : 신의 영역 (2)'] ['https://comic.naver.com/webtoon/detail.nhn?titleId=738174&no=69&weekday=tue', 'https://comic.naver.com/webtoon/detail.nhn?titleId=738174&no=68&weekday=tue', 'https://comic.naver.com/webtoon/detail.nhn?titleId=738174&no=67&weekday=tue', 'https://comic.naver.com/webtoon/detail.nhn?titleId=738174&no=66&weekday=tue', 'https://comic.naver.com/webtoon/detail.nhn?titleId=738174&no=65&weekday=tue', 'https://comic.naver.com/webtoon/detail.nhn?titleId=738174&no=64&weekday=tue', 'https://comic.naver.com/webtoon/detail.nhn?titleId=738174&no=63&weekday=tue'] ['9.98', '9.98', '9.97', '9.96', '9.97', '9.97', '9.98']\n",
      "['2부 4화 : 뜯어고치려면_2', '2부 3화 : 뜯어고치려면_1', '2부 2화 : 의술만 배우러 온 게 아니야', '2부 1화 : 뉴욕', '1부 후기', '64화 : 정리(1부 완결)', '63화 : 신의 영역 (2)', '62화 : 신의 영역 (1)'] ['https://comic.naver.com/webtoon/detail.nhn?titleId=738174&no=69&weekday=tue', 'https://comic.naver.com/webtoon/detail.nhn?titleId=738174&no=68&weekday=tue', 'https://comic.naver.com/webtoon/detail.nhn?titleId=738174&no=67&weekday=tue', 'https://comic.naver.com/webtoon/detail.nhn?titleId=738174&no=66&weekday=tue', 'https://comic.naver.com/webtoon/detail.nhn?titleId=738174&no=65&weekday=tue', 'https://comic.naver.com/webtoon/detail.nhn?titleId=738174&no=64&weekday=tue', 'https://comic.naver.com/webtoon/detail.nhn?titleId=738174&no=63&weekday=tue', 'https://comic.naver.com/webtoon/detail.nhn?titleId=738174&no=62&weekday=tue'] ['9.98', '9.98', '9.97', '9.96', '9.97', '9.97', '9.98', '9.97']\n",
      "['2부 4화 : 뜯어고치려면_2', '2부 3화 : 뜯어고치려면_1', '2부 2화 : 의술만 배우러 온 게 아니야', '2부 1화 : 뉴욕', '1부 후기', '64화 : 정리(1부 완결)', '63화 : 신의 영역 (2)', '62화 : 신의 영역 (1)', '61화 : 기도 화상은 무섭다'] ['https://comic.naver.com/webtoon/detail.nhn?titleId=738174&no=69&weekday=tue', 'https://comic.naver.com/webtoon/detail.nhn?titleId=738174&no=68&weekday=tue', 'https://comic.naver.com/webtoon/detail.nhn?titleId=738174&no=67&weekday=tue', 'https://comic.naver.com/webtoon/detail.nhn?titleId=738174&no=66&weekday=tue', 'https://comic.naver.com/webtoon/detail.nhn?titleId=738174&no=65&weekday=tue', 'https://comic.naver.com/webtoon/detail.nhn?titleId=738174&no=64&weekday=tue', 'https://comic.naver.com/webtoon/detail.nhn?titleId=738174&no=63&weekday=tue', 'https://comic.naver.com/webtoon/detail.nhn?titleId=738174&no=62&weekday=tue', 'https://comic.naver.com/webtoon/detail.nhn?titleId=738174&no=61&weekday=tue'] ['9.98', '9.98', '9.97', '9.96', '9.97', '9.97', '9.98', '9.97', '9.95']\n",
      "['2부 4화 : 뜯어고치려면_2', '2부 3화 : 뜯어고치려면_1', '2부 2화 : 의술만 배우러 온 게 아니야', '2부 1화 : 뉴욕', '1부 후기', '64화 : 정리(1부 완결)', '63화 : 신의 영역 (2)', '62화 : 신의 영역 (1)', '61화 : 기도 화상은 무섭다', '60화 : 배움에는 끝이 없잖아'] ['https://comic.naver.com/webtoon/detail.nhn?titleId=738174&no=69&weekday=tue', 'https://comic.naver.com/webtoon/detail.nhn?titleId=738174&no=68&weekday=tue', 'https://comic.naver.com/webtoon/detail.nhn?titleId=738174&no=67&weekday=tue', 'https://comic.naver.com/webtoon/detail.nhn?titleId=738174&no=66&weekday=tue', 'https://comic.naver.com/webtoon/detail.nhn?titleId=738174&no=65&weekday=tue', 'https://comic.naver.com/webtoon/detail.nhn?titleId=738174&no=64&weekday=tue', 'https://comic.naver.com/webtoon/detail.nhn?titleId=738174&no=63&weekday=tue', 'https://comic.naver.com/webtoon/detail.nhn?titleId=738174&no=62&weekday=tue', 'https://comic.naver.com/webtoon/detail.nhn?titleId=738174&no=61&weekday=tue', 'https://comic.naver.com/webtoon/detail.nhn?titleId=738174&no=60&weekday=tue'] ['9.98', '9.98', '9.97', '9.96', '9.97', '9.97', '9.98', '9.97', '9.95', '9.98']\n"
     ]
    }
   ],
   "source": [
    "# title = cartoons[1].a.get_text()\n",
    "# link = cartoons[1].a[\"href\"]\n",
    "# print(title,\":\",\"https://comic.naver.com\"+link)\n",
    "\n",
    "titles = []\n",
    "links = []\n",
    "rates = []\n",
    "\n",
    "for cartoon in cartoons[2:]:\n",
    "    # 제목\n",
    "    title = cartoon.find(\"td\",class_=\"title\").a.text\n",
    "    titles.append(title) \n",
    "    \n",
    "    # 링크\n",
    "    link = \"https://comic.naver.com\"+cartoon.find(\"td\",class_=\"title\").a[\"href\"]\n",
    "    links.append(link)\n",
    "    \n",
    "    # 평점\n",
    "    rate = cartoon.find(\"div\",class_=\"rating_type\").strong.text\n",
    "    rates.append(rate)\n",
    "    \n",
    "    print(titles, links, rates) "
   ]
  },
  {
   "cell_type": "code",
   "execution_count": 179,
   "metadata": {},
   "outputs": [
    {
     "data": {
      "text/html": [
       "<div>\n",
       "<style scoped>\n",
       "    .dataframe tbody tr th:only-of-type {\n",
       "        vertical-align: middle;\n",
       "    }\n",
       "\n",
       "    .dataframe tbody tr th {\n",
       "        vertical-align: top;\n",
       "    }\n",
       "\n",
       "    .dataframe thead th {\n",
       "        text-align: right;\n",
       "    }\n",
       "</style>\n",
       "<table border=\"1\" class=\"dataframe\">\n",
       "  <thead>\n",
       "    <tr style=\"text-align: right;\">\n",
       "      <th></th>\n",
       "      <th>제목</th>\n",
       "      <th>평점</th>\n",
       "      <th>링크</th>\n",
       "    </tr>\n",
       "  </thead>\n",
       "  <tbody>\n",
       "    <tr>\n",
       "      <th>0</th>\n",
       "      <td>2부 4화 : 뜯어고치려면_2</td>\n",
       "      <td>9.98</td>\n",
       "      <td>https://comic.naver.com/webtoon/detail.nhn?tit...</td>\n",
       "    </tr>\n",
       "    <tr>\n",
       "      <th>1</th>\n",
       "      <td>2부 3화 : 뜯어고치려면_1</td>\n",
       "      <td>9.98</td>\n",
       "      <td>https://comic.naver.com/webtoon/detail.nhn?tit...</td>\n",
       "    </tr>\n",
       "    <tr>\n",
       "      <th>2</th>\n",
       "      <td>2부 2화 : 의술만 배우러 온 게 아니야</td>\n",
       "      <td>9.97</td>\n",
       "      <td>https://comic.naver.com/webtoon/detail.nhn?tit...</td>\n",
       "    </tr>\n",
       "    <tr>\n",
       "      <th>3</th>\n",
       "      <td>2부 1화 : 뉴욕</td>\n",
       "      <td>9.96</td>\n",
       "      <td>https://comic.naver.com/webtoon/detail.nhn?tit...</td>\n",
       "    </tr>\n",
       "    <tr>\n",
       "      <th>4</th>\n",
       "      <td>1부 후기</td>\n",
       "      <td>9.97</td>\n",
       "      <td>https://comic.naver.com/webtoon/detail.nhn?tit...</td>\n",
       "    </tr>\n",
       "    <tr>\n",
       "      <th>5</th>\n",
       "      <td>64화 : 정리(1부 완결)</td>\n",
       "      <td>9.97</td>\n",
       "      <td>https://comic.naver.com/webtoon/detail.nhn?tit...</td>\n",
       "    </tr>\n",
       "    <tr>\n",
       "      <th>6</th>\n",
       "      <td>63화 : 신의 영역 (2)</td>\n",
       "      <td>9.98</td>\n",
       "      <td>https://comic.naver.com/webtoon/detail.nhn?tit...</td>\n",
       "    </tr>\n",
       "    <tr>\n",
       "      <th>7</th>\n",
       "      <td>62화 : 신의 영역 (1)</td>\n",
       "      <td>9.97</td>\n",
       "      <td>https://comic.naver.com/webtoon/detail.nhn?tit...</td>\n",
       "    </tr>\n",
       "    <tr>\n",
       "      <th>8</th>\n",
       "      <td>61화 : 기도 화상은 무섭다</td>\n",
       "      <td>9.95</td>\n",
       "      <td>https://comic.naver.com/webtoon/detail.nhn?tit...</td>\n",
       "    </tr>\n",
       "    <tr>\n",
       "      <th>9</th>\n",
       "      <td>60화 : 배움에는 끝이 없잖아</td>\n",
       "      <td>9.98</td>\n",
       "      <td>https://comic.naver.com/webtoon/detail.nhn?tit...</td>\n",
       "    </tr>\n",
       "  </tbody>\n",
       "</table>\n",
       "</div>"
      ],
      "text/plain": [
       "                        제목    평점  \\\n",
       "0         2부 4화 : 뜯어고치려면_2  9.98   \n",
       "1         2부 3화 : 뜯어고치려면_1  9.98   \n",
       "2  2부 2화 : 의술만 배우러 온 게 아니야  9.97   \n",
       "3               2부 1화 : 뉴욕  9.96   \n",
       "4                    1부 후기  9.97   \n",
       "5          64화 : 정리(1부 완결)  9.97   \n",
       "6          63화 : 신의 영역 (2)  9.98   \n",
       "7          62화 : 신의 영역 (1)  9.97   \n",
       "8         61화 : 기도 화상은 무섭다  9.95   \n",
       "9        60화 : 배움에는 끝이 없잖아  9.98   \n",
       "\n",
       "                                                  링크  \n",
       "0  https://comic.naver.com/webtoon/detail.nhn?tit...  \n",
       "1  https://comic.naver.com/webtoon/detail.nhn?tit...  \n",
       "2  https://comic.naver.com/webtoon/detail.nhn?tit...  \n",
       "3  https://comic.naver.com/webtoon/detail.nhn?tit...  \n",
       "4  https://comic.naver.com/webtoon/detail.nhn?tit...  \n",
       "5  https://comic.naver.com/webtoon/detail.nhn?tit...  \n",
       "6  https://comic.naver.com/webtoon/detail.nhn?tit...  \n",
       "7  https://comic.naver.com/webtoon/detail.nhn?tit...  \n",
       "8  https://comic.naver.com/webtoon/detail.nhn?tit...  \n",
       "9  https://comic.naver.com/webtoon/detail.nhn?tit...  "
      ]
     },
     "execution_count": 179,
     "metadata": {},
     "output_type": "execute_result"
    }
   ],
   "source": [
    "import pandas as pd\n",
    "from pandas import DataFrame\n",
    "\n",
    "data = {\"제목\":titles, \"평점\":rates,\"링크\":links}\n",
    "dat = pd.DataFrame(data)\n",
    "dat"
   ]
  }
 ],
 "metadata": {
  "kernelspec": {
   "display_name": "Python 3",
   "language": "python",
   "name": "python3"
  },
  "language_info": {
   "codemirror_mode": {
    "name": "ipython",
    "version": 3
   },
   "file_extension": ".py",
   "mimetype": "text/x-python",
   "name": "python",
   "nbconvert_exporter": "python",
   "pygments_lexer": "ipython3",
   "version": "3.8.5"
  }
 },
 "nbformat": 4,
 "nbformat_minor": 4
}
