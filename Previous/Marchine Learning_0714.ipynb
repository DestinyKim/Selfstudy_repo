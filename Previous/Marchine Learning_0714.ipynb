{
 "cells": [
  {
   "cell_type": "markdown",
   "metadata": {},
   "source": [
    "## 머신러닝(Marchine Learning)"
   ]
  },
  {
   "cell_type": "markdown",
   "metadata": {},
   "source": [
    "* 명시적인 프로그래밍 없이 컴퓨터가 학습 능력을 갖추게 해주는 학습 분야\n",
    "* 머신러닝은 데이터를 통해 다양한 패턴을 감지, 스스로 학습할 수 있는 모델 개발에 초점"
   ]
  },
  {
   "cell_type": "markdown",
   "metadata": {},
   "source": [
    "## 머신러닝 분류\n",
    " ### 지도 학습(Supervised Learning)\n",
    "    * 주어진 입력으로 부터 출력값을 예측하고자 할 때 사용\n",
    "    * 입력과 정답 데이터를 사용해 모델을 학습 후, 새로운 입력 데이터에 대해 정확한 출력을 예측하도록 하는 것이 목표\n",
    "    * 지도 학습 알고리즘의 학습 데이터를 만드는 것은 많은 사람들의 노력과 자원이 필요하지만 높은 성능을 기대할 수 있음\n",
    "    \n",
    " * 분류(classification)와 회귀(regression)\n",
    "   - 분류는 입력 데이터를 미리 정의된 여러 개의 클래스 중 하나로 예측하는 것          - 분류는 클래스의 개수가 2개인 이진 분류(binary classification)와 3개 이상인 다중 분류(multi-class classfication)로 나눌 수 있음\n",
    "   - 회귀는 연속적인 숫자를 예측하는 것으로 어떤 사람의 나이, 농작물의 수확량, 주식 가격 등을 출력 값이 연속성을 갖는다면 회귀문제라고 할 수 있음\n",
    "        \n",
    " * 지도 학습 알고리즘\n",
    "    - 선형회귀(Linear Regression)\n",
    "    - 로지스틱 회귀(Logistic Regression)\n",
    "    - 서포트 벡터 머신(Support Vector Machine)\n",
    "    - k-최근접 이웃(k-Nearest Neighbors)\n",
    "    - 결정 트리(Decision Tree)     "
   ]
  },
  {
   "cell_type": "markdown",
   "metadata": {},
   "source": [
    " ### 비지도 학습(Unsupervised Learning)\n",
    "     * 비지도 학습은 원하는 출력 없이 입력 데이터 사용\n",
    "     * 입력 데이터의 구조나 패턴을 찾는 것이 목표\n",
    "     * 미리 정해진 결과가 없고, 방대한 양의 데이터에서 유용한 통찰력을 얻을 수 있음\n",
    " * 클러스터링, 차원 축소, 연관 규칙\n",
    "     * 클러스터링(Clustering), 차원 축소(Dimensionality Reduction), 연관 규칙(Association Rules)으로 구분\n",
    "     * 클러스터링은 공간 상에서 서로 가깝고 유사한 데이터를 클러스터로 그룹화\n",
    "     * 차원 축소는 고차원의 데이터에 대해서 너무 많은 정보를 잃지 않으면서 데이터를 축소시키는 방법\n",
    "     * 연관 규칙은 데이터에서 특성 간의 연관성이 있는 흥미로운 규칙을 찾는 방법\n",
    " * 비지도 학습 알고리즘\n",
    "    * 클러스터링(Clustering)\n",
    "        - k-Means\n",
    "        - DBSCAN\n",
    "        - 계층 군집 분석(Hierarchical Cluster Analysis)\n",
    "        - 이상치 탐지(Outlier Detection), 특이값 탐지(Novelty Detection)\n",
    "    * 차원축소(Dimensionality Reduction)\n",
    "        - 주성분 분석(Principal Component Analysis)\n",
    "        - 커널 PCA(Kernel PCA)\n",
    "        - t-SNE(t-Distributed Stochastic Neighbor Embedding)\n",
    "    * 연관 규칙(Association Rule Learning)\n",
    "        - Apriori\n",
    "        - Eclat"
   ]
  },
  {
   "cell_type": "markdown",
   "metadata": {},
   "source": [
    " * 준지도 학습(Semi-supervised Learning)\n",
    "    * 레이블이 있는 것과 없는 것이 혼합된 경우 사용\n",
    "    * 일반적으로는 일반 데이터에만 레이블이 있음\n",
    "    * 준지도 학습 알고리즘은 대부분 지도 학습 알고리즘과 비지도 학습 알고리즘의 조합으로 구성   "
   ]
  },
  {
   "cell_type": "markdown",
   "metadata": {},
   "source": [
    " * 강화 학습(Reinforcement Learning)\n",
    "    * 동적 환경과 함께 상호 작용하는 피드백 기반 학습 방법\n",
    "    * 에이전트(Agent)가 환경을 관찰하고, 행동을 실행하고, 보상(reward) 또는 벌점(penalty)를 받음\n",
    "    * 에이전트는 이러한 피드백을 통해 자동으로 학습하고 성능을 향상시킴\n",
    "    * 어떤 지도가 없이 일정한 목표를 수행"
   ]
  },
  {
   "cell_type": "code",
   "execution_count": null,
   "metadata": {},
   "outputs": [],
   "source": []
  }
 ],
 "metadata": {
  "kernelspec": {
   "display_name": "Python 3",
   "language": "python",
   "name": "python3"
  },
  "language_info": {
   "codemirror_mode": {
    "name": "ipython",
    "version": 3
   },
   "file_extension": ".py",
   "mimetype": "text/x-python",
   "name": "python",
   "nbconvert_exporter": "python",
   "pygments_lexer": "ipython3",
   "version": "3.8.5"
  }
 },
 "nbformat": 4,
 "nbformat_minor": 4
}
