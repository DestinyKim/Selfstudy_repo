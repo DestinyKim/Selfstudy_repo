{
 "cells": [
  {
   "cell_type": "markdown",
   "metadata": {},
   "source": [
    "## Tuple 튜플"
   ]
  },
  {
   "cell_type": "markdown",
   "metadata": {},
   "source": [
    "#### List와는 다르게 내용 변경 및 추가 할 수 없음. 그러나 속도가 List 보다 빠름"
   ]
  },
  {
   "cell_type": "code",
   "execution_count": 2,
   "metadata": {},
   "outputs": [
    {
     "name": "stdout",
     "output_type": "stream",
     "text": [
      "돈까스\n"
     ]
    }
   ],
   "source": [
    "menu = (\"돈까스\",\"치즈까스\")\n",
    "print(menu[0])"
   ]
  },
  {
   "cell_type": "code",
   "execution_count": 3,
   "metadata": {},
   "outputs": [
    {
     "name": "stdout",
     "output_type": "stream",
     "text": [
      "치즈까스\n"
     ]
    }
   ],
   "source": [
    "print(menu[1])"
   ]
  },
  {
   "cell_type": "code",
   "execution_count": 4,
   "metadata": {},
   "outputs": [
    {
     "ename": "AttributeError",
     "evalue": "'tuple' object has no attribute 'add'",
     "output_type": "error",
     "traceback": [
      "\u001b[1;31m---------------------------------------------------------------------------\u001b[0m",
      "\u001b[1;31mAttributeError\u001b[0m                            Traceback (most recent call last)",
      "\u001b[1;32m<ipython-input-4-0ba70a85cf18>\u001b[0m in \u001b[0;36m<module>\u001b[1;34m\u001b[0m\n\u001b[1;32m----> 1\u001b[1;33m \u001b[0mmenu\u001b[0m\u001b[1;33m.\u001b[0m\u001b[0madd\u001b[0m\u001b[1;33m(\u001b[0m\u001b[1;34m\"생선까스\"\u001b[0m\u001b[1;33m)\u001b[0m\u001b[1;33m\u001b[0m\u001b[1;33m\u001b[0m\u001b[0m\n\u001b[0m",
      "\u001b[1;31mAttributeError\u001b[0m: 'tuple' object has no attribute 'add'"
     ]
    }
   ],
   "source": [
    "menu.add(\"생선까스\") #'tuple' object has no attribute 'add'"
   ]
  },
  {
   "cell_type": "code",
   "execution_count": 5,
   "metadata": {},
   "outputs": [
    {
     "name": "stdout",
     "output_type": "stream",
     "text": [
      "김종국 20 코딩\n"
     ]
    }
   ],
   "source": [
    "name = \"김종국\"\n",
    "age = 20\n",
    "hobby = \"코딩\"\n",
    "print(name, age, hobby)"
   ]
  },
  {
   "cell_type": "code",
   "execution_count": 6,
   "metadata": {},
   "outputs": [
    {
     "name": "stdout",
     "output_type": "stream",
     "text": [
      "('유재석', 30, '운동')\n"
     ]
    }
   ],
   "source": [
    "(name, age, hobby) = \"유재석\", 30, \"운동\"\n",
    "print((name, age, hobby))"
   ]
  },
  {
   "cell_type": "markdown",
   "metadata": {},
   "source": [
    "## Set 집합"
   ]
  },
  {
   "cell_type": "markdown",
   "metadata": {},
   "source": [
    "#### 중복 안됨. 순서 없음."
   ]
  },
  {
   "cell_type": "code",
   "execution_count": 7,
   "metadata": {},
   "outputs": [
    {
     "name": "stdout",
     "output_type": "stream",
     "text": [
      "{1, 2, 3}\n"
     ]
    }
   ],
   "source": [
    "my_set = {1,2,3,3,3}\n",
    "print(my_set)"
   ]
  },
  {
   "cell_type": "code",
   "execution_count": 9,
   "metadata": {},
   "outputs": [],
   "source": [
    "java  = {\"유재석\",\"김태호\",\"양세형\"}\n",
    "python = set([\"유재석\",\"박명수\"])"
   ]
  },
  {
   "cell_type": "markdown",
   "metadata": {},
   "source": [
    "#### 교집합(java와 python 모두 할 수 있는 사람)"
   ]
  },
  {
   "cell_type": "code",
   "execution_count": 10,
   "metadata": {},
   "outputs": [
    {
     "name": "stdout",
     "output_type": "stream",
     "text": [
      "{'유재석'}\n"
     ]
    }
   ],
   "source": [
    "print(java&python)"
   ]
  },
  {
   "cell_type": "code",
   "execution_count": 11,
   "metadata": {},
   "outputs": [
    {
     "name": "stdout",
     "output_type": "stream",
     "text": [
      "{'유재석'}\n"
     ]
    }
   ],
   "source": [
    "print(java.intersection(python))"
   ]
  },
  {
   "cell_type": "markdown",
   "metadata": {},
   "source": [
    "#### 합집합(java 또는 python 할 수 있는 개발자)"
   ]
  },
  {
   "cell_type": "code",
   "execution_count": 12,
   "metadata": {},
   "outputs": [
    {
     "name": "stdout",
     "output_type": "stream",
     "text": [
      "{'김태호', '박명수', '양세형', '유재석'}\n"
     ]
    }
   ],
   "source": [
    "print(java | python)"
   ]
  },
  {
   "cell_type": "code",
   "execution_count": 14,
   "metadata": {},
   "outputs": [
    {
     "name": "stdout",
     "output_type": "stream",
     "text": [
      "{'김태호', '박명수', '양세형', '유재석'}\n"
     ]
    }
   ],
   "source": [
    "print(java.union(python))"
   ]
  },
  {
   "cell_type": "markdown",
   "metadata": {},
   "source": [
    "#### 차집합(java 할 수 있지만 python 할 줄 모르는 개발자)"
   ]
  },
  {
   "cell_type": "code",
   "execution_count": 15,
   "metadata": {},
   "outputs": [
    {
     "name": "stdout",
     "output_type": "stream",
     "text": [
      "{'김태호', '양세형'}\n"
     ]
    }
   ],
   "source": [
    "print(java - python)"
   ]
  },
  {
   "cell_type": "code",
   "execution_count": 17,
   "metadata": {},
   "outputs": [
    {
     "name": "stdout",
     "output_type": "stream",
     "text": [
      "{'김태호', '양세형'}\n"
     ]
    }
   ],
   "source": [
    "print(java.difference(python))"
   ]
  },
  {
   "cell_type": "markdown",
   "metadata": {},
   "source": [
    "#### python할 줄 아는 사람이 늘어남"
   ]
  },
  {
   "cell_type": "code",
   "execution_count": 18,
   "metadata": {},
   "outputs": [
    {
     "name": "stdout",
     "output_type": "stream",
     "text": [
      "{'박명수', '김태호', '유재석'}\n"
     ]
    }
   ],
   "source": [
    "python.add(\"김태호\")\n",
    "print(python)"
   ]
  },
  {
   "cell_type": "markdown",
   "metadata": {},
   "source": [
    "#### java를 잊었어요"
   ]
  },
  {
   "cell_type": "code",
   "execution_count": 19,
   "metadata": {},
   "outputs": [
    {
     "name": "stdout",
     "output_type": "stream",
     "text": [
      "{'양세형', '유재석'}\n"
     ]
    }
   ],
   "source": [
    "java.remove(\"김태호\")\n",
    "print(java)"
   ]
  },
  {
   "cell_type": "markdown",
   "metadata": {},
   "source": [
    "## 자료구조의 변경"
   ]
  },
  {
   "cell_type": "code",
   "execution_count": 22,
   "metadata": {},
   "outputs": [
    {
     "name": "stdout",
     "output_type": "stream",
     "text": [
      "{'쥬스', '커피', '우유'} <class 'set'>\n"
     ]
    }
   ],
   "source": [
    "menu = {\"커피\",\"우유\",\"쥬스\"}\n",
    "print(menu,type(menu))"
   ]
  },
  {
   "cell_type": "code",
   "execution_count": 24,
   "metadata": {},
   "outputs": [
    {
     "name": "stdout",
     "output_type": "stream",
     "text": [
      "['쥬스', '커피', '우유'] <class 'list'>\n"
     ]
    }
   ],
   "source": [
    "menu = list(menu)\n",
    "print(menu,type(menu))"
   ]
  },
  {
   "cell_type": "code",
   "execution_count": 25,
   "metadata": {},
   "outputs": [
    {
     "name": "stdout",
     "output_type": "stream",
     "text": [
      "('쥬스', '커피', '우유') <class 'tuple'>\n"
     ]
    }
   ],
   "source": [
    "menu = tuple(menu)\n",
    "print(menu,type(menu))"
   ]
  },
  {
   "cell_type": "code",
   "execution_count": 26,
   "metadata": {},
   "outputs": [
    {
     "name": "stdout",
     "output_type": "stream",
     "text": [
      "{'쥬스', '커피', '우유'} <class 'set'>\n"
     ]
    }
   ],
   "source": [
    "menu = set(menu)\n",
    "print(menu,type(menu))"
   ]
  },
  {
   "cell_type": "code",
   "execution_count": null,
   "metadata": {},
   "outputs": [],
   "source": [
    "### 퀴즈\n",
    "* 참석률을 높이기 위해 댓글 이벤트를 진행\n",
    "* 댓글 작성자들 중에 추첨을 통해 1명은 치킨, 3명은 커피쿠폰을 받는다.\n",
    "* 추첨 프로그램을 작성하시오.\n",
    "\n",
    "* 조건1: 편의상 댓글은 20명이 작성, 아이디는 1 ~ 20 이라 가정\n",
    "* 조건2 : 댓글 내용과 상관없이 무작위로 추첨하되 중복불가\n",
    "* 조건3 : random 모듈과 suffle과 sample을 활용"
   ]
  },
  {
   "cell_type": "code",
   "execution_count": 53,
   "metadata": {},
   "outputs": [
    {
     "name": "stdout",
     "output_type": "stream",
     "text": [
      "[1, 2, 3, 4, 5, 6, 7, 8, 9, 10, 11, 12, 13, 14, 15, 16, 17, 18, 19, 20]\n"
     ]
    }
   ],
   "source": [
    "from random import *\n",
    "users = range(1,21) #1부터 20까지 숫자를 생성\n",
    "# print(type(users))\n",
    "users = list(users)\n",
    "# print(type(users))    \n",
    "\n",
    "print(users)"
   ]
  },
  {
   "cell_type": "code",
   "execution_count": 55,
   "metadata": {},
   "outputs": [
    {
     "name": "stdout",
     "output_type": "stream",
     "text": [
      "[16, 3, 13, 9, 12, 14, 15, 4, 8, 11, 18, 5, 2, 7, 20, 1, 19, 6, 17, 10]\n"
     ]
    }
   ],
   "source": [
    "shuffle(users)\n",
    "print(users)"
   ]
  },
  {
   "cell_type": "code",
   "execution_count": 56,
   "metadata": {},
   "outputs": [
    {
     "name": "stdout",
     "output_type": "stream",
     "text": [
      "=== 당첨자 발표 ===\n",
      "치킨 당첨자 : 14\n",
      "커피 당첨자 : [9, 17, 13]\n",
      "=== 축하합니다 ===\n"
     ]
    }
   ],
   "source": [
    "winners = sample(users, 4) # 4명 중 1명은 치킨, 3명은 커피\n",
    "print(\"=== 당첨자 발표 ===\")\n",
    "print(\"치킨 당첨자 : {0}\".format(winners[0]))\n",
    "print(\"커피 당첨자 : {0}\".format(winners[1:]))\n",
    "print(\"=== 축하합니다 ===\")"
   ]
  },
  {
   "cell_type": "markdown",
   "metadata": {},
   "source": [
    "## if 조건문"
   ]
  },
  {
   "cell_type": "code",
   "execution_count": 63,
   "metadata": {},
   "outputs": [
    {
     "name": "stdout",
     "output_type": "stream",
     "text": [
      "오늘 날씨는 어때요?눈\n",
      "우산을 챙기세요\n"
     ]
    }
   ],
   "source": [
    "weather = input(\"오늘 날씨는 어때요?\")\n",
    "# if 조건:\n",
    "#     실행명령문\n",
    "if weather ==\"비\" or weather == \"눈\":\n",
    "    print(\"우산을 챙기세요\")\n",
    "elif weather ==\"미세먼지\":\n",
    "    print(\"마스크를 챙기세요\")\n",
    "else:\n",
    "    print(\"준비물이 필요없어요\")"
   ]
  },
  {
   "cell_type": "code",
   "execution_count": 69,
   "metadata": {},
   "outputs": [
    {
     "name": "stdout",
     "output_type": "stream",
     "text": [
      "기온은 어때요?50\n",
      "너무 더워요, 나가지 마세요.\n"
     ]
    }
   ],
   "source": [
    "temp = int(input(\"기온은 어때요?\"))\n",
    "if 30 <= temp:\n",
    "    print(\"너무 더워요, 나가지 마세요.\")\n",
    "elif 10 <= temp and temp < 30:\n",
    "    print(\"괜찮은 날씨에요.\")\n",
    "elif 0 <= temp and temp < 10:\n",
    "    print(\"외투를 챙기세요.\")\n",
    "else:\n",
    "    print(\"너무 추워요, 나가지 마세요.\")\n",
    "    "
   ]
  },
  {
   "cell_type": "markdown",
   "metadata": {},
   "source": [
    "## for 반복문"
   ]
  },
  {
   "cell_type": "code",
   "execution_count": 71,
   "metadata": {},
   "outputs": [
    {
     "name": "stdout",
     "output_type": "stream",
     "text": [
      "대기번호: 1\n"
     ]
    }
   ],
   "source": [
    "print(\"대기번호: 1\")"
   ]
  },
  {
   "cell_type": "code",
   "execution_count": 76,
   "metadata": {},
   "outputs": [
    {
     "name": "stdout",
     "output_type": "stream",
     "text": [
      "대기번호: 1\n",
      "대기번호: 2\n",
      "대기번호: 3\n",
      "대기번호: 4\n",
      "대기번호: 5\n",
      "대기번호: 6\n",
      "대기번호: 7\n",
      "대기번호: 8\n",
      "대기번호: 9\n",
      "대기번호: 10\n"
     ]
    }
   ],
   "source": [
    "#randrange() 비슷\n",
    "\n",
    "for wating_no in range(1,11): #1부터 101 직전인 100까지\n",
    "    print(\"대기번호: {0}\".format(wating_no))"
   ]
  },
  {
   "cell_type": "code",
   "execution_count": 82,
   "metadata": {},
   "outputs": [
    {
     "name": "stdout",
     "output_type": "stream",
     "text": [
      "아이언맨, 커피가 준비되었습니다.\n",
      "토르, 커피가 준비되었습니다.\n",
      "그루트, 커피가 준비되었습니다.\n"
     ]
    }
   ],
   "source": [
    "starbucks = ['아이언맨','토르','그루트']\n",
    "for customer in starbucks:\n",
    "    print(\"{0}, 커피가 준비되었습니다.\".format(customer))"
   ]
  },
  {
   "cell_type": "markdown",
   "metadata": {},
   "source": [
    "## while 반복문 "
   ]
  },
  {
   "cell_type": "code",
   "execution_count": 84,
   "metadata": {},
   "outputs": [
    {
     "name": "stdout",
     "output_type": "stream",
     "text": [
      "토르, 커피가 준비되었습니다. 5번 남았어요.\n",
      "토르, 커피가 준비되었습니다. 4번 남았어요.\n",
      "토르, 커피가 준비되었습니다. 3번 남았어요.\n",
      "토르, 커피가 준비되었습니다. 2번 남았어요.\n",
      "토르, 커피가 준비되었습니다. 1번 남았어요.\n",
      "커피는 폐기처분되었습니다.\n"
     ]
    }
   ],
   "source": [
    "customer = '토르'\n",
    "index = 5\n",
    "while index >= 1:\n",
    "    print(\"{0}, 커피가 준비되었습니다. {1}번 남았어요.\".format(customer,index))\n",
    "    index -= 1\n",
    "    if index == 0:\n",
    "        print(\"커피는 폐기처분되었습니다.\")\n",
    "    "
   ]
  },
  {
   "cell_type": "markdown",
   "metadata": {},
   "source": [
    "customer = \"아이언맨\"\n",
    "index = 1\n",
    "while True:\n",
    "     print(\"{0}, 커피가 준비되었습니다. 호출 {1}회\".format(customer,index))\n",
    "     index += 1\n",
    "   #### 무한반복됨."
   ]
  },
  {
   "cell_type": "markdown",
   "metadata": {},
   "source": [
    "## continue와 break"
   ]
  },
  {
   "cell_type": "code",
   "execution_count": 3,
   "metadata": {},
   "outputs": [
    {
     "name": "stdout",
     "output_type": "stream",
     "text": [
      "1번, 책을 읽어봐\n",
      "3번, 책을 읽어봐\n",
      "4번, 책을 읽어봐\n",
      "6번, 책을 읽어봐\n",
      "오늘 수업 여기까지. 7번 교무실로 따라와\n"
     ]
    }
   ],
   "source": [
    "absent = [2, 5] #결석\n",
    "no_book = [7] #책을 깜빡했음\n",
    "for student in range(1,11):\n",
    "    if student in absent:\n",
    "        continue\n",
    "    elif student in no_book:\n",
    "        print(\"오늘 수업 여기까지. {0}번 교무실로 따라와\".format(student))\n",
    "        break\n",
    "    print(\"{0}번, 책을 읽어봐\".format(student))"
   ]
  }
 ],
 "metadata": {
  "kernelspec": {
   "display_name": "Python 3",
   "language": "python",
   "name": "python3"
  },
  "language_info": {
   "codemirror_mode": {
    "name": "ipython",
    "version": 3
   },
   "file_extension": ".py",
   "mimetype": "text/x-python",
   "name": "python",
   "nbconvert_exporter": "python",
   "pygments_lexer": "ipython3",
   "version": "3.8.5"
  }
 },
 "nbformat": 4,
 "nbformat_minor": 4
}
